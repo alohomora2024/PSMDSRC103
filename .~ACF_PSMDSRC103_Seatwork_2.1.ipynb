{
 "cells": [
  {
   "attachments": {},
   "cell_type": "markdown",
   "id": "608e9b02-bf80-40ed-95e4-f4b347e3c47c",
   "metadata": {},
   "source": [
    "## Exploring Built-in Functions\n",
    "1.\tCreate a folder named builtinfunctions </br>\n",
    "2.\tInside the folder, create a folder and inside it create a Python file named evaluator.py."
   ]
  },
  {
   "cell_type": "code",
   "execution_count": 1,
   "id": "29be819d-2f70-4c1f-9596-06a4a0ef9fb3",
   "metadata": {},
   "outputs": [
    {
     "name": "stdout",
     "output_type": "stream",
     "text": [
      "Propositional Logic Evaluator for Discrete Math\n"
     ]
    },
    {
     "name": "stdin",
     "output_type": "stream",
     "text": [
      "How many variables?  2\n",
      "Enter the propositional logic expression:  not(A and B) or (A and B)\n"
     ]
    },
    {
     "name": "stdout",
     "output_type": "stream",
     "text": [
      "A B f\n",
      "0 0 True\n",
      "0 1 True\n",
      "1 0 True\n",
      "1 1 1\n"
     ]
    }
   ],
   "source": [
    "# Propositional Logic Evaluator for Discrete Math for 2-3 variables\n",
    "print(\"Propositional Logic Evaluator for Discrete Math\")\n",
    "\n",
    "# Get the number of variables from the user\n",
    "variables = int(input(\"How many variables? \"))\n",
    "total_combinations = 2 ** variables\n",
    "\n",
    "combinations_list = []\n",
    "\n",
    "# Generate the combinations\n",
    "for i in range(total_combinations):\n",
    "    bin_equivalent = bin(i)[2:]  # Convert the number to binary string\n",
    "    while len(bin_equivalent) < variables:  # Pad the binary string with leading zeros\n",
    "        bin_equivalent = \"0\" + bin_equivalent\n",
    "    combinations_list.append(tuple(int(val) for val in bin_equivalent))  \n",
    "    # This will generate a list with values [(0,0),(0,1),(1,0),(1,1)]\n",
    "    # For two variables\n",
    "\n",
    "# Main program - Get the propositional logic expression from the user\n",
    "expression = input(\"Enter the propositional logic expression: \")\n",
    "\"\"\"\n",
    "Note: Only the letters A, B, and C are allowed to be used.\n",
    "Sample input: not(A and B) or (A and C)\n",
    "All input must be small cases\n",
    "\"\"\"\n",
    "if variables == 2:\n",
    "    print(\"A B f\") \n",
    "    for A, B in combinations_list:\n",
    "        evaluated_expression = eval(expression)\n",
    "        print(A, B, evaluated_expression)\n",
    "elif variables == 3:\n",
    "    print(\"A B C f\") \n",
    "    for A, B, C in combinations_list:\n",
    "        evaluated_expression = eval(expression)\n",
    "        print(A, B, C, evaluated_expression)\n"
   ]
  },
  {
   "attachments": {},
   "cell_type": "markdown",
   "id": "765e8a65-943b-460f-93a9-950605e821de",
   "metadata": {},
   "source": [
    "## Using the open() function for File Handling\n",
    "1.\tCreate a folder named filehandling outside of builtinfunctions folder. </br>\n",
    "2.\tCreate a Python file inside the filehandling folder named filewriter.py. </br>\n",
    "3.\tOpen the filewriter.py using Spyder IDE and put in similar code to what’s shown below:"
   ]
  },
  {
   "cell_type": "code",
   "execution_count": null,
   "id": "b8e1bbf4-9cb9-42f5-baca-01b4ee8b5d00",
   "metadata": {},
   "outputs": [],
   "source": [
    "name = \"ACF\"\n",
    "file = open(\"newfile.text\", 'w')\n",
    "file.write(f\"Hello, {name}!\\n\")\n",
    "file.write(\"Isn’t this amazing?\\n\")\n",
    "file.write(\"that we can create and write on text files\\n\")\n",
    "file.write(\"using Python.\")\n",
    "file.close()"
   ]
  },
  {
   "attachments": {},
   "cell_type": "markdown",
   "id": "27787efd-5154-4256-88ba-cb64e795dfc6",
   "metadata": {},
   "source": [
    "4.\tRun the program and observe the output."
   ]
  },
  {
   "cell_type": "code",
   "execution_count": 3,
   "id": "823b809d-d2f8-4ce3-9250-285334ec8dcf",
   "metadata": {},
   "outputs": [],
   "source": [
    "%run filehandling/filewriter.py"
   ]
  },
  {
   "cell_type": "markdown",
   "id": "81635524-1f66-4eb6-b2f6-08b9bb0e8159",
   "metadata": {},
   "source": [
    "5.\tModify the program to create a file called newfile2.txt and print the message: </br>\n",
    "“This message was created using Python.”"
   ]
  },
  {
   "cell_type": "code",
   "execution_count": 6,
   "id": "74349bee-285e-447f-ac42-30d7c193b045",
   "metadata": {},
   "outputs": [],
   "source": [
    "%run filehandling/filewriter.py"
   ]
  }
 ],
 "metadata": {
  "kernelspec": {
   "display_name": "Python 3 (ipykernel)",
   "language": "python",
   "name": "python3"
  },
  "language_info": {
   "codemirror_mode": {
    "name": "ipython",
    "version": 3
   },
   "file_extension": ".py",
   "mimetype": "text/x-python",
   "name": "python",
   "nbconvert_exporter": "python",
   "pygments_lexer": "ipython3",
   "version": "3.12.1"
  }
 },
 "nbformat": 4,
 "nbformat_minor": 5
}
