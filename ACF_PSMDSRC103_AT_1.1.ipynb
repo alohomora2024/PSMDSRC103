{
 "cells": [
  {
   "cell_type": "code",
   "execution_count": 95,
   "id": "9e3caf71-657c-4c90-b6a0-68045bffba52",
   "metadata": {},
   "outputs": [
    {
     "name": "stdout",
     "output_type": "stream",
     "text": [
      "{1: ['Harry', 180, 65, 22.49], 2: ['Hermione', 165, 50, 20.2], 3: ['Ron', 185, 75, 23.15]}\n"
     ]
    }
   ],
   "source": [
    "# 1. Create a dictionary to contain a pair of values, an ID number and a list containing user details, such as name, height, weight and BMI.\n",
    "user_data = {\n",
    "    1: [\"Harry\", 180, 65, 22.49],\n",
    "    2: [\"Hermione\", 165, 50, 20.20],\n",
    "    3: [\"Ron\", 185, 75, 23.15],\n",
    "}\n",
    "\n",
    "# Display the dictionary\n",
    "print(user_data)"
   ]
  },
  {
   "cell_type": "code",
   "execution_count": 97,
   "id": "b8a258b6-93a8-45ac-837d-49c9718890cc",
   "metadata": {},
   "outputs": [
    {
     "name": "stdout",
     "output_type": "stream",
     "text": [
      "User 4 added successfully.\n",
      "{1: ['Harry', 180, 65, 22.49], 2: ['Hermione', 165, 50, 20.2], 3: ['Ron', 185, 75, 23.15], 4: ['Draco', 175, 70, 22.86]}\n"
     ]
    }
   ],
   "source": [
    "# 2a) Add an element to the dictionary:\n",
    "\n",
    "def add_user(user_id, name, height, weight, bmi):\n",
    "    # Check if user ID already exists to avoid duplicates\n",
    "    if user_id in user_data:\n",
    "        print(f\"User ID {user_id} already exists.\")\n",
    "    else:\n",
    "        # Add the new user with details\n",
    "        user_data[user_id] = [name, height, weight, bmi]\n",
    "        print(f\"User {user_id} added successfully.\")\n",
    "\n",
    "# Example \n",
    "add_user(4, \"Draco\", 175, 70, 22.86)\n",
    "print(user_data)"
   ]
  },
  {
   "cell_type": "code",
   "execution_count": 99,
   "id": "18dea6c2-2cc7-4d3e-b93b-acd3bbedd5a5",
   "metadata": {},
   "outputs": [
    {
     "name": "stdout",
     "output_type": "stream",
     "text": [
      "Details for User ID 1: ['Harry', 180, 65, 22.49]\n"
     ]
    }
   ],
   "source": [
    "# 2b) Print details of a specific user by ID\n",
    "\n",
    "def print_user(user_id):\n",
    "    # Check if the user exists in the dictionary\n",
    "    if user_id in user_data:\n",
    "        print(f\"Details for User ID {user_id}: {user_data[user_id]}\")\n",
    "    else:\n",
    "        print(f\"User ID {user_id} not found.\")\n",
    "\n",
    "# Print specific user\n",
    "print_user(1)"
   ]
  },
  {
   "cell_type": "code",
   "execution_count": 71,
   "id": "8f6b9cd1-3624-41b6-b228-3e6452032578",
   "metadata": {},
   "outputs": [
    {
     "name": "stdout",
     "output_type": "stream",
     "text": [
      "All user details:\n",
      "User ID: 1 = ['Harry', 180, 65, 22.49]\n",
      "User ID: 2 = ['Hermione', 165, 50, 20.2]\n",
      "User ID: 3 = ['Ron', 185, 75, 23.15]\n",
      "User ID: 4 = ['Draco', 175, 70, 22.86]\n"
     ]
    }
   ],
   "source": [
    "# 2c) Print details of all users\n",
    "\n",
    "def print_all_users():\n",
    "    # Check if the dictionary is not empty\n",
    "    if user_data:\n",
    "        print(\"All user details:\")\n",
    "        for user_id, details in user_data.items():\n",
    "            print(f\"User ID: {user_id} = {details}\")\n",
    "    else:\n",
    "        print(\"No users in the system.\")\n",
    "\n",
    "# Print all users\n",
    "print_all_users()"
   ]
  },
  {
   "cell_type": "code",
   "execution_count": 101,
   "id": "fad6480b-3040-419c-94d5-0be61e0d6e89",
   "metadata": {},
   "outputs": [],
   "source": [
    "# 3) \n",
    "\n",
    "def add_user(user_id, name, height, weight, bmi):\n",
    "    # Check if user ID already exists\n",
    "    if user_id in user_data:\n",
    "        print(f\"User ID {user_id} already exists.\")\n",
    "        return\n",
    "    \n",
    "    # Check if the same user details (name, height, weight) already exist\n",
    "    for details in user_data.values():\n",
    "        if details == [name, height, weight, bmi]:\n",
    "            print(f\"Duplicate user details detected. User with these details already exists.\")\n",
    "            return\n",
    "\n",
    "    # Check for empty values\n",
    "    if any(v is None or v == '' for v in [user_id, name, height, weight, bmi]):\n",
    "        print(\"All user details must be provided and cannot be empty.\")\n",
    "        return\n",
    "    \n",
    "    # Validate height and weight are numeric\n",
    "    try:\n",
    "        height = float(details[1]) \n",
    "        weight = float(details[2])\n",
    "    except ValueError:\n",
    "        print(\"Height and weight must be numeric values.\") \n",
    "        return\n",
    "        \n",
    "    # Add the user details\n",
    "    user_data[user_id] = [name, height, weight, bmi]\n",
    "    print(f\"User {user_id} added successfully.\")\n",
    "\n",
    "def print_user(user_id):\n",
    "    # Check if user_id is an integer\n",
    "    if not isinstance(user_id, int):\n",
    "        print(\"Error: Invalid ID format. Please provide a valid numeric user ID.\")\n",
    "        return\n",
    "    \n",
    "    # Check if the user ID exists \n",
    "    if user_id in user_data:\n",
    "        print(f\"Details for User ID {user_id}: {user_data[user_id]}\")\n",
    "    else:\n",
    "        print(f\"User ID {user_id} not found.\")\n",
    "\n"
   ]
  },
  {
   "cell_type": "code",
   "execution_count": 103,
   "id": "a26244ae-4934-4438-8a9e-3aebe1221b92",
   "metadata": {},
   "outputs": [
    {
     "name": "stdout",
     "output_type": "stream",
     "text": [
      "User ID 4 already exists.\n"
     ]
    }
   ],
   "source": [
    "# Add a duplicate ID.\n",
    "add_user(4, \"Draco\", 175, 70, 22.86)"
   ]
  },
  {
   "cell_type": "code",
   "execution_count": 105,
   "id": "21a1e3d2-34f3-4653-8fa7-f492d75d96dc",
   "metadata": {},
   "outputs": [
    {
     "name": "stdout",
     "output_type": "stream",
     "text": [
      "Duplicate user details detected. User with these details already exists.\n"
     ]
    }
   ],
   "source": [
    "# Add duplicate user details.\n",
    "add_user(5, \"Draco\", 175, 70, 22.86)"
   ]
  },
  {
   "cell_type": "code",
   "execution_count": 117,
   "id": "de9349da-74ec-4645-96c3-460a19aabb89",
   "metadata": {},
   "outputs": [
    {
     "name": "stdout",
     "output_type": "stream",
     "text": [
      "User 6 added successfully.\n"
     ]
    }
   ],
   "source": [
    "# Add user with an empty value\n",
    "add_user(6, \"Draco\",\"\", 70, 22.86)"
   ]
  },
  {
   "cell_type": "code",
   "execution_count": 107,
   "id": "e528b8f4-157e-487e-b053-d8d98997ccd9",
   "metadata": {},
   "outputs": [
    {
     "name": "stdout",
     "output_type": "stream",
     "text": [
      "User ID 8 not found.\n"
     ]
    }
   ],
   "source": [
    "# Print non-existent user ID\n",
    "print_user(8)"
   ]
  },
  {
   "cell_type": "code",
   "execution_count": 113,
   "id": "30412e5e-a21a-45f9-86ac-5f4907b75254",
   "metadata": {},
   "outputs": [
    {
     "name": "stdout",
     "output_type": "stream",
     "text": [
      "Error: Invalid ID format. Please provide a valid numeric user ID.\n"
     ]
    }
   ],
   "source": [
    "# Print invalid user_id type\n",
    "print_user('a')"
   ]
  },
  {
   "cell_type": "code",
   "execution_count": 109,
   "id": "ebcda23c-522b-41fd-a787-f6af7c8f610d",
   "metadata": {},
   "outputs": [
    {
     "name": "stdout",
     "output_type": "stream",
     "text": [
      "User 10 added successfully.\n"
     ]
    }
   ],
   "source": [
    "# Add a user with unrealistic values\n",
    "add_user(10, \"Albus\", 1, 1, 1)"
   ]
  },
  {
   "cell_type": "markdown",
   "id": "7315f43d-2631-42a2-ae65-8667635f5c01",
   "metadata": {},
   "source": [
    "\n",
    "- Instead of requesting the BMI directly, we can gather the person's age and gender, and then calculate the BMI. This may lead to a more accurate BMI value.\n",
    "- The function cannot accommodate addition of multiple users in one go.\n",
    "- The function checks that the height, weight, and BMI are numerical, but it doesn't validate whether the values make sense. For example, adding 10: [\"Albus\", 1, 1, 1] will not trigger an error.\n",
    "- We can update the function to validate name (e.g., must not contain numbers or special characters) and bmi (e.g.,must be within valid range).\n",
    "- We can create a function to edit or delete existing user_data. \n",
    "  "
   ]
  }
 ],
 "metadata": {
  "kernelspec": {
   "display_name": "anaconda-panel-2023.05-py310",
   "language": "python",
   "name": "conda-env-anaconda-panel-2023.05-py310-py"
  },
  "language_info": {
   "codemirror_mode": {
    "name": "ipython",
    "version": 3
   },
   "file_extension": ".py",
   "mimetype": "text/x-python",
   "name": "python",
   "nbconvert_exporter": "python",
   "pygments_lexer": "ipython3",
   "version": "3.11.5"
  }
 },
 "nbformat": 4,
 "nbformat_minor": 5
}
