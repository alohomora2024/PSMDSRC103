{
 "cells": [
  {
   "cell_type": "markdown",
   "id": "a82ba642-de17-4168-923b-8788969a2d01",
   "metadata": {},
   "source": [
    "### Assessment Task 3.1 | Review of Python Fundamentals"
   ]
  },
  {
   "cell_type": "markdown",
   "id": "db55797b-b2c0-4ccb-9e73-5c996d139818",
   "metadata": {},
   "source": [
    "1. What is 7 raised to 4?"
   ]
  },
  {
   "cell_type": "code",
   "execution_count": 4,
   "id": "2075b54c-f466-4917-a10e-bfb8d4a09d1f",
   "metadata": {},
   "outputs": [
    {
     "name": "stdout",
     "output_type": "stream",
     "text": [
      "2401\n"
     ]
    }
   ],
   "source": [
    "print(7**4)"
   ]
  },
  {
   "cell_type": "markdown",
   "id": "0ab748fb-911a-45a3-a839-b4dafee83074",
   "metadata": {},
   "source": [
    "2. Create a string that contains the message \"Hi there, CPE009!\"."
   ]
  },
  {
   "cell_type": "code",
   "execution_count": 10,
   "id": "7fabd445-3592-4c17-ad37-55b06cb997f4",
   "metadata": {},
   "outputs": [
    {
     "name": "stdout",
     "output_type": "stream",
     "text": [
      "['Hi', 'there,', 'CPE009!']\n"
     ]
    }
   ],
   "source": [
    "message = \"Hi there, CPE009!\"\n",
    "list = message.split(\" \")\n",
    "print(list)"
   ]
  },
  {
   "cell_type": "markdown",
   "id": "569cfbfe-65e0-4a88-b4c6-14354924914b",
   "metadata": {},
   "source": [
    "3. Given the variables:\n",
    "\n",
    "planet = \"Earth\"\n",
    "diameter = 12742\n",
    "Use .format() to create this string output shown:\n",
    "\n",
    "\"The diameter of planet Earth is of 12742 kilometers\""
   ]
  },
  {
   "cell_type": "code",
   "execution_count": 12,
   "id": "90522432-3c17-4660-886e-0d472c25fbcd",
   "metadata": {},
   "outputs": [
    {
     "name": "stdout",
     "output_type": "stream",
     "text": [
      "The diameter of planet Earth is of 12742 kilometers\n"
     ]
    }
   ],
   "source": [
    "planet = \"Earth\"\n",
    "diameter = 12742\n",
    "\n",
    "message = \"The diameter of planet {planet} is of {diameter} kilometers\".format(planet = planet, diameter = diameter)\n",
    "print(message)"
   ]
  },
  {
   "cell_type": "markdown",
   "id": "97bfae2b-380f-4f50-9d6a-6b1fc200127a",
   "metadata": {},
   "source": [
    "4. Give the list below:\n",
    "\n",
    "lst = [1,2,[3,4],[5,[100,200,['hello']],23,11],1,7]\n",
    "Provide the code to print the word \"Hello\" through indexing."
   ]
  },
  {
   "cell_type": "code",
   "execution_count": 17,
   "id": "82d21f99-c64f-4022-9995-e49f2fe57de7",
   "metadata": {},
   "outputs": [
    {
     "name": "stdout",
     "output_type": "stream",
     "text": [
      "['hello']\n"
     ]
    }
   ],
   "source": [
    "lst = [1,2,[3,4],[5,[100,200,['hello']],23,11],1,7]\n",
    "print(lst[3][1][2])"
   ]
  },
  {
   "cell_type": "markdown",
   "id": "1d921339-df97-4a5c-a742-d1334a58c007",
   "metadata": {},
   "source": [
    "5. Given this nested dictionary grab the word \"hello\" through indexing."
   ]
  },
  {
   "cell_type": "code",
   "execution_count": 2,
   "id": "b9effeab-465f-403e-9fdb-a7bf6d606950",
   "metadata": {},
   "outputs": [],
   "source": [
    "d = {'k1':[1,2,3,{'tricky':['oh','man','inception',{'target':[1,2,3,'hello']}]}]}\n"
   ]
  },
  {
   "cell_type": "code",
   "execution_count": 8,
   "id": "9b907211-777a-4d05-92b2-1ff2c792bcdc",
   "metadata": {},
   "outputs": [
    {
     "name": "stdout",
     "output_type": "stream",
     "text": [
      "hello\n"
     ]
    }
   ],
   "source": [
    "# Access the innermost list\n",
    "nested_dict = d['k1'][3]['tricky'][3]['target'][3]\n",
    "print(nested_dict)  # Output: hello"
   ]
  },
  {
   "cell_type": "markdown",
   "id": "d5ac96fb-0230-441e-a98b-f04cf08c6b61",
   "metadata": {},
   "source": [
    "6. In Python, the main difference of a Tuple from a List is that a Tuple is _______ but a List is not.\n"
   ]
  },
  {
   "cell_type": "markdown",
   "id": "ed3fe763-22a9-4d75-b870-da708c2a3617",
   "metadata": {},
   "source": [
    "immutable"
   ]
  },
  {
   "cell_type": "markdown",
   "id": "f776bace-f613-410e-bda3-23ed9381d95e",
   "metadata": {},
   "source": [
    "7. Create a function that grabs the email website domain from a string in the form:\n",
    "\n",
    "    user@domain.com\n",
    "\n",
    "So for example, passing \"user@domain.com\" would return: domain.com."
   ]
  },
  {
   "cell_type": "code",
   "execution_count": 13,
   "id": "36754e18-d1c8-4ce8-b516-2ad8558f1922",
   "metadata": {},
   "outputs": [
    {
     "name": "stdout",
     "output_type": "stream",
     "text": [
      "domain.com\n"
     ]
    }
   ],
   "source": [
    "email = \"user@domain.com\"\n",
    "domain = email.split('@')[1]\n",
    "print(domain)"
   ]
  },
  {
   "cell_type": "code",
   "execution_count": 1,
   "id": "39ff6db7-0610-4f42-b01d-8625e19e3ae9",
   "metadata": {},
   "outputs": [
    {
     "name": "stdout",
     "output_type": "stream",
     "text": [
      "domain.com\n"
     ]
    }
   ],
   "source": [
    "def grab_website(email):\n",
    "    domain = email.split('@')[1]\n",
    "    print(domain)\n",
    "\n",
    "grab_website(\"user@domain.com\")"
   ]
  },
  {
   "cell_type": "markdown",
   "id": "b156275c-c553-4b02-826c-039f6d750022",
   "metadata": {},
   "source": [
    "8. Create a basic function that returns True if the word 'dog' is contained in the input string.\n",
    "\n",
    "Don't worry about edge cases like a punctuation being attached to the word dog, but do account for capitalization."
   ]
  },
  {
   "cell_type": "code",
   "execution_count": 43,
   "id": "265d4291-3759-4814-912e-329c793d5367",
   "metadata": {},
   "outputs": [
    {
     "name": "stdout",
     "output_type": "stream",
     "text": [
      "True\n"
     ]
    }
   ],
   "source": [
    "\n",
    "def dog_exists(sentence):\n",
    "    word = 'dog'\n",
    "    if word in sentence.lower():\n",
    "        print(\"True\")\n",
    "    else:\n",
    "        print(\"False\")\n",
    "\n",
    "dog_exists(\"Dogs are lovable\")"
   ]
  },
  {
   "cell_type": "markdown",
   "id": "8fdceaad-b4c7-4643-8691-fa6dc61277b8",
   "metadata": {},
   "source": [
    "9. Create a function that counts the number of times the word \"dog\" occurs in a string. Again ignore edge cases."
   ]
  },
  {
   "cell_type": "code",
   "execution_count": null,
   "id": "2d92f17c-e6b7-4210-9ff3-3f6911b2c902",
   "metadata": {},
   "outputs": [],
   "source": [
    "# test 1"
   ]
  },
  {
   "cell_type": "code",
   "execution_count": null,
   "id": "7f2a76d8-d5f1-443d-98bd-b6fb07970c7c",
   "metadata": {},
   "outputs": [],
   "source": [
    "# convert test 1 to function\n",
    "def dog_count(sentence):\n",
    "    word = 'dog'\n",
    "    for word in sentence.lower():\n",
    "\n",
    "\n",
    "dog_exists(\"Dogs are lovable\")"
   ]
  },
  {
   "cell_type": "code",
   "execution_count": 13,
   "id": "27e1116b-8acb-4932-9975-494a8670fab1",
   "metadata": {},
   "outputs": [
    {
     "name": "stdout",
     "output_type": "stream",
     "text": [
      "1\n"
     ]
    }
   ],
   "source": [
    "# test 2\n",
    "sentence = \"the quick brown fox jumps over the lazy dog\"\n",
    "word = \"dog\"\n",
    "count = sentence.lower().count(word)\n",
    "print(count)"
   ]
  },
  {
   "cell_type": "code",
   "execution_count": 15,
   "id": "a88d7a14-1835-4acd-ab2f-4696a0e0abb3",
   "metadata": {},
   "outputs": [
    {
     "name": "stdout",
     "output_type": "stream",
     "text": [
      "1\n"
     ]
    }
   ],
   "source": [
    "# convert test 2 to function\n",
    "def dog_count(sentence):\n",
    "    word = 'dog'\n",
    "    count = sentence.lower().count(word)\n",
    "    print(count)\n",
    "\n",
    "dog_count(\"the quick brown fox jumps over the lazy Dog\")"
   ]
  },
  {
   "cell_type": "markdown",
   "id": "58a5fbca-b93a-4fa5-a995-c5427f8a2915",
   "metadata": {},
   "source": [
    "10. You are driving a little too fast, and a police officer stops you.\n",
    "\n",
    "Write a function to return one of 3 possible results: \"No ticket\", \"Small ticket\", or \"Big Ticket\". \n",
    "\n",
    "If your speed is 60 or less, the result is \"No Ticket\". \n",
    "If speed is between 61 and 80 inclusive, the result is \"Small Ticket\". \n",
    "If speed is 81 or more, the result is \"Big Ticket\". \n",
    "Unless it is your birthday (encoded as a boolean value in the parameters of the function) -- on your birthday, your speed can be 5 higher in all cases.\n",
    "\n",
    "Use this basic function construct as your initial template:"
   ]
  }
 ],
 "metadata": {
  "kernelspec": {
   "display_name": "Python 3 (ipykernel)",
   "language": "python",
   "name": "python3"
  },
  "language_info": {
   "codemirror_mode": {
    "name": "ipython",
    "version": 3
   },
   "file_extension": ".py",
   "mimetype": "text/x-python",
   "name": "python",
   "nbconvert_exporter": "python",
   "pygments_lexer": "ipython3",
   "version": "3.12.1"
  }
 },
 "nbformat": 4,
 "nbformat_minor": 5
}
