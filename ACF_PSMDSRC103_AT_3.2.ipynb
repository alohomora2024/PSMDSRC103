{
 "cells": [
  {
   "cell_type": "markdown",
   "metadata": {
    "id": "ivqgLKoyqtFp"
   },
   "source": [
    "# Assessment 3.2 | Prelim Skills Exam\n",
    "PSMDSRC103 - Programming"
   ]
  },
  {
   "cell_type": "markdown",
   "metadata": {
    "id": "Y26dPXD0qyHk"
   },
   "source": [
    "## Area 1: Understanding Objects"
   ]
  },
  {
   "cell_type": "markdown",
   "metadata": {
    "id": "T4G7YvX2q4Ll"
   },
   "source": [
    "1. Define a class called Address that has two attributes: `number` and `street name`. Make sure you have an `init` method that initializes the object appropriately. You do not need to define any other methods."
   ]
  },
  {
   "cell_type": "code",
   "execution_count": null,
   "metadata": {
    "id": "AgPlOl2Gqq90"
   },
   "outputs": [],
   "source": [
    "\n",
    "class Address:\n",
    "  def __init__(self, number, street_name):\n",
    "    self.number = number\n",
    "    self.street_name = street_name\n"
   ]
  },
  {
   "cell_type": "markdown",
   "metadata": {
    "id": "m1sY4u_Tq7Lf"
   },
   "source": [
    "2. Consider the following code:\n",
    "```\n",
    "  class Clock(object):\n",
    "      def __init__(self, time):\n",
    "          self.time = time\n",
    "      def print_time(self):\n",
    "          time = ’6:30’\n",
    "          print self.time\n",
    "   clock = Clock(’5:30’)\n",
    "   clock.print_time()\n",
    "```\n"
   ]
  },
  {
   "cell_type": "markdown",
   "metadata": {
    "id": "CZOqSc-UrBc0"
   },
   "source": [
    "(a) What does the code print out? Guess first, and then create a Python file and run it."
   ]
  },
  {
   "cell_type": "code",
   "execution_count": 1,
   "metadata": {
    "id": "QzN8cmlmrCKH"
   },
   "outputs": [
    {
     "name": "stdout",
     "output_type": "stream",
     "text": [
      "5:30\n"
     ]
    }
   ],
   "source": [
    "%run class/clock.py"
   ]
  },
  {
   "cell_type": "markdown",
   "metadata": {
    "id": "kzfwL0pRrCft"
   },
   "source": [
    "(b) Why does the code print this?"
   ]
  },
  {
   "cell_type": "markdown",
   "metadata": {
    "id": "2JWAMXM9rGHi"
   },
   "source": [
    "The Clock('5:30') creates a new clock object and passes 5:30 to the constructor.\n",
    "The print_time method prints the value of the self.time. Even though a local time variable is created (6:30), it doesn't override the self_time attribute.\n",
    "Python looks for attributes first. It only falls back to local variables (like parameters) if no attribute matches.\n"
   ]
  },
  {
   "cell_type": "markdown",
   "metadata": {
    "id": "FacU3rxOrEpR"
   },
   "source": [
    "3. Consider the following code:\n",
    "```\n",
    "  class Clock(object):\n",
    "      def __init__(self, time):\n",
    "          self.time = time\n",
    "      def print_time(self, time):\n",
    "          print time\n",
    "   clock = Clock(’5:30’)\n",
    "   clock.print_time(’10:30’)\n",
    "```\n"
   ]
  },
  {
   "cell_type": "markdown",
   "metadata": {
    "id": "tXnHgyHprUrZ"
   },
   "source": [
    "(a) What does the code print out? Guess first, and then create a Python file and run it."
   ]
  },
  {
   "cell_type": "code",
   "execution_count": 2,
   "metadata": {
    "id": "G5W2xVfrrVYZ"
   },
   "outputs": [
    {
     "name": "stdout",
     "output_type": "stream",
     "text": [
      "10:30\n"
     ]
    }
   ],
   "source": [
    "%run class/clock.py"
   ]
  },
  {
   "cell_type": "markdown",
   "metadata": {
    "id": "YeTJKRprrXLu"
   },
   "source": [
    "The code prints 10:30 because we are passing 10:30 as the value for time. The initial state set by the constructor (clock.time) has no effect because it's not being accessed."
   ]
  },
  {
   "cell_type": "markdown",
   "metadata": {
    "id": "j16KzGTMrVnQ"
   },
   "source": [
    "(b) What does this tell you about giving parameters the same name as object attributes?"
   ]
  },
  {
   "cell_type": "markdown",
   "metadata": {
    "id": "OwvCeiHxrXc6"
   },
   "source": [
    "4. Consider the following code:\n",
    "```\n",
    "   class Clock(object):\n",
    "       def __init__(self, time):\n",
    "          self.time = time\n",
    "       def print_time(self):\n",
    "          print self.time\n",
    "   boston_clock = Clock(’5:30’)\n",
    "   paris_clock = boston_clock\n",
    "   paris_clock.time = ’10:30’\n",
    "   boston_clock.print_time()\n",
    "```"
   ]
  },
  {
   "cell_type": "markdown",
   "metadata": {
    "id": "clj-xcsbrem5"
   },
   "source": [
    "(a) What does the code print out? Guess first, and then create a Python file and run it."
   ]
  },
  {
   "cell_type": "code",
   "execution_count": 3,
   "metadata": {},
   "outputs": [
    {
     "name": "stdout",
     "output_type": "stream",
     "text": [
      "10:30\n"
     ]
    }
   ],
   "source": [
    "%run class/clock.py"
   ]
  },
  {
   "cell_type": "markdown",
   "metadata": {},
   "source": [
    "boston_clock and paris_clock are the same object even though they have different names. When the .time attribute of one of them is modified (e.g., paris_clock.time = '10:30'), the original object that they both refer to is also updated. Conseqeuntly, calling boston_clock.print_time() prints '10:30'."
   ]
  },
  {
   "cell_type": "markdown",
   "metadata": {
    "id": "KZo_UF8nrfLG"
   },
   "source": [
    "(b) Why does it print what it does? (Are boston clock and paris clock different objects? Why or why not?)"
   ]
  },
  {
   "cell_type": "markdown",
   "metadata": {},
   "source": [
    "This example highlights the importance of avoiding naming conflicts between parameter names and attribute names. To avoid  confusion, it's recommended to use distinct names for method parameters and object attributes."
   ]
  },
  {
   "cell_type": "markdown",
   "metadata": {
    "id": "e1URqZ4lrkv5"
   },
   "source": [
    "## Area 2: Designing Your Own Class\n",
    "For this exercise, you will be coding your very first class, a Queue class. Queues are a fundamental computer science data structure. A queue is basically like a line at Disneyland - you can add elements to a queue, and they maintain a specific order. When you want to get something off the end of a queue, you get the item that has been in there the longest (this is known as ‘first-in-first-out’, or FIFO). You can read up on queues at Wikipedia if you’d like to learn more."
   ]
  },
  {
   "cell_type": "markdown",
   "metadata": {
    "id": "Oaq6ZLxCrrsJ"
   },
   "source": [
    "Create a new file called `queue.py` to make your Queue class.\n",
    "In your Queue class, you will need three methods:\n",
    "* init : to initialize your Queue (think: how will you store the queue’s elements? You’ll need to initialize\n",
    "an appropriate object attribute in this method)\n",
    "* insert: inserts one element in your Queue\n",
    "* remove: removes one element from your Queue and returns it. If the queue is empty, return a message that says it is empty (without throwing an error that halts your code).\n",
    "\n",
    "When you’re done, you should test your implementation. Your results should look like this:\n",
    "```\n",
    ">> queue = Queue()\n",
    ">> queue.insert(5)\n",
    ">> queue.insert(6)\n",
    ">> queue.remove()\n",
    "5\n",
    ">> queue.insert(7)\n",
    ">> queue.remove()\n",
    "6\n",
    ">> queue.remove()\n",
    "7\n",
    ">> queue.remove()\n",
    "The queue is empty\n",
    "```\n",
    "\n",
    "Be sure to handle that last case correctly - when popping from an empty Queue, print a message rather than throwing an error."
   ]
  },
  {
   "cell_type": "code",
   "execution_count": null,
   "metadata": {},
   "outputs": [],
   "source": [
    "class Queue:\n",
    "    def __init__(self):\n",
    "        self.queue = []\n",
    "\n",
    "    def insert(self, item):\n",
    "        self.queue.append(item)\n",
    "\n",
    "    def remove(self):\n",
    "        if len(self.queue) == 0:\n",
    "            return \"The queue is empty\"\n",
    "        else:\n",
    "            return self.queue.pop(0)"
   ]
  },
  {
   "cell_type": "code",
   "execution_count": 6,
   "metadata": {},
   "outputs": [],
   "source": [
    "%run class/queue.py"
   ]
  },
  {
   "cell_type": "code",
   "execution_count": 7,
   "metadata": {
    "id": "8V1bWAnfroUI"
   },
   "outputs": [
    {
     "name": "stdout",
     "output_type": "stream",
     "text": [
      "The queue is empty\n",
      "5\n",
      "6\n",
      "7\n",
      "The queue is empty\n"
     ]
    }
   ],
   "source": [
    "# Test\n",
    "queue = Queue()\n",
    "print(queue.remove())  # This should print the queue is empty\n",
    "\n",
    "queue.insert(5)\n",
    "queue.insert(6)\n",
    "\n",
    "print(queue.remove())  # Should remove and print 5\n",
    "print(queue.remove())  # Should remove and print 6\n",
    "\n",
    "queue.insert(7)\n",
    "print(queue.remove())  # Should emove and print 7\n",
    "print(queue.remove())  # Should print the queue is empty"
   ]
  },
  {
   "cell_type": "markdown",
   "metadata": {
    "id": "vWQWjGRtsI-Y"
   },
   "source": [
    "## Area 3: OOP Paradigms\n",
    "For this exercise, we want you to describe a generic superclass and at least three subclasses of that superclass, listing at least two attributes that each class would have. \n",
    "\n",
    "Remember what classes will inherit (will subclasses inherit attributes from their parent class? Will parent classes inherit from their subclasses? Will subclasses that share a parent inherit from one another? Be sure you’re clear on this before continuing with this exercise.)\n",
    "\n",
    "It’s easiest to simply describe a real-world object in this manner. An example of what we’re looking for would be to describe a generic Shoe class and some specific subclasses with attributes that they might have, as shown here:\n",
    "\n",
    "```\n",
    "class Shoe:\n",
    "   # Attributes: self.color, self.brand\n",
    "class Converse(Shoe): # Inherits from Shoe\n",
    "   # Attributes: self.lowOrHighTop, self.tongueColor, self.brand = \"Converse\"\n",
    "class CombatBoot(Shoe): # Inherits from Shoe\n",
    "   # Attributes: self.militaryBranch, self.DesertOrJungle\n",
    "class Sandal(Shoe): # Inherits from Shoe\n",
    "   # Attributes: self.openOrClosedToe, self.waterproof\n",
    "```\n",
    "\n",
    "You can use any real-world object except a shoe for this problem :)"
   ]
  },
  {
   "cell_type": "code",
   "execution_count": null,
   "metadata": {
    "id": "EGJDiAIKsOWr"
   },
   "outputs": [],
   "source": []
  },
  {
   "cell_type": "markdown",
   "metadata": {
    "id": "-sruQ_LmsXjZ"
   },
   "source": [
    "## Conclusion & Analysis"
   ]
  },
  {
   "cell_type": "markdown",
   "metadata": {
    "id": "YDc07Rl1saR2"
   },
   "source": [
    "Wrap up your skills exam by providing a brief analysis of what you've done so far."
   ]
  }
 ],
 "metadata": {
  "colab": {
   "provenance": []
  },
  "kernelspec": {
   "display_name": "Python 3 (ipykernel)",
   "language": "python",
   "name": "python3"
  },
  "language_info": {
   "codemirror_mode": {
    "name": "ipython",
    "version": 3
   },
   "file_extension": ".py",
   "mimetype": "text/x-python",
   "name": "python",
   "nbconvert_exporter": "python",
   "pygments_lexer": "ipython3",
   "version": "3.12.1"
  }
 },
 "nbformat": 4,
 "nbformat_minor": 4
}
