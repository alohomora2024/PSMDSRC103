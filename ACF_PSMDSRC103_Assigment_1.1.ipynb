{
 "cells": [
  {
   "cell_type": "markdown",
   "metadata": {
    "application/vnd.databricks.v1+cell": {
     "cellMetadata": {
      "byteLimit": 2048000,
      "rowLimit": 10000
     },
     "inputWidgets": {},
     "nuid": "56818057-7a31-4e57-9d4e-95f74858dfa4",
     "showTitle": false,
     "title": ""
    }
   },
   "source": [
    "Instructions:\n",
    "\n",
    "Create a Python notebook and perform the tasks below.\n",
    "Please take note that you may use comments or text blocks to explain your answers.\n",
    "Save the file and submit the link of the notebook."
   ]
  },
  {
   "cell_type": "markdown",
   "metadata": {
    "application/vnd.databricks.v1+cell": {
     "cellMetadata": {
      "byteLimit": 2048000,
      "rowLimit": 10000
     },
     "inputWidgets": {},
     "nuid": "9c64f59f-6f29-4bbd-bbaf-b2243254044c",
     "showTitle": false,
     "title": ""
    }
   },
   "source": [
    "Perform the following tasks:\n",
    "\n",
    "1. Type the expressions below, and try to explain what's happening in each case.\n"
   ]
  },
  {
   "cell_type": "markdown",
   "metadata": {
    "application/vnd.databricks.v1+cell": {
     "cellMetadata": {
      "byteLimit": 2048000,
      "rowLimit": 10000
     },
     "inputWidgets": {},
     "nuid": "2ceb3c07-be15-4a7e-89c3-b00c93402465",
     "showTitle": false,
     "title": ""
    }
   },
   "source": [
    "\n",
    "2 ** 16 <br>\n",
    "2 / 5, 2 / 5.0 <br>\n",
    "\"spam\" + \"eggs\" <br>\n",
    "S = \"ham\" <br>\n",
    "\"eggs \" + S <br>\n",
    "S*5 <br>\n",
    "S[:0] <br>\n",
    "\"green %s and %s\" % (\"eggs\", S)"
   ]
  },
  {
   "cell_type": "code",
   "execution_count": 0,
   "metadata": {
    "application/vnd.databricks.v1+cell": {
     "cellMetadata": {
      "byteLimit": 2048000,
      "rowLimit": 10000
     },
     "inputWidgets": {},
     "nuid": "affdcf3e-f084-4856-a07d-334b60d296bf",
     "showTitle": false,
     "title": ""
    }
   },
   "outputs": [
    {
     "output_type": "stream",
     "name": "stdout",
     "output_type": "stream",
     "text": [
      "Out[6]: 65536"
     ]
    }
   ],
   "source": [
    "2 ** 16\n",
    "\n",
    "# Output: 65536\n",
    "# Explanation: ** is the operator for exponentiation. 2 raised to the power of 16 equals 65536."
   ]
  },
  {
   "cell_type": "code",
   "execution_count": 0,
   "metadata": {
    "application/vnd.databricks.v1+cell": {
     "cellMetadata": {
      "byteLimit": 2048000,
      "rowLimit": 10000
     },
     "inputWidgets": {},
     "nuid": "a3f7fc7e-90ba-45bd-b5f0-e56e7d35da05",
     "showTitle": false,
     "title": ""
    }
   },
   "outputs": [
    {
     "output_type": "stream",
     "name": "stdout",
     "output_type": "stream",
     "text": [
      "Out[7]: (0.4, 0.4)"
     ]
    }
   ],
   "source": [
    "2 / 5, 2 / 5.0\n",
    "\n",
    "# Output: (0.4, 0.4)\n",
    "# Explanation: The result of dividing two integers (i.e., 2/5) and dividing integer with a float (i.e., 2/5.0) is a float."
   ]
  },
  {
   "cell_type": "code",
   "execution_count": 0,
   "metadata": {
    "application/vnd.databricks.v1+cell": {
     "cellMetadata": {
      "byteLimit": 2048000,
      "rowLimit": 10000
     },
     "inputWidgets": {},
     "nuid": "c825b152-e30c-418c-8702-54798a12e258",
     "showTitle": false,
     "title": ""
    }
   },
   "outputs": [
    {
     "output_type": "stream",
     "name": "stdout",
     "output_type": "stream",
     "text": [
      "Out[8]: 'spameggs'"
     ]
    }
   ],
   "source": [
    "\"spam\" + \"eggs\"\n",
    "\n",
    "# Output: spameggs\n",
    "# Explanation: The + operator concatenates the strings."
   ]
  },
  {
   "cell_type": "code",
   "execution_count": 0,
   "metadata": {
    "application/vnd.databricks.v1+cell": {
     "cellMetadata": {
      "byteLimit": 2048000,
      "rowLimit": 10000
     },
     "inputWidgets": {},
     "nuid": "d905f6f4-e1b2-4041-acc4-868deeb1b7a0",
     "showTitle": false,
     "title": ""
    }
   },
   "outputs": [
    {
     "output_type": "stream",
     "name": "stdout",
     "output_type": "stream",
     "text": [
      "ham\n"
     ]
    }
   ],
   "source": [
    "S = \"ham\"\n",
    "\n",
    "# Output: none. If we print(S) the output would be ham.\n",
    "# Explanation: The string \"ham\" is being assigned to variable S.\n",
    "\n",
    "print(S)"
   ]
  },
  {
   "cell_type": "code",
   "execution_count": 0,
   "metadata": {
    "application/vnd.databricks.v1+cell": {
     "cellMetadata": {
      "byteLimit": 2048000,
      "rowLimit": 10000
     },
     "inputWidgets": {},
     "nuid": "06448f8f-adb5-4e0c-88dc-12c4a54fdadf",
     "showTitle": false,
     "title": ""
    }
   },
   "outputs": [
    {
     "output_type": "stream",
     "name": "stdout",
     "output_type": "stream",
     "text": [
      "Out[10]: 'eggs ham'"
     ]
    }
   ],
   "source": [
    "\"eggs \" + S\n",
    "\n",
    "# Output: eggs ham\n",
    "# Explanation: The + operator concatenates \"eggs \" and the value of variable S."
   ]
  },
  {
   "cell_type": "code",
   "execution_count": 0,
   "metadata": {
    "application/vnd.databricks.v1+cell": {
     "cellMetadata": {
      "byteLimit": 2048000,
      "rowLimit": 10000
     },
     "inputWidgets": {},
     "nuid": "de552859-a9e3-400d-8168-e66b30f444da",
     "showTitle": false,
     "title": ""
    }
   },
   "outputs": [
    {
     "output_type": "stream",
     "name": "stdout",
     "output_type": "stream",
     "text": [
      "Out[11]: 'hamhamhamhamham'"
     ]
    }
   ],
   "source": [
    "S*5\n",
    "\n",
    "# Output: hamhamhamhamham\n",
    "# Explanation: Since the value of S variable is a string, the * operator repeats the string 5 times."
   ]
  },
  {
   "cell_type": "code",
   "execution_count": 0,
   "metadata": {
    "application/vnd.databricks.v1+cell": {
     "cellMetadata": {
      "byteLimit": 2048000,
      "rowLimit": 10000
     },
     "inputWidgets": {},
     "nuid": "d0fb557e-5fff-4299-851b-2a2d9215255d",
     "showTitle": false,
     "title": ""
    }
   },
   "outputs": [
    {
     "output_type": "stream",
     "name": "stdout",
     "output_type": "stream",
     "text": [
      "Out[12]: ''"
     ]
    }
   ],
   "source": [
    "S[:0]\n",
    "\n",
    "# Output: \"\"\n",
    "# Explanation: S[:0] means to extract the substring at the start of S until (but not including) the Oth index. Since the 0th index is the start of the string, this results in an empty string."
   ]
  },
  {
   "cell_type": "code",
   "execution_count": 0,
   "metadata": {
    "application/vnd.databricks.v1+cell": {
     "cellMetadata": {
      "byteLimit": 2048000,
      "rowLimit": 10000
     },
     "inputWidgets": {},
     "nuid": "76e0b447-eaf2-4430-90ac-710a8e883ce1",
     "showTitle": false,
     "title": ""
    }
   },
   "outputs": [
    {
     "output_type": "stream",
     "name": "stdout",
     "output_type": "stream",
     "text": [
      "Out[13]: 'green eggs and ham'"
     ]
    }
   ],
   "source": [
    "\"green %s and %s\" % (\"eggs\", S)\n",
    "\n",
    "# Output: green eggs and ham\n",
    "# Explanation: The %s placeholders are replaced by the corresponding tuple values. \"eggs\" replaces the first %s, and the value of variable S (\"ham\") replaces the second %s."
   ]
  },
  {
   "cell_type": "markdown",
   "metadata": {
    "application/vnd.databricks.v1+cell": {
     "cellMetadata": {
      "byteLimit": 2048000,
      "rowLimit": 10000
     },
     "inputWidgets": {},
     "nuid": "47918baa-008c-48c7-a765-99679518c503",
     "showTitle": false,
     "title": ""
    }
   },
   "source": [
    "('x',) [0] <br>\n",
    "('x', 'y') [1]"
   ]
  },
  {
   "cell_type": "code",
   "execution_count": 0,
   "metadata": {
    "application/vnd.databricks.v1+cell": {
     "cellMetadata": {
      "byteLimit": 2048000,
      "rowLimit": 10000
     },
     "inputWidgets": {},
     "nuid": "5308da92-ca8f-44f8-a984-7454ebbaf868",
     "showTitle": false,
     "title": ""
    }
   },
   "outputs": [
    {
     "output_type": "stream",
     "name": "stdout",
     "output_type": "stream",
     "text": [
      "Out[14]: 'x'"
     ]
    }
   ],
   "source": [
    "('x',) [0]\n",
    "\n",
    "# Output: 'x'\n",
    "# Explanation: ('x',) is a tuple containing a single element 'x'. The comma after 'x' is necessary to define it as a tuple; otherwise, it would just be a string in parentheses. [0] is an index operation on the tuple. It accesses the first element of the tuple."
   ]
  },
  {
   "cell_type": "code",
   "execution_count": 0,
   "metadata": {
    "application/vnd.databricks.v1+cell": {
     "cellMetadata": {
      "byteLimit": 2048000,
      "rowLimit": 10000
     },
     "inputWidgets": {},
     "nuid": "c861456b-a313-4de5-9ce7-9490b225e7fa",
     "showTitle": false,
     "title": ""
    }
   },
   "outputs": [
    {
     "output_type": "stream",
     "name": "stdout",
     "output_type": "stream",
     "text": [
      "Out[15]: 'y'"
     ]
    }
   ],
   "source": [
    "('x', 'y') [1]\n",
    "\n",
    "# Output: 'y'\n",
    "# Explanation: ('x', 'y') is a tuple containing 2 elements. [1] is an index operation on the tuple which accesses the element at index 1.\n"
   ]
  },
  {
   "cell_type": "markdown",
   "metadata": {
    "application/vnd.databricks.v1+cell": {
     "cellMetadata": {
      "byteLimit": 2048000,
      "rowLimit": 10000
     },
     "inputWidgets": {},
     "nuid": "d5efec8f-ee5c-4b4c-85c2-b0d74c905961",
     "showTitle": false,
     "title": ""
    }
   },
   "source": [
    "L = [1,2,3] + [4,5,6] <br>\n",
    "L, L[:], L[:0], L[-2], L[-2:] <br>\n",
    "([1,2,3] + [4,5,6]) [2:4] <br>\n",
    "[L[2], L[3]] <br>\n",
    "L.reverse(); L <br>\n",
    "L.sort(); L <br>\n",
    "L.index(4){'a':1, 'b':2} ['b']<br>"
   ]
  },
  {
   "cell_type": "code",
   "execution_count": 0,
   "metadata": {
    "application/vnd.databricks.v1+cell": {
     "cellMetadata": {
      "byteLimit": 2048000,
      "rowLimit": 10000
     },
     "inputWidgets": {},
     "nuid": "d4de0e1a-3170-419b-8567-28ea25197a5c",
     "showTitle": false,
     "title": ""
    }
   },
   "outputs": [],
   "source": [
    "L = [1,2,3] + [4,5,6]\n",
    "\n",
    "# Output: [1, 2, 3, 4, 5, 6]\n",
    "# Explanation: The + operator concatenates two lists.\n"
   ]
  },
  {
   "cell_type": "code",
   "execution_count": 0,
   "metadata": {
    "application/vnd.databricks.v1+cell": {
     "cellMetadata": {
      "byteLimit": 2048000,
      "rowLimit": 10000
     },
     "inputWidgets": {},
     "nuid": "d8a455bf-bf4b-4049-96b5-8fb2155d630e",
     "showTitle": false,
     "title": ""
    }
   },
   "outputs": [
    {
     "output_type": "stream",
     "name": "stdout",
     "output_type": "stream",
     "text": [
      "Out[29]: ([1, 2, 3, 4, 5, 6], [1, 2, 3, 4, 5, 6], [], 5, [5, 6])"
     ]
    }
   ],
   "source": [
    "L, L[:], L[:0], L[-2], L[-2:]\n",
    "\n",
    "# Output: ([1, 2, 3, 4, 5, 6], [1, 2, 3, 4, 5, 6], [], 5, [5, 6])\n",
    "# Explanation: \n",
    "## L refers to the list [1, 2, 3, 4, 5, 6].\n",
    "## L[:] creates a copy of the list and is equivalent to L.\n",
    "## L[:0] results to an empty list [].\n",
    "## L[-2] accesses the second to the last element of the list, which is 5.\n",
    "## L[-2:] is a slice that starts from the second to the last element to the end of the list, which results in [5, 6].\n",
    "\n"
   ]
  },
  {
   "cell_type": "code",
   "execution_count": 0,
   "metadata": {
    "application/vnd.databricks.v1+cell": {
     "cellMetadata": {
      "byteLimit": 2048000,
      "rowLimit": 10000
     },
     "inputWidgets": {},
     "nuid": "dd64b8d3-f0cb-4e3f-8dec-d54c79a92a70",
     "showTitle": false,
     "title": ""
    }
   },
   "outputs": [
    {
     "output_type": "stream",
     "name": "stdout",
     "output_type": "stream",
     "text": [
      "Out[30]: [3, 4]"
     ]
    }
   ],
   "source": [
    "([1,2,3] + [4,5,6]) [2:4]\n",
    "\n",
    "# Output: [3,4]\n",
    "# Explanation: + operator concatenates the list. [1,2,3] + [4,5,6] results to [1,2,3,4,5,6]. [2:4] extracts elements from index 2 up to (but not including) index 4."
   ]
  },
  {
   "cell_type": "code",
   "execution_count": 0,
   "metadata": {
    "application/vnd.databricks.v1+cell": {
     "cellMetadata": {
      "byteLimit": 2048000,
      "rowLimit": 10000
     },
     "inputWidgets": {},
     "nuid": "0c41be00-28cf-408f-ac86-c1a0593da00e",
     "showTitle": false,
     "title": ""
    }
   },
   "outputs": [
    {
     "output_type": "stream",
     "name": "stdout",
     "output_type": "stream",
     "text": [
      "Out[31]: [3, 4]"
     ]
    }
   ],
   "source": [
    "[L[2], L[3]]\n",
    "\n",
    "# Output: [3,4]\n",
    "# Explanation: \n",
    "## L refers to the list [1, 2, 3, 4, 5, 6]\n",
    "## L[2] accesses the element at index 2, which is 3.\n",
    "## L[3] accesses the element at index 3, which is 4."
   ]
  },
  {
   "cell_type": "code",
   "execution_count": 0,
   "metadata": {
    "application/vnd.databricks.v1+cell": {
     "cellMetadata": {
      "byteLimit": 2048000,
      "rowLimit": 10000
     },
     "inputWidgets": {},
     "nuid": "3b2c0dd9-b4d6-4204-93e5-ac0d05c88030",
     "showTitle": false,
     "title": ""
    }
   },
   "outputs": [
    {
     "output_type": "stream",
     "name": "stdout",
     "output_type": "stream",
     "text": [
      "Out[32]: [6, 5, 4, 3, 2, 1]"
     ]
    }
   ],
   "source": [
    "L.reverse(); L\n",
    "\n",
    "# Output: [6, 5, 4, 3, 2, 1]\n",
    "# Explanation: L.reverse() reverses the elements of list so L becomes [6, 5, 4, 3, 2, 1]. L is then printed in its reversed state.\n"
   ]
  },
  {
   "cell_type": "code",
   "execution_count": 0,
   "metadata": {
    "application/vnd.databricks.v1+cell": {
     "cellMetadata": {
      "byteLimit": 2048000,
      "rowLimit": 10000
     },
     "inputWidgets": {},
     "nuid": "181963b9-1326-4189-a478-2281df9d5dff",
     "showTitle": false,
     "title": ""
    }
   },
   "outputs": [
    {
     "output_type": "stream",
     "name": "stdout",
     "output_type": "stream",
     "text": [
      "Out[33]: [1, 2, 3, 4, 5, 6]"
     ]
    }
   ],
   "source": [
    "L.sort(); L\n",
    "\n",
    "# Output: [1, 2, 3, 4, 5, 6]\n",
    "# Explanation: L.sort() sorts the elements of list in ascending order so L becomes [1, 2, 3, 4, 5, 6]. L is then printed in its sorted state."
   ]
  },
  {
   "cell_type": "code",
   "execution_count": 0,
   "metadata": {
    "application/vnd.databricks.v1+cell": {
     "cellMetadata": {
      "byteLimit": 2048000,
      "rowLimit": 10000
     },
     "inputWidgets": {},
     "nuid": "c1cb8b33-e845-43a2-bea2-443600a455d9",
     "showTitle": false,
     "title": ""
    }
   },
   "outputs": [
    {
     "output_type": "stream",
     "name": "stdout",
     "output_type": "stream",
     "text": [
      "Out[34]: (3, 2)"
     ]
    }
   ],
   "source": [
    "#Note: L.index(4){'a':1, 'b':2} ['b'] results to syntax error. \",\" is added after L.index(4) to correct the expression\n",
    "\n",
    "L.index(4),{'a':1, 'b':2} ['b']\n",
    "\n",
    "# Output:(3, 2)\n",
    "# Explanation:\n",
    "## L.index(4) will return 3 because 4 is located at the 3rd index of the list.\n",
    "## {'a':1, 'b':2} is a dictionary. ['b'] accesses the value associated with the key 'b' in the dictionary, which is 2.\n"
   ]
  },
  {
   "cell_type": "markdown",
   "metadata": {
    "application/vnd.databricks.v1+cell": {
     "cellMetadata": {
      "byteLimit": 2048000,
      "rowLimit": 10000
     },
     "inputWidgets": {},
     "nuid": "fb8a23d5-be6a-4099-9c50-bea69e123cfa",
     "showTitle": false,
     "title": ""
    }
   },
   "source": [
    "D = {'x':1, 'y':2, 'z':3} <br>\n",
    "D['w'] = 0 <br>\n",
    "D['x'] + D['w'] <br>\n",
    "D[(1,2,3)] = 4 <br>\n",
    "D.keys(), D.values(), D.has_key((1,2,3)) [[]], [\"\", [], {}, None]"
   ]
  },
  {
   "cell_type": "code",
   "execution_count": 0,
   "metadata": {
    "application/vnd.databricks.v1+cell": {
     "cellMetadata": {
      "byteLimit": 2048000,
      "rowLimit": 10000
     },
     "inputWidgets": {},
     "nuid": "2c59f199-9b48-4254-977c-1ab0ad4e17e6",
     "showTitle": false,
     "title": ""
    }
   },
   "outputs": [
    {
     "output_type": "stream",
     "name": "stdout",
     "output_type": "stream",
     "text": [
      "{'x': 1, 'y': 2, 'z': 3}\n"
     ]
    }
   ],
   "source": [
    "D = {'x':1, 'y':2, 'z':3}\n",
    "print(D)\n",
    "\n",
    "# Explanation: This creates a dictionary D with keys 'x', 'y', and 'z' mapped to values 1, 2, and 3 respectively."
   ]
  },
  {
   "cell_type": "code",
   "execution_count": 0,
   "metadata": {
    "application/vnd.databricks.v1+cell": {
     "cellMetadata": {
      "byteLimit": 2048000,
      "rowLimit": 10000
     },
     "inputWidgets": {},
     "nuid": "09162a38-d7f2-4f59-a401-c7e57a67755e",
     "showTitle": false,
     "title": ""
    }
   },
   "outputs": [
    {
     "output_type": "stream",
     "name": "stdout",
     "output_type": "stream",
     "text": [
      "{'x': 1, 'y': 2, 'z': 3, 'w': 0}\n"
     ]
    }
   ],
   "source": [
    "D['w'] = 0\n",
    "print(D)\n",
    "\n",
    "# Explanation: This adds a new key 'w' to the dictionary D with the value 0. Now, D is: {'x': 1, 'y': 2, 'z': 3, 'w': 0}"
   ]
  },
  {
   "cell_type": "code",
   "execution_count": 0,
   "metadata": {
    "application/vnd.databricks.v1+cell": {
     "cellMetadata": {
      "byteLimit": 2048000,
      "rowLimit": 10000
     },
     "inputWidgets": {},
     "nuid": "f8c53d09-0294-4575-a952-c987777ca783",
     "showTitle": false,
     "title": ""
    }
   },
   "outputs": [
    {
     "output_type": "stream",
     "name": "stdout",
     "output_type": "stream",
     "text": [
      "Out[37]: 1"
     ]
    }
   ],
   "source": [
    "D['x'] + D['w']\n",
    "\n",
    "# Explanation: This  retrieves the values associated with the keys 'x' and 'w' in the dictionary D, which are 1 and 0 respectively, and adds them together."
   ]
  },
  {
   "cell_type": "code",
   "execution_count": 0,
   "metadata": {
    "application/vnd.databricks.v1+cell": {
     "cellMetadata": {
      "byteLimit": 2048000,
      "rowLimit": 10000
     },
     "inputWidgets": {},
     "nuid": "5d521198-b3b6-431b-8d69-4c12a67ce9e0",
     "showTitle": false,
     "title": ""
    }
   },
   "outputs": [
    {
     "output_type": "stream",
     "name": "stdout",
     "output_type": "stream",
     "text": [
      "{'x': 1, 'y': 2, 'z': 3, 'w': 0, (1, 2, 3): 4}\n"
     ]
    }
   ],
   "source": [
    "D[(1,2,3)] = 4\n",
    "print(D)\n",
    "\n",
    "# Output: {'x': 1, 'y': 2, 'z': 3, 'w': 0, (1, 2, 3): 4}\n",
    "# Explanation: This line adds a new key-value pair to the dictionary D where the key is the tuple (1, 2, 3) and the value is 4. D is now {'x': 1, 'y': 2, 'z': 3, 'w': 0, (1, 2, 3): 4}\n"
   ]
  },
  {
   "cell_type": "code",
   "execution_count": 0,
   "metadata": {
    "application/vnd.databricks.v1+cell": {
     "cellMetadata": {
      "byteLimit": 2048000,
      "rowLimit": 10000
     },
     "inputWidgets": {},
     "nuid": "781fed24-ec2d-4774-96ee-62f533f4e000",
     "showTitle": false,
     "title": ""
    }
   },
   "outputs": [
    {
     "output_type": "stream",
     "name": "stdout",
     "output_type": "stream",
     "text": [
      "Out[39]: (dict_keys(['x', 'y', 'z', 'w', (1, 2, 3)]), dict_values([1, 2, 3, 0, 4]))"
     ]
    }
   ],
   "source": [
    "D.keys(), D.values()\n",
    "\n",
    "# Output: \n",
    "# D.keys() returns dict_keys(['x', 'y', 'z', 'w', (1, 2, 3)])\n",
    "# D.values() returns dict_values([1, 2, 3, 0, 4])\n",
    "# Explanation: These methods return all the keys and values of the dictionary D"
   ]
  },
  {
   "cell_type": "code",
   "execution_count": 0,
   "metadata": {
    "application/vnd.databricks.v1+cell": {
     "cellMetadata": {
      "byteLimit": 2048000,
      "rowLimit": 10000
     },
     "inputWidgets": {},
     "nuid": "52d6ca0f-cde2-46ff-8906-86150a85eb1d",
     "showTitle": false,
     "title": ""
    }
   },
   "outputs": [
    {
     "output_type": "display_data",
     "data": {
      "text/plain": [
       "\u001B[0;31m---------------------------------------------------------------------------\u001B[0m\n",
       "\u001B[0;31mAttributeError\u001B[0m                            Traceback (most recent call last)\n",
       "File \u001B[0;32m<command-1525370746680833>:1\u001B[0m\n",
       "\u001B[0;32m----> 1\u001B[0m \u001B[43mD\u001B[49m\u001B[38;5;241;43m.\u001B[39;49m\u001B[43mhas_key\u001B[49m((\u001B[38;5;241m1\u001B[39m, \u001B[38;5;241m2\u001B[39m, \u001B[38;5;241m3\u001B[39m))\n",
       "\n",
       "\u001B[0;31mAttributeError\u001B[0m: 'dict' object has no attribute 'has_key'"
      ]
     },
     "metadata": {
      "application/vnd.databricks.v1+output": {
       "arguments": {},
       "data": "\u001B[0;31m---------------------------------------------------------------------------\u001B[0m\n\u001B[0;31mAttributeError\u001B[0m                            Traceback (most recent call last)\nFile \u001B[0;32m<command-1525370746680833>:1\u001B[0m\n\u001B[0;32m----> 1\u001B[0m \u001B[43mD\u001B[49m\u001B[38;5;241;43m.\u001B[39;49m\u001B[43mhas_key\u001B[49m((\u001B[38;5;241m1\u001B[39m, \u001B[38;5;241m2\u001B[39m, \u001B[38;5;241m3\u001B[39m))\n\n\u001B[0;31mAttributeError\u001B[0m: 'dict' object has no attribute 'has_key'",
       "errorSummary": "<span class='ansi-red-fg'>AttributeError</span>: 'dict' object has no attribute 'has_key'",
       "errorTraceType": "ansi",
       "metadata": {},
       "type": "ipynbError"
      }
     },
     "output_type": "display_data"
    }
   ],
   "source": [
    "D.has_key((1, 2, 3))\n",
    "\n",
    "#Output: AttributeError:\n",
    "#Explanation: has_key() is a method that was used in Python 2 to check if a dictionary contains a specified key. However, has_key() is not available in Python 3 and will raise an AttributeError.\n",
    "## In Python 3, the in keyword is used: (1, 2, 3) in D\n",
    "## This checks if the tuple (1, 2, 3) is a key in the dictionary D. The result will be True since (1, 2, 3) is indeed a key in D."
   ]
  },
  {
   "cell_type": "code",
   "execution_count": 0,
   "metadata": {
    "application/vnd.databricks.v1+cell": {
     "cellMetadata": {
      "byteLimit": 2048000,
      "rowLimit": 10000
     },
     "inputWidgets": {},
     "nuid": "4af4fc75-a61e-43a1-b080-8de0f78c4514",
     "showTitle": false,
     "title": ""
    }
   },
   "outputs": [
    {
     "output_type": "stream",
     "name": "stdout",
     "output_type": "stream",
     "text": [
      "Out[41]: ([[]], ['', [], {}, None])"
     ]
    }
   ],
   "source": [
    "[[]], [\"\", [], {}, None]\n",
    "\n",
    "# Explanation: These expressions create two lists:\n",
    "## [[]] is a list containing an empty list.\n",
    "## [\"\", [], {}, None] is a list containing an empty string, an empty list, an empty dictionary, and a None value."
   ]
  },
  {
   "cell_type": "markdown",
   "metadata": {
    "application/vnd.databricks.v1+cell": {
     "cellMetadata": {
      "byteLimit": 2048000,
      "rowLimit": 10000
     },
     "inputWidgets": {},
     "nuid": "1f2da4d0-2554-4420-88ac-3f97438e2dda",
     "showTitle": false,
     "title": ""
    }
   },
   "source": [
    "2. Define a list named L that contains four strings or numbers. Experiment with the following boundary cases. <br>"
   ]
  },
  {
   "cell_type": "code",
   "execution_count": 0,
   "metadata": {
    "application/vnd.databricks.v1+cell": {
     "cellMetadata": {
      "byteLimit": 2048000,
      "rowLimit": 10000
     },
     "inputWidgets": {},
     "nuid": "c35647e2-6442-4a9c-b8bc-5d3087074209",
     "showTitle": false,
     "title": ""
    }
   },
   "outputs": [],
   "source": [
    "L = [\"alpha\",\"bravo\",\"charlie\",\"delta\"]\n",
    "\n",
    "# Attempt to index out of bounds. (Ex. L[66])\n",
    "# Output: IndexError: list index out of range"
   ]
  },
  {
   "cell_type": "code",
   "execution_count": 0,
   "metadata": {
    "application/vnd.databricks.v1+cell": {
     "cellMetadata": {
      "byteLimit": 2048000,
      "rowLimit": 10000
     },
     "inputWidgets": {},
     "nuid": "49f3e73e-a398-4e37-8f55-12bcfcad5ebe",
     "showTitle": false,
     "title": ""
    }
   },
   "outputs": [
    {
     "output_type": "stream",
     "name": "stdout",
     "output_type": "stream",
     "text": [
      "Out[43]: ['alpha', 'bravo', 'charlie', 'delta']"
     ]
    }
   ],
   "source": [
    "# Attempt to slice out of bounds. (Ex. L[-9999:100])\n",
    "\n",
    "L[-9999:100]\n",
    "\n",
    "# Output: ['alpha', 'bravo', 'charlie', 'delta']\n",
    "# Explanation: The start and stop index are both out of bounds. Python will adjust the slicing bounds to include all valid indices within the range of the list. L[-9999:100] becomes L[0:4].\n"
   ]
  },
  {
   "cell_type": "code",
   "execution_count": 0,
   "metadata": {
    "application/vnd.databricks.v1+cell": {
     "cellMetadata": {
      "byteLimit": 2048000,
      "rowLimit": 10000
     },
     "inputWidgets": {},
     "nuid": "b28e7ca0-09da-49c0-9f91-38978d07cc6a",
     "showTitle": false,
     "title": ""
    }
   },
   "outputs": [
    {
     "output_type": "stream",
     "name": "stdout",
     "output_type": "stream",
     "text": [
      "Out[44]: []"
     ]
    }
   ],
   "source": [
    "# Try extracting a sequence in reverse. Make the lower bound higher than the upper bound (Ex. L[3:1]).\n",
    "\n",
    "L[3:1]\n",
    "\n",
    "# Output: []\n",
    "# Explanation: The expression L[3:1] results in an empty list because the slice starts at an index that is greater than the endpoint index."
   ]
  },
  {
   "cell_type": "code",
   "execution_count": 0,
   "metadata": {
    "application/vnd.databricks.v1+cell": {
     "cellMetadata": {
      "byteLimit": 2048000,
      "rowLimit": 10000
     },
     "inputWidgets": {},
     "nuid": "65024941-399e-4323-8d3b-659fe4745681",
     "showTitle": false,
     "title": ""
    }
   },
   "outputs": [
    {
     "output_type": "stream",
     "name": "stdout",
     "output_type": "stream",
     "text": [
      "['alpha', 'bravo', 'charlie', '?', 'delta']\n"
     ]
    }
   ],
   "source": [
    "# Attempt to perform L[3:1] = ['?']. Explain the output.\n",
    "\n",
    "L = [\"alpha\", \"bravo\", \"charlie\", \"delta\"]\n",
    "L[3:1] = ['?']\n",
    "print(L)  \n",
    "\n",
    "# Output: ['alpha', 'bravo', 'charlie', '?', 'delta']\n",
    "# Explanation: L[3:1] refers to an empty slice. In Python, assigning a value to an empty slice is essentially adding elements at that position. The assignment ['?'] inserts ['?'] at index 3."
   ]
  },
  {
   "cell_type": "markdown",
   "metadata": {
    "application/vnd.databricks.v1+cell": {
     "cellMetadata": {
      "byteLimit": 2048000,
      "rowLimit": 10000
     },
     "inputWidgets": {},
     "nuid": "89c85a5b-0b90-4550-8d8d-68e1d4fe02c5",
     "showTitle": false,
     "title": ""
    }
   },
   "source": [
    "3. Define another list L, perform the following and use comments to explain:"
   ]
  },
  {
   "cell_type": "code",
   "execution_count": 0,
   "metadata": {
    "application/vnd.databricks.v1+cell": {
     "cellMetadata": {
      "byteLimit": 2048000,
      "rowLimit": 10000
     },
     "inputWidgets": {},
     "nuid": "3888b63e-1fbc-49ae-a1aa-83762dcae393",
     "showTitle": false,
     "title": ""
    }
   },
   "outputs": [],
   "source": [
    "#  Define another list L.\n",
    "L = ['a', 'b', 'c', 'd', 'e','f','g','h']"
   ]
  },
  {
   "cell_type": "code",
   "execution_count": 0,
   "metadata": {
    "application/vnd.databricks.v1+cell": {
     "cellMetadata": {
      "byteLimit": 2048000,
      "rowLimit": 10000
     },
     "inputWidgets": {},
     "nuid": "d5697e76-7b09-4e78-a482-328c0e72c5ec",
     "showTitle": false,
     "title": ""
    }
   },
   "outputs": [
    {
     "output_type": "stream",
     "name": "stdout",
     "output_type": "stream",
     "text": [
      "['a', 'b', ['x', 'y', 'z'], 'd', 'e', 'f', 'g', 'h']\n"
     ]
    }
   ],
   "source": [
    "# Assign a list as one of its elements.\n",
    "L[2] = ['x', 'y', 'z']\n",
    "print(L)\n",
    "\n",
    "# Output: ['a', 'b', ['x', 'y', 'z'], 'd', 'e', 'f', 'g', 'h']\n",
    "# Explanation: ['x', 'y', 'z'] is assigned to index 2 and replaces the original element (c)."
   ]
  },
  {
   "cell_type": "code",
   "execution_count": 0,
   "metadata": {
    "application/vnd.databricks.v1+cell": {
     "cellMetadata": {
      "byteLimit": 2048000,
      "rowLimit": 10000
     },
     "inputWidgets": {},
     "nuid": "a01f9bb1-1b99-4db8-8894-234cb0854efe",
     "showTitle": false,
     "title": ""
    }
   },
   "outputs": [
    {
     "output_type": "stream",
     "name": "stdout",
     "output_type": "stream",
     "text": [
      "['a', 'd', 'e', 'f', 'g', 'h']\n"
     ]
    }
   ],
   "source": [
    "# Assign an empty list to a range \n",
    "L[1:3] = []\n",
    "print(L)\n",
    "\n",
    "# Output: ['a', 'd', 'e', 'f', 'g', 'h']\n",
    "# Explanation: L[1:3] = [] replaces the elements 'b' and ['x', 'y', 'z'] with an empty list, effectively removing these elements from the list."
   ]
  },
  {
   "cell_type": "code",
   "execution_count": 0,
   "metadata": {
    "application/vnd.databricks.v1+cell": {
     "cellMetadata": {
      "byteLimit": 2048000,
      "rowLimit": 10000
     },
     "inputWidgets": {},
     "nuid": "4e273455-c795-4190-a195-e15f2a58904e",
     "showTitle": false,
     "title": ""
    }
   },
   "outputs": [
    {
     "output_type": "stream",
     "name": "stdout",
     "output_type": "stream",
     "text": [
      "['a', 'e', 'f', 'g', 'h']\n"
     ]
    }
   ],
   "source": [
    "# Delete an item in your list using the del statement\n",
    "del L[1]\n",
    "print(L)\n",
    "\n",
    "# Output: ['a', 'e', 'f', 'g', 'h']\n",
    "# Explanation: del L[1] deletes the element at index 1 of the list L."
   ]
  },
  {
   "cell_type": "code",
   "execution_count": 0,
   "metadata": {
    "application/vnd.databricks.v1+cell": {
     "cellMetadata": {
      "byteLimit": 2048000,
      "rowLimit": 10000
     },
     "inputWidgets": {},
     "nuid": "1d6d56a2-0768-4ea4-b319-518bfc23e441",
     "showTitle": false,
     "title": ""
    }
   },
   "outputs": [
    {
     "output_type": "stream",
     "name": "stdout",
     "output_type": "stream",
     "text": [
      "['a', 'h']\n"
     ]
    }
   ],
   "source": [
    "# Delete an entire range from your list.\n",
    "del L[1:4]\n",
    "print(L)\n",
    "\n",
    "# Output: ['a', 'h']\n",
    "# Explanation: del L[1:4] deletes the element at index 1, up to index 3 of the list. The end index (4) is not included."
   ]
  },
  {
   "cell_type": "code",
   "execution_count": 0,
   "metadata": {
    "application/vnd.databricks.v1+cell": {
     "cellMetadata": {
      "byteLimit": 2048000,
      "rowLimit": 10000
     },
     "inputWidgets": {},
     "nuid": "6580336a-a696-45db-8259-5e08276feca0",
     "showTitle": false,
     "title": ""
    }
   },
   "outputs": [
    {
     "output_type": "display_data",
     "data": {
      "text/plain": [
       "\u001B[0;31m---------------------------------------------------------------------------\u001B[0m\n",
       "\u001B[0;31mTypeError\u001B[0m                                 Traceback (most recent call last)\n",
       "File \u001B[0;32m<command-1525370746680842>:2\u001B[0m\n",
       "\u001B[1;32m      1\u001B[0m \u001B[38;5;66;03m# Assign a non-sequence value to a slice.\u001B[39;00m\n",
       "\u001B[0;32m----> 2\u001B[0m L[\u001B[38;5;241m0\u001B[39m:\u001B[38;5;241m2\u001B[39m] \u001B[38;5;241m=\u001B[39m \u001B[38;5;241m10\u001B[39m\n",
       "\n",
       "\u001B[0;31mTypeError\u001B[0m: can only assign an iterable"
      ]
     },
     "metadata": {
      "application/vnd.databricks.v1+output": {
       "arguments": {},
       "data": "\u001B[0;31m---------------------------------------------------------------------------\u001B[0m\n\u001B[0;31mTypeError\u001B[0m                                 Traceback (most recent call last)\nFile \u001B[0;32m<command-1525370746680842>:2\u001B[0m\n\u001B[1;32m      1\u001B[0m \u001B[38;5;66;03m# Assign a non-sequence value to a slice.\u001B[39;00m\n\u001B[0;32m----> 2\u001B[0m L[\u001B[38;5;241m0\u001B[39m:\u001B[38;5;241m2\u001B[39m] \u001B[38;5;241m=\u001B[39m \u001B[38;5;241m10\u001B[39m\n\n\u001B[0;31mTypeError\u001B[0m: can only assign an iterable",
       "errorSummary": "<span class='ansi-red-fg'>TypeError</span>: can only assign an iterable",
       "errorTraceType": "ansi",
       "metadata": {},
       "type": "ipynbError"
      }
     },
     "output_type": "display_data"
    }
   ],
   "source": [
    "# Assign a non-sequence value to a slice.\n",
    "L[0:2] = 10\n",
    "\n",
    "# Output: TypeError\n",
    "# Explanation: L[0:2] = 10 attempts to replace the slice L[0:2] with the non-sequence value 10. In Python, integers are not iterable and do not support indexing or slicing."
   ]
  },
  {
   "cell_type": "markdown",
   "metadata": {
    "application/vnd.databricks.v1+cell": {
     "cellMetadata": {
      "byteLimit": 2048000,
      "rowLimit": 10000
     },
     "inputWidgets": {},
     "nuid": "b939bd7f-a81f-476d-9dfd-f750365d029d",
     "showTitle": false,
     "title": ""
    }
   },
   "source": [
    "4. Create a dictionary named D with three entries, for keys a, b, and c."
   ]
  },
  {
   "cell_type": "code",
   "execution_count": 0,
   "metadata": {
    "application/vnd.databricks.v1+cell": {
     "cellMetadata": {
      "byteLimit": 2048000,
      "rowLimit": 10000
     },
     "inputWidgets": {},
     "nuid": "bab2b4e0-51a4-4174-8ff9-11e9e133afc9",
     "showTitle": false,
     "title": ""
    }
   },
   "outputs": [],
   "source": [
    "D = {'a': 1,\n",
    "    'b': 2,\n",
    "    'c': 3}\n"
   ]
  },
  {
   "cell_type": "code",
   "execution_count": 0,
   "metadata": {
    "application/vnd.databricks.v1+cell": {
     "cellMetadata": {
      "byteLimit": 2048000,
      "rowLimit": 10000
     },
     "inputWidgets": {},
     "nuid": "a9795417-9d17-46cc-b550-0b76c1b00465",
     "showTitle": false,
     "title": ""
    }
   },
   "outputs": [
    {
     "output_type": "display_data",
     "data": {
      "text/plain": [
       "\u001B[0;31m---------------------------------------------------------------------------\u001B[0m\n",
       "\u001B[0;31mKeyError\u001B[0m                                  Traceback (most recent call last)\n",
       "File \u001B[0;32m<command-1873231351236397>:3\u001B[0m\n",
       "\u001B[1;32m      1\u001B[0m D['d']\n",
       "\u001B[0;32m----> 3\u001B[0m # Explanation: Accessing a nonexistent key in a dictionary (like D['d']), Python will raise a KeyError. This is because the key 'd' does not exist in the dictionary D.\n",
       "\n",
       "\u001B[0;31mKeyError\u001B[0m: 'd'"
      ]
     },
     "metadata": {
      "application/vnd.databricks.v1+output": {
       "arguments": {},
       "data": "\u001B[0;31m---------------------------------------------------------------------------\u001B[0m\n\u001B[0;31mKeyError\u001B[0m                                  Traceback (most recent call last)\nFile \u001B[0;32m<command-1873231351236397>:3\u001B[0m\n\u001B[1;32m      1\u001B[0m D['d']\n\u001B[0;32m----> 3\u001B[0m # Explanation: Accessing a nonexistent key in a dictionary (like D['d']), Python will raise a KeyError. This is because the key 'd' does not exist in the dictionary D.\n\n\u001B[0;31mKeyError\u001B[0m: 'd'",
       "errorSummary": "<span class='ansi-red-fg'>KeyError</span>: 'd'",
       "errorTraceType": "ansi",
       "metadata": {},
       "type": "ipynbError"
      }
     },
     "output_type": "display_data"
    }
   ],
   "source": [
    "# What happens if you try to index a nonexistent key d (D[‘d’])?\n",
    "\n",
    "D['d']\n",
    "\n",
    "# Output: KeyError: 'd'\n",
    "# Explanation: Accessing a nonexistent key in a dictionary will result to a KeyError. This is because the key 'd' does not exist in the dictionary D."
   ]
  },
  {
   "cell_type": "code",
   "execution_count": 0,
   "metadata": {
    "application/vnd.databricks.v1+cell": {
     "cellMetadata": {
      "byteLimit": 2048000,
      "rowLimit": 10000
     },
     "inputWidgets": {},
     "nuid": "0d511875-387f-455d-a63d-7a95b944609b",
     "showTitle": false,
     "title": ""
    }
   },
   "outputs": [
    {
     "output_type": "stream",
     "name": "stdout",
     "output_type": "stream",
     "text": [
      "{'a': 1, 'b': 2, 'c': 3, 'd': 4}\n"
     ]
    }
   ],
   "source": [
    "# What does python do if you try to assign to a nonexistent key?\n",
    "\n",
    "D['d'] = 4  # This will add a new key 'd' with value 4 to the dictionary\n",
    "print(D)\n",
    "\n",
    "# Output: {'a': 1, 'b': 2, 'c': 3, 'd': 4}\n",
    "# Explanation: Assigning a value to a nonexistent key in a dictionary will not raise an error. Instead, it will add the key-value pair to the dictionary."
   ]
  },
  {
   "cell_type": "markdown",
   "metadata": {
    "application/vnd.databricks.v1+cell": {
     "cellMetadata": {
      "byteLimit": 2048000,
      "rowLimit": 10000
     },
     "inputWidgets": {},
     "nuid": "d3fc23d2-cc6a-4b63-b2e6-4eb1213d910c",
     "showTitle": false,
     "title": ""
    }
   },
   "source": [
    "Compare it to out of bound assignments: <br>\n",
    "Dictionaries: <br>\n",
    "Accessing a nonexistent key raises a KeyError.<br>\n",
    "Assigning to a nonexistent key adds the key-value pair to the dictionary.<br>\n",
    "<br>\n",
    "Lists: <br>\n",
    "Accessing an out-of-bounds index raises an IndexError.<br>\n",
    "Assigning to an out-of-bounds index raises an IndexError. You must use methods like append() to add elements."
   ]
  },
  {
   "cell_type": "markdown",
   "metadata": {
    "application/vnd.databricks.v1+cell": {
     "cellMetadata": {
      "byteLimit": 2048000,
      "rowLimit": 10000
     },
     "inputWidgets": {},
     "nuid": "b03eba58-e39e-41e4-9e17-8940e98c37f5",
     "showTitle": false,
     "title": ""
    }
   },
   "source": [
    "5. Run tests to answer the following questions:"
   ]
  },
  {
   "cell_type": "code",
   "execution_count": 0,
   "metadata": {
    "application/vnd.databricks.v1+cell": {
     "cellMetadata": {
      "byteLimit": 2048000,
      "rowLimit": 10000
     },
     "inputWidgets": {},
     "nuid": "0062580f-8890-471c-b6dc-7d17598dc34d",
     "showTitle": false,
     "title": ""
    }
   },
   "outputs": [
    {
     "output_type": "display_data",
     "data": {
      "text/plain": [
       "\u001B[0;31m---------------------------------------------------------------------------\u001B[0m\n",
       "\u001B[0;31mTypeError\u001B[0m                                 Traceback (most recent call last)\n",
       "File \u001B[0;32m<command-1525370746680823>:4\u001B[0m\n",
       "\u001B[1;32m      1\u001B[0m \u001B[38;5;66;03m# What happens when you try to use the + operator on different/mixed types?\u001B[39;00m\n",
       "\u001B[1;32m      2\u001B[0m \n",
       "\u001B[1;32m      3\u001B[0m \u001B[38;5;66;03m# Example:\u001B[39;00m\n",
       "\u001B[0;32m----> 4\u001B[0m x \u001B[38;5;241m=\u001B[39m \u001B[38;5;124;43m\"\u001B[39;49m\u001B[38;5;124;43mPSMDSRC\u001B[39;49m\u001B[38;5;124;43m\"\u001B[39;49m\u001B[43m \u001B[49m\u001B[38;5;241;43m+\u001B[39;49m\u001B[43m \u001B[49m\u001B[38;5;241;43m103\u001B[39;49m\n",
       "\n",
       "\u001B[0;31mTypeError\u001B[0m: can only concatenate str (not \"int\") to str"
      ]
     },
     "metadata": {
      "application/vnd.databricks.v1+output": {
       "arguments": {},
       "data": "\u001B[0;31m---------------------------------------------------------------------------\u001B[0m\n\u001B[0;31mTypeError\u001B[0m                                 Traceback (most recent call last)\nFile \u001B[0;32m<command-1525370746680823>:4\u001B[0m\n\u001B[1;32m      1\u001B[0m \u001B[38;5;66;03m# What happens when you try to use the + operator on different/mixed types?\u001B[39;00m\n\u001B[1;32m      2\u001B[0m \n\u001B[1;32m      3\u001B[0m \u001B[38;5;66;03m# Example:\u001B[39;00m\n\u001B[0;32m----> 4\u001B[0m x \u001B[38;5;241m=\u001B[39m \u001B[38;5;124;43m\"\u001B[39;49m\u001B[38;5;124;43mPSMDSRC\u001B[39;49m\u001B[38;5;124;43m\"\u001B[39;49m\u001B[43m \u001B[49m\u001B[38;5;241;43m+\u001B[39;49m\u001B[43m \u001B[49m\u001B[38;5;241;43m103\u001B[39;49m\n\n\u001B[0;31mTypeError\u001B[0m: can only concatenate str (not \"int\") to str",
       "errorSummary": "<span class='ansi-red-fg'>TypeError</span>: can only concatenate str (not \"int\") to str",
       "errorTraceType": "ansi",
       "metadata": {},
       "type": "ipynbError"
      }
     },
     "output_type": "display_data"
    }
   ],
   "source": [
    "# What happens when you try to use the + operator on different/mixed types?\n",
    "\n",
    "# Example:\n",
    "x = \"PSMDSRC\" + 103 \n",
    "\n",
    "# Explanation: When using the + operator on mixed types, Python generally raises a TypeError because it cannot implicitly determine what you want to do. To perform operations involving mixed types, you often need to explicitly convert the types to compatible ones. e.g., \"PSMDSRC\" + str(103)\n"
   ]
  },
  {
   "cell_type": "code",
   "execution_count": 0,
   "metadata": {
    "application/vnd.databricks.v1+cell": {
     "cellMetadata": {
      "byteLimit": 2048000,
      "rowLimit": 10000
     },
     "inputWidgets": {},
     "nuid": "cf7e7645-6364-4a67-a26e-1b1d07ccea2c",
     "showTitle": false,
     "title": ""
    }
   },
   "outputs": [
    {
     "output_type": "display_data",
     "data": {
      "text/plain": [
       "\u001B[0;31m---------------------------------------------------------------------------\u001B[0m\n",
       "\u001B[0;31mTypeError\u001B[0m                                 Traceback (most recent call last)\n",
       "File \u001B[0;32m<command-1525370746680830>:4\u001B[0m\n",
       "\u001B[1;32m      1\u001B[0m \u001B[38;5;66;03m# Does + work if one of the operands is a dictionary?\u001B[39;00m\n",
       "\u001B[1;32m      2\u001B[0m \n",
       "\u001B[1;32m      3\u001B[0m \u001B[38;5;66;03m# Example:\u001B[39;00m\n",
       "\u001B[0;32m----> 4\u001B[0m \u001B[38;5;124;43m\"\u001B[39;49m\u001B[38;5;124;43mPSMDSRC\u001B[39;49m\u001B[38;5;124;43m\"\u001B[39;49m\u001B[43m \u001B[49m\u001B[38;5;241;43m+\u001B[39;49m\u001B[43m \u001B[49m\u001B[43m{\u001B[49m\u001B[38;5;241;43m101\u001B[39;49m\u001B[43m:\u001B[49m\u001B[38;5;124;43m\"\u001B[39;49m\u001B[38;5;124;43mStatistics\u001B[39;49m\u001B[38;5;124;43m\"\u001B[39;49m\u001B[43m,\u001B[49m\u001B[43m \u001B[49m\u001B[38;5;241;43m102\u001B[39;49m\u001B[43m:\u001B[49m\u001B[43m \u001B[49m\u001B[38;5;124;43m\"\u001B[39;49m\u001B[38;5;124;43mData Management\u001B[39;49m\u001B[38;5;124;43m\"\u001B[39;49m\u001B[43m,\u001B[49m\u001B[43m \u001B[49m\u001B[38;5;241;43m103\u001B[39;49m\u001B[43m:\u001B[49m\u001B[38;5;124;43m\"\u001B[39;49m\u001B[38;5;124;43mProgramming\u001B[39;49m\u001B[38;5;124;43m\"\u001B[39;49m\u001B[43m}\u001B[49m\n",
       "\n",
       "\u001B[0;31mTypeError\u001B[0m: can only concatenate str (not \"dict\") to str"
      ]
     },
     "metadata": {
      "application/vnd.databricks.v1+output": {
       "arguments": {},
       "data": "\u001B[0;31m---------------------------------------------------------------------------\u001B[0m\n\u001B[0;31mTypeError\u001B[0m                                 Traceback (most recent call last)\nFile \u001B[0;32m<command-1525370746680830>:4\u001B[0m\n\u001B[1;32m      1\u001B[0m \u001B[38;5;66;03m# Does + work if one of the operands is a dictionary?\u001B[39;00m\n\u001B[1;32m      2\u001B[0m \n\u001B[1;32m      3\u001B[0m \u001B[38;5;66;03m# Example:\u001B[39;00m\n\u001B[0;32m----> 4\u001B[0m \u001B[38;5;124;43m\"\u001B[39;49m\u001B[38;5;124;43mPSMDSRC\u001B[39;49m\u001B[38;5;124;43m\"\u001B[39;49m\u001B[43m \u001B[49m\u001B[38;5;241;43m+\u001B[39;49m\u001B[43m \u001B[49m\u001B[43m{\u001B[49m\u001B[38;5;241;43m101\u001B[39;49m\u001B[43m:\u001B[49m\u001B[38;5;124;43m\"\u001B[39;49m\u001B[38;5;124;43mStatistics\u001B[39;49m\u001B[38;5;124;43m\"\u001B[39;49m\u001B[43m,\u001B[49m\u001B[43m \u001B[49m\u001B[38;5;241;43m102\u001B[39;49m\u001B[43m:\u001B[49m\u001B[43m \u001B[49m\u001B[38;5;124;43m\"\u001B[39;49m\u001B[38;5;124;43mData Management\u001B[39;49m\u001B[38;5;124;43m\"\u001B[39;49m\u001B[43m,\u001B[49m\u001B[43m \u001B[49m\u001B[38;5;241;43m103\u001B[39;49m\u001B[43m:\u001B[49m\u001B[38;5;124;43m\"\u001B[39;49m\u001B[38;5;124;43mProgramming\u001B[39;49m\u001B[38;5;124;43m\"\u001B[39;49m\u001B[43m}\u001B[49m\n\n\u001B[0;31mTypeError\u001B[0m: can only concatenate str (not \"dict\") to str",
       "errorSummary": "<span class='ansi-red-fg'>TypeError</span>: can only concatenate str (not \"dict\") to str",
       "errorTraceType": "ansi",
       "metadata": {},
       "type": "ipynbError"
      }
     },
     "output_type": "display_data"
    }
   ],
   "source": [
    "# Does + work if one of the operands is a dictionary?\n",
    "\n",
    "# Example:\n",
    "\"PSMDSRC\" + {101:\"Statistics\", 102: \"Data Management\", 103:\"Programming\"}\n",
    "\n",
    "# Explanation: No, the + operator does not work directly with dictionaries in Python. Using + where one of the operands is a dictionary, Python will raise a TypeError."
   ]
  },
  {
   "cell_type": "code",
   "execution_count": 0,
   "metadata": {
    "application/vnd.databricks.v1+cell": {
     "cellMetadata": {
      "byteLimit": 2048000,
      "rowLimit": 10000
     },
     "inputWidgets": {},
     "nuid": "abb38f0a-b762-4f84-9abf-1ed79b9e7d04",
     "showTitle": false,
     "title": ""
    }
   },
   "outputs": [
    {
     "output_type": "stream",
     "name": "stdout",
     "output_type": "stream",
     "text": [
      "['a', 'b', 'c', 'd', 'i']\n"
     ]
    },
    {
     "output_type": "display_data",
     "data": {
      "text/plain": [
       "\u001B[0;31m---------------------------------------------------------------------------\u001B[0m\n",
       "\u001B[0;31mAttributeError\u001B[0m                            Traceback (most recent call last)\n",
       "File \u001B[0;32m<command-1525370746680844>:10\u001B[0m\n",
       "\u001B[1;32m      7\u001B[0m \u001B[38;5;28mprint\u001B[39m(L1)\n",
       "\u001B[1;32m      8\u001B[0m \u001B[38;5;66;03m# Output: ['a', 'b', 'c', 'd', 'i']\u001B[39;00m\n",
       "\u001B[0;32m---> 10\u001B[0m S1\u001B[38;5;241m.\u001B[39mappend(\u001B[38;5;124m'\u001B[39m\u001B[38;5;124mi\u001B[39m\u001B[38;5;124m'\u001B[39m)\n",
       "\n",
       "\u001B[0;31mAttributeError\u001B[0m: 'str' object has no attribute 'append'"
      ]
     },
     "metadata": {
      "application/vnd.databricks.v1+output": {
       "arguments": {},
       "data": "\u001B[0;31m---------------------------------------------------------------------------\u001B[0m\n\u001B[0;31mAttributeError\u001B[0m                            Traceback (most recent call last)\nFile \u001B[0;32m<command-1525370746680844>:10\u001B[0m\n\u001B[1;32m      7\u001B[0m \u001B[38;5;28mprint\u001B[39m(L1)\n\u001B[1;32m      8\u001B[0m \u001B[38;5;66;03m# Output: ['a', 'b', 'c', 'd', 'i']\u001B[39;00m\n\u001B[0;32m---> 10\u001B[0m S1\u001B[38;5;241m.\u001B[39mappend(\u001B[38;5;124m'\u001B[39m\u001B[38;5;124mi\u001B[39m\u001B[38;5;124m'\u001B[39m)\n\n\u001B[0;31mAttributeError\u001B[0m: 'str' object has no attribute 'append'",
       "errorSummary": "<span class='ansi-red-fg'>AttributeError</span>: 'str' object has no attribute 'append'",
       "errorTraceType": "ansi",
       "metadata": {},
       "type": "ipynbError"
      }
     },
     "output_type": "display_data"
    }
   ],
   "source": [
    "L1 = ['a','b','c','d']\n",
    "S1 = \"food\"\n",
    "\n",
    "# Try list.append() (use an actual list you created). Does the append() method work for both lists and strings?\n",
    "\n",
    "L1.append('i')\n",
    "print(L1)\n",
    "# Output: ['a', 'b', 'c', 'd', 'i']\n",
    "\n",
    "S1.append('i')\n",
    "# Output: AttributeError\n",
    "\n",
    "# Explanation: The append() method works on lists but not with strings. "
   ]
  },
  {
   "cell_type": "code",
   "execution_count": 0,
   "metadata": {
    "application/vnd.databricks.v1+cell": {
     "cellMetadata": {
      "byteLimit": 2048000,
      "rowLimit": 10000
     },
     "inputWidgets": {},
     "nuid": "1b965778-a4b3-47f9-848d-9cf5a6858579",
     "showTitle": false,
     "title": ""
    }
   },
   "outputs": [
    {
     "output_type": "stream",
     "name": "stdout",
     "output_type": "stream",
     "text": [
      "Out[85]: ['a', 'b', 'c', 'd', 1, 2, 3, 4, 5]"
     ]
    }
   ],
   "source": [
    "# Try concatenating (+) two lists or strings, what happens?\n",
    "\n",
    "L1 = ['a','b','c','d']\n",
    "L2 = [1,2,3,4,5]\n",
    "\n",
    "L1 + L2\n",
    "\n",
    "# Output: ['a', 'b', 'c', 'd', 1, 2, 3, 4, 5]\n",
    "# Explanation: The + operator creates a new list by appending the elements of the second list to the end of the first list. "
   ]
  },
  {
   "cell_type": "code",
   "execution_count": 0,
   "metadata": {
    "application/vnd.databricks.v1+cell": {
     "cellMetadata": {
      "byteLimit": 2048000,
      "rowLimit": 10000
     },
     "inputWidgets": {},
     "nuid": "1ee2eda8-cfb1-4b19-be3b-31ce48feef96",
     "showTitle": false,
     "title": ""
    }
   },
   "outputs": [
    {
     "output_type": "stream",
     "name": "stdout",
     "output_type": "stream",
     "text": [
      "Out[86]: 'fooddrinks'"
     ]
    }
   ],
   "source": [
    "S1 = \"food\"\n",
    "S2 = \"drinks\"\n",
    "\n",
    "S1 + S2\n",
    "\n",
    "# Output: fooddrinks\n",
    "# Explanation: The + operator combines the strings into a new string. "
   ]
  },
  {
   "cell_type": "markdown",
   "metadata": {
    "application/vnd.databricks.v1+cell": {
     "cellMetadata": {
      "byteLimit": 2048000,
      "rowLimit": 10000
     },
     "inputWidgets": {},
     "nuid": "e3747df8-1952-44b4-8cbf-c44ae38a543e",
     "showTitle": false,
     "title": ""
    }
   },
   "source": [
    "6. Define a string S of four characters. Then type the following expression: S[0] [0] [0] [0]. Explain what is happening."
   ]
  },
  {
   "cell_type": "code",
   "execution_count": 0,
   "metadata": {
    "application/vnd.databricks.v1+cell": {
     "cellMetadata": {
      "byteLimit": 2048000,
      "rowLimit": 10000
     },
     "inputWidgets": {},
     "nuid": "f0d1346a-63c4-47f7-a5e4-c50305ba6064",
     "showTitle": false,
     "title": ""
    }
   },
   "outputs": [
    {
     "output_type": "stream",
     "name": "stdout",
     "output_type": "stream",
     "text": [
      "Out[87]: 'p'"
     ]
    }
   ],
   "source": [
    "S = \"pera\"\n",
    "S[0] [0] [0] [0]\n",
    "\n",
    "# Explanation: n Python, strings are not nested, so the expression will be interpreted as S[0], which is 'p', and then it tries to access further indices on this character.\n",
    "## S[0] -> 'p'\n",
    "## 'p'[0] -> 'p'\n",
    "##'p'[0] -> 'p'\n",
    "## 'p'[0] -> 'p' \n",
    "\n",
    "# Output: 'p'\n"
   ]
  },
  {
   "cell_type": "markdown",
   "metadata": {
    "application/vnd.databricks.v1+cell": {
     "cellMetadata": {
      "byteLimit": 2048000,
      "rowLimit": 10000
     },
     "inputWidgets": {},
     "nuid": "4b2416d7-6061-479e-922b-9df2f29d5434",
     "showTitle": false,
     "title": ""
    }
   },
   "source": [
    "7. Define a string S of 4 characters again: S = “spam”. Write an assignment that changes the string to “slam”, using only slicing and concatenation. Does it work? Try index assignment."
   ]
  },
  {
   "cell_type": "code",
   "execution_count": 0,
   "metadata": {
    "application/vnd.databricks.v1+cell": {
     "cellMetadata": {
      "byteLimit": 2048000,
      "rowLimit": 10000
     },
     "inputWidgets": {},
     "nuid": "4f516a1a-72ba-4a60-8a74-282ecab61808",
     "showTitle": false,
     "title": ""
    }
   },
   "outputs": [
    {
     "output_type": "stream",
     "name": "stdout",
     "output_type": "stream",
     "text": [
      "slam\n"
     ]
    }
   ],
   "source": [
    "S = \"spam\"\n",
    "S = S[:1] + \"l\" + S[2:]\n",
    "print(S)\n",
    "\n",
    "# Output: slam\n",
    "# Explanation: This code creates a new string by concatenating the substring before index 1 (S[:1], which is 's'), the new character 'l', and the substring after index 1 (S[2:], which is 'am'). The result is \"slam\"."
   ]
  },
  {
   "cell_type": "code",
   "execution_count": 0,
   "metadata": {
    "application/vnd.databricks.v1+cell": {
     "cellMetadata": {
      "byteLimit": 2048000,
      "rowLimit": 10000
     },
     "inputWidgets": {},
     "nuid": "878ba73d-d93a-4f01-9a77-51f0dd5befed",
     "showTitle": false,
     "title": ""
    }
   },
   "outputs": [
    {
     "output_type": "display_data",
     "data": {
      "text/plain": [
       "\u001B[0;31m---------------------------------------------------------------------------\u001B[0m\n",
       "\u001B[0;31mTypeError\u001B[0m                                 Traceback (most recent call last)\n",
       "File \u001B[0;32m<command-1525370746680829>:2\u001B[0m\n",
       "\u001B[1;32m      1\u001B[0m S \u001B[38;5;241m=\u001B[39m \u001B[38;5;124m\"\u001B[39m\u001B[38;5;124mspam\u001B[39m\u001B[38;5;124m\"\u001B[39m\n",
       "\u001B[0;32m----> 2\u001B[0m S[\u001B[38;5;241m1\u001B[39m] \u001B[38;5;241m=\u001B[39m \u001B[38;5;124m\"\u001B[39m\u001B[38;5;124ml\u001B[39m\u001B[38;5;124m\"\u001B[39m\n",
       "\n",
       "\u001B[0;31mTypeError\u001B[0m: 'str' object does not support item assignment"
      ]
     },
     "metadata": {
      "application/vnd.databricks.v1+output": {
       "arguments": {},
       "data": "\u001B[0;31m---------------------------------------------------------------------------\u001B[0m\n\u001B[0;31mTypeError\u001B[0m                                 Traceback (most recent call last)\nFile \u001B[0;32m<command-1525370746680829>:2\u001B[0m\n\u001B[1;32m      1\u001B[0m S \u001B[38;5;241m=\u001B[39m \u001B[38;5;124m\"\u001B[39m\u001B[38;5;124mspam\u001B[39m\u001B[38;5;124m\"\u001B[39m\n\u001B[0;32m----> 2\u001B[0m S[\u001B[38;5;241m1\u001B[39m] \u001B[38;5;241m=\u001B[39m \u001B[38;5;124m\"\u001B[39m\u001B[38;5;124ml\u001B[39m\u001B[38;5;124m\"\u001B[39m\n\n\u001B[0;31mTypeError\u001B[0m: 'str' object does not support item assignment",
       "errorSummary": "<span class='ansi-red-fg'>TypeError</span>: 'str' object does not support item assignment",
       "errorTraceType": "ansi",
       "metadata": {},
       "type": "ipynbError"
      }
     },
     "output_type": "display_data"
    }
   ],
   "source": [
    "S = \"spam\"\n",
    "S[1] = \"l\"\n",
    "\n",
    "# Output: TypeError\n",
    "# Explanation: This will result to an error since strings in python are immutable."
   ]
  },
  {
   "cell_type": "markdown",
   "metadata": {
    "application/vnd.databricks.v1+cell": {
     "cellMetadata": {
      "byteLimit": 2048000,
      "rowLimit": 10000
     },
     "inputWidgets": {},
     "nuid": "939ba63e-d62c-47ab-858c-c7d65bd9cb54",
     "showTitle": false,
     "title": ""
    }
   },
   "source": []
  }
 ],
 "metadata": {
  "application/vnd.databricks.v1+notebook": {
   "dashboards": [],
   "environmentMetadata": null,
   "language": "python",
   "notebookMetadata": {
    "pythonIndentUnit": 4
   },
   "notebookName": "ACF_PSMDSRC103_Assigment_1.1",
   "widgets": {}
  }
 },
 "nbformat": 4,
 "nbformat_minor": 0
}
