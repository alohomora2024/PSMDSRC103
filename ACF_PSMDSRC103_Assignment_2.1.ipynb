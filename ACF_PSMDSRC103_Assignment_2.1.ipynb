{
 "cells": [
  {
   "cell_type": "raw",
   "id": "aa0e3508-218a-475e-a9ac-e541480c6ec2",
   "metadata": {},
   "source": [
    "1.\tCreate a function that would accept two inputs: a sentence(string), and a list containing bad words that the user would like to censor but not remove. The function should return the newly filtered sentence wherein the bad words are replaced with asterisks equal to the length of the censored word."
   ]
  },
  {
   "cell_type": "code",
   "execution_count": 28,
   "id": "e05761fc-d0f5-472b-bc96-f21ec4645b13",
   "metadata": {},
   "outputs": [
    {
     "name": "stdout",
     "output_type": "stream",
     "text": [
      "****ing ****, what a ****show!\n",
      "Get the **** out, *******\n"
     ]
    }
   ],
   "source": [
    "def censor_text(sentence, bad_words=None):\n",
    "    if bad_words is None:\n",
    "        # Use default bad word list\n",
    "        bad_words = [\"shit\", \"fuck\", \"asshole\", \"hell\", \"bastard\", \"dick\", \"slut\", \"whore\"]  # Default bad words list\n",
    "\n",
    "    for word in bad_words:\n",
    "        if word in sentence:\n",
    "            censored_word = \"*\" * len(word)\n",
    "            sentence = sentence.replace(word, censored_word)  \n",
    "    return sentence\n",
    "\n",
    "# Example calls without passing bad_words\n",
    "censored_sentence = censor_text(\"fucking hell, what a shitshow!\")\n",
    "print(censored_sentence)\n",
    "\n",
    "# Example calls with passing bad_words\n",
    "bad_words = [\"fuck\", \"nigger.\"]\n",
    "censored_sentence2 = censor_text(\"Get the fuck out, nigger.\", bad_words)\n",
    "print(censored_sentence2)"
   ]
  },
  {
   "cell_type": "markdown",
   "id": "6d3b4b7b-6f78-4aa7-a872-4497ce433397",
   "metadata": {},
   "source": [
    "Alternative: Using better-profanity library"
   ]
  },
  {
   "cell_type": "code",
   "execution_count": 3,
   "id": "17bc0d90-8f87-4577-91bf-a5ce31d38e0e",
   "metadata": {},
   "outputs": [
    {
     "name": "stdout",
     "output_type": "stream",
     "text": [
      "Collecting better-profanity\n",
      "  Downloading better_profanity-0.7.0-py3-none-any.whl.metadata (7.1 kB)\n",
      "Downloading better_profanity-0.7.0-py3-none-any.whl (46 kB)\n",
      "Installing collected packages: better-profanity\n",
      "Successfully installed better-profanity-0.7.0\n"
     ]
    }
   ],
   "source": [
    "!pip install better-profanity"
   ]
  },
  {
   "cell_type": "code",
   "execution_count": 2,
   "id": "096d4393-0536-411e-86a4-80132768cefa",
   "metadata": {},
   "outputs": [
    {
     "name": "stdout",
     "output_type": "stream",
     "text": [
      "You are an **** and a ****.\n"
     ]
    }
   ],
   "source": [
    "from better_profanity import profanity\n",
    "\n",
    "# Load the default list of bad words\n",
    "profanity.load_censor_words()\n",
    "\n",
    "# Censor some text\n",
    "censored_text = profanity.censor(\"You are an asshole and a shithead.\")\n",
    "print(censored_text)  # Output: \"You are an ***** and a ********.\"\n"
   ]
  },
  {
   "attachments": {},
   "cell_type": "markdown",
   "id": "7bc053ae-9639-4728-b23d-645ed113769d",
   "metadata": {},
   "source": [
    "2.\tCreate a quadratic equation solver module that would write the inputs of the user and the corresponding output into text files."
   ]
  },
  {
   "cell_type": "code",
   "execution_count": 30,
   "id": "8259ff1e-adf9-4ac4-bc45-bd3ec6a46a64",
   "metadata": {},
   "outputs": [],
   "source": [
    "import cmath\n",
    "\n",
    "def quadratic_solver(a, b, c):\n",
    "    \n",
    "    if a == 0:\n",
    "        return None  # Invalid quadratic equation. 'a' should not be zero\"\n",
    "        \n",
    "    # Calculate the discriminant\n",
    "    discriminant = b**2 - 4*a*c\n",
    "    \n",
    "    if discriminant > 0:\n",
    "        root1 = (-b + cmath.sqrt(discriminant)) / (2*a)\n",
    "        root2 = (-b - cmath.sqrt(discriminant)) / (2*a)\n",
    "        return root1, root2\n",
    "\n",
    "    elif discriminant == 0:\n",
    "        root = -b / (2*a)\n",
    "        return (root,)\n",
    "    \n",
    "    else:\n",
    "        real_root = -b / (2*a)\n",
    "        imaginary_root = cmath.sqrt(discriminant) / (2*a)\n",
    "        root1 = complex(real_root, imaginary_root)\n",
    "        root2 = complex(real_root, -imaginary_root)\n",
    "        return (root1, root2)\n",
    "\n",
    "    # Automatically write the results to a file\n",
    "    write_to_file(a, b, c, roots)\n",
    "\n",
    "    return roots\n",
    "\n",
    "def write_to_file(a, b, c, roots):\n",
    "    \"\"\"Writes the quadratic equation and solutions to a text file.\n",
    "\n",
    "    Args:\n",
    "        a (float): The coefficient of the quadratic term.\n",
    "        b (float): The coefficient of the linear term.\n",
    "        c (float): The constant term.\n",
    "        solutions (tuple): A tuple containing the two solutions.\n",
    "    \"\"\"\n",
    "    try:\n",
    "        with open(\"quadratic_solver_results.txt\", \"a\") as file:\n",
    "            file.write(f\"Equation: {a}x^2 + {b}x + {c} = 0\\n\")\n",
    "            if roots is None:\n",
    "                file.write(\"Invalid quadratic equation. 'a' should not be zero\")\n",
    "            else:\n",
    "                # Write the roots\n",
    "                file.write(f\"Roots: {roots}\\n\\n\")\n",
    "        print(\"Results written to file successfully.\")\n",
    "    except Exception as e:\n",
    "        print(f\"Error writing to file: {e}\")\n"
   ]
  },
  {
   "cell_type": "markdown",
   "id": "c4033594-b8fb-48a3-9e1a-a5e8902633cf",
   "metadata": {},
   "source": [
    "For testing different cases:\n",
    "1. Real and distinct roots: a=1, b=-5, c=6 (roots: -2, -3)\n",
    "2. Real and repeated roots: a=1, b=-2, c=1 (roots: -1)\n",
    "3. Complex roots: a=1, b=2, c=3 (roots: -1 ± i√2i)"
   ]
  },
  {
   "cell_type": "code",
   "execution_count": 12,
   "id": "7bc043d9-b8f7-4eb0-94f6-0290b7999ac4",
   "metadata": {},
   "outputs": [
    {
     "name": "stdout",
     "output_type": "stream",
     "text": [
      "Results written to file successfully.\n"
     ]
    }
   ],
   "source": [
    "a, b, c = 1, 5, 6\n",
    "roots = quadratic_solver(a, b, c)\n",
    "write_to_file(a, b, c, roots)"
   ]
  },
  {
   "cell_type": "code",
   "execution_count": 13,
   "id": "22503808-cd1e-44e5-a3c6-a9c47f01dd1e",
   "metadata": {},
   "outputs": [
    {
     "name": "stdout",
     "output_type": "stream",
     "text": [
      "Results written to file successfully.\n"
     ]
    }
   ],
   "source": [
    "a, b, c = 1, 2, 1\n",
    "roots = quadratic_solver(a, b, c)\n",
    "write_to_file(a, b, c, roots)"
   ]
  },
  {
   "cell_type": "code",
   "execution_count": 14,
   "id": "0a3719f6-48b1-49e8-93b5-35db1e77736a",
   "metadata": {},
   "outputs": [
    {
     "name": "stdout",
     "output_type": "stream",
     "text": [
      "Results written to file successfully.\n"
     ]
    }
   ],
   "source": [
    "a, b, c = 1, 2, 3\n",
    "roots = quadratic_solver(a, b, c)\n",
    "write_to_file(a, b, c, roots)"
   ]
  },
  {
   "cell_type": "code",
   "execution_count": 31,
   "id": "0e0e611a-95d4-4f23-8179-903888683a4a",
   "metadata": {},
   "outputs": [
    {
     "name": "stdout",
     "output_type": "stream",
     "text": [
      "Results written to file successfully.\n"
     ]
    }
   ],
   "source": [
    "a, b, c = 0, 2, 3\n",
    "roots = quadratic_solver(a, b, c)\n",
    "write_to_file(a, b, c, roots)"
   ]
  },
  {
   "cell_type": "code",
   "execution_count": null,
   "id": "1504251d-7a04-4c64-94c9-ecdfc4dc241c",
   "metadata": {},
   "outputs": [],
   "source": []
  }
 ],
 "metadata": {
  "kernelspec": {
   "display_name": "Python 3 (ipykernel)",
   "language": "python",
   "name": "python3"
  },
  "language_info": {
   "codemirror_mode": {
    "name": "ipython",
    "version": 3
   },
   "file_extension": ".py",
   "mimetype": "text/x-python",
   "name": "python",
   "nbconvert_exporter": "python",
   "pygments_lexer": "ipython3",
   "version": "3.12.1"
  }
 },
 "nbformat": 4,
 "nbformat_minor": 5
}
