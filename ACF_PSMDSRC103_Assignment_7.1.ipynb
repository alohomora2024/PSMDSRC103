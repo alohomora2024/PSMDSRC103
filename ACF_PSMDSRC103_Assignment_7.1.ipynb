{
 "cells": [
  {
   "cell_type": "markdown",
   "id": "dbda0170-1be1-4e52-ad40-031c0e59f4b7",
   "metadata": {},
   "source": [
    "## Collecting temperature data from an API"
   ]
  },
  {
   "cell_type": "markdown",
   "id": "9124ead6-b19e-4c35-8c09-aedc2a8b2bef",
   "metadata": {},
   "source": [
    "### Using the NCEI API"
   ]
  },
  {
   "cell_type": "code",
   "execution_count": 7,
   "id": "80d57f7e-a23f-461d-abee-a40da87bfeaf",
   "metadata": {},
   "outputs": [],
   "source": [
    "import requests\n",
    "def make_request(endpoint, payload=None):\n",
    "    \"\"\"\n",
    "    Make a request to a specific endpoint on the weather API\n",
    "    passing headers and optional payload.\n",
    "    \n",
    "    Parameters:\n",
    "        - endpoint: The endpoint of the API you want to \n",
    "        make a GET request to.\n",
    "        - payload: A dictionary of data to pass along\n",
    "        with the request.\n",
    "    \n",
    "    Returns:\n",
    "    Response object.\n",
    "    \"\"\"\n",
    "    return requests.get(\n",
    "        f'https://www.ncdc.noaa.gov/cdo-web/api/v2/{endpoint}',\n",
    "        headers={\n",
    "            'token': 'GCaouCRmRVInGZOQyLCOLqtcnywGcYrO'\n",
    "    },\n",
    "    params=payload\n",
    "    ,\n",
    "    )"
   ]
  },
  {
   "cell_type": "markdown",
   "id": "0ee3e0f0-b389-4f04-901f-d0448c74c2be",
   "metadata": {},
   "source": [
    "### See what datasets are available"
   ]
  },
  {
   "cell_type": "markdown",
   "id": "77c07735-d867-4b51-89f5-60a613677356",
   "metadata": {},
   "source": [
    "We can make requests to the datasets endpoint to see what datasaets are available. We also pass in a dictionary for the payload to get datsets that have data after the start date of October 1, 2018."
   ]
  },
  {
   "cell_type": "code",
   "execution_count": 8,
   "id": "1648fd38-7e75-4c86-b6e5-2a978e8f4f2a",
   "metadata": {},
   "outputs": [
    {
     "data": {
      "text/plain": [
       "200"
      ]
     },
     "execution_count": 8,
     "metadata": {},
     "output_type": "execute_result"
    }
   ],
   "source": [
    "# see what datasets are available\n",
    "response = make_request('datasets', {'startdate':'2018-10-01'})\n",
    "response.status_code"
   ]
  },
  {
   "cell_type": "markdown",
   "id": "f3c8b5e4-5693-4895-812f-2d642f2a15cf",
   "metadata": {},
   "source": [
    "Status code of 200 means everything is OK. More codes can be found here."
   ]
  },
  {
   "cell_type": "markdown",
   "id": "601e8636-b52e-4370-9297-ed9b8c1fe0f5",
   "metadata": {},
   "source": [
    "### Get the keys of the result"
   ]
  },
  {
   "cell_type": "markdown",
   "id": "f71bd9d6-9041-4aef-94ab-6d030db09ccb",
   "metadata": {},
   "source": [
    "The result is a JSON object which we can access with the json() method of our Response object. JSON objects can be treated like dictionaries, so we can access the keys() just like we would a dictionary:"
   ]
  },
  {
   "cell_type": "code",
   "execution_count": 9,
   "id": "5feeebdd-a4e1-4ac2-af34-b5ef20dd7306",
   "metadata": {},
   "outputs": [
    {
     "data": {
      "text/plain": [
       "dict_keys(['metadata', 'results'])"
      ]
     },
     "execution_count": 9,
     "metadata": {},
     "output_type": "execute_result"
    }
   ],
   "source": [
    "response.json().keys()"
   ]
  },
  {
   "cell_type": "markdown",
   "id": "aff9accb-ff63-4a77-bf61-29c81f7b6a72",
   "metadata": {},
   "source": [
    "The metadata of the JSON response will tell us information about the request and data we got back:"
   ]
  },
  {
   "cell_type": "code",
   "execution_count": 10,
   "id": "5adb0cf0-0873-432e-9a53-1652802317fa",
   "metadata": {},
   "outputs": [
    {
     "data": {
      "text/plain": [
       "{'resultset': {'offset': 1, 'count': 11, 'limit': 25}}"
      ]
     },
     "execution_count": 10,
     "metadata": {},
     "output_type": "execute_result"
    }
   ],
   "source": [
    "response.json()['metadata']"
   ]
  },
  {
   "cell_type": "markdown",
   "id": "6f35c93e-6ba7-47f8-bec4-32a4d862c237",
   "metadata": {},
   "source": [
    "### Figure out what data is in the result"
   ]
  },
  {
   "cell_type": "markdown",
   "id": "0490bb9e-466c-4c39-8980-d9a612e6c2f2",
   "metadata": {},
   "source": [
    "The results key contains the data we requested. This is a list of what would be rows in our dataframe. Each entry in the list is a dictionary, so we can look at the keys to get the fields:"
   ]
  },
  {
   "cell_type": "code",
   "execution_count": 11,
   "id": "dee4a652-22a2-47b8-b712-689ccf7f2581",
   "metadata": {},
   "outputs": [
    {
     "data": {
      "text/plain": [
       "dict_keys(['uid', 'mindate', 'maxdate', 'name', 'datacoverage', 'id'])"
      ]
     },
     "execution_count": 11,
     "metadata": {},
     "output_type": "execute_result"
    }
   ],
   "source": [
    "response.json()['results'][0].keys()"
   ]
  },
  {
   "cell_type": "markdown",
   "id": "77fe7e9b-2e48-4ce9-93ab-3cdf364c1a9d",
   "metadata": {},
   "source": [
    "### Parse the result"
   ]
  },
  {
   "cell_type": "markdown",
   "id": "60cf2cd9-a56a-4586-9759-1a0494ac7ed9",
   "metadata": {},
   "source": [
    "We don't want all those fields, so we will use a list comphrension to take only the id and name fields out:"
   ]
  },
  {
   "cell_type": "code",
   "execution_count": 12,
   "id": "d0733ec8-8c31-4425-8a89-5760380ac7c5",
   "metadata": {},
   "outputs": [
    {
     "data": {
      "text/plain": [
       "[('GHCND', 'Daily Summaries'),\n",
       " ('GSOM', 'Global Summary of the Month'),\n",
       " ('GSOY', 'Global Summary of the Year'),\n",
       " ('NEXRAD2', 'Weather Radar (Level II)'),\n",
       " ('NEXRAD3', 'Weather Radar (Level III)'),\n",
       " ('NORMAL_ANN', 'Normals Annual/Seasonal'),\n",
       " ('NORMAL_DLY', 'Normals Daily'),\n",
       " ('NORMAL_HLY', 'Normals Hourly'),\n",
       " ('NORMAL_MLY', 'Normals Monthly'),\n",
       " ('PRECIP_15', 'Precipitation 15 Minute'),\n",
       " ('PRECIP_HLY', 'Precipitation Hourly')]"
      ]
     },
     "execution_count": 12,
     "metadata": {},
     "output_type": "execute_result"
    }
   ],
   "source": [
    "[(data['id'], data['name']) for data in response.json()['results']]"
   ]
  },
  {
   "cell_type": "markdown",
   "id": "fdc4e383-5331-4a1f-ae53-85cf3d8e8cab",
   "metadata": {},
   "source": [
    "### Figure out which data category we want"
   ]
  },
  {
   "cell_type": "markdown",
   "id": "5c129037-aeb1-4704-90ec-bb303085c1b0",
   "metadata": {},
   "source": [
    "The GHCND datacategories data containing daily summaries is what we want. Now we need to make another request to figure out which data categories we want to collect. This is the\n",
    "endpoint. We have to pass the datasetid for GHCND as the payload so the API knows which dataset we are asking about:"
   ]
  },
  {
   "cell_type": "code",
   "execution_count": 13,
   "id": "5edd33d2-722d-417c-a58e-c29762f35cc1",
   "metadata": {},
   "outputs": [
    {
     "data": {
      "text/plain": [
       "200"
      ]
     },
     "execution_count": 13,
     "metadata": {},
     "output_type": "execute_result"
    }
   ],
   "source": [
    "# get data category id\n",
    "response = make_request(\n",
    "'datacategories',\n",
    "payload={\n",
    "'datasetid' : 'GHCND'\n",
    "}\n",
    ")\n",
    "response.status_code"
   ]
  },
  {
   "cell_type": "markdown",
   "id": "3ef42b32-1aeb-4381-82f9-f5abab7d5635",
   "metadata": {},
   "source": [
    "Since we know the API gives us a metadata and a results key in each response, we can see what is in the results portion of the JSON response:"
   ]
  },
  {
   "cell_type": "code",
   "execution_count": 14,
   "id": "baa3a918-2729-4625-91c4-b5aad7921c79",
   "metadata": {},
   "outputs": [
    {
     "data": {
      "text/plain": [
       "[{'name': 'Evaporation', 'id': 'EVAP'},\n",
       " {'name': 'Land', 'id': 'LAND'},\n",
       " {'name': 'Precipitation', 'id': 'PRCP'},\n",
       " {'name': 'Sky cover & clouds', 'id': 'SKY'},\n",
       " {'name': 'Sunshine', 'id': 'SUN'},\n",
       " {'name': 'Air Temperature', 'id': 'TEMP'},\n",
       " {'name': 'Water', 'id': 'WATER'},\n",
       " {'name': 'Wind', 'id': 'WIND'},\n",
       " {'name': 'Weather Type', 'id': 'WXTYPE'}]"
      ]
     },
     "execution_count": 14,
     "metadata": {},
     "output_type": "execute_result"
    }
   ],
   "source": [
    "response.json()['results']"
   ]
  },
  {
   "cell_type": "markdown",
   "id": "9dd2ced9-a623-45c2-8e43-e72ccf2aaba4",
   "metadata": {},
   "source": [
    "### Grab the data type ID for the Temperature category"
   ]
  },
  {
   "cell_type": "markdown",
   "id": "5ec0e20a-eee0-48bd-88d7-bd2e44d33e6c",
   "metadata": {},
   "source": [
    "We will be working with temperatures, so we want the TEMP data category. Now, we need to find the provide the datacategoryid which was TEMP . We also specify a limit for the number of datatypes another request later, but for now, we just want to pick a few out:\n",
    "datatypes to collect. For this, we use the datatypes endpoint and\n",
    "to return with the payload. If there are more than this we can make"
   ]
  },
  {
   "cell_type": "code",
   "execution_count": 15,
   "id": "1799ac70-9936-426f-91c0-92e52ce46b7d",
   "metadata": {},
   "outputs": [
    {
     "data": {
      "text/plain": [
       "200"
      ]
     },
     "execution_count": 15,
     "metadata": {},
     "output_type": "execute_result"
    }
   ],
   "source": [
    "# get data type id\n",
    "response = make_request(\n",
    "'datatypes',\n",
    "payload={\n",
    "'datacategoryid' : 'TEMP',\n",
    "'limit' : 100\n",
    "}\n",
    ")\n",
    "response.status_code"
   ]
  },
  {
   "cell_type": "markdown",
   "id": "e1da3e8d-d652-469c-92d3-d4204112a5fb",
   "metadata": {},
   "source": [
    "We can grab the id and name fields for each of the entries in the results portion of the data. The fields we are interested in are at the bottom:"
   ]
  },
  {
   "cell_type": "code",
   "execution_count": 16,
   "id": "c1ca76b6-b822-45db-85c7-fe4371467ba6",
   "metadata": {},
   "outputs": [
    {
     "data": {
      "text/plain": [
       "[('MNTM', 'Monthly mean temperature'),\n",
       " ('TAVG', 'Average Temperature.'),\n",
       " ('TMAX', 'Maximum temperature'),\n",
       " ('TMIN', 'Minimum temperature'),\n",
       " ('TOBS', 'Temperature at the time of observation')]"
      ]
     },
     "execution_count": 16,
     "metadata": {},
     "output_type": "execute_result"
    }
   ],
   "source": [
    "[(datatype['id'], datatype['name']) for datatype in response.json()['results']][-5:] # look at the last 5"
   ]
  },
  {
   "cell_type": "markdown",
   "id": "1f02389c-3c6c-4a19-a879-f4e2b6883159",
   "metadata": {},
   "source": [
    "### Determine which Location Category we want"
   ]
  },
  {
   "cell_type": "markdown",
   "id": "1d6baa14-d3df-4f62-9cea-25f9be695c1e",
   "metadata": {},
   "source": [
    "Now that we know which datatypes locationcategories endpoint by passing the datasetid :\n",
    "we will be collecting, we need to find the location to use. First, we need to figure out the location category. This is obtained from the"
   ]
  },
  {
   "cell_type": "code",
   "execution_count": 17,
   "id": "ccd8489f-df3e-434b-9d5f-fa8cfd10bf40",
   "metadata": {},
   "outputs": [
    {
     "data": {
      "text/plain": [
       "200"
      ]
     },
     "execution_count": 17,
     "metadata": {},
     "output_type": "execute_result"
    }
   ],
   "source": [
    "# get location category id\n",
    "response = make_request(\n",
    "'locationcategories',\n",
    "{\n",
    "'datasetid' : 'GHCND'\n",
    "}\n",
    ")\n",
    "response.status_code"
   ]
  },
  {
   "cell_type": "markdown",
   "id": "7b75e8c3-00f0-4691-b076-08a108c165e5",
   "metadata": {},
   "source": [
    "We can use CITY :\n",
    "pprint to print dictionaries in an easier-to-read format. After doing so, we can see there are 12 different location categories, but we are only interested in"
   ]
  },
  {
   "cell_type": "code",
   "execution_count": 18,
   "id": "e20c0052-e095-441d-be8e-cddd57176962",
   "metadata": {},
   "outputs": [
    {
     "name": "stdout",
     "output_type": "stream",
     "text": [
      "{'metadata': {'resultset': {'count': 12, 'limit': 25, 'offset': 1}},\n",
      " 'results': [{'id': 'CITY', 'name': 'City'},\n",
      "             {'id': 'CLIM_DIV', 'name': 'Climate Division'},\n",
      "             {'id': 'CLIM_REG', 'name': 'Climate Region'},\n",
      "             {'id': 'CNTRY', 'name': 'Country'},\n",
      "             {'id': 'CNTY', 'name': 'County'},\n",
      "             {'id': 'HYD_ACC', 'name': 'Hydrologic Accounting Unit'},\n",
      "             {'id': 'HYD_CAT', 'name': 'Hydrologic Cataloging Unit'},\n",
      "             {'id': 'HYD_REG', 'name': 'Hydrologic Region'},\n",
      "             {'id': 'HYD_SUB', 'name': 'Hydrologic Subregion'},\n",
      "             {'id': 'ST', 'name': 'State'},\n",
      "             {'id': 'US_TERR', 'name': 'US Territory'},\n",
      "             {'id': 'ZIP', 'name': 'Zip Code'}]}\n"
     ]
    }
   ],
   "source": [
    "import pprint\n",
    "pprint.pprint(response.json())"
   ]
  },
  {
   "cell_type": "markdown",
   "id": "79f9348a-5429-4b6d-923b-43329c15abf2",
   "metadata": {},
   "source": [
    "### Get NYC Location ID"
   ]
  },
  {
   "cell_type": "markdown",
   "id": "93591721-98da-4ca3-bd85-8123fc564601",
   "metadata": {},
   "source": [
    "In order to find the location ID for New York, we need to search through all the cities available. Since we can ask the API to return the cities sorted, we can use binary search\n",
    "to find New York quickly without having to make many requests or request lots of data at once. The following function makes the first request to see how big the list of cities\n",
    "is and looks at the first value. From there it decides if it needs to move towards the beginning or end of the list by comparing the city we are looking for to others\n",
    "alphabetically. Each time it makes a request it can rule out half of the remaining data to search."
   ]
  },
  {
   "cell_type": "code",
   "execution_count": 19,
   "id": "b34c9be8-18ed-4855-8aa8-7ebb1cbc9b57",
   "metadata": {},
   "outputs": [],
   "source": [
    "def get_item(name, what, endpoint, start=1, end=None):\n",
    "    \"\"\"\n",
    "    Grab the JSON payload for a given field by name using binary search.\n",
    "    \n",
    "    Parameters:\n",
    "        - name: The item to look for.\n",
    "        - what: Dictionary specifying what the item in `name` is.\n",
    "        - endpoint: Where to look for the item.\n",
    "        - start: The position to start at. We don't need to touch this, but the\n",
    "            function will manipulate this with recursion.\n",
    "        - end: The last position of the cities. Used to find the midpoint, but\n",
    "            like `start` this is not something we need to worry about.\n",
    "    \n",
    "    Returns:\n",
    "        Dictionary of the information for the item if found otherwise\n",
    "        an empty dictionary.\n",
    "    \"\"\"\n",
    "    # find the midpoint which we use to cut the data in half each time\n",
    "    mid = (start + (end if end else 1)) // 2\n",
    "    \n",
    "    # lowercase the name so this is not case-sensitive\n",
    "    name = name.lower()\n",
    "    \n",
    "    # define the payload we will send with each request\n",
    "    payload = {\n",
    "        'datasetid' : 'GHCND',\n",
    "        'sortfield' : 'name',\n",
    "        'offset' : mid, # we will change the offset each time\n",
    "        'limit' : 1 # we only want one value back\n",
    "    }\n",
    "    \n",
    "    # make our request adding any additional filter parameters from `what`\n",
    "    response = make_request(endpoint, {**payload, **what})\n",
    "    \n",
    "    if response.ok:\n",
    "        # if response is ok, grab the end index from the response metadata the first time through\n",
    "        end = end if end else response.json()['metadata']['resultset']['count']\n",
    "\n",
    "        # grab the lowercase version of the current name\n",
    "        current_name = response.json()['results'][0]['name'].lower()\n",
    "\n",
    "        # if what we are searching for is in the current name, we have found our item\n",
    "        if name in current_name:\n",
    "            return response.json()['results'][0] # return the found item\n",
    "        else:\n",
    "            if start >= end:\n",
    "                # if our start index is greater than or equal to our end, we couldn't find it\n",
    "                return {}\n",
    "            elif name < current_name:\n",
    "                # our name comes before the current name in the alphabet, so we search further to the left\n",
    "                return get_item(name, what, endpoint, start, mid - 1)\n",
    "            elif name > current_name:\n",
    "                # our name comes after the current name in the alphabet, so we search further to the right\n",
    "                return get_item(name, what, endpoint, mid + 1, end)\n",
    "    else:\n",
    "        # response wasn't ok, use code to determine why\n",
    "        print(f'Response not OK, status: {response.status_code}')\n",
    "\n",
    "\n",
    "def get_location(name):\n",
    "        \"\"\"\n",
    "        Grab the JSON payload for the location by name using binary search.\n",
    "\n",
    "        Parameters:\n",
    "            - name: The city to look for.\n",
    "    \n",
    "        Returns:\n",
    "            Dictionary of the information for the city if found otherwise\n",
    "            an empty dictionary.\n",
    "        \"\"\"\n",
    "        return get_item(name, {'locationcategoryid' : 'CITY'}, 'locations')"
   ]
  },
  {
   "cell_type": "markdown",
   "id": "94267067-a5f1-4e76-84a8-e1d49a11e244",
   "metadata": {},
   "source": [
    "When we use binary search to find New York, we find it in just 8 requests despite it being close to the middle of 1,983 entries:"
   ]
  },
  {
   "cell_type": "code",
   "execution_count": 20,
   "id": "9d2c4afb-8ad1-4ea6-82ed-ee521077dde6",
   "metadata": {},
   "outputs": [
    {
     "data": {
      "text/plain": [
       "{'mindate': '1869-01-01',\n",
       " 'maxdate': '2024-10-20',\n",
       " 'name': 'New York, NY US',\n",
       " 'datacoverage': 1,\n",
       " 'id': 'CITY:US360019'}"
      ]
     },
     "execution_count": 20,
     "metadata": {},
     "output_type": "execute_result"
    }
   ],
   "source": [
    "# get NYC id\n",
    "nyc = get_location('New York')\n",
    "nyc"
   ]
  },
  {
   "cell_type": "markdown",
   "id": "04df96e7-91cc-49a9-a62c-ccdcb2a11fb7",
   "metadata": {},
   "source": [
    "### Get the station ID for Central Park"
   ]
  },
  {
   "cell_type": "markdown",
   "id": "43d8631a-11e4-4270-a8c4-d154ed99b7ce",
   "metadata": {},
   "source": [
    "The most granular data is found at the station level:"
   ]
  },
  {
   "cell_type": "code",
   "execution_count": 22,
   "id": "9ea9c422-1e40-4beb-9308-b73df23297b4",
   "metadata": {},
   "outputs": [
    {
     "data": {
      "text/plain": [
       "{'elevation': 42.7,\n",
       " 'mindate': '1869-01-01',\n",
       " 'maxdate': '2024-10-18',\n",
       " 'latitude': 40.77898,\n",
       " 'name': 'NY CITY CENTRAL PARK, NY US',\n",
       " 'datacoverage': 1,\n",
       " 'id': 'GHCND:USW00094728',\n",
       " 'elevationUnit': 'METERS',\n",
       " 'longitude': -73.96925}"
      ]
     },
     "execution_count": 22,
     "metadata": {},
     "output_type": "execute_result"
    }
   ],
   "source": [
    "central_park = get_item('NY City Central Park', {'locationid' : nyc['id']}, 'stations')\n",
    "central_park"
   ]
  },
  {
   "cell_type": "markdown",
   "id": "d505075b-f897-4ad1-a119-c0f5a6847427",
   "metadata": {},
   "source": [
    "### Request the temperature data"
   ]
  },
  {
   "cell_type": "markdown",
   "id": "4f55cad5-56a5-4a55-84c4-2c55d93433f4",
   "metadata": {},
   "source": [
    "Finally, we have everything we need to make our request for the New York temperature data. For this we use the throughout our exploration of the API:\n",
    "data endpoint and provide all the parameters we picked up"
   ]
  },
  {
   "cell_type": "code",
   "execution_count": 23,
   "id": "30b5e9fc-9b07-48de-9400-6c0d7cc912a2",
   "metadata": {},
   "outputs": [
    {
     "data": {
      "text/plain": [
       "200"
      ]
     },
     "execution_count": 23,
     "metadata": {},
     "output_type": "execute_result"
    }
   ],
   "source": [
    "# get NYC daily summaries data\n",
    "response = make_request(\n",
    "'data',\n",
    "{\n",
    "'datasetid' : 'GHCND',\n",
    "'stationid' : central_park['id'],\n",
    "'locationid' : nyc['id'],\n",
    "'startdate' : '2018-10-01',\n",
    "'enddate' : '2018-10-31',\n",
    "'datatypeid' : ['TMIN', 'TMAX', 'TOBS'], # temperature at time of observation, min, and max\n",
    "'units' : 'metric',\n",
    "'limit' : 1000\n",
    "}\n",
    ")\n",
    "response.status_code"
   ]
  },
  {
   "cell_type": "markdown",
   "id": "2d460c24-3d67-4e64-8f6d-6641c7f19dcd",
   "metadata": {},
   "source": [
    "### Create a DataFrame"
   ]
  },
  {
   "cell_type": "markdown",
   "id": "23a73402-1860-435e-9eb5-dd197c9c29a8",
   "metadata": {},
   "source": [
    "The Central Park station only has the daily minimum and maximum temperatures."
   ]
  },
  {
   "cell_type": "code",
   "execution_count": 24,
   "id": "5e862932-8126-4698-a78b-c6119ace9772",
   "metadata": {},
   "outputs": [
    {
     "data": {
      "text/html": [
       "<div>\n",
       "<style scoped>\n",
       "    .dataframe tbody tr th:only-of-type {\n",
       "        vertical-align: middle;\n",
       "    }\n",
       "\n",
       "    .dataframe tbody tr th {\n",
       "        vertical-align: top;\n",
       "    }\n",
       "\n",
       "    .dataframe thead th {\n",
       "        text-align: right;\n",
       "    }\n",
       "</style>\n",
       "<table border=\"1\" class=\"dataframe\">\n",
       "  <thead>\n",
       "    <tr style=\"text-align: right;\">\n",
       "      <th></th>\n",
       "      <th>date</th>\n",
       "      <th>datatype</th>\n",
       "      <th>station</th>\n",
       "      <th>attributes</th>\n",
       "      <th>value</th>\n",
       "    </tr>\n",
       "  </thead>\n",
       "  <tbody>\n",
       "    <tr>\n",
       "      <th>0</th>\n",
       "      <td>2018-10-01T00:00:00</td>\n",
       "      <td>TMAX</td>\n",
       "      <td>GHCND:USW00094728</td>\n",
       "      <td>,,W,2400</td>\n",
       "      <td>24.4</td>\n",
       "    </tr>\n",
       "    <tr>\n",
       "      <th>1</th>\n",
       "      <td>2018-10-01T00:00:00</td>\n",
       "      <td>TMIN</td>\n",
       "      <td>GHCND:USW00094728</td>\n",
       "      <td>,,W,2400</td>\n",
       "      <td>17.2</td>\n",
       "    </tr>\n",
       "    <tr>\n",
       "      <th>2</th>\n",
       "      <td>2018-10-02T00:00:00</td>\n",
       "      <td>TMAX</td>\n",
       "      <td>GHCND:USW00094728</td>\n",
       "      <td>,,W,2400</td>\n",
       "      <td>25.0</td>\n",
       "    </tr>\n",
       "    <tr>\n",
       "      <th>3</th>\n",
       "      <td>2018-10-02T00:00:00</td>\n",
       "      <td>TMIN</td>\n",
       "      <td>GHCND:USW00094728</td>\n",
       "      <td>,,W,2400</td>\n",
       "      <td>18.3</td>\n",
       "    </tr>\n",
       "    <tr>\n",
       "      <th>4</th>\n",
       "      <td>2018-10-03T00:00:00</td>\n",
       "      <td>TMAX</td>\n",
       "      <td>GHCND:USW00094728</td>\n",
       "      <td>,,W,2400</td>\n",
       "      <td>23.3</td>\n",
       "    </tr>\n",
       "  </tbody>\n",
       "</table>\n",
       "</div>"
      ],
      "text/plain": [
       "                  date datatype            station attributes  value\n",
       "0  2018-10-01T00:00:00     TMAX  GHCND:USW00094728   ,,W,2400   24.4\n",
       "1  2018-10-01T00:00:00     TMIN  GHCND:USW00094728   ,,W,2400   17.2\n",
       "2  2018-10-02T00:00:00     TMAX  GHCND:USW00094728   ,,W,2400   25.0\n",
       "3  2018-10-02T00:00:00     TMIN  GHCND:USW00094728   ,,W,2400   18.3\n",
       "4  2018-10-03T00:00:00     TMAX  GHCND:USW00094728   ,,W,2400   23.3"
      ]
     },
     "execution_count": 24,
     "metadata": {},
     "output_type": "execute_result"
    }
   ],
   "source": [
    "import pandas as pd\n",
    "df = pd.DataFrame(response.json()['results'])\n",
    "df.head()"
   ]
  },
  {
   "cell_type": "markdown",
   "id": "0d76c385-c7cc-4647-b972-918467e66ef4",
   "metadata": {},
   "source": [
    "We didn't get TOBS because the station doesn't measure that:"
   ]
  },
  {
   "cell_type": "code",
   "execution_count": 25,
   "id": "1739ee7b-c98d-459c-a29a-6ed32ffb0fae",
   "metadata": {},
   "outputs": [
    {
     "data": {
      "text/plain": [
       "array(['TMAX', 'TMIN'], dtype=object)"
      ]
     },
     "execution_count": 25,
     "metadata": {},
     "output_type": "execute_result"
    }
   ],
   "source": [
    "df.datatype.unique()"
   ]
  },
  {
   "cell_type": "markdown",
   "id": "dbade744-0d7a-4462-a75e-408633abd7da",
   "metadata": {},
   "source": [
    "Despite showing up in the data as measuring it... Real-world data is dirty!"
   ]
  },
  {
   "cell_type": "code",
   "execution_count": 28,
   "id": "0cb589f2-bb06-4077-a09c-719f023a3dcd",
   "metadata": {},
   "outputs": [
    {
     "name": "stdout",
     "output_type": "stream",
     "text": [
      "Found!\n"
     ]
    }
   ],
   "source": [
    "if get_item(\n",
    "    'NY City Central Park', {'locationid' : nyc['id'], 'datatypeid': 'TOBS'}, 'stations'\n",
    "):\n",
    "    print('Found!')"
   ]
  },
  {
   "cell_type": "markdown",
   "id": "af3e05f2-5678-49cf-b6e3-00c144adfb62",
   "metadata": {},
   "source": [
    "### Using a different station"
   ]
  },
  {
   "cell_type": "markdown",
   "id": "e0f2f1c4-9bb7-4f05-8d3d-71d90ae75131",
   "metadata": {},
   "source": [
    "Let's use LaGuardia airport instead. It contains TAVG (average daily temperature):"
   ]
  },
  {
   "cell_type": "code",
   "execution_count": 29,
   "id": "5d38a70b-2aa6-49df-b383-c63339992638",
   "metadata": {},
   "outputs": [
    {
     "data": {
      "text/plain": [
       "{'elevation': 3,\n",
       " 'mindate': '1939-10-07',\n",
       " 'maxdate': '2024-10-19',\n",
       " 'latitude': 40.77945,\n",
       " 'name': 'LAGUARDIA AIRPORT, NY US',\n",
       " 'datacoverage': 1,\n",
       " 'id': 'GHCND:USW00014732',\n",
       " 'elevationUnit': 'METERS',\n",
       " 'longitude': -73.88027}"
      ]
     },
     "execution_count": 29,
     "metadata": {},
     "output_type": "execute_result"
    }
   ],
   "source": [
    "laguardia = get_item(\n",
    "    'LaGuardia', {'locationid' : nyc['id']}, 'stations'\n",
    ")\n",
    "laguardia"
   ]
  },
  {
   "cell_type": "markdown",
   "id": "5dab6b17-c7a1-4cbc-b4e3-cc4faa5d61f2",
   "metadata": {},
   "source": [
    "We make our request using the LaGuardia airport station this time and ask for TAVG instead of TOBS ."
   ]
  },
  {
   "cell_type": "code",
   "execution_count": 31,
   "id": "8f2e228d-ba5f-47c9-a9b1-75027d267eec",
   "metadata": {},
   "outputs": [
    {
     "data": {
      "text/plain": [
       "200"
      ]
     },
     "execution_count": 31,
     "metadata": {},
     "output_type": "execute_result"
    }
   ],
   "source": [
    "# get NYC daily summaries data\n",
    "response = make_request(\n",
    "    'data',\n",
    "    {\n",
    "        'datasetid' : 'GHCND',\n",
    "        'stationid' : laguardia['id'],\n",
    "        'locationid' : nyc['id'],\n",
    "        'startdate' : '2018-10-01',\n",
    "        'enddate' : '2018-10-31',\n",
    "        'datatypeid' : ['TMIN', 'TMAX', 'TAVG'], # temperature at time of observation, min, and max\n",
    "        'units' : 'metric',\n",
    "        'limit' : 1000\n",
    "    }\n",
    ")\n",
    "response.status_code"
   ]
  },
  {
   "cell_type": "markdown",
   "id": "387f23f6-3da3-453a-9e7a-761c136dcb9e",
   "metadata": {},
   "source": [
    "The request was successful, so let's make a dataframe:"
   ]
  },
  {
   "cell_type": "code",
   "execution_count": 32,
   "id": "d1a82cb5-e096-4b3b-af72-19b01e394e15",
   "metadata": {},
   "outputs": [
    {
     "data": {
      "text/html": [
       "<div>\n",
       "<style scoped>\n",
       "    .dataframe tbody tr th:only-of-type {\n",
       "        vertical-align: middle;\n",
       "    }\n",
       "\n",
       "    .dataframe tbody tr th {\n",
       "        vertical-align: top;\n",
       "    }\n",
       "\n",
       "    .dataframe thead th {\n",
       "        text-align: right;\n",
       "    }\n",
       "</style>\n",
       "<table border=\"1\" class=\"dataframe\">\n",
       "  <thead>\n",
       "    <tr style=\"text-align: right;\">\n",
       "      <th></th>\n",
       "      <th>date</th>\n",
       "      <th>datatype</th>\n",
       "      <th>station</th>\n",
       "      <th>attributes</th>\n",
       "      <th>value</th>\n",
       "    </tr>\n",
       "  </thead>\n",
       "  <tbody>\n",
       "    <tr>\n",
       "      <th>0</th>\n",
       "      <td>2018-10-01T00:00:00</td>\n",
       "      <td>TAVG</td>\n",
       "      <td>GHCND:USW00014732</td>\n",
       "      <td>H,,S,</td>\n",
       "      <td>21.2</td>\n",
       "    </tr>\n",
       "    <tr>\n",
       "      <th>1</th>\n",
       "      <td>2018-10-01T00:00:00</td>\n",
       "      <td>TMAX</td>\n",
       "      <td>GHCND:USW00014732</td>\n",
       "      <td>,,W,2400</td>\n",
       "      <td>25.6</td>\n",
       "    </tr>\n",
       "    <tr>\n",
       "      <th>2</th>\n",
       "      <td>2018-10-01T00:00:00</td>\n",
       "      <td>TMIN</td>\n",
       "      <td>GHCND:USW00014732</td>\n",
       "      <td>,,W,2400</td>\n",
       "      <td>18.3</td>\n",
       "    </tr>\n",
       "    <tr>\n",
       "      <th>3</th>\n",
       "      <td>2018-10-02T00:00:00</td>\n",
       "      <td>TAVG</td>\n",
       "      <td>GHCND:USW00014732</td>\n",
       "      <td>H,,S,</td>\n",
       "      <td>22.7</td>\n",
       "    </tr>\n",
       "    <tr>\n",
       "      <th>4</th>\n",
       "      <td>2018-10-02T00:00:00</td>\n",
       "      <td>TMAX</td>\n",
       "      <td>GHCND:USW00014732</td>\n",
       "      <td>,,W,2400</td>\n",
       "      <td>26.1</td>\n",
       "    </tr>\n",
       "  </tbody>\n",
       "</table>\n",
       "</div>"
      ],
      "text/plain": [
       "                  date datatype            station attributes  value\n",
       "0  2018-10-01T00:00:00     TAVG  GHCND:USW00014732      H,,S,   21.2\n",
       "1  2018-10-01T00:00:00     TMAX  GHCND:USW00014732   ,,W,2400   25.6\n",
       "2  2018-10-01T00:00:00     TMIN  GHCND:USW00014732   ,,W,2400   18.3\n",
       "3  2018-10-02T00:00:00     TAVG  GHCND:USW00014732      H,,S,   22.7\n",
       "4  2018-10-02T00:00:00     TMAX  GHCND:USW00014732   ,,W,2400   26.1"
      ]
     },
     "execution_count": 32,
     "metadata": {},
     "output_type": "execute_result"
    }
   ],
   "source": [
    "df = pd.DataFrame(response.json()['results'])\n",
    "df.head()"
   ]
  },
  {
   "cell_type": "markdown",
   "id": "c228d580-b84a-40ae-ba95-060da84b8053",
   "metadata": {},
   "source": [
    "We should check we got what we wanted: 31 entries for TAVG, TMAX, and TMIN (1 per day):"
   ]
  },
  {
   "cell_type": "code",
   "execution_count": 33,
   "id": "ef7f646f-552e-4f5d-b474-6db353e4464a",
   "metadata": {},
   "outputs": [
    {
     "data": {
      "text/plain": [
       "datatype\n",
       "TAVG    31\n",
       "TMAX    31\n",
       "TMIN    31\n",
       "Name: count, dtype: int64"
      ]
     },
     "execution_count": 33,
     "metadata": {},
     "output_type": "execute_result"
    }
   ],
   "source": [
    "df.datatype.value_counts()"
   ]
  },
  {
   "cell_type": "code",
   "execution_count": 35,
   "id": "001c6080-0a29-49b4-aa2c-91c3d6bd0e19",
   "metadata": {},
   "outputs": [],
   "source": [
    "df.to_csv('data/nyc_temperatures.csv', index=False)"
   ]
  },
  {
   "cell_type": "code",
   "execution_count": null,
   "id": "08d19d18-1eeb-42f2-ab35-188c25603152",
   "metadata": {},
   "outputs": [],
   "source": []
  }
 ],
 "metadata": {
  "kernelspec": {
   "display_name": "Python 3 (ipykernel)",
   "language": "python",
   "name": "python3"
  },
  "language_info": {
   "codemirror_mode": {
    "name": "ipython",
    "version": 3
   },
   "file_extension": ".py",
   "mimetype": "text/x-python",
   "name": "python",
   "nbconvert_exporter": "python",
   "pygments_lexer": "ipython3",
   "version": "3.12.1"
  }
 },
 "nbformat": 4,
 "nbformat_minor": 5
}
