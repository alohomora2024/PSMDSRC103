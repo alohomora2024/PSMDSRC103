{
 "cells": [
  {
   "cell_type": "markdown",
   "id": "7c5765d6-70ee-4f77-83d6-975cf54b94d8",
   "metadata": {},
   "source": [
    "### Dataset Wrangling and EDA"
   ]
  },
  {
   "cell_type": "markdown",
   "id": "48ac74b0-9b29-49d1-b1b9-3002dd7e58e2",
   "metadata": {},
   "source": [
    "Data cleaning on the NYC dataset. <br>\n",
    "Perform basic statistic analysis on the NYC dataset."
   ]
  },
  {
   "cell_type": "markdown",
   "id": "4c60835d-3495-4433-9c72-4e165e1ad249",
   "metadata": {},
   "source": [
    "### Load the data"
   ]
  },
  {
   "cell_type": "code",
   "execution_count": 3,
   "id": "9a203e92-5271-470d-bacd-652f644b2557",
   "metadata": {},
   "outputs": [
    {
     "name": "stdout",
     "output_type": "stream",
     "text": [
      "                   date datatype            station attributes  value\n",
      "0   2018-10-01T00:00:00     TAVG  GHCND:USW00014732      H,,S,   21.2\n",
      "1   2018-10-01T00:00:00     TMAX  GHCND:USW00014732   ,,W,2400   25.6\n",
      "2   2018-10-01T00:00:00     TMIN  GHCND:USW00014732   ,,W,2400   18.3\n",
      "3   2018-10-02T00:00:00     TAVG  GHCND:USW00014732      H,,S,   22.7\n",
      "4   2018-10-02T00:00:00     TMAX  GHCND:USW00014732   ,,W,2400   26.1\n",
      "..                  ...      ...                ...        ...    ...\n",
      "88  2018-10-30T00:00:00     TMAX  GHCND:USW00014732   ,,W,2400   13.9\n",
      "89  2018-10-30T00:00:00     TMIN  GHCND:USW00014732   ,,W,2400    7.2\n",
      "90  2018-10-31T00:00:00     TAVG  GHCND:USW00014732      H,,S,   12.6\n",
      "91  2018-10-31T00:00:00     TMAX  GHCND:USW00014732   ,,W,2400   17.8\n",
      "92  2018-10-31T00:00:00     TMIN  GHCND:USW00014732   ,,W,2400    7.2\n",
      "\n",
      "[93 rows x 5 columns]\n"
     ]
    }
   ],
   "source": [
    "import pandas as pd\n",
    "\n",
    "file_path = 'data/nyc_temperatures.csv'\n",
    "# Load a CSV file into a DataFrame\n",
    "df = pd.read_csv(file_path)\n",
    "print(df)"
   ]
  },
  {
   "cell_type": "markdown",
   "id": "4d3a3230-0e8a-418a-8647-0063efdf760e",
   "metadata": {},
   "source": [
    "### Explore the dataset"
   ]
  },
  {
   "cell_type": "code",
   "execution_count": 4,
   "id": "c3f9612b-4f59-4ca1-8c74-1b7924da313f",
   "metadata": {},
   "outputs": [
    {
     "name": "stdout",
     "output_type": "stream",
     "text": [
      "<class 'pandas.core.frame.DataFrame'>\n",
      "RangeIndex: 93 entries, 0 to 92\n",
      "Data columns (total 5 columns):\n",
      " #   Column      Non-Null Count  Dtype  \n",
      "---  ------      --------------  -----  \n",
      " 0   date        93 non-null     object \n",
      " 1   datatype    93 non-null     object \n",
      " 2   station     93 non-null     object \n",
      " 3   attributes  93 non-null     object \n",
      " 4   value       93 non-null     float64\n",
      "dtypes: float64(1), object(4)\n",
      "memory usage: 3.8+ KB\n",
      "None\n",
      "           value\n",
      "count  93.000000\n",
      "mean   15.408602\n",
      "std     6.133703\n",
      "min     5.600000\n",
      "25%    10.200000\n",
      "50%    14.400000\n",
      "75%    21.100000\n",
      "max    27.800000\n"
     ]
    }
   ],
   "source": [
    "print(df.info())\n",
    "print(df.describe())"
   ]
  },
  {
   "cell_type": "markdown",
   "id": "da4f219b-3b66-4365-836e-133fb98a494c",
   "metadata": {},
   "source": [
    "### Rename Columns"
   ]
  },
  {
   "cell_type": "code",
   "execution_count": 9,
   "id": "9f80b8a8-0512-4cc3-a80d-7a479c843e36",
   "metadata": {},
   "outputs": [
    {
     "data": {
      "text/plain": [
       "Index(['date', 'datatype', 'station', 'flags', 'temp_C'], dtype='object')"
      ]
     },
     "execution_count": 9,
     "metadata": {},
     "output_type": "execute_result"
    }
   ],
   "source": [
    "# Check column names\n",
    "df.columns"
   ]
  },
  {
   "cell_type": "code",
   "execution_count": 10,
   "id": "5d450115-cbfd-4d27-9e1b-cf9a10557934",
   "metadata": {},
   "outputs": [],
   "source": [
    "# Change value to temp_C\n",
    "df.rename(\n",
    "columns={\n",
    "'value' : 'temp_C',\n",
    "'attributes' : 'flags'\n",
    "}, inplace=True\n",
    ")"
   ]
  },
  {
   "cell_type": "code",
   "execution_count": 11,
   "id": "d8b9aeb7-a762-4eea-b1ba-6fce53ea07c4",
   "metadata": {},
   "outputs": [
    {
     "data": {
      "text/plain": [
       "Index(['date', 'datatype', 'station', 'flags', 'temp_C'], dtype='object')"
      ]
     },
     "execution_count": 11,
     "metadata": {},
     "output_type": "execute_result"
    }
   ],
   "source": [
    "# Check column names\n",
    "df.columns"
   ]
  },
  {
   "cell_type": "markdown",
   "id": "5025c305-278a-4efe-84c1-b943dfebca95",
   "metadata": {},
   "source": [
    "We can also perform string operations on the columns with .rename"
   ]
  },
  {
   "cell_type": "code",
   "execution_count": 18,
   "id": "afbf0e56-afb3-4555-ab95-9e24f3684642",
   "metadata": {},
   "outputs": [
    {
     "data": {
      "text/html": [
       "<div>\n",
       "<style scoped>\n",
       "    .dataframe tbody tr th:only-of-type {\n",
       "        vertical-align: middle;\n",
       "    }\n",
       "\n",
       "    .dataframe tbody tr th {\n",
       "        vertical-align: top;\n",
       "    }\n",
       "\n",
       "    .dataframe thead th {\n",
       "        text-align: right;\n",
       "    }\n",
       "</style>\n",
       "<table border=\"1\" class=\"dataframe\">\n",
       "  <thead>\n",
       "    <tr style=\"text-align: right;\">\n",
       "      <th></th>\n",
       "      <th>DATE</th>\n",
       "      <th>DATATYPE</th>\n",
       "      <th>STATION</th>\n",
       "      <th>FLAGS</th>\n",
       "      <th>TEMP_C</th>\n",
       "    </tr>\n",
       "  </thead>\n",
       "  <tbody>\n",
       "    <tr>\n",
       "      <th>0</th>\n",
       "      <td>2018-10-01T00:00:00</td>\n",
       "      <td>TAVG</td>\n",
       "      <td>GHCND:USW00014732</td>\n",
       "      <td>H,,S,</td>\n",
       "      <td>21.2</td>\n",
       "    </tr>\n",
       "    <tr>\n",
       "      <th>1</th>\n",
       "      <td>2018-10-01T00:00:00</td>\n",
       "      <td>TMAX</td>\n",
       "      <td>GHCND:USW00014732</td>\n",
       "      <td>,,W,2400</td>\n",
       "      <td>25.6</td>\n",
       "    </tr>\n",
       "    <tr>\n",
       "      <th>2</th>\n",
       "      <td>2018-10-01T00:00:00</td>\n",
       "      <td>TMIN</td>\n",
       "      <td>GHCND:USW00014732</td>\n",
       "      <td>,,W,2400</td>\n",
       "      <td>18.3</td>\n",
       "    </tr>\n",
       "    <tr>\n",
       "      <th>3</th>\n",
       "      <td>2018-10-02T00:00:00</td>\n",
       "      <td>TAVG</td>\n",
       "      <td>GHCND:USW00014732</td>\n",
       "      <td>H,,S,</td>\n",
       "      <td>22.7</td>\n",
       "    </tr>\n",
       "    <tr>\n",
       "      <th>4</th>\n",
       "      <td>2018-10-02T00:00:00</td>\n",
       "      <td>TMAX</td>\n",
       "      <td>GHCND:USW00014732</td>\n",
       "      <td>,,W,2400</td>\n",
       "      <td>26.1</td>\n",
       "    </tr>\n",
       "    <tr>\n",
       "      <th>...</th>\n",
       "      <td>...</td>\n",
       "      <td>...</td>\n",
       "      <td>...</td>\n",
       "      <td>...</td>\n",
       "      <td>...</td>\n",
       "    </tr>\n",
       "    <tr>\n",
       "      <th>88</th>\n",
       "      <td>2018-10-30T00:00:00</td>\n",
       "      <td>TMAX</td>\n",
       "      <td>GHCND:USW00014732</td>\n",
       "      <td>,,W,2400</td>\n",
       "      <td>13.9</td>\n",
       "    </tr>\n",
       "    <tr>\n",
       "      <th>89</th>\n",
       "      <td>2018-10-30T00:00:00</td>\n",
       "      <td>TMIN</td>\n",
       "      <td>GHCND:USW00014732</td>\n",
       "      <td>,,W,2400</td>\n",
       "      <td>7.2</td>\n",
       "    </tr>\n",
       "    <tr>\n",
       "      <th>90</th>\n",
       "      <td>2018-10-31T00:00:00</td>\n",
       "      <td>TAVG</td>\n",
       "      <td>GHCND:USW00014732</td>\n",
       "      <td>H,,S,</td>\n",
       "      <td>12.6</td>\n",
       "    </tr>\n",
       "    <tr>\n",
       "      <th>91</th>\n",
       "      <td>2018-10-31T00:00:00</td>\n",
       "      <td>TMAX</td>\n",
       "      <td>GHCND:USW00014732</td>\n",
       "      <td>,,W,2400</td>\n",
       "      <td>17.8</td>\n",
       "    </tr>\n",
       "    <tr>\n",
       "      <th>92</th>\n",
       "      <td>2018-10-31T00:00:00</td>\n",
       "      <td>TMIN</td>\n",
       "      <td>GHCND:USW00014732</td>\n",
       "      <td>,,W,2400</td>\n",
       "      <td>7.2</td>\n",
       "    </tr>\n",
       "  </tbody>\n",
       "</table>\n",
       "<p>93 rows × 5 columns</p>\n",
       "</div>"
      ],
      "text/plain": [
       "                   DATE DATATYPE            STATION     FLAGS  TEMP_C\n",
       "0   2018-10-01T00:00:00     TAVG  GHCND:USW00014732     H,,S,    21.2\n",
       "1   2018-10-01T00:00:00     TMAX  GHCND:USW00014732  ,,W,2400    25.6\n",
       "2   2018-10-01T00:00:00     TMIN  GHCND:USW00014732  ,,W,2400    18.3\n",
       "3   2018-10-02T00:00:00     TAVG  GHCND:USW00014732     H,,S,    22.7\n",
       "4   2018-10-02T00:00:00     TMAX  GHCND:USW00014732  ,,W,2400    26.1\n",
       "..                  ...      ...                ...       ...     ...\n",
       "88  2018-10-30T00:00:00     TMAX  GHCND:USW00014732  ,,W,2400    13.9\n",
       "89  2018-10-30T00:00:00     TMIN  GHCND:USW00014732  ,,W,2400     7.2\n",
       "90  2018-10-31T00:00:00     TAVG  GHCND:USW00014732     H,,S,    12.6\n",
       "91  2018-10-31T00:00:00     TMAX  GHCND:USW00014732  ,,W,2400    17.8\n",
       "92  2018-10-31T00:00:00     TMIN  GHCND:USW00014732  ,,W,2400     7.2\n",
       "\n",
       "[93 rows x 5 columns]"
      ]
     },
     "metadata": {},
     "output_type": "display_data"
    }
   ],
   "source": [
    "df.rename(str.upper, axis='columns', inplace=True)\n",
    "display(df)"
   ]
  },
  {
   "cell_type": "markdown",
   "id": "1c0f0c37-4591-4eab-9503-10afbf14c000",
   "metadata": {},
   "source": [
    "### Type Conversion"
   ]
  },
  {
   "cell_type": "code",
   "execution_count": null,
   "id": "4e55a849-0c4b-4284-9dba-3c7f27e0ca19",
   "metadata": {},
   "outputs": [],
   "source": []
  }
 ],
 "metadata": {
  "kernelspec": {
   "display_name": "Python 3 (ipykernel)",
   "language": "python",
   "name": "python3"
  },
  "language_info": {
   "codemirror_mode": {
    "name": "ipython",
    "version": 3
   },
   "file_extension": ".py",
   "mimetype": "text/x-python",
   "name": "python",
   "nbconvert_exporter": "python",
   "pygments_lexer": "ipython3",
   "version": "3.12.1"
  }
 },
 "nbformat": 4,
 "nbformat_minor": 5
}
