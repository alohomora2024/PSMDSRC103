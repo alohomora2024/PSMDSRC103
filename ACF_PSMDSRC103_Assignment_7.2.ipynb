{
 "cells": [
  {
   "cell_type": "markdown",
   "id": "7c5765d6-70ee-4f77-83d6-975cf54b94d8",
   "metadata": {},
   "source": [
    "### Dataset Wrangling and EDA"
   ]
  },
  {
   "cell_type": "markdown",
   "id": "48ac74b0-9b29-49d1-b1b9-3002dd7e58e2",
   "metadata": {},
   "source": [
    "Data cleaning on the NYC dataset. <br>\n",
    "Perform basic statistic analysis on the NYC dataset."
   ]
  },
  {
   "cell_type": "markdown",
   "id": "4c60835d-3495-4433-9c72-4e165e1ad249",
   "metadata": {},
   "source": [
    "### Load the data"
   ]
  },
  {
   "cell_type": "code",
   "execution_count": 40,
   "id": "9a203e92-5271-470d-bacd-652f644b2557",
   "metadata": {},
   "outputs": [
    {
     "name": "stdout",
     "output_type": "stream",
     "text": [
      "                   date datatype            station attributes  value\n",
      "0   2018-10-01T00:00:00     TAVG  GHCND:USW00014732      H,,S,   21.2\n",
      "1   2018-10-01T00:00:00     TMAX  GHCND:USW00014732   ,,W,2400   25.6\n",
      "2   2018-10-01T00:00:00     TMIN  GHCND:USW00014732   ,,W,2400   18.3\n",
      "3   2018-10-02T00:00:00     TAVG  GHCND:USW00014732      H,,S,   22.7\n",
      "4   2018-10-02T00:00:00     TMAX  GHCND:USW00014732   ,,W,2400   26.1\n",
      "..                  ...      ...                ...        ...    ...\n",
      "88  2018-10-30T00:00:00     TMAX  GHCND:USW00014732   ,,W,2400   13.9\n",
      "89  2018-10-30T00:00:00     TMIN  GHCND:USW00014732   ,,W,2400    7.2\n",
      "90  2018-10-31T00:00:00     TAVG  GHCND:USW00014732      H,,S,   12.6\n",
      "91  2018-10-31T00:00:00     TMAX  GHCND:USW00014732   ,,W,2400   17.8\n",
      "92  2018-10-31T00:00:00     TMIN  GHCND:USW00014732   ,,W,2400    7.2\n",
      "\n",
      "[93 rows x 5 columns]\n"
     ]
    }
   ],
   "source": [
    "import pandas as pd\n",
    "\n",
    "file_path = 'data/nyc_temperatures.csv'\n",
    "# Load a CSV file into a DataFrame\n",
    "df = pd.read_csv(file_path)\n",
    "print(df)"
   ]
  },
  {
   "cell_type": "markdown",
   "id": "4d3a3230-0e8a-418a-8647-0063efdf760e",
   "metadata": {},
   "source": [
    "### Explore the dataset"
   ]
  },
  {
   "cell_type": "code",
   "execution_count": 41,
   "id": "c3f9612b-4f59-4ca1-8c74-1b7924da313f",
   "metadata": {},
   "outputs": [
    {
     "name": "stdout",
     "output_type": "stream",
     "text": [
      "<class 'pandas.core.frame.DataFrame'>\n",
      "RangeIndex: 93 entries, 0 to 92\n",
      "Data columns (total 5 columns):\n",
      " #   Column      Non-Null Count  Dtype  \n",
      "---  ------      --------------  -----  \n",
      " 0   date        93 non-null     object \n",
      " 1   datatype    93 non-null     object \n",
      " 2   station     93 non-null     object \n",
      " 3   attributes  93 non-null     object \n",
      " 4   value       93 non-null     float64\n",
      "dtypes: float64(1), object(4)\n",
      "memory usage: 3.8+ KB\n",
      "None\n",
      "           value\n",
      "count  93.000000\n",
      "mean   15.408602\n",
      "std     6.133703\n",
      "min     5.600000\n",
      "25%    10.200000\n",
      "50%    14.400000\n",
      "75%    21.100000\n",
      "max    27.800000\n"
     ]
    }
   ],
   "source": [
    "print(df.info())\n",
    "print(df.describe())"
   ]
  },
  {
   "cell_type": "markdown",
   "id": "da4f219b-3b66-4365-836e-133fb98a494c",
   "metadata": {},
   "source": [
    "### Rename Columns"
   ]
  },
  {
   "cell_type": "code",
   "execution_count": 42,
   "id": "9f80b8a8-0512-4cc3-a80d-7a479c843e36",
   "metadata": {},
   "outputs": [
    {
     "data": {
      "text/plain": [
       "Index(['date', 'datatype', 'station', 'attributes', 'value'], dtype='object')"
      ]
     },
     "execution_count": 42,
     "metadata": {},
     "output_type": "execute_result"
    }
   ],
   "source": [
    "# Check column names\n",
    "df.columns"
   ]
  },
  {
   "cell_type": "code",
   "execution_count": 43,
   "id": "5d450115-cbfd-4d27-9e1b-cf9a10557934",
   "metadata": {},
   "outputs": [],
   "source": [
    "# Change value to temp_C\n",
    "df.rename(\n",
    "columns={\n",
    "'value' : 'temp_C',\n",
    "'attributes' : 'flags'\n",
    "}, inplace=True\n",
    ")"
   ]
  },
  {
   "cell_type": "code",
   "execution_count": 44,
   "id": "d8b9aeb7-a762-4eea-b1ba-6fce53ea07c4",
   "metadata": {},
   "outputs": [
    {
     "data": {
      "text/plain": [
       "Index(['date', 'datatype', 'station', 'flags', 'temp_C'], dtype='object')"
      ]
     },
     "execution_count": 44,
     "metadata": {},
     "output_type": "execute_result"
    }
   ],
   "source": [
    "# Check column names\n",
    "df.columns"
   ]
  },
  {
   "cell_type": "markdown",
   "id": "5025c305-278a-4efe-84c1-b943dfebca95",
   "metadata": {},
   "source": [
    "Perform string operations on the columns with .rename"
   ]
  },
  {
   "cell_type": "code",
   "execution_count": 45,
   "id": "afbf0e56-afb3-4555-ab95-9e24f3684642",
   "metadata": {},
   "outputs": [
    {
     "data": {
      "text/html": [
       "<div>\n",
       "<style scoped>\n",
       "    .dataframe tbody tr th:only-of-type {\n",
       "        vertical-align: middle;\n",
       "    }\n",
       "\n",
       "    .dataframe tbody tr th {\n",
       "        vertical-align: top;\n",
       "    }\n",
       "\n",
       "    .dataframe thead th {\n",
       "        text-align: right;\n",
       "    }\n",
       "</style>\n",
       "<table border=\"1\" class=\"dataframe\">\n",
       "  <thead>\n",
       "    <tr style=\"text-align: right;\">\n",
       "      <th></th>\n",
       "      <th>DATE</th>\n",
       "      <th>DATATYPE</th>\n",
       "      <th>STATION</th>\n",
       "      <th>FLAGS</th>\n",
       "      <th>TEMP_C</th>\n",
       "    </tr>\n",
       "  </thead>\n",
       "  <tbody>\n",
       "    <tr>\n",
       "      <th>0</th>\n",
       "      <td>2018-10-01T00:00:00</td>\n",
       "      <td>TAVG</td>\n",
       "      <td>GHCND:USW00014732</td>\n",
       "      <td>H,,S,</td>\n",
       "      <td>21.2</td>\n",
       "    </tr>\n",
       "    <tr>\n",
       "      <th>1</th>\n",
       "      <td>2018-10-01T00:00:00</td>\n",
       "      <td>TMAX</td>\n",
       "      <td>GHCND:USW00014732</td>\n",
       "      <td>,,W,2400</td>\n",
       "      <td>25.6</td>\n",
       "    </tr>\n",
       "    <tr>\n",
       "      <th>2</th>\n",
       "      <td>2018-10-01T00:00:00</td>\n",
       "      <td>TMIN</td>\n",
       "      <td>GHCND:USW00014732</td>\n",
       "      <td>,,W,2400</td>\n",
       "      <td>18.3</td>\n",
       "    </tr>\n",
       "    <tr>\n",
       "      <th>3</th>\n",
       "      <td>2018-10-02T00:00:00</td>\n",
       "      <td>TAVG</td>\n",
       "      <td>GHCND:USW00014732</td>\n",
       "      <td>H,,S,</td>\n",
       "      <td>22.7</td>\n",
       "    </tr>\n",
       "    <tr>\n",
       "      <th>4</th>\n",
       "      <td>2018-10-02T00:00:00</td>\n",
       "      <td>TMAX</td>\n",
       "      <td>GHCND:USW00014732</td>\n",
       "      <td>,,W,2400</td>\n",
       "      <td>26.1</td>\n",
       "    </tr>\n",
       "    <tr>\n",
       "      <th>...</th>\n",
       "      <td>...</td>\n",
       "      <td>...</td>\n",
       "      <td>...</td>\n",
       "      <td>...</td>\n",
       "      <td>...</td>\n",
       "    </tr>\n",
       "    <tr>\n",
       "      <th>88</th>\n",
       "      <td>2018-10-30T00:00:00</td>\n",
       "      <td>TMAX</td>\n",
       "      <td>GHCND:USW00014732</td>\n",
       "      <td>,,W,2400</td>\n",
       "      <td>13.9</td>\n",
       "    </tr>\n",
       "    <tr>\n",
       "      <th>89</th>\n",
       "      <td>2018-10-30T00:00:00</td>\n",
       "      <td>TMIN</td>\n",
       "      <td>GHCND:USW00014732</td>\n",
       "      <td>,,W,2400</td>\n",
       "      <td>7.2</td>\n",
       "    </tr>\n",
       "    <tr>\n",
       "      <th>90</th>\n",
       "      <td>2018-10-31T00:00:00</td>\n",
       "      <td>TAVG</td>\n",
       "      <td>GHCND:USW00014732</td>\n",
       "      <td>H,,S,</td>\n",
       "      <td>12.6</td>\n",
       "    </tr>\n",
       "    <tr>\n",
       "      <th>91</th>\n",
       "      <td>2018-10-31T00:00:00</td>\n",
       "      <td>TMAX</td>\n",
       "      <td>GHCND:USW00014732</td>\n",
       "      <td>,,W,2400</td>\n",
       "      <td>17.8</td>\n",
       "    </tr>\n",
       "    <tr>\n",
       "      <th>92</th>\n",
       "      <td>2018-10-31T00:00:00</td>\n",
       "      <td>TMIN</td>\n",
       "      <td>GHCND:USW00014732</td>\n",
       "      <td>,,W,2400</td>\n",
       "      <td>7.2</td>\n",
       "    </tr>\n",
       "  </tbody>\n",
       "</table>\n",
       "<p>93 rows × 5 columns</p>\n",
       "</div>"
      ],
      "text/plain": [
       "                   DATE DATATYPE            STATION     FLAGS  TEMP_C\n",
       "0   2018-10-01T00:00:00     TAVG  GHCND:USW00014732     H,,S,    21.2\n",
       "1   2018-10-01T00:00:00     TMAX  GHCND:USW00014732  ,,W,2400    25.6\n",
       "2   2018-10-01T00:00:00     TMIN  GHCND:USW00014732  ,,W,2400    18.3\n",
       "3   2018-10-02T00:00:00     TAVG  GHCND:USW00014732     H,,S,    22.7\n",
       "4   2018-10-02T00:00:00     TMAX  GHCND:USW00014732  ,,W,2400    26.1\n",
       "..                  ...      ...                ...       ...     ...\n",
       "88  2018-10-30T00:00:00     TMAX  GHCND:USW00014732  ,,W,2400    13.9\n",
       "89  2018-10-30T00:00:00     TMIN  GHCND:USW00014732  ,,W,2400     7.2\n",
       "90  2018-10-31T00:00:00     TAVG  GHCND:USW00014732     H,,S,    12.6\n",
       "91  2018-10-31T00:00:00     TMAX  GHCND:USW00014732  ,,W,2400    17.8\n",
       "92  2018-10-31T00:00:00     TMIN  GHCND:USW00014732  ,,W,2400     7.2\n",
       "\n",
       "[93 rows x 5 columns]"
      ]
     },
     "metadata": {},
     "output_type": "display_data"
    }
   ],
   "source": [
    "df.rename(str.upper, axis='columns', inplace=True)\n",
    "display(df)"
   ]
  },
  {
   "cell_type": "markdown",
   "id": "1c0f0c37-4591-4eab-9503-10afbf14c000",
   "metadata": {},
   "source": [
    "### Type Conversion"
   ]
  },
  {
   "cell_type": "markdown",
   "id": "ac4fee5c-7287-4218-bc6c-f88fd0af393a",
   "metadata": {},
   "source": [
    "The date column is not currently being stored as a datetime:"
   ]
  },
  {
   "cell_type": "code",
   "execution_count": 46,
   "id": "bfbbc210-6c50-420a-ae49-c3ce8d71ec84",
   "metadata": {},
   "outputs": [
    {
     "data": {
      "text/plain": [
       "DATE         object\n",
       "DATATYPE     object\n",
       "STATION      object\n",
       "FLAGS        object\n",
       "TEMP_C      float64\n",
       "dtype: object"
      ]
     },
     "execution_count": 46,
     "metadata": {},
     "output_type": "execute_result"
    }
   ],
   "source": [
    "df.dtypes"
   ]
  },
  {
   "cell_type": "markdown",
   "id": "327cb68a-cafe-4be5-a80c-2f217f900471",
   "metadata": {},
   "source": [
    "Perform the conversion with pd.to_datetime() :"
   ]
  },
  {
   "cell_type": "code",
   "execution_count": 47,
   "id": "76809d70-c8ea-41fe-bdd4-4c74c2e88b3f",
   "metadata": {},
   "outputs": [
    {
     "data": {
      "text/plain": [
       "DATE        datetime64[ns]\n",
       "DATATYPE            object\n",
       "STATION             object\n",
       "FLAGS               object\n",
       "TEMP_C             float64\n",
       "dtype: object"
      ]
     },
     "execution_count": 47,
     "metadata": {},
     "output_type": "execute_result"
    }
   ],
   "source": [
    "df['DATE'] = pd.to_datetime(df['DATE'])\n",
    "df.dtypes"
   ]
  },
  {
   "cell_type": "markdown",
   "id": "a070f487-0e85-4a66-aff4-e539ed447c6f",
   "metadata": {},
   "source": [
    "Now we get useful information when we use describe() on this column:"
   ]
  },
  {
   "cell_type": "code",
   "execution_count": 48,
   "id": "7c74e938-0a6a-430d-969e-85dfda02d820",
   "metadata": {},
   "outputs": [
    {
     "data": {
      "text/plain": [
       "count                     93\n",
       "mean     2018-10-16 00:00:00\n",
       "min      2018-10-01 00:00:00\n",
       "25%      2018-10-08 00:00:00\n",
       "50%      2018-10-16 00:00:00\n",
       "75%      2018-10-24 00:00:00\n",
       "max      2018-10-31 00:00:00\n",
       "Name: DATE, dtype: object"
      ]
     },
     "execution_count": 48,
     "metadata": {},
     "output_type": "execute_result"
    }
   ],
   "source": [
    "df.DATE.describe()"
   ]
  },
  {
   "cell_type": "markdown",
   "id": "119ac8dd-f7d3-40df-a2dd-8626c62439df",
   "metadata": {},
   "source": [
    "Use tz_localize() on a DatetimeIndex / PeriodIndex to convert to a desired timezone:"
   ]
  },
  {
   "cell_type": "code",
   "execution_count": 49,
   "id": "7a9e904e-6dee-4a34-b800-5034e8fed29d",
   "metadata": {},
   "outputs": [
    {
     "data": {
      "text/plain": [
       "DatetimeIndex(['2018-10-25 00:00:00-05:00', '2018-10-26 00:00:00-05:00'], dtype='datetime64[ns, EST]', freq=None)"
      ]
     },
     "execution_count": 49,
     "metadata": {},
     "output_type": "execute_result"
    }
   ],
   "source": [
    "pd.date_range(start='2018-10-25', periods=2, freq='D').tz_localize('EST')"
   ]
  },
  {
   "cell_type": "markdown",
   "id": "791e906a-547b-4d75-9de5-f6f39cea29bc",
   "metadata": {},
   "source": [
    "This also works with a Series / DataFrame with one of the aforementioned as its Index . Let's read in the CSV again for this example and set the date column to be the index and stored as a datetime:"
   ]
  },
  {
   "cell_type": "code",
   "execution_count": 50,
   "id": "f9a54fac-6a5e-41cd-94f5-8fc8648ad439",
   "metadata": {},
   "outputs": [
    {
     "data": {
      "text/html": [
       "<div>\n",
       "<style scoped>\n",
       "    .dataframe tbody tr th:only-of-type {\n",
       "        vertical-align: middle;\n",
       "    }\n",
       "\n",
       "    .dataframe tbody tr th {\n",
       "        vertical-align: top;\n",
       "    }\n",
       "\n",
       "    .dataframe thead th {\n",
       "        text-align: right;\n",
       "    }\n",
       "</style>\n",
       "<table border=\"1\" class=\"dataframe\">\n",
       "  <thead>\n",
       "    <tr style=\"text-align: right;\">\n",
       "      <th></th>\n",
       "      <th>datatype</th>\n",
       "      <th>station</th>\n",
       "      <th>attributes</th>\n",
       "      <th>value</th>\n",
       "    </tr>\n",
       "    <tr>\n",
       "      <th>date</th>\n",
       "      <th></th>\n",
       "      <th></th>\n",
       "      <th></th>\n",
       "      <th></th>\n",
       "    </tr>\n",
       "  </thead>\n",
       "  <tbody>\n",
       "    <tr>\n",
       "      <th>2018-10-01 00:00:00-05:00</th>\n",
       "      <td>TAVG</td>\n",
       "      <td>GHCND:USW00014732</td>\n",
       "      <td>H,,S,</td>\n",
       "      <td>21.2</td>\n",
       "    </tr>\n",
       "    <tr>\n",
       "      <th>2018-10-01 00:00:00-05:00</th>\n",
       "      <td>TMAX</td>\n",
       "      <td>GHCND:USW00014732</td>\n",
       "      <td>,,W,2400</td>\n",
       "      <td>25.6</td>\n",
       "    </tr>\n",
       "    <tr>\n",
       "      <th>2018-10-01 00:00:00-05:00</th>\n",
       "      <td>TMIN</td>\n",
       "      <td>GHCND:USW00014732</td>\n",
       "      <td>,,W,2400</td>\n",
       "      <td>18.3</td>\n",
       "    </tr>\n",
       "    <tr>\n",
       "      <th>2018-10-02 00:00:00-05:00</th>\n",
       "      <td>TAVG</td>\n",
       "      <td>GHCND:USW00014732</td>\n",
       "      <td>H,,S,</td>\n",
       "      <td>22.7</td>\n",
       "    </tr>\n",
       "    <tr>\n",
       "      <th>2018-10-02 00:00:00-05:00</th>\n",
       "      <td>TMAX</td>\n",
       "      <td>GHCND:USW00014732</td>\n",
       "      <td>,,W,2400</td>\n",
       "      <td>26.1</td>\n",
       "    </tr>\n",
       "  </tbody>\n",
       "</table>\n",
       "</div>"
      ],
      "text/plain": [
       "                          datatype            station attributes  value\n",
       "date                                                                   \n",
       "2018-10-01 00:00:00-05:00     TAVG  GHCND:USW00014732      H,,S,   21.2\n",
       "2018-10-01 00:00:00-05:00     TMAX  GHCND:USW00014732   ,,W,2400   25.6\n",
       "2018-10-01 00:00:00-05:00     TMIN  GHCND:USW00014732   ,,W,2400   18.3\n",
       "2018-10-02 00:00:00-05:00     TAVG  GHCND:USW00014732      H,,S,   22.7\n",
       "2018-10-02 00:00:00-05:00     TMAX  GHCND:USW00014732   ,,W,2400   26.1"
      ]
     },
     "execution_count": 50,
     "metadata": {},
     "output_type": "execute_result"
    }
   ],
   "source": [
    "eastern = pd.read_csv(\n",
    "'data/nyc_temperatures.csv', index_col='date', parse_dates=True\n",
    ").tz_localize('EST')\n",
    "eastern.head()"
   ]
  },
  {
   "cell_type": "markdown",
   "id": "d18fb109-1b3b-4c32-939a-f04786849d9b",
   "metadata": {},
   "source": [
    "We can use tz.convert() to convert to another timezone from there. If we convert the Eastern datetimes to UTC, they will now be at 5 AM, since pandas will use the offsets to convert:"
   ]
  },
  {
   "cell_type": "code",
   "execution_count": 51,
   "id": "27e0875e-0711-4e4b-8721-306d3e305a71",
   "metadata": {},
   "outputs": [
    {
     "data": {
      "text/html": [
       "<div>\n",
       "<style scoped>\n",
       "    .dataframe tbody tr th:only-of-type {\n",
       "        vertical-align: middle;\n",
       "    }\n",
       "\n",
       "    .dataframe tbody tr th {\n",
       "        vertical-align: top;\n",
       "    }\n",
       "\n",
       "    .dataframe thead th {\n",
       "        text-align: right;\n",
       "    }\n",
       "</style>\n",
       "<table border=\"1\" class=\"dataframe\">\n",
       "  <thead>\n",
       "    <tr style=\"text-align: right;\">\n",
       "      <th></th>\n",
       "      <th>datatype</th>\n",
       "      <th>station</th>\n",
       "      <th>attributes</th>\n",
       "      <th>value</th>\n",
       "    </tr>\n",
       "    <tr>\n",
       "      <th>date</th>\n",
       "      <th></th>\n",
       "      <th></th>\n",
       "      <th></th>\n",
       "      <th></th>\n",
       "    </tr>\n",
       "  </thead>\n",
       "  <tbody>\n",
       "    <tr>\n",
       "      <th>2018-10-01 05:00:00+00:00</th>\n",
       "      <td>TAVG</td>\n",
       "      <td>GHCND:USW00014732</td>\n",
       "      <td>H,,S,</td>\n",
       "      <td>21.2</td>\n",
       "    </tr>\n",
       "    <tr>\n",
       "      <th>2018-10-01 05:00:00+00:00</th>\n",
       "      <td>TMAX</td>\n",
       "      <td>GHCND:USW00014732</td>\n",
       "      <td>,,W,2400</td>\n",
       "      <td>25.6</td>\n",
       "    </tr>\n",
       "    <tr>\n",
       "      <th>2018-10-01 05:00:00+00:00</th>\n",
       "      <td>TMIN</td>\n",
       "      <td>GHCND:USW00014732</td>\n",
       "      <td>,,W,2400</td>\n",
       "      <td>18.3</td>\n",
       "    </tr>\n",
       "    <tr>\n",
       "      <th>2018-10-02 05:00:00+00:00</th>\n",
       "      <td>TAVG</td>\n",
       "      <td>GHCND:USW00014732</td>\n",
       "      <td>H,,S,</td>\n",
       "      <td>22.7</td>\n",
       "    </tr>\n",
       "    <tr>\n",
       "      <th>2018-10-02 05:00:00+00:00</th>\n",
       "      <td>TMAX</td>\n",
       "      <td>GHCND:USW00014732</td>\n",
       "      <td>,,W,2400</td>\n",
       "      <td>26.1</td>\n",
       "    </tr>\n",
       "  </tbody>\n",
       "</table>\n",
       "</div>"
      ],
      "text/plain": [
       "                          datatype            station attributes  value\n",
       "date                                                                   \n",
       "2018-10-01 05:00:00+00:00     TAVG  GHCND:USW00014732      H,,S,   21.2\n",
       "2018-10-01 05:00:00+00:00     TMAX  GHCND:USW00014732   ,,W,2400   25.6\n",
       "2018-10-01 05:00:00+00:00     TMIN  GHCND:USW00014732   ,,W,2400   18.3\n",
       "2018-10-02 05:00:00+00:00     TAVG  GHCND:USW00014732      H,,S,   22.7\n",
       "2018-10-02 05:00:00+00:00     TMAX  GHCND:USW00014732   ,,W,2400   26.1"
      ]
     },
     "execution_count": 51,
     "metadata": {},
     "output_type": "execute_result"
    }
   ],
   "source": [
    "eastern.tz_convert('UTC').head()"
   ]
  },
  {
   "cell_type": "markdown",
   "id": "a969f847-0e9f-48c5-9dce-2a34c583fe2b",
   "metadata": {},
   "source": [
    "We can change the period of the index as well. We could change the period to be monthly to make it easier to aggregate later. "
   ]
  },
  {
   "cell_type": "code",
   "execution_count": 52,
   "id": "fc7d7c47-cc1b-42de-8a0d-d0aeab7925f0",
   "metadata": {},
   "outputs": [
    {
     "name": "stderr",
     "output_type": "stream",
     "text": [
      "/tmp/ipykernel_1030/1536330981.py:1: UserWarning: Converting to PeriodArray/Index representation will drop timezone information.\n",
      "  eastern.to_period('M').index\n"
     ]
    },
    {
     "data": {
      "text/plain": [
       "PeriodIndex(['2018-10', '2018-10', '2018-10', '2018-10', '2018-10', '2018-10',\n",
       "             '2018-10', '2018-10', '2018-10', '2018-10', '2018-10', '2018-10',\n",
       "             '2018-10', '2018-10', '2018-10', '2018-10', '2018-10', '2018-10',\n",
       "             '2018-10', '2018-10', '2018-10', '2018-10', '2018-10', '2018-10',\n",
       "             '2018-10', '2018-10', '2018-10', '2018-10', '2018-10', '2018-10',\n",
       "             '2018-10', '2018-10', '2018-10', '2018-10', '2018-10', '2018-10',\n",
       "             '2018-10', '2018-10', '2018-10', '2018-10', '2018-10', '2018-10',\n",
       "             '2018-10', '2018-10', '2018-10', '2018-10', '2018-10', '2018-10',\n",
       "             '2018-10', '2018-10', '2018-10', '2018-10', '2018-10', '2018-10',\n",
       "             '2018-10', '2018-10', '2018-10', '2018-10', '2018-10', '2018-10',\n",
       "             '2018-10', '2018-10', '2018-10', '2018-10', '2018-10', '2018-10',\n",
       "             '2018-10', '2018-10', '2018-10', '2018-10', '2018-10', '2018-10',\n",
       "             '2018-10', '2018-10', '2018-10', '2018-10', '2018-10', '2018-10',\n",
       "             '2018-10', '2018-10', '2018-10', '2018-10', '2018-10', '2018-10',\n",
       "             '2018-10', '2018-10', '2018-10', '2018-10', '2018-10', '2018-10',\n",
       "             '2018-10', '2018-10', '2018-10'],\n",
       "            dtype='period[M]', name='date')"
      ]
     },
     "execution_count": 52,
     "metadata": {},
     "output_type": "execute_result"
    }
   ],
   "source": [
    "eastern.to_period('M').index"
   ]
  },
  {
   "cell_type": "markdown",
   "id": "3181fe72-7736-4c51-9542-c741ef0c360d",
   "metadata": {},
   "source": [
    "We now get a PeriodIndex which we can change back into a DatetimeIndex with pd.to_timestamp() "
   ]
  },
  {
   "cell_type": "code",
   "execution_count": 53,
   "id": "f83586d1-305e-4fed-99e5-f6ae38485175",
   "metadata": {},
   "outputs": [
    {
     "name": "stderr",
     "output_type": "stream",
     "text": [
      "/tmp/ipykernel_1030/2182609763.py:1: UserWarning: Converting to PeriodArray/Index representation will drop timezone information.\n",
      "  eastern.to_period('M').to_timestamp().index\n"
     ]
    },
    {
     "data": {
      "text/plain": [
       "DatetimeIndex(['2018-10-01', '2018-10-01', '2018-10-01', '2018-10-01',\n",
       "               '2018-10-01', '2018-10-01', '2018-10-01', '2018-10-01',\n",
       "               '2018-10-01', '2018-10-01', '2018-10-01', '2018-10-01',\n",
       "               '2018-10-01', '2018-10-01', '2018-10-01', '2018-10-01',\n",
       "               '2018-10-01', '2018-10-01', '2018-10-01', '2018-10-01',\n",
       "               '2018-10-01', '2018-10-01', '2018-10-01', '2018-10-01',\n",
       "               '2018-10-01', '2018-10-01', '2018-10-01', '2018-10-01',\n",
       "               '2018-10-01', '2018-10-01', '2018-10-01', '2018-10-01',\n",
       "               '2018-10-01', '2018-10-01', '2018-10-01', '2018-10-01',\n",
       "               '2018-10-01', '2018-10-01', '2018-10-01', '2018-10-01',\n",
       "               '2018-10-01', '2018-10-01', '2018-10-01', '2018-10-01',\n",
       "               '2018-10-01', '2018-10-01', '2018-10-01', '2018-10-01',\n",
       "               '2018-10-01', '2018-10-01', '2018-10-01', '2018-10-01',\n",
       "               '2018-10-01', '2018-10-01', '2018-10-01', '2018-10-01',\n",
       "               '2018-10-01', '2018-10-01', '2018-10-01', '2018-10-01',\n",
       "               '2018-10-01', '2018-10-01', '2018-10-01', '2018-10-01',\n",
       "               '2018-10-01', '2018-10-01', '2018-10-01', '2018-10-01',\n",
       "               '2018-10-01', '2018-10-01', '2018-10-01', '2018-10-01',\n",
       "               '2018-10-01', '2018-10-01', '2018-10-01', '2018-10-01',\n",
       "               '2018-10-01', '2018-10-01', '2018-10-01', '2018-10-01',\n",
       "               '2018-10-01', '2018-10-01', '2018-10-01', '2018-10-01',\n",
       "               '2018-10-01', '2018-10-01', '2018-10-01', '2018-10-01',\n",
       "               '2018-10-01', '2018-10-01', '2018-10-01', '2018-10-01',\n",
       "               '2018-10-01'],\n",
       "              dtype='datetime64[ns]', name='date', freq=None)"
      ]
     },
     "execution_count": 53,
     "metadata": {},
     "output_type": "execute_result"
    }
   ],
   "source": [
    "eastern.to_period('M').to_timestamp().index"
   ]
  },
  {
   "cell_type": "markdown",
   "id": "6b3d92a2-5279-498f-a182-bea387fb12b8",
   "metadata": {},
   "source": [
    "We can use the assign() method for working with multiple columns at once (or creating new ones). Since our date column has already been converted, we need to read in the data again"
   ]
  },
  {
   "cell_type": "code",
   "execution_count": 54,
   "id": "ebd79c6a-615a-4378-9db3-45a2ccf37c26",
   "metadata": {},
   "outputs": [
    {
     "data": {
      "text/plain": [
       "date        datetime64[ns]\n",
       "datatype            object\n",
       "station             object\n",
       "flags               object\n",
       "temp_C             float64\n",
       "temp_F             float64\n",
       "dtype: object"
      ]
     },
     "execution_count": 54,
     "metadata": {},
     "output_type": "execute_result"
    }
   ],
   "source": [
    "df = pd.read_csv('data/nyc_temperatures.csv').rename(\n",
    "columns={\n",
    "'value' : 'temp_C',\n",
    "'attributes' : 'flags'\n",
    "}\n",
    ")\n",
    "new_df = df.assign(\n",
    "date=pd.to_datetime(df.date),\n",
    "temp_F=(df.temp_C * 9/5) + 32\n",
    ")\n",
    "new_df.dtypes\n"
   ]
  },
  {
   "cell_type": "markdown",
   "id": "8d631294-f1d7-40a7-b14c-8e4c1c9cead0",
   "metadata": {},
   "source": [
    "The date column now has datetimes and the temp_F column was added:"
   ]
  },
  {
   "cell_type": "code",
   "execution_count": 55,
   "id": "c12a53c5-0098-4cbc-ba9a-ce3c4f0f2a63",
   "metadata": {},
   "outputs": [
    {
     "data": {
      "text/html": [
       "<div>\n",
       "<style scoped>\n",
       "    .dataframe tbody tr th:only-of-type {\n",
       "        vertical-align: middle;\n",
       "    }\n",
       "\n",
       "    .dataframe tbody tr th {\n",
       "        vertical-align: top;\n",
       "    }\n",
       "\n",
       "    .dataframe thead th {\n",
       "        text-align: right;\n",
       "    }\n",
       "</style>\n",
       "<table border=\"1\" class=\"dataframe\">\n",
       "  <thead>\n",
       "    <tr style=\"text-align: right;\">\n",
       "      <th></th>\n",
       "      <th>date</th>\n",
       "      <th>datatype</th>\n",
       "      <th>station</th>\n",
       "      <th>flags</th>\n",
       "      <th>temp_C</th>\n",
       "      <th>temp_F</th>\n",
       "    </tr>\n",
       "  </thead>\n",
       "  <tbody>\n",
       "    <tr>\n",
       "      <th>0</th>\n",
       "      <td>2018-10-01</td>\n",
       "      <td>TAVG</td>\n",
       "      <td>GHCND:USW00014732</td>\n",
       "      <td>H,,S,</td>\n",
       "      <td>21.2</td>\n",
       "      <td>70.16</td>\n",
       "    </tr>\n",
       "    <tr>\n",
       "      <th>1</th>\n",
       "      <td>2018-10-01</td>\n",
       "      <td>TMAX</td>\n",
       "      <td>GHCND:USW00014732</td>\n",
       "      <td>,,W,2400</td>\n",
       "      <td>25.6</td>\n",
       "      <td>78.08</td>\n",
       "    </tr>\n",
       "    <tr>\n",
       "      <th>2</th>\n",
       "      <td>2018-10-01</td>\n",
       "      <td>TMIN</td>\n",
       "      <td>GHCND:USW00014732</td>\n",
       "      <td>,,W,2400</td>\n",
       "      <td>18.3</td>\n",
       "      <td>64.94</td>\n",
       "    </tr>\n",
       "    <tr>\n",
       "      <th>3</th>\n",
       "      <td>2018-10-02</td>\n",
       "      <td>TAVG</td>\n",
       "      <td>GHCND:USW00014732</td>\n",
       "      <td>H,,S,</td>\n",
       "      <td>22.7</td>\n",
       "      <td>72.86</td>\n",
       "    </tr>\n",
       "    <tr>\n",
       "      <th>4</th>\n",
       "      <td>2018-10-02</td>\n",
       "      <td>TMAX</td>\n",
       "      <td>GHCND:USW00014732</td>\n",
       "      <td>,,W,2400</td>\n",
       "      <td>26.1</td>\n",
       "      <td>78.98</td>\n",
       "    </tr>\n",
       "  </tbody>\n",
       "</table>\n",
       "</div>"
      ],
      "text/plain": [
       "        date datatype            station     flags  temp_C  temp_F\n",
       "0 2018-10-01     TAVG  GHCND:USW00014732     H,,S,    21.2   70.16\n",
       "1 2018-10-01     TMAX  GHCND:USW00014732  ,,W,2400    25.6   78.08\n",
       "2 2018-10-01     TMIN  GHCND:USW00014732  ,,W,2400    18.3   64.94\n",
       "3 2018-10-02     TAVG  GHCND:USW00014732     H,,S,    22.7   72.86\n",
       "4 2018-10-02     TMAX  GHCND:USW00014732  ,,W,2400    26.1   78.98"
      ]
     },
     "execution_count": 55,
     "metadata": {},
     "output_type": "execute_result"
    }
   ],
   "source": [
    "new_df.head()"
   ]
  },
  {
   "cell_type": "markdown",
   "id": "9b346a04-733f-4008-a096-65ae15cc8bdc",
   "metadata": {},
   "source": [
    "We can also use astype() to perform conversions. Let's create columns of the integer portion of the temperatures in Celsius and Fahrenheit:"
   ]
  },
  {
   "cell_type": "code",
   "execution_count": 56,
   "id": "38c89a3c-71a9-40d7-97f5-de471c5b14d7",
   "metadata": {},
   "outputs": [
    {
     "data": {
      "text/html": [
       "<div>\n",
       "<style scoped>\n",
       "    .dataframe tbody tr th:only-of-type {\n",
       "        vertical-align: middle;\n",
       "    }\n",
       "\n",
       "    .dataframe tbody tr th {\n",
       "        vertical-align: top;\n",
       "    }\n",
       "\n",
       "    .dataframe thead th {\n",
       "        text-align: right;\n",
       "    }\n",
       "</style>\n",
       "<table border=\"1\" class=\"dataframe\">\n",
       "  <thead>\n",
       "    <tr style=\"text-align: right;\">\n",
       "      <th></th>\n",
       "      <th>date</th>\n",
       "      <th>datatype</th>\n",
       "      <th>station</th>\n",
       "      <th>flags</th>\n",
       "      <th>temp_C</th>\n",
       "      <th>temp_C_whole</th>\n",
       "      <th>temp_F</th>\n",
       "      <th>temp_F_whole</th>\n",
       "    </tr>\n",
       "  </thead>\n",
       "  <tbody>\n",
       "    <tr>\n",
       "      <th>0</th>\n",
       "      <td>2018-10-01</td>\n",
       "      <td>TAVG</td>\n",
       "      <td>GHCND:USW00014732</td>\n",
       "      <td>H,,S,</td>\n",
       "      <td>21.2</td>\n",
       "      <td>21</td>\n",
       "      <td>70.16</td>\n",
       "      <td>70</td>\n",
       "    </tr>\n",
       "    <tr>\n",
       "      <th>1</th>\n",
       "      <td>2018-10-01</td>\n",
       "      <td>TMAX</td>\n",
       "      <td>GHCND:USW00014732</td>\n",
       "      <td>,,W,2400</td>\n",
       "      <td>25.6</td>\n",
       "      <td>25</td>\n",
       "      <td>78.08</td>\n",
       "      <td>78</td>\n",
       "    </tr>\n",
       "    <tr>\n",
       "      <th>2</th>\n",
       "      <td>2018-10-01</td>\n",
       "      <td>TMIN</td>\n",
       "      <td>GHCND:USW00014732</td>\n",
       "      <td>,,W,2400</td>\n",
       "      <td>18.3</td>\n",
       "      <td>18</td>\n",
       "      <td>64.94</td>\n",
       "      <td>64</td>\n",
       "    </tr>\n",
       "    <tr>\n",
       "      <th>3</th>\n",
       "      <td>2018-10-02</td>\n",
       "      <td>TAVG</td>\n",
       "      <td>GHCND:USW00014732</td>\n",
       "      <td>H,,S,</td>\n",
       "      <td>22.7</td>\n",
       "      <td>22</td>\n",
       "      <td>72.86</td>\n",
       "      <td>72</td>\n",
       "    </tr>\n",
       "    <tr>\n",
       "      <th>4</th>\n",
       "      <td>2018-10-02</td>\n",
       "      <td>TMAX</td>\n",
       "      <td>GHCND:USW00014732</td>\n",
       "      <td>,,W,2400</td>\n",
       "      <td>26.1</td>\n",
       "      <td>26</td>\n",
       "      <td>78.98</td>\n",
       "      <td>78</td>\n",
       "    </tr>\n",
       "  </tbody>\n",
       "</table>\n",
       "</div>"
      ],
      "text/plain": [
       "        date datatype            station     flags  temp_C  temp_C_whole  \\\n",
       "0 2018-10-01     TAVG  GHCND:USW00014732     H,,S,    21.2            21   \n",
       "1 2018-10-01     TMAX  GHCND:USW00014732  ,,W,2400    25.6            25   \n",
       "2 2018-10-01     TMIN  GHCND:USW00014732  ,,W,2400    18.3            18   \n",
       "3 2018-10-02     TAVG  GHCND:USW00014732     H,,S,    22.7            22   \n",
       "4 2018-10-02     TMAX  GHCND:USW00014732  ,,W,2400    26.1            26   \n",
       "\n",
       "   temp_F  temp_F_whole  \n",
       "0   70.16            70  \n",
       "1   78.08            78  \n",
       "2   64.94            64  \n",
       "3   72.86            72  \n",
       "4   78.98            78  "
      ]
     },
     "execution_count": 56,
     "metadata": {},
     "output_type": "execute_result"
    }
   ],
   "source": [
    "df = df.assign(\n",
    "date=pd.to_datetime(df.date),\n",
    "temp_C_whole=df.temp_C.astype('int'),\n",
    "temp_F=(df.temp_C * 9/5) + 32,\n",
    "temp_F_whole=lambda x: x.temp_F.astype('int')\n",
    ")\n",
    "df.head()\n"
   ]
  },
  {
   "cell_type": "markdown",
   "id": "92c319dd-d36b-4e35-9c16-b6a823baa63e",
   "metadata": {},
   "source": [
    "Creating categories:"
   ]
  },
  {
   "cell_type": "code",
   "execution_count": 57,
   "id": "d6cfe3c2-e304-4c4c-8593-7f8d56fa289f",
   "metadata": {},
   "outputs": [
    {
     "data": {
      "text/plain": [
       "date            datetime64[ns]\n",
       "datatype              category\n",
       "station               category\n",
       "flags                   object\n",
       "temp_C                 float64\n",
       "temp_C_whole             int64\n",
       "temp_F                 float64\n",
       "temp_F_whole             int64\n",
       "dtype: object"
      ]
     },
     "execution_count": 57,
     "metadata": {},
     "output_type": "execute_result"
    }
   ],
   "source": [
    "df_with_categories = df.assign(\n",
    "station=df.station.astype('category'),\n",
    "datatype=df.datatype.astype('category')\n",
    ")\n",
    "df_with_categories.dtypes"
   ]
  },
  {
   "cell_type": "markdown",
   "id": "15711de1-00d3-44af-a623-5951b0da1905",
   "metadata": {},
   "source": [
    "The categories have no order, but this is something pandas supports:"
   ]
  },
  {
   "cell_type": "code",
   "execution_count": 58,
   "id": "ad0f76c7-f09c-4edb-9a24-e9b0f7ec04f5",
   "metadata": {},
   "outputs": [
    {
     "data": {
      "text/plain": [
       "['med', 'med', 'low', 'high']\n",
       "Categories (3, object): ['low' < 'med' < 'high']"
      ]
     },
     "execution_count": 58,
     "metadata": {},
     "output_type": "execute_result"
    }
   ],
   "source": [
    "pd.Categorical(\n",
    "['med', 'med', 'low', 'high'],\n",
    "categories=['low', 'med', 'high'],\n",
    "ordered=True\n",
    ")\n"
   ]
  },
  {
   "cell_type": "markdown",
   "id": "b0d80631-f671-458f-ab6f-12ed3c865c8d",
   "metadata": {},
   "source": [
    "### Reordering, reindexing, and sorting"
   ]
  },
  {
   "cell_type": "markdown",
   "id": "07ac79fe-3e06-4b1f-ae9f-633341402d68",
   "metadata": {},
   "source": [
    "To find the hottest days in the temperature data, we can sort our values by the temp_C column with the largest on top:"
   ]
  },
  {
   "cell_type": "code",
   "execution_count": 59,
   "id": "91330f69-f438-45a9-8357-e55c4f40a821",
   "metadata": {},
   "outputs": [
    {
     "data": {
      "text/html": [
       "<div>\n",
       "<style scoped>\n",
       "    .dataframe tbody tr th:only-of-type {\n",
       "        vertical-align: middle;\n",
       "    }\n",
       "\n",
       "    .dataframe tbody tr th {\n",
       "        vertical-align: top;\n",
       "    }\n",
       "\n",
       "    .dataframe thead th {\n",
       "        text-align: right;\n",
       "    }\n",
       "</style>\n",
       "<table border=\"1\" class=\"dataframe\">\n",
       "  <thead>\n",
       "    <tr style=\"text-align: right;\">\n",
       "      <th></th>\n",
       "      <th>date</th>\n",
       "      <th>datatype</th>\n",
       "      <th>station</th>\n",
       "      <th>flags</th>\n",
       "      <th>temp_C</th>\n",
       "      <th>temp_C_whole</th>\n",
       "      <th>temp_F</th>\n",
       "      <th>temp_F_whole</th>\n",
       "    </tr>\n",
       "  </thead>\n",
       "  <tbody>\n",
       "    <tr>\n",
       "      <th>19</th>\n",
       "      <td>2018-10-07</td>\n",
       "      <td>TMAX</td>\n",
       "      <td>GHCND:USW00014732</td>\n",
       "      <td>,,W,2400</td>\n",
       "      <td>27.8</td>\n",
       "      <td>27</td>\n",
       "      <td>82.04</td>\n",
       "      <td>82</td>\n",
       "    </tr>\n",
       "    <tr>\n",
       "      <th>28</th>\n",
       "      <td>2018-10-10</td>\n",
       "      <td>TMAX</td>\n",
       "      <td>GHCND:USW00014732</td>\n",
       "      <td>,,W,2400</td>\n",
       "      <td>27.8</td>\n",
       "      <td>27</td>\n",
       "      <td>82.04</td>\n",
       "      <td>82</td>\n",
       "    </tr>\n",
       "    <tr>\n",
       "      <th>31</th>\n",
       "      <td>2018-10-11</td>\n",
       "      <td>TMAX</td>\n",
       "      <td>GHCND:USW00014732</td>\n",
       "      <td>,,W,2400</td>\n",
       "      <td>26.7</td>\n",
       "      <td>26</td>\n",
       "      <td>80.06</td>\n",
       "      <td>80</td>\n",
       "    </tr>\n",
       "    <tr>\n",
       "      <th>10</th>\n",
       "      <td>2018-10-04</td>\n",
       "      <td>TMAX</td>\n",
       "      <td>GHCND:USW00014732</td>\n",
       "      <td>,,W,2400</td>\n",
       "      <td>26.1</td>\n",
       "      <td>26</td>\n",
       "      <td>78.98</td>\n",
       "      <td>78</td>\n",
       "    </tr>\n",
       "    <tr>\n",
       "      <th>4</th>\n",
       "      <td>2018-10-02</td>\n",
       "      <td>TMAX</td>\n",
       "      <td>GHCND:USW00014732</td>\n",
       "      <td>,,W,2400</td>\n",
       "      <td>26.1</td>\n",
       "      <td>26</td>\n",
       "      <td>78.98</td>\n",
       "      <td>78</td>\n",
       "    </tr>\n",
       "    <tr>\n",
       "      <th>25</th>\n",
       "      <td>2018-10-09</td>\n",
       "      <td>TMAX</td>\n",
       "      <td>GHCND:USW00014732</td>\n",
       "      <td>,,W,2400</td>\n",
       "      <td>25.6</td>\n",
       "      <td>25</td>\n",
       "      <td>78.08</td>\n",
       "      <td>78</td>\n",
       "    </tr>\n",
       "    <tr>\n",
       "      <th>1</th>\n",
       "      <td>2018-10-01</td>\n",
       "      <td>TMAX</td>\n",
       "      <td>GHCND:USW00014732</td>\n",
       "      <td>,,W,2400</td>\n",
       "      <td>25.6</td>\n",
       "      <td>25</td>\n",
       "      <td>78.08</td>\n",
       "      <td>78</td>\n",
       "    </tr>\n",
       "    <tr>\n",
       "      <th>7</th>\n",
       "      <td>2018-10-03</td>\n",
       "      <td>TMAX</td>\n",
       "      <td>GHCND:USW00014732</td>\n",
       "      <td>,,W,2400</td>\n",
       "      <td>25.0</td>\n",
       "      <td>25</td>\n",
       "      <td>77.00</td>\n",
       "      <td>77</td>\n",
       "    </tr>\n",
       "    <tr>\n",
       "      <th>27</th>\n",
       "      <td>2018-10-10</td>\n",
       "      <td>TAVG</td>\n",
       "      <td>GHCND:USW00014732</td>\n",
       "      <td>H,,S,</td>\n",
       "      <td>23.8</td>\n",
       "      <td>23</td>\n",
       "      <td>74.84</td>\n",
       "      <td>74</td>\n",
       "    </tr>\n",
       "    <tr>\n",
       "      <th>30</th>\n",
       "      <td>2018-10-11</td>\n",
       "      <td>TAVG</td>\n",
       "      <td>GHCND:USW00014732</td>\n",
       "      <td>H,,S,</td>\n",
       "      <td>23.4</td>\n",
       "      <td>23</td>\n",
       "      <td>74.12</td>\n",
       "      <td>74</td>\n",
       "    </tr>\n",
       "  </tbody>\n",
       "</table>\n",
       "</div>"
      ],
      "text/plain": [
       "         date datatype            station     flags  temp_C  temp_C_whole  \\\n",
       "19 2018-10-07     TMAX  GHCND:USW00014732  ,,W,2400    27.8            27   \n",
       "28 2018-10-10     TMAX  GHCND:USW00014732  ,,W,2400    27.8            27   \n",
       "31 2018-10-11     TMAX  GHCND:USW00014732  ,,W,2400    26.7            26   \n",
       "10 2018-10-04     TMAX  GHCND:USW00014732  ,,W,2400    26.1            26   \n",
       "4  2018-10-02     TMAX  GHCND:USW00014732  ,,W,2400    26.1            26   \n",
       "25 2018-10-09     TMAX  GHCND:USW00014732  ,,W,2400    25.6            25   \n",
       "1  2018-10-01     TMAX  GHCND:USW00014732  ,,W,2400    25.6            25   \n",
       "7  2018-10-03     TMAX  GHCND:USW00014732  ,,W,2400    25.0            25   \n",
       "27 2018-10-10     TAVG  GHCND:USW00014732     H,,S,    23.8            23   \n",
       "30 2018-10-11     TAVG  GHCND:USW00014732     H,,S,    23.4            23   \n",
       "\n",
       "    temp_F  temp_F_whole  \n",
       "19   82.04            82  \n",
       "28   82.04            82  \n",
       "31   80.06            80  \n",
       "10   78.98            78  \n",
       "4    78.98            78  \n",
       "25   78.08            78  \n",
       "1    78.08            78  \n",
       "7    77.00            77  \n",
       "27   74.84            74  \n",
       "30   74.12            74  "
      ]
     },
     "execution_count": 59,
     "metadata": {},
     "output_type": "execute_result"
    }
   ],
   "source": [
    "df.sort_values(by='temp_C', ascending=False).head(10)"
   ]
  },
  {
   "cell_type": "code",
   "execution_count": 60,
   "id": "94ccd396-7710-4183-9c73-bf36b2ffb65e",
   "metadata": {},
   "outputs": [
    {
     "data": {
      "text/html": [
       "<div>\n",
       "<style scoped>\n",
       "    .dataframe tbody tr th:only-of-type {\n",
       "        vertical-align: middle;\n",
       "    }\n",
       "\n",
       "    .dataframe tbody tr th {\n",
       "        vertical-align: top;\n",
       "    }\n",
       "\n",
       "    .dataframe thead th {\n",
       "        text-align: right;\n",
       "    }\n",
       "</style>\n",
       "<table border=\"1\" class=\"dataframe\">\n",
       "  <thead>\n",
       "    <tr style=\"text-align: right;\">\n",
       "      <th></th>\n",
       "      <th>date</th>\n",
       "      <th>datatype</th>\n",
       "      <th>station</th>\n",
       "      <th>flags</th>\n",
       "      <th>temp_C</th>\n",
       "      <th>temp_C_whole</th>\n",
       "      <th>temp_F</th>\n",
       "      <th>temp_F_whole</th>\n",
       "    </tr>\n",
       "  </thead>\n",
       "  <tbody>\n",
       "    <tr>\n",
       "      <th>28</th>\n",
       "      <td>2018-10-10</td>\n",
       "      <td>TMAX</td>\n",
       "      <td>GHCND:USW00014732</td>\n",
       "      <td>,,W,2400</td>\n",
       "      <td>27.8</td>\n",
       "      <td>27</td>\n",
       "      <td>82.04</td>\n",
       "      <td>82</td>\n",
       "    </tr>\n",
       "    <tr>\n",
       "      <th>19</th>\n",
       "      <td>2018-10-07</td>\n",
       "      <td>TMAX</td>\n",
       "      <td>GHCND:USW00014732</td>\n",
       "      <td>,,W,2400</td>\n",
       "      <td>27.8</td>\n",
       "      <td>27</td>\n",
       "      <td>82.04</td>\n",
       "      <td>82</td>\n",
       "    </tr>\n",
       "    <tr>\n",
       "      <th>31</th>\n",
       "      <td>2018-10-11</td>\n",
       "      <td>TMAX</td>\n",
       "      <td>GHCND:USW00014732</td>\n",
       "      <td>,,W,2400</td>\n",
       "      <td>26.7</td>\n",
       "      <td>26</td>\n",
       "      <td>80.06</td>\n",
       "      <td>80</td>\n",
       "    </tr>\n",
       "    <tr>\n",
       "      <th>10</th>\n",
       "      <td>2018-10-04</td>\n",
       "      <td>TMAX</td>\n",
       "      <td>GHCND:USW00014732</td>\n",
       "      <td>,,W,2400</td>\n",
       "      <td>26.1</td>\n",
       "      <td>26</td>\n",
       "      <td>78.98</td>\n",
       "      <td>78</td>\n",
       "    </tr>\n",
       "    <tr>\n",
       "      <th>4</th>\n",
       "      <td>2018-10-02</td>\n",
       "      <td>TMAX</td>\n",
       "      <td>GHCND:USW00014732</td>\n",
       "      <td>,,W,2400</td>\n",
       "      <td>26.1</td>\n",
       "      <td>26</td>\n",
       "      <td>78.98</td>\n",
       "      <td>78</td>\n",
       "    </tr>\n",
       "    <tr>\n",
       "      <th>25</th>\n",
       "      <td>2018-10-09</td>\n",
       "      <td>TMAX</td>\n",
       "      <td>GHCND:USW00014732</td>\n",
       "      <td>,,W,2400</td>\n",
       "      <td>25.6</td>\n",
       "      <td>25</td>\n",
       "      <td>78.08</td>\n",
       "      <td>78</td>\n",
       "    </tr>\n",
       "    <tr>\n",
       "      <th>1</th>\n",
       "      <td>2018-10-01</td>\n",
       "      <td>TMAX</td>\n",
       "      <td>GHCND:USW00014732</td>\n",
       "      <td>,,W,2400</td>\n",
       "      <td>25.6</td>\n",
       "      <td>25</td>\n",
       "      <td>78.08</td>\n",
       "      <td>78</td>\n",
       "    </tr>\n",
       "    <tr>\n",
       "      <th>7</th>\n",
       "      <td>2018-10-03</td>\n",
       "      <td>TMAX</td>\n",
       "      <td>GHCND:USW00014732</td>\n",
       "      <td>,,W,2400</td>\n",
       "      <td>25.0</td>\n",
       "      <td>25</td>\n",
       "      <td>77.00</td>\n",
       "      <td>77</td>\n",
       "    </tr>\n",
       "    <tr>\n",
       "      <th>27</th>\n",
       "      <td>2018-10-10</td>\n",
       "      <td>TAVG</td>\n",
       "      <td>GHCND:USW00014732</td>\n",
       "      <td>H,,S,</td>\n",
       "      <td>23.8</td>\n",
       "      <td>23</td>\n",
       "      <td>74.84</td>\n",
       "      <td>74</td>\n",
       "    </tr>\n",
       "    <tr>\n",
       "      <th>30</th>\n",
       "      <td>2018-10-11</td>\n",
       "      <td>TAVG</td>\n",
       "      <td>GHCND:USW00014732</td>\n",
       "      <td>H,,S,</td>\n",
       "      <td>23.4</td>\n",
       "      <td>23</td>\n",
       "      <td>74.12</td>\n",
       "      <td>74</td>\n",
       "    </tr>\n",
       "  </tbody>\n",
       "</table>\n",
       "</div>"
      ],
      "text/plain": [
       "         date datatype            station     flags  temp_C  temp_C_whole  \\\n",
       "28 2018-10-10     TMAX  GHCND:USW00014732  ,,W,2400    27.8            27   \n",
       "19 2018-10-07     TMAX  GHCND:USW00014732  ,,W,2400    27.8            27   \n",
       "31 2018-10-11     TMAX  GHCND:USW00014732  ,,W,2400    26.7            26   \n",
       "10 2018-10-04     TMAX  GHCND:USW00014732  ,,W,2400    26.1            26   \n",
       "4  2018-10-02     TMAX  GHCND:USW00014732  ,,W,2400    26.1            26   \n",
       "25 2018-10-09     TMAX  GHCND:USW00014732  ,,W,2400    25.6            25   \n",
       "1  2018-10-01     TMAX  GHCND:USW00014732  ,,W,2400    25.6            25   \n",
       "7  2018-10-03     TMAX  GHCND:USW00014732  ,,W,2400    25.0            25   \n",
       "27 2018-10-10     TAVG  GHCND:USW00014732     H,,S,    23.8            23   \n",
       "30 2018-10-11     TAVG  GHCND:USW00014732     H,,S,    23.4            23   \n",
       "\n",
       "    temp_F  temp_F_whole  \n",
       "28   82.04            82  \n",
       "19   82.04            82  \n",
       "31   80.06            80  \n",
       "10   78.98            78  \n",
       "4    78.98            78  \n",
       "25   78.08            78  \n",
       "1    78.08            78  \n",
       "7    77.00            77  \n",
       "27   74.84            74  \n",
       "30   74.12            74  "
      ]
     },
     "execution_count": 60,
     "metadata": {},
     "output_type": "execute_result"
    }
   ],
   "source": [
    "df.sort_values(by=['temp_C', 'date'], ascending=False).head(10)"
   ]
  },
  {
   "cell_type": "markdown",
   "id": "76322bf3-cbd0-430b-8ee2-2f7664e4bacb",
   "metadata": {},
   "source": [
    "To look for the n-largest values, rather than sorting all the data, use nlargest():"
   ]
  },
  {
   "cell_type": "code",
   "execution_count": 61,
   "id": "a32f16fc-aeda-499b-b061-f756b6aeea0f",
   "metadata": {},
   "outputs": [
    {
     "data": {
      "text/html": [
       "<div>\n",
       "<style scoped>\n",
       "    .dataframe tbody tr th:only-of-type {\n",
       "        vertical-align: middle;\n",
       "    }\n",
       "\n",
       "    .dataframe tbody tr th {\n",
       "        vertical-align: top;\n",
       "    }\n",
       "\n",
       "    .dataframe thead th {\n",
       "        text-align: right;\n",
       "    }\n",
       "</style>\n",
       "<table border=\"1\" class=\"dataframe\">\n",
       "  <thead>\n",
       "    <tr style=\"text-align: right;\">\n",
       "      <th></th>\n",
       "      <th>date</th>\n",
       "      <th>datatype</th>\n",
       "      <th>station</th>\n",
       "      <th>flags</th>\n",
       "      <th>temp_C</th>\n",
       "      <th>temp_C_whole</th>\n",
       "      <th>temp_F</th>\n",
       "      <th>temp_F_whole</th>\n",
       "    </tr>\n",
       "  </thead>\n",
       "  <tbody>\n",
       "    <tr>\n",
       "      <th>19</th>\n",
       "      <td>2018-10-07</td>\n",
       "      <td>TMAX</td>\n",
       "      <td>GHCND:USW00014732</td>\n",
       "      <td>,,W,2400</td>\n",
       "      <td>27.8</td>\n",
       "      <td>27</td>\n",
       "      <td>82.04</td>\n",
       "      <td>82</td>\n",
       "    </tr>\n",
       "    <tr>\n",
       "      <th>28</th>\n",
       "      <td>2018-10-10</td>\n",
       "      <td>TMAX</td>\n",
       "      <td>GHCND:USW00014732</td>\n",
       "      <td>,,W,2400</td>\n",
       "      <td>27.8</td>\n",
       "      <td>27</td>\n",
       "      <td>82.04</td>\n",
       "      <td>82</td>\n",
       "    </tr>\n",
       "    <tr>\n",
       "      <th>31</th>\n",
       "      <td>2018-10-11</td>\n",
       "      <td>TMAX</td>\n",
       "      <td>GHCND:USW00014732</td>\n",
       "      <td>,,W,2400</td>\n",
       "      <td>26.7</td>\n",
       "      <td>26</td>\n",
       "      <td>80.06</td>\n",
       "      <td>80</td>\n",
       "    </tr>\n",
       "    <tr>\n",
       "      <th>4</th>\n",
       "      <td>2018-10-02</td>\n",
       "      <td>TMAX</td>\n",
       "      <td>GHCND:USW00014732</td>\n",
       "      <td>,,W,2400</td>\n",
       "      <td>26.1</td>\n",
       "      <td>26</td>\n",
       "      <td>78.98</td>\n",
       "      <td>78</td>\n",
       "    </tr>\n",
       "    <tr>\n",
       "      <th>10</th>\n",
       "      <td>2018-10-04</td>\n",
       "      <td>TMAX</td>\n",
       "      <td>GHCND:USW00014732</td>\n",
       "      <td>,,W,2400</td>\n",
       "      <td>26.1</td>\n",
       "      <td>26</td>\n",
       "      <td>78.98</td>\n",
       "      <td>78</td>\n",
       "    </tr>\n",
       "  </tbody>\n",
       "</table>\n",
       "</div>"
      ],
      "text/plain": [
       "         date datatype            station     flags  temp_C  temp_C_whole  \\\n",
       "19 2018-10-07     TMAX  GHCND:USW00014732  ,,W,2400    27.8            27   \n",
       "28 2018-10-10     TMAX  GHCND:USW00014732  ,,W,2400    27.8            27   \n",
       "31 2018-10-11     TMAX  GHCND:USW00014732  ,,W,2400    26.7            26   \n",
       "4  2018-10-02     TMAX  GHCND:USW00014732  ,,W,2400    26.1            26   \n",
       "10 2018-10-04     TMAX  GHCND:USW00014732  ,,W,2400    26.1            26   \n",
       "\n",
       "    temp_F  temp_F_whole  \n",
       "19   82.04            82  \n",
       "28   82.04            82  \n",
       "31   80.06            80  \n",
       "4    78.98            78  \n",
       "10   78.98            78  "
      ]
     },
     "execution_count": 61,
     "metadata": {},
     "output_type": "execute_result"
    }
   ],
   "source": [
    "df.nlargest(n=5, columns='temp_C')"
   ]
  },
  {
   "cell_type": "code",
   "execution_count": 62,
   "id": "5a091a33-e784-499e-93fc-5640eaa58d4b",
   "metadata": {},
   "outputs": [
    {
     "data": {
      "text/html": [
       "<div>\n",
       "<style scoped>\n",
       "    .dataframe tbody tr th:only-of-type {\n",
       "        vertical-align: middle;\n",
       "    }\n",
       "\n",
       "    .dataframe tbody tr th {\n",
       "        vertical-align: top;\n",
       "    }\n",
       "\n",
       "    .dataframe thead th {\n",
       "        text-align: right;\n",
       "    }\n",
       "</style>\n",
       "<table border=\"1\" class=\"dataframe\">\n",
       "  <thead>\n",
       "    <tr style=\"text-align: right;\">\n",
       "      <th></th>\n",
       "      <th>date</th>\n",
       "      <th>datatype</th>\n",
       "      <th>station</th>\n",
       "      <th>flags</th>\n",
       "      <th>temp_C</th>\n",
       "      <th>temp_C_whole</th>\n",
       "      <th>temp_F</th>\n",
       "      <th>temp_F_whole</th>\n",
       "    </tr>\n",
       "  </thead>\n",
       "  <tbody>\n",
       "    <tr>\n",
       "      <th>65</th>\n",
       "      <td>2018-10-22</td>\n",
       "      <td>TMIN</td>\n",
       "      <td>GHCND:USW00014732</td>\n",
       "      <td>,,W,2400</td>\n",
       "      <td>5.6</td>\n",
       "      <td>5</td>\n",
       "      <td>42.08</td>\n",
       "      <td>42</td>\n",
       "    </tr>\n",
       "    <tr>\n",
       "      <th>77</th>\n",
       "      <td>2018-10-26</td>\n",
       "      <td>TMIN</td>\n",
       "      <td>GHCND:USW00014732</td>\n",
       "      <td>,,W,2400</td>\n",
       "      <td>5.6</td>\n",
       "      <td>5</td>\n",
       "      <td>42.08</td>\n",
       "      <td>42</td>\n",
       "    </tr>\n",
       "    <tr>\n",
       "      <th>62</th>\n",
       "      <td>2018-10-21</td>\n",
       "      <td>TMIN</td>\n",
       "      <td>GHCND:USW00014732</td>\n",
       "      <td>,,W,2400</td>\n",
       "      <td>6.1</td>\n",
       "      <td>6</td>\n",
       "      <td>42.98</td>\n",
       "      <td>42</td>\n",
       "    </tr>\n",
       "    <tr>\n",
       "      <th>74</th>\n",
       "      <td>2018-10-25</td>\n",
       "      <td>TMIN</td>\n",
       "      <td>GHCND:USW00014732</td>\n",
       "      <td>,,W,2400</td>\n",
       "      <td>6.1</td>\n",
       "      <td>6</td>\n",
       "      <td>42.98</td>\n",
       "      <td>42</td>\n",
       "    </tr>\n",
       "    <tr>\n",
       "      <th>53</th>\n",
       "      <td>2018-10-18</td>\n",
       "      <td>TMIN</td>\n",
       "      <td>GHCND:USW00014732</td>\n",
       "      <td>,,W,2400</td>\n",
       "      <td>6.7</td>\n",
       "      <td>6</td>\n",
       "      <td>44.06</td>\n",
       "      <td>44</td>\n",
       "    </tr>\n",
       "  </tbody>\n",
       "</table>\n",
       "</div>"
      ],
      "text/plain": [
       "         date datatype            station     flags  temp_C  temp_C_whole  \\\n",
       "65 2018-10-22     TMIN  GHCND:USW00014732  ,,W,2400     5.6             5   \n",
       "77 2018-10-26     TMIN  GHCND:USW00014732  ,,W,2400     5.6             5   \n",
       "62 2018-10-21     TMIN  GHCND:USW00014732  ,,W,2400     6.1             6   \n",
       "74 2018-10-25     TMIN  GHCND:USW00014732  ,,W,2400     6.1             6   \n",
       "53 2018-10-18     TMIN  GHCND:USW00014732  ,,W,2400     6.7             6   \n",
       "\n",
       "    temp_F  temp_F_whole  \n",
       "65   42.08            42  \n",
       "77   42.08            42  \n",
       "62   42.98            42  \n",
       "74   42.98            42  \n",
       "53   44.06            44  "
      ]
     },
     "execution_count": 62,
     "metadata": {},
     "output_type": "execute_result"
    }
   ],
   "source": [
    "df.nsmallest(n=5, columns=['temp_C', 'date'])"
   ]
  },
  {
   "cell_type": "markdown",
   "id": "a6ac95fc-a68d-497b-af9f-f8dc13283e28",
   "metadata": {},
   "source": [
    "The sample() method will give rows (or columns with axis=1 ) at random. We can provide the random_state to make this reproducible. The index after we do this is jumbled:"
   ]
  },
  {
   "cell_type": "code",
   "execution_count": 63,
   "id": "164e7c50-7606-4f2b-af10-5a8612e05b22",
   "metadata": {},
   "outputs": [
    {
     "data": {
      "text/plain": [
       "Index([2, 30, 55, 16, 13], dtype='int64')"
      ]
     },
     "execution_count": 63,
     "metadata": {},
     "output_type": "execute_result"
    }
   ],
   "source": [
    "df.sample(5, random_state=0).index"
   ]
  },
  {
   "cell_type": "markdown",
   "id": "69bc562e-7357-4e47-91fe-42a6a8c51dbf",
   "metadata": {},
   "source": [
    "Use sort_index() to order it again:"
   ]
  },
  {
   "cell_type": "code",
   "execution_count": 64,
   "id": "e8b2c53f-e5df-422b-b7b8-08378e7fdfe4",
   "metadata": {},
   "outputs": [
    {
     "data": {
      "text/plain": [
       "Index([2, 13, 16, 30, 55], dtype='int64')"
      ]
     },
     "execution_count": 64,
     "metadata": {},
     "output_type": "execute_result"
    }
   ],
   "source": [
    "df.sample(5, random_state=0).sort_index().index"
   ]
  },
  {
   "cell_type": "markdown",
   "id": "2e363e44-c19a-499c-bfbb-9d5d928e05ae",
   "metadata": {},
   "source": [
    "The sort_index() method can also sort columns alphabetically:"
   ]
  },
  {
   "cell_type": "code",
   "execution_count": 65,
   "id": "0822ca43-8099-4864-866b-23533fff73b2",
   "metadata": {},
   "outputs": [
    {
     "data": {
      "text/html": [
       "<div>\n",
       "<style scoped>\n",
       "    .dataframe tbody tr th:only-of-type {\n",
       "        vertical-align: middle;\n",
       "    }\n",
       "\n",
       "    .dataframe tbody tr th {\n",
       "        vertical-align: top;\n",
       "    }\n",
       "\n",
       "    .dataframe thead th {\n",
       "        text-align: right;\n",
       "    }\n",
       "</style>\n",
       "<table border=\"1\" class=\"dataframe\">\n",
       "  <thead>\n",
       "    <tr style=\"text-align: right;\">\n",
       "      <th></th>\n",
       "      <th>datatype</th>\n",
       "      <th>date</th>\n",
       "      <th>flags</th>\n",
       "      <th>station</th>\n",
       "      <th>temp_C</th>\n",
       "      <th>temp_C_whole</th>\n",
       "      <th>temp_F</th>\n",
       "      <th>temp_F_whole</th>\n",
       "    </tr>\n",
       "  </thead>\n",
       "  <tbody>\n",
       "    <tr>\n",
       "      <th>0</th>\n",
       "      <td>TAVG</td>\n",
       "      <td>2018-10-01</td>\n",
       "      <td>H,,S,</td>\n",
       "      <td>GHCND:USW00014732</td>\n",
       "      <td>21.2</td>\n",
       "      <td>21</td>\n",
       "      <td>70.16</td>\n",
       "      <td>70</td>\n",
       "    </tr>\n",
       "    <tr>\n",
       "      <th>1</th>\n",
       "      <td>TMAX</td>\n",
       "      <td>2018-10-01</td>\n",
       "      <td>,,W,2400</td>\n",
       "      <td>GHCND:USW00014732</td>\n",
       "      <td>25.6</td>\n",
       "      <td>25</td>\n",
       "      <td>78.08</td>\n",
       "      <td>78</td>\n",
       "    </tr>\n",
       "    <tr>\n",
       "      <th>2</th>\n",
       "      <td>TMIN</td>\n",
       "      <td>2018-10-01</td>\n",
       "      <td>,,W,2400</td>\n",
       "      <td>GHCND:USW00014732</td>\n",
       "      <td>18.3</td>\n",
       "      <td>18</td>\n",
       "      <td>64.94</td>\n",
       "      <td>64</td>\n",
       "    </tr>\n",
       "    <tr>\n",
       "      <th>3</th>\n",
       "      <td>TAVG</td>\n",
       "      <td>2018-10-02</td>\n",
       "      <td>H,,S,</td>\n",
       "      <td>GHCND:USW00014732</td>\n",
       "      <td>22.7</td>\n",
       "      <td>22</td>\n",
       "      <td>72.86</td>\n",
       "      <td>72</td>\n",
       "    </tr>\n",
       "    <tr>\n",
       "      <th>4</th>\n",
       "      <td>TMAX</td>\n",
       "      <td>2018-10-02</td>\n",
       "      <td>,,W,2400</td>\n",
       "      <td>GHCND:USW00014732</td>\n",
       "      <td>26.1</td>\n",
       "      <td>26</td>\n",
       "      <td>78.98</td>\n",
       "      <td>78</td>\n",
       "    </tr>\n",
       "  </tbody>\n",
       "</table>\n",
       "</div>"
      ],
      "text/plain": [
       "  datatype       date     flags            station  temp_C  temp_C_whole  \\\n",
       "0     TAVG 2018-10-01     H,,S,  GHCND:USW00014732    21.2            21   \n",
       "1     TMAX 2018-10-01  ,,W,2400  GHCND:USW00014732    25.6            25   \n",
       "2     TMIN 2018-10-01  ,,W,2400  GHCND:USW00014732    18.3            18   \n",
       "3     TAVG 2018-10-02     H,,S,  GHCND:USW00014732    22.7            22   \n",
       "4     TMAX 2018-10-02  ,,W,2400  GHCND:USW00014732    26.1            26   \n",
       "\n",
       "   temp_F  temp_F_whole  \n",
       "0   70.16            70  \n",
       "1   78.08            78  \n",
       "2   64.94            64  \n",
       "3   72.86            72  \n",
       "4   78.98            78  "
      ]
     },
     "execution_count": 65,
     "metadata": {},
     "output_type": "execute_result"
    }
   ],
   "source": [
    "df.sort_index(axis=1).head()"
   ]
  },
  {
   "cell_type": "markdown",
   "id": "54440805-4551-4c9a-b7e4-5da3c7963e6c",
   "metadata": {},
   "source": [
    "This can make selection with loc easier for many columns:"
   ]
  },
  {
   "cell_type": "code",
   "execution_count": 66,
   "id": "acf7cd30-0d31-4782-b807-7c8d48480cf4",
   "metadata": {},
   "outputs": [
    {
     "data": {
      "text/html": [
       "<div>\n",
       "<style scoped>\n",
       "    .dataframe tbody tr th:only-of-type {\n",
       "        vertical-align: middle;\n",
       "    }\n",
       "\n",
       "    .dataframe tbody tr th {\n",
       "        vertical-align: top;\n",
       "    }\n",
       "\n",
       "    .dataframe thead th {\n",
       "        text-align: right;\n",
       "    }\n",
       "</style>\n",
       "<table border=\"1\" class=\"dataframe\">\n",
       "  <thead>\n",
       "    <tr style=\"text-align: right;\">\n",
       "      <th></th>\n",
       "      <th>temp_C</th>\n",
       "      <th>temp_C_whole</th>\n",
       "      <th>temp_F</th>\n",
       "      <th>temp_F_whole</th>\n",
       "    </tr>\n",
       "  </thead>\n",
       "  <tbody>\n",
       "    <tr>\n",
       "      <th>0</th>\n",
       "      <td>21.2</td>\n",
       "      <td>21</td>\n",
       "      <td>70.16</td>\n",
       "      <td>70</td>\n",
       "    </tr>\n",
       "    <tr>\n",
       "      <th>1</th>\n",
       "      <td>25.6</td>\n",
       "      <td>25</td>\n",
       "      <td>78.08</td>\n",
       "      <td>78</td>\n",
       "    </tr>\n",
       "    <tr>\n",
       "      <th>2</th>\n",
       "      <td>18.3</td>\n",
       "      <td>18</td>\n",
       "      <td>64.94</td>\n",
       "      <td>64</td>\n",
       "    </tr>\n",
       "    <tr>\n",
       "      <th>3</th>\n",
       "      <td>22.7</td>\n",
       "      <td>22</td>\n",
       "      <td>72.86</td>\n",
       "      <td>72</td>\n",
       "    </tr>\n",
       "    <tr>\n",
       "      <th>4</th>\n",
       "      <td>26.1</td>\n",
       "      <td>26</td>\n",
       "      <td>78.98</td>\n",
       "      <td>78</td>\n",
       "    </tr>\n",
       "  </tbody>\n",
       "</table>\n",
       "</div>"
      ],
      "text/plain": [
       "   temp_C  temp_C_whole  temp_F  temp_F_whole\n",
       "0    21.2            21   70.16            70\n",
       "1    25.6            25   78.08            78\n",
       "2    18.3            18   64.94            64\n",
       "3    22.7            22   72.86            72\n",
       "4    26.1            26   78.98            78"
      ]
     },
     "execution_count": 66,
     "metadata": {},
     "output_type": "execute_result"
    }
   ],
   "source": [
    "df.sort_index(axis=1).head().loc[:,'temp_C':'temp_F_whole']"
   ]
  },
  {
   "cell_type": "markdown",
   "id": "71b8ab91-26f4-439f-9aae-f042f89872c5",
   "metadata": {},
   "source": [
    "We must sort the index to compare two dataframes. If the index is different, but the data is the same, they will be marked not-equal"
   ]
  },
  {
   "cell_type": "code",
   "execution_count": 67,
   "id": "54f3e4cf-d0fa-491c-b257-78959ccdbc1b",
   "metadata": {},
   "outputs": [
    {
     "data": {
      "text/plain": [
       "False"
      ]
     },
     "execution_count": 67,
     "metadata": {},
     "output_type": "execute_result"
    }
   ],
   "source": [
    "df.equals(df.sort_values(by='temp_C'))"
   ]
  },
  {
   "cell_type": "markdown",
   "id": "fc57ceed-b40d-4410-bd50-01d4f5c5610a",
   "metadata": {},
   "source": [
    "Sorting the index solves this issue:"
   ]
  },
  {
   "cell_type": "code",
   "execution_count": 68,
   "id": "85043449-f7c6-4adc-91fd-cd7f4ecaeae6",
   "metadata": {},
   "outputs": [
    {
     "data": {
      "text/plain": [
       "True"
      ]
     },
     "execution_count": 68,
     "metadata": {},
     "output_type": "execute_result"
    }
   ],
   "source": [
    "df.equals(df.sort_values(by='temp_C').sort_index())"
   ]
  },
  {
   "cell_type": "markdown",
   "id": "c4d72f29-52c5-4ded-9621-bcc1f0b225bb",
   "metadata": {},
   "source": [
    "Use reset_index() to get a fresh index and move our current index into a column for safe keeping. This is especially useful if we had data, such as the date, in the index that we don't want to lose."
   ]
  },
  {
   "cell_type": "code",
   "execution_count": 69,
   "id": "e707e91c-9ef5-4004-ae16-4b283de8a13c",
   "metadata": {},
   "outputs": [
    {
     "data": {
      "text/html": [
       "<div>\n",
       "<style scoped>\n",
       "    .dataframe tbody tr th:only-of-type {\n",
       "        vertical-align: middle;\n",
       "    }\n",
       "\n",
       "    .dataframe tbody tr th {\n",
       "        vertical-align: top;\n",
       "    }\n",
       "\n",
       "    .dataframe thead th {\n",
       "        text-align: right;\n",
       "    }\n",
       "</style>\n",
       "<table border=\"1\" class=\"dataframe\">\n",
       "  <thead>\n",
       "    <tr style=\"text-align: right;\">\n",
       "      <th></th>\n",
       "      <th>index</th>\n",
       "      <th>date</th>\n",
       "      <th>datatype</th>\n",
       "      <th>station</th>\n",
       "      <th>flags</th>\n",
       "      <th>temp_C</th>\n",
       "      <th>temp_C_whole</th>\n",
       "      <th>temp_F</th>\n",
       "      <th>temp_F_whole</th>\n",
       "    </tr>\n",
       "  </thead>\n",
       "  <tbody>\n",
       "    <tr>\n",
       "      <th>0</th>\n",
       "      <td>0</td>\n",
       "      <td>2018-10-01</td>\n",
       "      <td>TAVG</td>\n",
       "      <td>GHCND:USW00014732</td>\n",
       "      <td>H,,S,</td>\n",
       "      <td>21.2</td>\n",
       "      <td>21</td>\n",
       "      <td>70.16</td>\n",
       "      <td>70</td>\n",
       "    </tr>\n",
       "    <tr>\n",
       "      <th>1</th>\n",
       "      <td>3</td>\n",
       "      <td>2018-10-02</td>\n",
       "      <td>TAVG</td>\n",
       "      <td>GHCND:USW00014732</td>\n",
       "      <td>H,,S,</td>\n",
       "      <td>22.7</td>\n",
       "      <td>22</td>\n",
       "      <td>72.86</td>\n",
       "      <td>72</td>\n",
       "    </tr>\n",
       "    <tr>\n",
       "      <th>2</th>\n",
       "      <td>6</td>\n",
       "      <td>2018-10-03</td>\n",
       "      <td>TAVG</td>\n",
       "      <td>GHCND:USW00014732</td>\n",
       "      <td>H,,S,</td>\n",
       "      <td>21.8</td>\n",
       "      <td>21</td>\n",
       "      <td>71.24</td>\n",
       "      <td>71</td>\n",
       "    </tr>\n",
       "    <tr>\n",
       "      <th>3</th>\n",
       "      <td>9</td>\n",
       "      <td>2018-10-04</td>\n",
       "      <td>TAVG</td>\n",
       "      <td>GHCND:USW00014732</td>\n",
       "      <td>H,,S,</td>\n",
       "      <td>21.3</td>\n",
       "      <td>21</td>\n",
       "      <td>70.34</td>\n",
       "      <td>70</td>\n",
       "    </tr>\n",
       "    <tr>\n",
       "      <th>4</th>\n",
       "      <td>12</td>\n",
       "      <td>2018-10-05</td>\n",
       "      <td>TAVG</td>\n",
       "      <td>GHCND:USW00014732</td>\n",
       "      <td>H,,S,</td>\n",
       "      <td>20.3</td>\n",
       "      <td>20</td>\n",
       "      <td>68.54</td>\n",
       "      <td>68</td>\n",
       "    </tr>\n",
       "  </tbody>\n",
       "</table>\n",
       "</div>"
      ],
      "text/plain": [
       "   index       date datatype            station  flags  temp_C  temp_C_whole  \\\n",
       "0      0 2018-10-01     TAVG  GHCND:USW00014732  H,,S,    21.2            21   \n",
       "1      3 2018-10-02     TAVG  GHCND:USW00014732  H,,S,    22.7            22   \n",
       "2      6 2018-10-03     TAVG  GHCND:USW00014732  H,,S,    21.8            21   \n",
       "3      9 2018-10-04     TAVG  GHCND:USW00014732  H,,S,    21.3            21   \n",
       "4     12 2018-10-05     TAVG  GHCND:USW00014732  H,,S,    20.3            20   \n",
       "\n",
       "   temp_F  temp_F_whole  \n",
       "0   70.16            70  \n",
       "1   72.86            72  \n",
       "2   71.24            71  \n",
       "3   70.34            70  \n",
       "4   68.54            68  "
      ]
     },
     "execution_count": 69,
     "metadata": {},
     "output_type": "execute_result"
    }
   ],
   "source": [
    "df[df.datatype == 'TAVG'].head().reset_index()"
   ]
  },
  {
   "cell_type": "markdown",
   "id": "5bc1a611-fdfd-4a42-aa83-7b73248b99f4",
   "metadata": {},
   "source": [
    "Set the date column as our index:"
   ]
  },
  {
   "cell_type": "code",
   "execution_count": 70,
   "id": "4e961171-37ba-4664-bc55-65f9d17ad015",
   "metadata": {},
   "outputs": [
    {
     "data": {
      "text/html": [
       "<div>\n",
       "<style scoped>\n",
       "    .dataframe tbody tr th:only-of-type {\n",
       "        vertical-align: middle;\n",
       "    }\n",
       "\n",
       "    .dataframe tbody tr th {\n",
       "        vertical-align: top;\n",
       "    }\n",
       "\n",
       "    .dataframe thead th {\n",
       "        text-align: right;\n",
       "    }\n",
       "</style>\n",
       "<table border=\"1\" class=\"dataframe\">\n",
       "  <thead>\n",
       "    <tr style=\"text-align: right;\">\n",
       "      <th></th>\n",
       "      <th>datatype</th>\n",
       "      <th>station</th>\n",
       "      <th>flags</th>\n",
       "      <th>temp_C</th>\n",
       "      <th>temp_C_whole</th>\n",
       "      <th>temp_F</th>\n",
       "      <th>temp_F_whole</th>\n",
       "    </tr>\n",
       "    <tr>\n",
       "      <th>date</th>\n",
       "      <th></th>\n",
       "      <th></th>\n",
       "      <th></th>\n",
       "      <th></th>\n",
       "      <th></th>\n",
       "      <th></th>\n",
       "      <th></th>\n",
       "    </tr>\n",
       "  </thead>\n",
       "  <tbody>\n",
       "    <tr>\n",
       "      <th>2018-10-01</th>\n",
       "      <td>TAVG</td>\n",
       "      <td>GHCND:USW00014732</td>\n",
       "      <td>H,,S,</td>\n",
       "      <td>21.2</td>\n",
       "      <td>21</td>\n",
       "      <td>70.16</td>\n",
       "      <td>70</td>\n",
       "    </tr>\n",
       "    <tr>\n",
       "      <th>2018-10-01</th>\n",
       "      <td>TMAX</td>\n",
       "      <td>GHCND:USW00014732</td>\n",
       "      <td>,,W,2400</td>\n",
       "      <td>25.6</td>\n",
       "      <td>25</td>\n",
       "      <td>78.08</td>\n",
       "      <td>78</td>\n",
       "    </tr>\n",
       "    <tr>\n",
       "      <th>2018-10-01</th>\n",
       "      <td>TMIN</td>\n",
       "      <td>GHCND:USW00014732</td>\n",
       "      <td>,,W,2400</td>\n",
       "      <td>18.3</td>\n",
       "      <td>18</td>\n",
       "      <td>64.94</td>\n",
       "      <td>64</td>\n",
       "    </tr>\n",
       "    <tr>\n",
       "      <th>2018-10-02</th>\n",
       "      <td>TAVG</td>\n",
       "      <td>GHCND:USW00014732</td>\n",
       "      <td>H,,S,</td>\n",
       "      <td>22.7</td>\n",
       "      <td>22</td>\n",
       "      <td>72.86</td>\n",
       "      <td>72</td>\n",
       "    </tr>\n",
       "    <tr>\n",
       "      <th>2018-10-02</th>\n",
       "      <td>TMAX</td>\n",
       "      <td>GHCND:USW00014732</td>\n",
       "      <td>,,W,2400</td>\n",
       "      <td>26.1</td>\n",
       "      <td>26</td>\n",
       "      <td>78.98</td>\n",
       "      <td>78</td>\n",
       "    </tr>\n",
       "  </tbody>\n",
       "</table>\n",
       "</div>"
      ],
      "text/plain": [
       "           datatype            station     flags  temp_C  temp_C_whole  \\\n",
       "date                                                                     \n",
       "2018-10-01     TAVG  GHCND:USW00014732     H,,S,    21.2            21   \n",
       "2018-10-01     TMAX  GHCND:USW00014732  ,,W,2400    25.6            25   \n",
       "2018-10-01     TMIN  GHCND:USW00014732  ,,W,2400    18.3            18   \n",
       "2018-10-02     TAVG  GHCND:USW00014732     H,,S,    22.7            22   \n",
       "2018-10-02     TMAX  GHCND:USW00014732  ,,W,2400    26.1            26   \n",
       "\n",
       "            temp_F  temp_F_whole  \n",
       "date                              \n",
       "2018-10-01   70.16            70  \n",
       "2018-10-01   78.08            78  \n",
       "2018-10-01   64.94            64  \n",
       "2018-10-02   72.86            72  \n",
       "2018-10-02   78.98            78  "
      ]
     },
     "execution_count": 70,
     "metadata": {},
     "output_type": "execute_result"
    }
   ],
   "source": [
    "df.set_index('date', inplace=True)\n",
    "df.head()"
   ]
  },
  {
   "cell_type": "markdown",
   "id": "f2638e13-8d2d-42a1-8f46-c89ea17fd1f1",
   "metadata": {},
   "source": [
    "Now that we have a DatetimeIndex, we can do datetime slicing. Provide a date format that pandas understand to grab the data. <br>\n",
    "All of 2018 = df['2018'] <br>\n",
    "Third quarter of 2018 = ['2018-Q3'] <br>\n",
    "October = df['2018-10'] <br>\n",
    "\n",
    "These can also be combined to build ranges. October 11, 2018 - October 12, 2018 (inclusive of both endpoints):\n"
   ]
  },
  {
   "cell_type": "code",
   "execution_count": 71,
   "id": "d742a82b-3a3b-435b-ba0d-266f2d326bd8",
   "metadata": {},
   "outputs": [
    {
     "data": {
      "text/html": [
       "<div>\n",
       "<style scoped>\n",
       "    .dataframe tbody tr th:only-of-type {\n",
       "        vertical-align: middle;\n",
       "    }\n",
       "\n",
       "    .dataframe tbody tr th {\n",
       "        vertical-align: top;\n",
       "    }\n",
       "\n",
       "    .dataframe thead th {\n",
       "        text-align: right;\n",
       "    }\n",
       "</style>\n",
       "<table border=\"1\" class=\"dataframe\">\n",
       "  <thead>\n",
       "    <tr style=\"text-align: right;\">\n",
       "      <th></th>\n",
       "      <th>datatype</th>\n",
       "      <th>station</th>\n",
       "      <th>flags</th>\n",
       "      <th>temp_C</th>\n",
       "      <th>temp_C_whole</th>\n",
       "      <th>temp_F</th>\n",
       "      <th>temp_F_whole</th>\n",
       "    </tr>\n",
       "    <tr>\n",
       "      <th>date</th>\n",
       "      <th></th>\n",
       "      <th></th>\n",
       "      <th></th>\n",
       "      <th></th>\n",
       "      <th></th>\n",
       "      <th></th>\n",
       "      <th></th>\n",
       "    </tr>\n",
       "  </thead>\n",
       "  <tbody>\n",
       "    <tr>\n",
       "      <th>2018-10-11</th>\n",
       "      <td>TAVG</td>\n",
       "      <td>GHCND:USW00014732</td>\n",
       "      <td>H,,S,</td>\n",
       "      <td>23.4</td>\n",
       "      <td>23</td>\n",
       "      <td>74.12</td>\n",
       "      <td>74</td>\n",
       "    </tr>\n",
       "    <tr>\n",
       "      <th>2018-10-11</th>\n",
       "      <td>TMAX</td>\n",
       "      <td>GHCND:USW00014732</td>\n",
       "      <td>,,W,2400</td>\n",
       "      <td>26.7</td>\n",
       "      <td>26</td>\n",
       "      <td>80.06</td>\n",
       "      <td>80</td>\n",
       "    </tr>\n",
       "    <tr>\n",
       "      <th>2018-10-11</th>\n",
       "      <td>TMIN</td>\n",
       "      <td>GHCND:USW00014732</td>\n",
       "      <td>,,W,2400</td>\n",
       "      <td>21.7</td>\n",
       "      <td>21</td>\n",
       "      <td>71.06</td>\n",
       "      <td>71</td>\n",
       "    </tr>\n",
       "    <tr>\n",
       "      <th>2018-10-12</th>\n",
       "      <td>TAVG</td>\n",
       "      <td>GHCND:USW00014732</td>\n",
       "      <td>H,,S,</td>\n",
       "      <td>18.3</td>\n",
       "      <td>18</td>\n",
       "      <td>64.94</td>\n",
       "      <td>64</td>\n",
       "    </tr>\n",
       "    <tr>\n",
       "      <th>2018-10-12</th>\n",
       "      <td>TMAX</td>\n",
       "      <td>GHCND:USW00014732</td>\n",
       "      <td>,,W,2400</td>\n",
       "      <td>22.2</td>\n",
       "      <td>22</td>\n",
       "      <td>71.96</td>\n",
       "      <td>71</td>\n",
       "    </tr>\n",
       "    <tr>\n",
       "      <th>2018-10-12</th>\n",
       "      <td>TMIN</td>\n",
       "      <td>GHCND:USW00014732</td>\n",
       "      <td>,,W,2400</td>\n",
       "      <td>12.2</td>\n",
       "      <td>12</td>\n",
       "      <td>53.96</td>\n",
       "      <td>53</td>\n",
       "    </tr>\n",
       "  </tbody>\n",
       "</table>\n",
       "</div>"
      ],
      "text/plain": [
       "           datatype            station     flags  temp_C  temp_C_whole  \\\n",
       "date                                                                     \n",
       "2018-10-11     TAVG  GHCND:USW00014732     H,,S,    23.4            23   \n",
       "2018-10-11     TMAX  GHCND:USW00014732  ,,W,2400    26.7            26   \n",
       "2018-10-11     TMIN  GHCND:USW00014732  ,,W,2400    21.7            21   \n",
       "2018-10-12     TAVG  GHCND:USW00014732     H,,S,    18.3            18   \n",
       "2018-10-12     TMAX  GHCND:USW00014732  ,,W,2400    22.2            22   \n",
       "2018-10-12     TMIN  GHCND:USW00014732  ,,W,2400    12.2            12   \n",
       "\n",
       "            temp_F  temp_F_whole  \n",
       "date                              \n",
       "2018-10-11   74.12            74  \n",
       "2018-10-11   80.06            80  \n",
       "2018-10-11   71.06            71  \n",
       "2018-10-12   64.94            64  \n",
       "2018-10-12   71.96            71  \n",
       "2018-10-12   53.96            53  "
      ]
     },
     "execution_count": 71,
     "metadata": {},
     "output_type": "execute_result"
    }
   ],
   "source": [
    "df['2018-10-11':'2018-10-12']"
   ]
  },
  {
   "cell_type": "code",
   "execution_count": 72,
   "id": "1ff1ced5-410f-4ed1-b7d0-8e9cadeb044f",
   "metadata": {},
   "outputs": [],
   "source": [
    "## The station value is constant and can be dropped.\n",
    "df = df.drop('station', axis=1)"
   ]
  },
  {
   "cell_type": "code",
   "execution_count": 73,
   "id": "6ab61510-34e5-4b1e-b348-a4fd0b743464",
   "metadata": {},
   "outputs": [
    {
     "data": {
      "text/html": [
       "<div>\n",
       "<style scoped>\n",
       "    .dataframe tbody tr th:only-of-type {\n",
       "        vertical-align: middle;\n",
       "    }\n",
       "\n",
       "    .dataframe tbody tr th {\n",
       "        vertical-align: top;\n",
       "    }\n",
       "\n",
       "    .dataframe thead th {\n",
       "        text-align: right;\n",
       "    }\n",
       "</style>\n",
       "<table border=\"1\" class=\"dataframe\">\n",
       "  <thead>\n",
       "    <tr style=\"text-align: right;\">\n",
       "      <th></th>\n",
       "      <th>datatype</th>\n",
       "      <th>flags</th>\n",
       "      <th>temp_C</th>\n",
       "      <th>temp_C_whole</th>\n",
       "      <th>temp_F</th>\n",
       "      <th>temp_F_whole</th>\n",
       "    </tr>\n",
       "    <tr>\n",
       "      <th>date</th>\n",
       "      <th></th>\n",
       "      <th></th>\n",
       "      <th></th>\n",
       "      <th></th>\n",
       "      <th></th>\n",
       "      <th></th>\n",
       "    </tr>\n",
       "  </thead>\n",
       "  <tbody>\n",
       "    <tr>\n",
       "      <th>2018-10-01</th>\n",
       "      <td>TAVG</td>\n",
       "      <td>H,,S,</td>\n",
       "      <td>21.2</td>\n",
       "      <td>21</td>\n",
       "      <td>70.16</td>\n",
       "      <td>70</td>\n",
       "    </tr>\n",
       "    <tr>\n",
       "      <th>2018-10-01</th>\n",
       "      <td>TMAX</td>\n",
       "      <td>,,W,2400</td>\n",
       "      <td>25.6</td>\n",
       "      <td>25</td>\n",
       "      <td>78.08</td>\n",
       "      <td>78</td>\n",
       "    </tr>\n",
       "    <tr>\n",
       "      <th>2018-10-01</th>\n",
       "      <td>TMIN</td>\n",
       "      <td>,,W,2400</td>\n",
       "      <td>18.3</td>\n",
       "      <td>18</td>\n",
       "      <td>64.94</td>\n",
       "      <td>64</td>\n",
       "    </tr>\n",
       "    <tr>\n",
       "      <th>2018-10-02</th>\n",
       "      <td>TAVG</td>\n",
       "      <td>H,,S,</td>\n",
       "      <td>22.7</td>\n",
       "      <td>22</td>\n",
       "      <td>72.86</td>\n",
       "      <td>72</td>\n",
       "    </tr>\n",
       "    <tr>\n",
       "      <th>2018-10-02</th>\n",
       "      <td>TMAX</td>\n",
       "      <td>,,W,2400</td>\n",
       "      <td>26.1</td>\n",
       "      <td>26</td>\n",
       "      <td>78.98</td>\n",
       "      <td>78</td>\n",
       "    </tr>\n",
       "    <tr>\n",
       "      <th>...</th>\n",
       "      <td>...</td>\n",
       "      <td>...</td>\n",
       "      <td>...</td>\n",
       "      <td>...</td>\n",
       "      <td>...</td>\n",
       "      <td>...</td>\n",
       "    </tr>\n",
       "    <tr>\n",
       "      <th>2018-10-30</th>\n",
       "      <td>TMAX</td>\n",
       "      <td>,,W,2400</td>\n",
       "      <td>13.9</td>\n",
       "      <td>13</td>\n",
       "      <td>57.02</td>\n",
       "      <td>57</td>\n",
       "    </tr>\n",
       "    <tr>\n",
       "      <th>2018-10-30</th>\n",
       "      <td>TMIN</td>\n",
       "      <td>,,W,2400</td>\n",
       "      <td>7.2</td>\n",
       "      <td>7</td>\n",
       "      <td>44.96</td>\n",
       "      <td>44</td>\n",
       "    </tr>\n",
       "    <tr>\n",
       "      <th>2018-10-31</th>\n",
       "      <td>TAVG</td>\n",
       "      <td>H,,S,</td>\n",
       "      <td>12.6</td>\n",
       "      <td>12</td>\n",
       "      <td>54.68</td>\n",
       "      <td>54</td>\n",
       "    </tr>\n",
       "    <tr>\n",
       "      <th>2018-10-31</th>\n",
       "      <td>TMAX</td>\n",
       "      <td>,,W,2400</td>\n",
       "      <td>17.8</td>\n",
       "      <td>17</td>\n",
       "      <td>64.04</td>\n",
       "      <td>64</td>\n",
       "    </tr>\n",
       "    <tr>\n",
       "      <th>2018-10-31</th>\n",
       "      <td>TMIN</td>\n",
       "      <td>,,W,2400</td>\n",
       "      <td>7.2</td>\n",
       "      <td>7</td>\n",
       "      <td>44.96</td>\n",
       "      <td>44</td>\n",
       "    </tr>\n",
       "  </tbody>\n",
       "</table>\n",
       "<p>93 rows × 6 columns</p>\n",
       "</div>"
      ],
      "text/plain": [
       "           datatype     flags  temp_C  temp_C_whole  temp_F  temp_F_whole\n",
       "date                                                                     \n",
       "2018-10-01     TAVG     H,,S,    21.2            21   70.16            70\n",
       "2018-10-01     TMAX  ,,W,2400    25.6            25   78.08            78\n",
       "2018-10-01     TMIN  ,,W,2400    18.3            18   64.94            64\n",
       "2018-10-02     TAVG     H,,S,    22.7            22   72.86            72\n",
       "2018-10-02     TMAX  ,,W,2400    26.1            26   78.98            78\n",
       "...             ...       ...     ...           ...     ...           ...\n",
       "2018-10-30     TMAX  ,,W,2400    13.9            13   57.02            57\n",
       "2018-10-30     TMIN  ,,W,2400     7.2             7   44.96            44\n",
       "2018-10-31     TAVG     H,,S,    12.6            12   54.68            54\n",
       "2018-10-31     TMAX  ,,W,2400    17.8            17   64.04            64\n",
       "2018-10-31     TMIN  ,,W,2400     7.2             7   44.96            44\n",
       "\n",
       "[93 rows x 6 columns]"
      ]
     },
     "metadata": {},
     "output_type": "display_data"
    }
   ],
   "source": [
    "display(df)"
   ]
  },
  {
   "cell_type": "code",
   "execution_count": 74,
   "id": "24ec0830-7df9-498c-94a1-cb94450100e4",
   "metadata": {},
   "outputs": [
    {
     "name": "stdout",
     "output_type": "stream",
     "text": [
      "['H,,S,' ',,W,2400']\n"
     ]
    }
   ],
   "source": [
    "# Get unique values in the 'flags' column\n",
    "unique_flags = df['flags'].unique()\n",
    "print(unique_flags)"
   ]
  },
  {
   "cell_type": "code",
   "execution_count": 75,
   "id": "85d129a9-180b-4464-8e0f-3d7d2a75c235",
   "metadata": {},
   "outputs": [
    {
     "name": "stdout",
     "output_type": "stream",
     "text": [
      "flags\n",
      ",,W,2400    62\n",
      "H,,S,       31\n",
      "Name: count, dtype: int64\n"
     ]
    }
   ],
   "source": [
    "# Count the frequency of each unique flag\n",
    "flag_counts = df['flags'].value_counts()\n",
    "print(flag_counts)"
   ]
  },
  {
   "cell_type": "code",
   "execution_count": 80,
   "id": "7cc2e290-e444-499e-b5d6-4b7362181e10",
   "metadata": {},
   "outputs": [],
   "source": [
    "# Clean the flag column\n",
    "df['flags'] = df['flags'].replace(r',+', ',', regex=True)  # Replace multiple commas with a single comma\n",
    "df['flags'] = df['flags'].str.strip(',')  # Strip leading/trailing commas"
   ]
  },
  {
   "cell_type": "code",
   "execution_count": 81,
   "id": "28865252-e50c-4a6b-bcf1-7305b6bc0b64",
   "metadata": {},
   "outputs": [
    {
     "data": {
      "text/html": [
       "<div>\n",
       "<style scoped>\n",
       "    .dataframe tbody tr th:only-of-type {\n",
       "        vertical-align: middle;\n",
       "    }\n",
       "\n",
       "    .dataframe tbody tr th {\n",
       "        vertical-align: top;\n",
       "    }\n",
       "\n",
       "    .dataframe thead th {\n",
       "        text-align: right;\n",
       "    }\n",
       "</style>\n",
       "<table border=\"1\" class=\"dataframe\">\n",
       "  <thead>\n",
       "    <tr style=\"text-align: right;\">\n",
       "      <th></th>\n",
       "      <th>datatype</th>\n",
       "      <th>flags</th>\n",
       "      <th>temp_C</th>\n",
       "      <th>temp_C_whole</th>\n",
       "      <th>temp_F</th>\n",
       "      <th>temp_F_whole</th>\n",
       "    </tr>\n",
       "    <tr>\n",
       "      <th>date</th>\n",
       "      <th></th>\n",
       "      <th></th>\n",
       "      <th></th>\n",
       "      <th></th>\n",
       "      <th></th>\n",
       "      <th></th>\n",
       "    </tr>\n",
       "  </thead>\n",
       "  <tbody>\n",
       "    <tr>\n",
       "      <th>2018-10-01</th>\n",
       "      <td>TAVG</td>\n",
       "      <td>H,S</td>\n",
       "      <td>21.2</td>\n",
       "      <td>21</td>\n",
       "      <td>70.16</td>\n",
       "      <td>70</td>\n",
       "    </tr>\n",
       "    <tr>\n",
       "      <th>2018-10-01</th>\n",
       "      <td>TMAX</td>\n",
       "      <td>W,2400</td>\n",
       "      <td>25.6</td>\n",
       "      <td>25</td>\n",
       "      <td>78.08</td>\n",
       "      <td>78</td>\n",
       "    </tr>\n",
       "    <tr>\n",
       "      <th>2018-10-01</th>\n",
       "      <td>TMIN</td>\n",
       "      <td>W,2400</td>\n",
       "      <td>18.3</td>\n",
       "      <td>18</td>\n",
       "      <td>64.94</td>\n",
       "      <td>64</td>\n",
       "    </tr>\n",
       "    <tr>\n",
       "      <th>2018-10-02</th>\n",
       "      <td>TAVG</td>\n",
       "      <td>H,S</td>\n",
       "      <td>22.7</td>\n",
       "      <td>22</td>\n",
       "      <td>72.86</td>\n",
       "      <td>72</td>\n",
       "    </tr>\n",
       "    <tr>\n",
       "      <th>2018-10-02</th>\n",
       "      <td>TMAX</td>\n",
       "      <td>W,2400</td>\n",
       "      <td>26.1</td>\n",
       "      <td>26</td>\n",
       "      <td>78.98</td>\n",
       "      <td>78</td>\n",
       "    </tr>\n",
       "    <tr>\n",
       "      <th>...</th>\n",
       "      <td>...</td>\n",
       "      <td>...</td>\n",
       "      <td>...</td>\n",
       "      <td>...</td>\n",
       "      <td>...</td>\n",
       "      <td>...</td>\n",
       "    </tr>\n",
       "    <tr>\n",
       "      <th>2018-10-30</th>\n",
       "      <td>TMAX</td>\n",
       "      <td>W,2400</td>\n",
       "      <td>13.9</td>\n",
       "      <td>13</td>\n",
       "      <td>57.02</td>\n",
       "      <td>57</td>\n",
       "    </tr>\n",
       "    <tr>\n",
       "      <th>2018-10-30</th>\n",
       "      <td>TMIN</td>\n",
       "      <td>W,2400</td>\n",
       "      <td>7.2</td>\n",
       "      <td>7</td>\n",
       "      <td>44.96</td>\n",
       "      <td>44</td>\n",
       "    </tr>\n",
       "    <tr>\n",
       "      <th>2018-10-31</th>\n",
       "      <td>TAVG</td>\n",
       "      <td>H,S</td>\n",
       "      <td>12.6</td>\n",
       "      <td>12</td>\n",
       "      <td>54.68</td>\n",
       "      <td>54</td>\n",
       "    </tr>\n",
       "    <tr>\n",
       "      <th>2018-10-31</th>\n",
       "      <td>TMAX</td>\n",
       "      <td>W,2400</td>\n",
       "      <td>17.8</td>\n",
       "      <td>17</td>\n",
       "      <td>64.04</td>\n",
       "      <td>64</td>\n",
       "    </tr>\n",
       "    <tr>\n",
       "      <th>2018-10-31</th>\n",
       "      <td>TMIN</td>\n",
       "      <td>W,2400</td>\n",
       "      <td>7.2</td>\n",
       "      <td>7</td>\n",
       "      <td>44.96</td>\n",
       "      <td>44</td>\n",
       "    </tr>\n",
       "  </tbody>\n",
       "</table>\n",
       "<p>93 rows × 6 columns</p>\n",
       "</div>"
      ],
      "text/plain": [
       "           datatype   flags  temp_C  temp_C_whole  temp_F  temp_F_whole\n",
       "date                                                                   \n",
       "2018-10-01     TAVG     H,S    21.2            21   70.16            70\n",
       "2018-10-01     TMAX  W,2400    25.6            25   78.08            78\n",
       "2018-10-01     TMIN  W,2400    18.3            18   64.94            64\n",
       "2018-10-02     TAVG     H,S    22.7            22   72.86            72\n",
       "2018-10-02     TMAX  W,2400    26.1            26   78.98            78\n",
       "...             ...     ...     ...           ...     ...           ...\n",
       "2018-10-30     TMAX  W,2400    13.9            13   57.02            57\n",
       "2018-10-30     TMIN  W,2400     7.2             7   44.96            44\n",
       "2018-10-31     TAVG     H,S    12.6            12   54.68            54\n",
       "2018-10-31     TMAX  W,2400    17.8            17   64.04            64\n",
       "2018-10-31     TMIN  W,2400     7.2             7   44.96            44\n",
       "\n",
       "[93 rows x 6 columns]"
      ]
     },
     "metadata": {},
     "output_type": "display_data"
    }
   ],
   "source": [
    "display(df)"
   ]
  },
  {
   "cell_type": "code",
   "execution_count": 82,
   "id": "e5a47d33-a88f-4963-a2a6-0fd4ccacb4ec",
   "metadata": {},
   "outputs": [],
   "source": [
    "import matplotlib.pyplot as plt"
   ]
  },
  {
   "cell_type": "code",
   "execution_count": 83,
   "id": "d582ca39-d79a-47ae-8208-3c0f07e91c63",
   "metadata": {},
   "outputs": [
    {
     "data": {
      "text/plain": [
       "<Figure size 1000x600 with 0 Axes>"
      ]
     },
     "metadata": {},
     "output_type": "display_data"
    },
    {
     "data": {
      "image/png": "[encoded data removed]",
      "text/plain": [
       "<Figure size 640x480 with 1 Axes>"
      ]
     },
     "metadata": {},
     "output_type": "display_data"
    }
   ],
   "source": [
    "# Pivot the data\n",
    "df_plot = df.pivot_table(index='date', columns='datatype', values='temp_C')\n",
    "\n",
    "# Plot the data\n",
    "plt.figure(figsize=(10, 6))\n",
    "df_plot.plot(kind='line')\n",
    "\n",
    "# Step 4: Customize the plot\n",
    "plt.title('Daily Temperature: TMAX, TMIN, TAVG')\n",
    "plt.xlabel('Date')\n",
    "plt.ylabel('Temperature (°C)')\n",
    "plt.legend(title='Temperature Type')\n",
    "plt.grid(True)\n",
    "\n",
    "# Show the plot\n",
    "plt.tight_layout()\n",
    "plt.show()"
   ]
  }
 ],
 "metadata": {
  "kernelspec": {
   "display_name": "Python 3 (ipykernel)",
   "language": "python",
   "name": "python3"
  },
  "language_info": {
   "codemirror_mode": {
    "name": "ipython",
    "version": 3
   },
   "file_extension": ".py",
   "mimetype": "text/x-python",
   "name": "python",
   "nbconvert_exporter": "python",
   "pygments_lexer": "ipython3",
   "version": "3.12.1"
  }
 },
 "nbformat": 4,
 "nbformat_minor": 5
}
