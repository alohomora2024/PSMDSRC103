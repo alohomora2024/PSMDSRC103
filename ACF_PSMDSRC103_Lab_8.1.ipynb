{
 "cells": [
  {
   "cell_type": "markdown",
   "id": "210e16a0-370a-451a-b4db-2698c932ba29",
   "metadata": {},
   "source": [
    "# Hands-on Activity 8.1 CRUD Operations using Python and SQLite3"
   ]
  },
  {
   "cell_type": "markdown",
   "id": "f8bcca4b-e7c5-40ca-9737-dfb04d02eb9c",
   "metadata": {},
   "source": [
    "## 8.1.2 Procedures:"
   ]
  },
  {
   "cell_type": "markdown",
   "id": "d4b54ced-2e2b-41d5-8149-a356e5c502de",
   "metadata": {},
   "source": [
    "### Create\n",
    "Inserting or creating a new record within the table. \n",
    "\n",
    "Letʼs create an example table within Sqlite Database.\n",
    "\n",
    "- The conn = sqlite3.connect(‘students.dbʼ) is the connection method and it is pretty simple with SQLite DB but it will differ with different databases."
   ]
  },
  {
   "cell_type": "code",
   "execution_count": 1,
   "id": "84a0b9b7-005f-40cd-a2eb-75a0e8b0b4c2",
   "metadata": {},
   "outputs": [],
   "source": [
    "# Creating table into database\n",
    "import sqlite3\n",
    "# Connect to sqlite database\n",
    "conn = sqlite3.connect('students.db')\n",
    "# cursor object\n",
    "cursor = conn.cursor()\n",
    "# drop query\n",
    "cursor.execute(\"DROP TABLE IF EXISTS STUDENT\")\n",
    "# create query\n",
    "query = \"\"\"CREATE TABLE STUDENT(\n",
    "        ID INT PRIMARY KEY NOT NULL,\n",
    "        NAME CHAR(20) NOT NULL,\n",
    "        ROLL CHAR(20),\n",
    "        ADDRESS CHAR(50),\n",
    "        CLASS CHAR(20) )\"\"\"\n",
    "cursor.execute(query)\n",
    "# commit and close\n",
    "conn.commit()\n",
    "conn.close()"
   ]
  },
  {
   "cell_type": "markdown",
   "id": "65cc2cb4-d5a9-40f8-8a2e-a6f7ab7a1d22",
   "metadata": {},
   "source": [
    "- The cursor.execute() method execute sqlite queries."
   ]
  },
  {
   "cell_type": "code",
   "execution_count": null,
   "id": "d56923b9-0e4d-4822-9c3e-fdb6eea0fc84",
   "metadata": {},
   "outputs": [],
   "source": [
    "\"\"\"\n",
    "CREATE TABLE table_name (\n",
    "column name datatype properity,\n",
    "...\n",
    "...\n",
    ");\n",
    "\"\"\""
   ]
  },
  {
   "cell_type": "markdown",
   "id": "6d6af097-cbba-4bec-8d35-50aaf1a347c5",
   "metadata": {},
   "source": [
    "- The above syntax can be mapped with the query, there are three main attributes of a create query “column name datatype property”.\n",
    "- After every database operation, we should add a commit and close DB operation.\n"
   ]
  },
  {
   "cell_type": "code",
   "execution_count": 2,
   "id": "2c87fe80-3904-4fa5-a9c2-e470a2299401",
   "metadata": {},
   "outputs": [],
   "source": [
    "import sqlite3\n",
    "conn = sqlite3.connect('students.db')\n",
    "conn.execute(\"INSERT INTO STUDENT (ID,NAME,ROLL,ADDRESS,CLASS) \"\n",
    "\"VALUES (1, 'John', '001', 'Bangalore', '10th')\")\n",
    "conn.execute(\"INSERT INTO STUDENT (ID,NAME,ROLL,ADDRESS,CLASS) \"\n",
    "\"VALUES (2, 'Naren', '002', 'Hyd', '12th')\")\n",
    "conn.commit()\n",
    "conn.close()"
   ]
  },
  {
   "cell_type": "markdown",
   "id": "f76d1ff3-8e1e-4105-a756-04522c8452d9",
   "metadata": {},
   "source": [
    "- The above query syntax is hardcode data insertion.\n",
    "- When we have data from an external input then we can modify the syntax this way."
   ]
  },
  {
   "cell_type": "code",
   "execution_count": 3,
   "id": "10fd19ab-9534-4d8f-a435-b1055490e704",
   "metadata": {},
   "outputs": [],
   "source": [
    "conn = sqlite3.connect('students.db')\n",
    "query = ('INSERT INTO STUDENT (ID,NAME,ROLL,ADDRESS,CLASS) '\n",
    "'VALUES (:ID, :NAME, :ROLL, :ADDRESS, :CLASS);')\n",
    "params = {\n",
    "'ID': 3,\n",
    "'NAME': 'Jax',\n",
    "'ROLL': '003',\n",
    "'ADDRESS': 'Delhi',\n",
    "'CLASS': '9th'\n",
    "}\n",
    "conn.execute(query, params)\n",
    "conn.commit()\n",
    "conn.close()"
   ]
  },
  {
   "cell_type": "markdown",
   "id": "5a622526-343d-4bfa-940d-95f73a2f86a9",
   "metadata": {},
   "source": [
    "## Read"
   ]
  },
  {
   "cell_type": "markdown",
   "id": "3135cbb2-aee1-4ab8-9cf8-414aa24702a9",
   "metadata": {},
   "source": [
    "This is an important operation because this belongs to Select query and has a lot more verity in fetching the records from the database. sometimes this operation will be very\n",
    "tricky with multiple table database, Here are a few examples of select operations."
   ]
  },
  {
   "cell_type": "code",
   "execution_count": 4,
   "id": "6517e8b4-9da7-414d-9ff9-4c5531b9053d",
   "metadata": {},
   "outputs": [
    {
     "name": "stdout",
     "output_type": "stream",
     "text": [
      "[(1, 'John', '001', 'Bangalore', '10th'), (2, 'Naren', '002', 'Hyd', '12th'), (3, 'Jax', '003', 'Delhi', '9th')]\n"
     ]
    }
   ],
   "source": [
    "import sqlite3\n",
    "conn = sqlite3.connect('students.db')\n",
    "cursor = conn.execute(\"SELECT * from STUDENT\")\n",
    "print(cursor.fetchall())\n",
    "conn.close()"
   ]
  },
  {
   "cell_type": "markdown",
   "id": "892c2e3d-aaff-4317-b8d7-3ce59f13439f",
   "metadata": {},
   "source": [
    "- The simplest way fetching all the data “SELECT * from TABLENAME”"
   ]
  },
  {
   "cell_type": "markdown",
   "id": "70906c5d-d8af-46c3-bfa8-a8b5f246ae38",
   "metadata": {},
   "source": [
    ">SELECT column1, column2, columnN FROM table_name;"
   ]
  },
  {
   "cell_type": "markdown",
   "id": "78b61cf9-c34e-4be6-a8aa-b81f104d1cb8",
   "metadata": {},
   "source": [
    "- We can mention only those column names are required.\n",
    "- It is always good practice to mention names of the column if all the data is not required to fetch"
   ]
  },
  {
   "cell_type": "markdown",
   "id": "a667bd13-f69d-406c-9f83-b30d6c37066b",
   "metadata": {},
   "source": [
    "> SELECT column1, column2, columnN FROM table_name WHERE column_name = value;"
   ]
  },
  {
   "cell_type": "markdown",
   "id": "d4c6e658-e3b5-4609-b780-2454343c20ea",
   "metadata": {},
   "source": [
    "- where clause returns specific rows which record will match with the value."
   ]
  },
  {
   "cell_type": "markdown",
   "id": "8912893c-b6d9-4d3d-9576-54322659d44b",
   "metadata": {},
   "source": [
    "## Update"
   ]
  },
  {
   "cell_type": "markdown",
   "id": "a3bc6f0d-9182-4448-aa2d-ec3641d0d9ba",
   "metadata": {},
   "source": [
    "The update is changing the existing record, the simple rule of the update is to use the best approach to reach the record and change it."
   ]
  },
  {
   "cell_type": "code",
   "execution_count": 6,
   "id": "0fec2022-8421-4cb0-9905-e7fecdf49343",
   "metadata": {},
   "outputs": [
    {
     "name": "stdout",
     "output_type": "stream",
     "text": [
      "[(1, 'John', '5', 'Bangalore', '10th'), (2, 'Naren', '002', 'Hyd', '12th'), (3, 'Jax', '003', 'Delhi', '9th')]\n"
     ]
    }
   ],
   "source": [
    "import sqlite3\n",
    "conn = sqlite3.connect('students.db')\n",
    "conn.execute(\"UPDATE STUDENT set ROLL = 005 where ID = 1\")\n",
    "conn.commit()\n",
    "cursor = conn.execute(\"SELECT * from STUDENT\")\n",
    "print(cursor.fetchall())\n",
    "conn.close()"
   ]
  },
  {
   "cell_type": "markdown",
   "id": "6c316f4e-3895-46d7-8b62-9c1b954d0dbd",
   "metadata": {},
   "source": [
    "## Delete"
   ]
  },
  {
   "cell_type": "markdown",
   "id": "1491160f-f574-4a25-b104-5bcd8ceb852d",
   "metadata": {},
   "source": [
    "Removing any records from the table is a DELETE operation and the code below shows the delete query example."
   ]
  },
  {
   "cell_type": "code",
   "execution_count": 9,
   "id": "b805b622-b21b-4d8d-a06d-c5feb32b1a96",
   "metadata": {},
   "outputs": [
    {
     "name": "stdout",
     "output_type": "stream",
     "text": [
      "[(1, 'John', '5', 'Bangalore', '10th'), (3, 'Jax', '003', 'Delhi', '9th')]\n"
     ]
    }
   ],
   "source": [
    "import sqlite3\n",
    "conn = sqlite3.connect('students.db')\n",
    "conn.execute(\"DELETE from STUDENT where ID = 2;\")\n",
    "conn.commit()\n",
    "cursor = conn.execute(\"SELECT * from STUDENT\")\n",
    "print(cursor.fetchall())\n",
    "conn.close()"
   ]
  },
  {
   "cell_type": "markdown",
   "id": "7db63317-af8d-4509-9457-7df82dc3ff08",
   "metadata": {},
   "source": [
    "These are the basic CRUD operations on the SQLite database using python."
   ]
  },
  {
   "cell_type": "code",
   "execution_count": 10,
   "id": "01ddf54a-f005-4076-96d5-f6dd085df4ac",
   "metadata": {},
   "outputs": [
    {
     "name": "stdout",
     "output_type": "stream",
     "text": [
      "No active transaction.\n"
     ]
    }
   ],
   "source": [
    "import sqlite3\n",
    "\n",
    "# Connect to the SQLite database\n",
    "conn = sqlite3.connect('students.db')\n",
    "\n",
    "# Check if the connection is in a transaction\n",
    "if conn.in_transaction:\n",
    "    print(\"There is an active transaction.\")\n",
    "else:\n",
    "    print(\"No active transaction.\")\n",
    "\n",
    "# Don't forget to close the connection when you're done\n",
    "conn.close()\n"
   ]
  },
  {
   "cell_type": "markdown",
   "id": "1a7c3b31-49ef-43fe-a47a-12a1542ac9f0",
   "metadata": {},
   "source": [
    "## 8.1.3 Supplementary Activity:"
   ]
  },
  {
   "cell_type": "markdown",
   "id": "51c07f2a-47c9-4436-a290-9259501d0cf7",
   "metadata": {},
   "source": [
    "For this activity, you must simulate a banking ecosystem through Python and SQLite 3. The database (banking.db) must have the following tables with the following attributes:\n",
    "\n",
    "- User\n",
    "    - Customer Name\n",
    "    - Account Number\n",
    "    - Address\n",
    "    - Phone\n",
    "\n",
    "This user must be able to create account, withdraw and deposit. The account table must have the following details:\n",
    "\n",
    "- Account\n",
    "    - accNo\n",
    "    - custName\n",
    "    - balance\n",
    "      \n",
    "The account must be able to get updates and checked for balance. Lastly, a bank table containing the details of the bank must have the following:\n",
    "- Bank\n",
    "    - custDetails\n",
    "    - loanDetails\n",
    "    - txNo\n",
    "    - txDate\n",
    "    - txTime\n",
    "      \n",
    "The bank must be able to give loans, update details, collect money and make transactions. Use SQLite3 for your database and incorporate Python OOP techniques to perform the methods described. Enter your codes below.\n",
    "\n"
   ]
  },
  {
   "cell_type": "code",
   "execution_count": 1,
   "id": "308d0882-2611-40d7-a4d0-fa9acdaeae15",
   "metadata": {},
   "outputs": [],
   "source": [
    "import sqlite3\n",
    "\n",
    "# Connect to the SQLite database\n",
    "conn = sqlite3.connect('banking.db')\n",
    "\n",
    "# Create a cursor object\n",
    "cursor = conn.cursor()\n",
    "\n",
    "# Drop tables if they exist\n",
    "cursor.execute(\"DROP TABLE IF EXISTS User\")\n",
    "cursor.execute(\"DROP TABLE IF EXISTS Account\")\n",
    "cursor.execute(\"DROP TABLE IF EXISTS Bank\")\n",
    "\n",
    "# Create User table\n",
    "cursor.execute(\"\"\"\n",
    "CREATE TABLE user (\n",
    "    customer_id INTEGER PRIMARY KEY AUTOINCREMENT,\n",
    "    customer_firstname CHAR(100) NOT NULL,\n",
    "    customer_lastname CHAR(100) NOT NULL,\n",
    "    address VARCHAR(250),\n",
    "    phone INTEGER\n",
    ")\n",
    "\"\"\")\n",
    "\n",
    "# Create Account table\n",
    "cursor.execute(\"\"\"\n",
    "CREATE TABLE Account (\n",
    "    account_number INTEGER PRIMARY KEY,\n",
    "    customer_id INTEGER,\n",
    "    balance REAL DEFAULT 0,\n",
    "    FOREIGN KEY(customer_id) REFERENCES user(customer_id)\n",
    ")\n",
    "\"\"\")\n",
    "\n",
    "# Create Bank table\n",
    "cursor.execute(\"\"\"\n",
    "CREATE TABLE Bank (\n",
    "    txNo INTEGER PRIMARY KEY AUTOINCREMENT,\n",
    "    txDate DATE,\n",
    "    txTime TIME,\n",
    "    loan_number,\n",
    "    loan_balance,\n",
    "    customer_id\n",
    ")\n",
    "\"\"\")\n",
    "\n",
    "# Commit the changes to the database\n",
    "conn.commit()\n",
    "\n",
    "# Close the connection\n",
    "conn.close()\n",
    "\n"
   ]
  },
  {
   "cell_type": "code",
   "execution_count": null,
   "id": "7c64eafc-00fc-4a51-a1fe-d05f7e5c9875",
   "metadata": {},
   "outputs": [],
   "source": []
  }
 ],
 "metadata": {
  "kernelspec": {
   "display_name": "Python 3 (ipykernel)",
   "language": "python",
   "name": "python3"
  },
  "language_info": {
   "codemirror_mode": {
    "name": "ipython",
    "version": 3
   },
   "file_extension": ".py",
   "mimetype": "text/x-python",
   "name": "python",
   "nbconvert_exporter": "python",
   "pygments_lexer": "ipython3",
   "version": "3.12.1"
  }
 },
 "nbformat": 4,
 "nbformat_minor": 5
}
