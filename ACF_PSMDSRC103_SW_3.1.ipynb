{
 "cells": [
  {
   "cell_type": "markdown",
   "id": "4d166975-b7db-4dc4-9164-1c5fbb3ef408",
   "metadata": {},
   "source": [
    "### Create Class"
   ]
  },
  {
   "cell_type": "markdown",
   "id": "29a362d7-54cd-44cc-af04-d9503d3c063d",
   "metadata": {},
   "source": [
    "1. Create a folder named OOPIntro_LastName\n",
    "2. Create a Python file inside the OOPIntro_LastName folder named Accounts.py and copy the code shown below:"
   ]
  },
  {
   "cell_type": "code",
   "execution_count": 2,
   "id": "3fd5179e-cca0-45a7-9203-5899e5a98424",
   "metadata": {},
   "outputs": [],
   "source": [
    "\"\"\"\n",
    "    Accounts.py\n",
    "\"\"\"\n",
    "\n",
    "class Accounts(): # create the class\n",
    "    account_number = 0\n",
    "    account_firstname = \"\"\n",
    "    account_lastname = \"\"\n",
    "    current_balance = 0.0\n",
    "    address = \"\"\n",
    "    email = \"\"\n",
    "\n",
    "    def update_address(new_address):\n",
    "        Accounts.address = new_address\n",
    "\n",
    "    def update_email(new_email):\n",
    "        Accounts.email = new_email"
   ]
  },
  {
   "cell_type": "markdown",
   "id": "eb1fec3a-fb1f-450b-aee3-4d18d88eae03",
   "metadata": {},
   "source": [
    "3. Modify the Accounts.py and add self before the new_address and new_email."
   ]
  },
  {
   "cell_type": "code",
   "execution_count": 3,
   "id": "f2a2d5cc-b605-4568-9738-9f2da705c47f",
   "metadata": {},
   "outputs": [],
   "source": [
    "\"\"\"\n",
    "    Accounts2.py\n",
    "\"\"\"\n",
    "\n",
    "class Accounts():  # create the class\n",
    "    def __init__(self):\n",
    "        self.account_number = 0\n",
    "        self.account_firstname = \"\"\n",
    "        self.account_lastname = \"\"\n",
    "        self.current_balance = 0.0\n",
    "        self.address = \"\"\n",
    "        self.email = \"\"\n",
    "\n",
    "    def update_address(self, new_address):\n",
    "        self.address = new_address\n",
    "\n",
    "    def update_email(self, new_email):\n",
    "        self.email = new_email\n"
   ]
  },
  {
   "cell_type": "markdown",
   "id": "b995746d-c254-47b9-8032-2aceeea386fe",
   "metadata": {},
   "source": [
    "4. Create a new file named ATM.py and copy the code shown below:"
   ]
  },
  {
   "cell_type": "code",
   "execution_count": 4,
   "id": "e308bdd4-ce1a-4b0f-ae7d-d4e6be1a12e2",
   "metadata": {},
   "outputs": [],
   "source": [
    "\"\"\"\n",
    "    ATM.py\n",
    "\"\"\"\n",
    "\n",
    "class ATM(): # create the class\n",
    "    serial_number = 0\n",
    "    \n",
    "    def deposit(self, account, amount):\n",
    "        account.current_balance = account.current_balance + amount\n",
    "        print(\"Deposit Complete\")\n",
    "        \n",
    "    def withdraw(self, account, amount):\n",
    "        account.current_balance = account.current_balance - amount\n",
    "        print(\"Withdraw Complete\")\n",
    "\n",
    "    def check_currentbalance(self, account):\n",
    "        print(account.current_balance)"
   ]
  },
  {
   "cell_type": "markdown",
   "id": "ae63b622-7937-4bd0-b46c-263b7c904dc5",
   "metadata": {},
   "source": [
    "### Creating instances of Classes"
   ]
  },
  {
   "cell_type": "markdown",
   "id": "71da67c2-d09c-4aad-afb7-0b4254a6af20",
   "metadata": {},
   "source": [
    "5. Create a new file named main.py and copy the code shown below:"
   ]
  },
  {
   "cell_type": "code",
   "execution_count": 5,
   "id": "8809554d-f5aa-43b9-8e0b-ca37a9f98c50",
   "metadata": {},
   "outputs": [
    {
     "name": "stdout",
     "output_type": "stream",
     "text": [
      "Account 1\n",
      "Royce\n",
      "Chua\n",
      "1000\n",
      "Silver Street Quezon City\n",
      "roycechua123@gmail.com\n",
      "\n",
      "Account 2\n",
      "John\n",
      "Doe\n",
      "2000\n",
      "Gold Street Quezon City\n",
      "johndoe@yahoo.com\n"
     ]
    }
   ],
   "source": [
    "\"\"\"\n",
    "    main.py\n",
    "\"\"\"\n",
    "\n",
    "import Accounts\n",
    "\n",
    "Account1 = Accounts.Accounts() # create the instance/object\n",
    "\n",
    "print(\"Account 1\")\n",
    "Account1.account_firstname = \"Royce\"\n",
    "Account1.account_lastname = \"Chua\"\n",
    "Account1.current_balance = 1000\n",
    "Account1.address = \"Silver Street Quezon City\"\n",
    "Account1.email = \"roycechua123@gmail.com\"\n",
    "\n",
    "print(Account1.account_firstname)\n",
    "print(Account1.account_lastname)\n",
    "print(Account1.current_balance)\n",
    "print(Account1.address)\n",
    "print(Account1.email)\n",
    "\n",
    "print()\n",
    "\n",
    "Account2 = Accounts.Accounts() # create the instance/object\n",
    "Account2.account_firstname = \"John\"\n",
    "Account2.account_lastname = \"Doe\"\n",
    "Account2.current_balance = 2000\n",
    "Account2.address = \"Gold Street Quezon City\"\n",
    "Account2.email = \"johndoe@yahoo.com\"\n",
    "\n",
    "print(\"Account 2\")\n",
    "print(Account2.account_firstname)\n",
    "print(Account2.account_lastname)\n",
    "print(Account2.current_balance)\n",
    "print(Account2.address)\n",
    "print(Account2.email)"
   ]
  },
  {
   "cell_type": "markdown",
   "id": "b3822372-668b-49fb-9b67-4d198ebfbe9c",
   "metadata": {},
   "source": [
    "6. Run the main.py program and observe the output. Observe the variables names account_firstname, account_lastname as well as other variables being used in Account1 and Account2."
   ]
  },
  {
   "cell_type": "markdown",
   "id": "37a991dc-7c64-4b1f-8fa5-88e0e5b9c525",
   "metadata": {},
   "source": [
    "7. Modify the main.py program and add the code: <br>import ATM"
   ]
  },
  {
   "cell_type": "code",
   "execution_count": 6,
   "id": "0bb73873-83d5-4525-a64d-ecb5ec94afb3",
   "metadata": {},
   "outputs": [
    {
     "name": "stdout",
     "output_type": "stream",
     "text": [
      "Account 1\n",
      "Royce\n",
      "Chua\n",
      "1000\n",
      "Silver Street Quezon City\n",
      "roycechua123@gmail.com\n",
      "\n",
      "Account 2\n",
      "John\n",
      "Doe\n",
      "2000\n",
      "Gold Street Quezon City\n",
      "johndoe@yahoo.com\n"
     ]
    }
   ],
   "source": [
    "\"\"\"\n",
    "    main2.py\n",
    "\"\"\"\n",
    "\n",
    "import Accounts\n",
    "import ATM\n",
    "\n",
    "Account1 = Accounts.Accounts() # create the instance/object\n",
    "\n",
    "print(\"Account 1\")\n",
    "Account1.account_firstname = \"Royce\"\n",
    "Account1.account_lastname = \"Chua\"\n",
    "Account1.current_balance = 1000\n",
    "Account1.address = \"Silver Street Quezon City\"\n",
    "Account1.email = \"roycechua123@gmail.com\"\n",
    "\n",
    "print(Account1.account_firstname)\n",
    "print(Account1.account_lastname)\n",
    "print(Account1.current_balance)\n",
    "print(Account1.address)\n",
    "print(Account1.email)\n",
    "\n",
    "print()\n",
    "\n",
    "Account2 = Accounts.Accounts() # create the instance/object\n",
    "Account2.account_firstname = \"John\"\n",
    "Account2.account_lastname = \"Doe\"\n",
    "Account2.current_balance = 2000\n",
    "Account2.address = \"Gold Street Quezon City\"\n",
    "Account2.email = \"johndoe@yahoo.com\"\n",
    "\n",
    "print(\"Account 2\")\n",
    "print(Account2.account_firstname)\n",
    "print(Account2.account_lastname)\n",
    "print(Account2.current_balance)\n",
    "print(Account2.address)\n",
    "print(Account2.email)"
   ]
  },
  {
   "cell_type": "code",
   "execution_count": null,
   "id": "dbf367ed-587d-40d2-9d6c-5c86b629a67e",
   "metadata": {},
   "outputs": [],
   "source": []
  }
 ],
 "metadata": {
  "kernelspec": {
   "display_name": "Python 3 (ipykernel)",
   "language": "python",
   "name": "python3"
  },
  "language_info": {
   "codemirror_mode": {
    "name": "ipython",
    "version": 3
   },
   "file_extension": ".py",
   "mimetype": "text/x-python",
   "name": "python",
   "nbconvert_exporter": "python",
   "pygments_lexer": "ipython3",
   "version": "3.12.1"
  }
 },
 "nbformat": 4,
 "nbformat_minor": 5
}
