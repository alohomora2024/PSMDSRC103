{
 "cells": [
  {
   "cell_type": "markdown",
   "id": "c3df86f0-de3f-452f-b8bd-0d9a89ae72f1",
   "metadata": {},
   "source": [
    "## OOP Methodologies"
   ]
  },
  {
   "cell_type": "markdown",
   "id": "b5a8d838-78df-4c45-84b4-8344b6b8640d",
   "metadata": {},
   "source": [
    "1. Run the procedures below, note your observations.\n",
    "2. Answer the given exercises/questions after the procedures."
   ]
  },
  {
   "cell_type": "markdown",
   "id": "7c5ee4e6-2b38-4651-9ea5-8a0476e5b7b7",
   "metadata": {},
   "source": [
    "### Procedures:"
   ]
  },
  {
   "cell_type": "code",
   "execution_count": 5,
   "id": "363442da-77d5-4574-a34b-52c0caa33d25",
   "metadata": {},
   "outputs": [],
   "source": [
    "class class1():\n",
    "    #This is just a sample for the class\n",
    "    pass"
   ]
  },
  {
   "cell_type": "code",
   "execution_count": 6,
   "id": "46581880-3f9f-4399-a1b9-0075689c3118",
   "metadata": {},
   "outputs": [],
   "source": [
    "class employee():\n",
    "    def __init__(self, name, age, emp_id, salary):\n",
    "        self.name = name\n",
    "        self.age = age\n",
    "        self.salary = salary\n",
    "        self.id = emp_id"
   ]
  },
  {
   "cell_type": "code",
   "execution_count": 7,
   "id": "e2cefde3-a8fe-4a4b-a18d-c3813a0e8696",
   "metadata": {},
   "outputs": [],
   "source": [
    "emp1 = employee('Roman', 22, '0001', 1234)\n",
    "emp2 = employee('Richard', 23, '0002', 2345)"
   ]
  },
  {
   "cell_type": "code",
   "execution_count": 8,
   "id": "94b129ed-06db-4171-95a6-af2925075af1",
   "metadata": {},
   "outputs": [
    {
     "name": "stdout",
     "output_type": "stream",
     "text": [
      "{'name': 'Roman', 'age': 22, 'salary': 1234, 'id': '0001'}\n"
     ]
    }
   ],
   "source": [
    "print(emp1.__dict__)"
   ]
  },
  {
   "cell_type": "code",
   "execution_count": 9,
   "id": "8276a2d0-8b4d-4d2f-aa0f-7d6d199c8307",
   "metadata": {},
   "outputs": [
    {
     "name": "stdout",
     "output_type": "stream",
     "text": [
      "Roman 0\n",
      "PART TIME EMPLOYEE\n",
      "Richard 1\n",
      "PART TIME EMPLOYEE\n"
     ]
    }
   ],
   "source": [
    "# Single inheritance\n",
    "class employee(): # Parent class\n",
    "    emp_id = 0\n",
    "\n",
    "    def __init__(self, name, age, emp_id, salary):\n",
    "        self.name = name\n",
    "        self.age = age\n",
    "        temp_id = employee.emp_id\n",
    "        employee.emp_id += 1\n",
    "        self.id = temp_id\n",
    "\n",
    "    def printDetails(self):\n",
    "        print(self.name, self.id)\n",
    "\n",
    "class partTime(employee): # Child Class\n",
    "    \n",
    "    def status_PT(self):\n",
    "        self.printDetails()\n",
    "        print(\"PART TIME EMPLOYEE\")\n",
    "\n",
    "emp1 = partTime('Roman', 22, '0001', 1234.00)\n",
    "emp2 = partTime('Richard', 23, '0002', 2345.00)\n",
    "\n",
    "emp1.status_PT()\n",
    "emp2.status_PT()"
   ]
  },
  {
   "cell_type": "code",
   "execution_count": 2,
   "id": "cf4880ac-bc7b-4881-bfb8-d5e6d459fe88",
   "metadata": {},
   "outputs": [
    {
     "name": "stdout",
     "output_type": "stream",
     "text": [
      "Roman 0\n",
      "Roman 23\n",
      "PROFESSIONAL ID: 0\n",
      "EMPLOYEE ID: 0 \n",
      "\n",
      "Richard 1\n",
      "Richard 29\n",
      "PROFESSIONAL ID: 1\n",
      "EMPLOYEE ID: 1 \n",
      "\n"
     ]
    }
   ],
   "source": [
    "# Multiple Inheritance\n",
    "class employee(): # Parent class\n",
    "    emp_id = 0\n",
    "\n",
    "    def __init__(self, name, age, salary):\n",
    "        self.name = name\n",
    "        self.age = age\n",
    "        temp_id = employee.emp_id\n",
    "        employee.emp_id += 1\n",
    "        self.id = temp_id\n",
    "\n",
    "    def printDetails(self):\n",
    "        print(self.name, self.id)\n",
    "\n",
    "class professional(): \n",
    "    prc_id = 0\n",
    "    \n",
    "    def __init__(self, name, age):\n",
    "        self.name = name\n",
    "        self.age = age\n",
    "        self.pro_id = self.getID()\n",
    "\n",
    "    def getID(self):\n",
    "        temp_id = professional.prc_id\n",
    "        professional.prc_id += 1\n",
    "        self.pro_id = temp_id\n",
    "        return str(self.pro_id)\n",
    "\n",
    "class consultant(employee, professional):\n",
    "\n",
    "    def status(self):\n",
    "        print(self.name, self.age)\n",
    "        print(\"PROFESSIONAL ID: {}\".format(self.getID()))\n",
    "        print(\"EMPLOYEE ID: {}\".format(self.id), '\\n')\n",
    "\n",
    "consultant1 = consultant('Roman', 23, 1234.00)\n",
    "consultant1.printDetails()\n",
    "consultant1.status()\n",
    "\n",
    "consultant2 = consultant('Richard', 29, 2345.00)\n",
    "consultant2.printDetails()\n",
    "consultant2.status()"
   ]
  },
  {
   "cell_type": "code",
   "execution_count": 7,
   "id": "6adbc188-eaa4-47df-9261-32814409c243",
   "metadata": {},
   "outputs": [
    {
     "name": "stdout",
     "output_type": "stream",
     "text": [
      "No Valid Dept ID Set.\n"
     ]
    },
    {
     "name": "stdin",
     "output_type": "stream",
     "text": [
      "Input new ID:  2\n"
     ]
    },
    {
     "name": "stdout",
     "output_type": "stream",
     "text": [
      "Employee 0 is now supervising\n"
     ]
    }
   ],
   "source": [
    "# Multilevel inheritance\n",
    "class employee(): # Parent Class\n",
    "    emp_id = 0\n",
    "\n",
    "    def __init__(self, name, age, salary):\n",
    "        self.name = name\n",
    "        self.age = age\n",
    "        self.salary = salary\n",
    "        self.id = setEmpID()\n",
    "\n",
    "    def printDetails(self):\n",
    "        print(self.name, self.id)\n",
    "\n",
    "    def setEmpID(self):\n",
    "        temp_id = employee.emp_id\n",
    "        employee.emp_id += 1\n",
    "        return temp_id\n",
    "\n",
    "class middle(employee): # First Derived Class\n",
    "\n",
    "    def __init__(self, name, age, salary):\n",
    "        self.name = name\n",
    "        self.age = age\n",
    "        self.salary = salary\n",
    "        self.id = self.setEmpID()\n",
    "        self.deptID = self.setDept()\n",
    "\n",
    "    def setDept(self, newID=None):\n",
    "        if newID == None:\n",
    "            print(\"No Valid Dept ID Set.\")\n",
    "            self.deptID = int(input(\"Input new ID: \"))\n",
    "        else:\n",
    "            self.deptID = newID\n",
    "\n",
    "    def status(self):\n",
    "        print(\"{} had ID No. {}\".format(self.name, self.id))\n",
    "\n",
    "class supervisor(middle):\n",
    "\n",
    "    def supervise(self):\n",
    "        print(\"Employee {} is now supervising\".format(self.id))\n",
    "\n",
    "\n",
    "supervisor1 = supervisor('Roman', 23, 1234.00)\n",
    "supervisor1.supervise()"
   ]
  },
  {
   "cell_type": "code",
   "execution_count": 6,
   "id": "463fcff1-7d49-4036-a843-8521db268970",
   "metadata": {},
   "outputs": [
    {
     "name": "stdout",
     "output_type": "stream",
     "text": [
      "No Valid Dept ID Set.\n"
     ]
    },
    {
     "name": "stdin",
     "output_type": "stream",
     "text": [
      "Input new ID:  2\n"
     ]
    },
    {
     "name": "stdout",
     "output_type": "stream",
     "text": [
      "Department ID Set. \n",
      "\n",
      "No Valid Dept ID Set.\n"
     ]
    },
    {
     "name": "stdin",
     "output_type": "stream",
     "text": [
      "Input new ID:  2\n"
     ]
    },
    {
     "name": "stdout",
     "output_type": "stream",
     "text": [
      "Department ID Set. \n",
      "\n",
      "Middle: Roman has ID no. 0\n",
      "Top: Richard has ID no. 1\n"
     ]
    }
   ],
   "source": [
    "# Hierarchical Inheritance\n",
    "class employee(): # Parent Class\n",
    "    emp_id = 0\n",
    "\n",
    "    def __init__(self, name, age, salary):\n",
    "        self.name = name\n",
    "        self.age = age\n",
    "        self.salary = salary\n",
    "        self.id = setEmpID()\n",
    "\n",
    "    def printDetails(self):\n",
    "        print(self.name, self.id)\n",
    "\n",
    "    def setEmpID(self):\n",
    "        temp_id = employee.emp_id\n",
    "        employee.emp_id += 1\n",
    "        return temp_id\n",
    "\n",
    "\n",
    "class middle(employee): # First Child Class\n",
    "\n",
    "    def __init__(self, name, age, salary):\n",
    "        self.name = name\n",
    "        self.age = age\n",
    "        self.salary = salary\n",
    "        self.id = self.setEmpID()\n",
    "        self.deptID = self.setDept()\n",
    "\n",
    "    def setDept(self, newID=None):\n",
    "        if newID == None:\n",
    "            print(\"No Valid Dept ID Set.\")\n",
    "            self.deptID = int(input(\"Input new ID: \"))\n",
    "        else:\n",
    "            self.deptID = newID\n",
    "        print(\"Department ID Set. \\n\")\n",
    "\n",
    "    def status(self):\n",
    "        print(\"Middle: {} has ID no. {}\".format(self.name, self.id))\n",
    "\n",
    "\n",
    "class top(employee): # Second Child Class\n",
    "\n",
    "    def __init__(self, name, age, salary):\n",
    "        self.name = name\n",
    "        self.age = age\n",
    "        self.salary = salary\n",
    "        self.id = self.setEmpID()\n",
    "        self.deptID = self.setDept()  \n",
    "\n",
    "    def setDept(self, newID=None):\n",
    "        if newID == None:\n",
    "            print(\"No Valid Dept ID Set.\")\n",
    "            self.deptID = int(input(\"Input new ID: \"))\n",
    "        else:\n",
    "            self.deptID = newID\n",
    "        print(\"Department ID Set. \\n\")\n",
    "        \n",
    "    def status(self):\n",
    "        print(\"Top: {} has ID no. {}\".format(self.name, self.id))\n",
    "\n",
    "\n",
    "emp1 = middle('Roman', 29, 1234.00)\n",
    "emp2 = top('Richard', 29, 2345.00)\n",
    "\n",
    "emp1.status()\n",
    "emp2.status()"
   ]
  }
 ],
 "metadata": {
  "kernelspec": {
   "display_name": "Python 3 (ipykernel)",
   "language": "python",
   "name": "python3"
  },
  "language_info": {
   "codemirror_mode": {
    "name": "ipython",
    "version": 3
   },
   "file_extension": ".py",
   "mimetype": "text/x-python",
   "name": "python",
   "nbconvert_exporter": "python",
   "pygments_lexer": "ipython3",
   "version": "3.12.1"
  }
 },
 "nbformat": 4,
 "nbformat_minor": 5
}
