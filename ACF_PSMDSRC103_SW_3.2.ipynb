{
 "cells": [
  {
   "cell_type": "markdown",
   "id": "c3df86f0-de3f-452f-b8bd-0d9a89ae72f1",
   "metadata": {},
   "source": [
    "## OOP Methodologies"
   ]
  },
  {
   "cell_type": "markdown",
   "id": "b5a8d838-78df-4c45-84b4-8344b6b8640d",
   "metadata": {},
   "source": [
    "1. Run the procedures below, note your observations.\n",
    "2. Answer the given exercises/questions after the procedures."
   ]
  },
  {
   "cell_type": "markdown",
   "id": "7c5ee4e6-2b38-4651-9ea5-8a0476e5b7b7",
   "metadata": {},
   "source": [
    "### Procedures:"
   ]
  },
  {
   "cell_type": "code",
   "execution_count": 1,
   "id": "363442da-77d5-4574-a34b-52c0caa33d25",
   "metadata": {},
   "outputs": [],
   "source": [
    "class class1():\n",
    "    #This is just a sample for the class\n",
    "    pass"
   ]
  },
  {
   "cell_type": "code",
   "execution_count": 2,
   "id": "46581880-3f9f-4399-a1b9-0075689c3118",
   "metadata": {},
   "outputs": [],
   "source": [
    "class employee():\n",
    "    def __init__(self, name, age, emp_id, salary):\n",
    "        self.name = name\n",
    "        self.age = age\n",
    "        self.salary = salary\n",
    "        self.id = emp_id"
   ]
  },
  {
   "cell_type": "code",
   "execution_count": 3,
   "id": "e2cefde3-a8fe-4a4b-a18d-c3813a0e8696",
   "metadata": {},
   "outputs": [],
   "source": [
    "emp1 = employee('Roman', 22, '0001', 1234)\n",
    "emp2 = employee('Richard', 23, '0002', 2345)"
   ]
  },
  {
   "cell_type": "markdown",
   "id": "2c8e081a-6aa2-4802-9b0e-7ae38c3ab265",
   "metadata": {},
   "source": [
    "Two instance of the employee class are created. Python creates a new object per instance with attributes set to the values passed in the constructor (__init__). "
   ]
  },
  {
   "cell_type": "code",
   "execution_count": 4,
   "id": "94b129ed-06db-4171-95a6-af2925075af1",
   "metadata": {},
   "outputs": [
    {
     "name": "stdout",
     "output_type": "stream",
     "text": [
      "{'name': 'Roman', 'age': 22, 'salary': 1234, 'id': '0001'}\n"
     ]
    }
   ],
   "source": [
    "print(emp1.__dict__)"
   ]
  },
  {
   "cell_type": "markdown",
   "id": "dd365268-afcb-401d-a58b-59038a65688d",
   "metadata": {},
   "source": [
    "The print(emp1.__dict__) statement prints out the dictionary representation of the emp1 object.\n",
    "The output shows the name, age, salary and id attributes with their respective values."
   ]
  },
  {
   "cell_type": "code",
   "execution_count": 5,
   "id": "8276a2d0-8b4d-4d2f-aa0f-7d6d199c8307",
   "metadata": {},
   "outputs": [
    {
     "name": "stdout",
     "output_type": "stream",
     "text": [
      "Roman 0\n",
      "PART TIME EMPLOYEE\n",
      "Richard 1\n",
      "PART TIME EMPLOYEE\n"
     ]
    }
   ],
   "source": [
    "# Single inheritance\n",
    "class employee(): # Parent class\n",
    "    emp_id = 0\n",
    "\n",
    "    def __init__(self, name, age, emp_id, salary):\n",
    "        self.name = name\n",
    "        self.age = age\n",
    "        temp_id = employee.emp_id\n",
    "        employee.emp_id += 1\n",
    "        self.id = temp_id\n",
    "\n",
    "    def printDetails(self):\n",
    "        print(self.name, self.id)\n",
    "\n",
    "class partTime(employee): # Child Class\n",
    "    \n",
    "    def status_PT(self):\n",
    "        self.printDetails()\n",
    "        print(\"PART TIME EMPLOYEE\")\n",
    "\n",
    "emp1 = partTime('Roman', 22, '0001', 1234.00)\n",
    "emp2 = partTime('Richard', 23, '0002', 2345.00)\n",
    "\n",
    "emp1.status_PT()\n",
    "emp2.status_PT()"
   ]
  },
  {
   "cell_type": "markdown",
   "id": "bd590e47-f707-41bb-9a2c-6f9e7e7d68ea",
   "metadata": {},
   "source": [
    "The partTime class inherits from the employee class. This allows the partTime class to access the attributes and methods of the employee class.\n",
    "\n",
    "partTime's status_PT method calls the inherited printDetails method from employee to display basic employee information. Then it adds a specific message \"PART TIME EMPLOYEE\" to identify the employee type."
   ]
  },
  {
   "cell_type": "code",
   "execution_count": 6,
   "id": "cf4880ac-bc7b-4881-bfb8-d5e6d459fe88",
   "metadata": {},
   "outputs": [
    {
     "name": "stdout",
     "output_type": "stream",
     "text": [
      "Roman 0\n",
      "Roman 23\n",
      "PROFESSIONAL ID: 0\n",
      "EMPLOYEE ID: 0 \n",
      "\n",
      "Richard 1\n",
      "Richard 29\n",
      "PROFESSIONAL ID: 1\n",
      "EMPLOYEE ID: 1 \n",
      "\n"
     ]
    }
   ],
   "source": [
    "# Multiple Inheritance\n",
    "class employee(): # Parent class\n",
    "    emp_id = 0\n",
    "\n",
    "    def __init__(self, name, age, salary):\n",
    "        self.name = name\n",
    "        self.age = age\n",
    "        temp_id = employee.emp_id\n",
    "        employee.emp_id += 1\n",
    "        self.id = temp_id\n",
    "\n",
    "    def printDetails(self):\n",
    "        print(self.name, self.id)\n",
    "\n",
    "class professional(): \n",
    "    prc_id = 0\n",
    "    \n",
    "    def __init__(self, name, age):\n",
    "        self.name = name\n",
    "        self.age = age\n",
    "        self.pro_id = self.getID()\n",
    "\n",
    "    def getID(self):\n",
    "        temp_id = professional.prc_id\n",
    "        professional.prc_id += 1\n",
    "        self.pro_id = temp_id\n",
    "        return str(self.pro_id)\n",
    "\n",
    "class consultant(employee, professional):\n",
    "\n",
    "    def status(self):\n",
    "        print(self.name, self.age)\n",
    "        print(\"PROFESSIONAL ID: {}\".format(self.getID()))\n",
    "        print(\"EMPLOYEE ID: {}\".format(self.id), '\\n')\n",
    "\n",
    "consultant1 = consultant('Roman', 23, 1234.00)\n",
    "consultant1.printDetails()\n",
    "consultant1.status()\n",
    "\n",
    "consultant2 = consultant('Richard', 29, 2345.00)\n",
    "consultant2.printDetails()\n",
    "consultant2.status()"
   ]
  },
  {
   "cell_type": "markdown",
   "id": "839a4fe4-1534-4450-b4d8-dec42f9ca568",
   "metadata": {},
   "source": [
    "The consultant class is a child of both employee and professional which allows it to inherit attributes and methods from both classes.\n",
    "\n",
    "Each parent class (employee and professional) has its own class variable to generate unique IDs (emp_id and prc_id).\n",
    "\n",
    "In consultant.status(), the inherited printDetails() from employee class is used to print basic employee info while the self.getID() inherited from professional class is used to generate a unique professional ID."
   ]
  },
  {
   "cell_type": "code",
   "execution_count": 7,
   "id": "6adbc188-eaa4-47df-9261-32814409c243",
   "metadata": {},
   "outputs": [
    {
     "name": "stdout",
     "output_type": "stream",
     "text": [
      "No Valid Dept ID Set.\n"
     ]
    },
    {
     "name": "stdin",
     "output_type": "stream",
     "text": [
      "Input new ID:  2\n"
     ]
    },
    {
     "name": "stdout",
     "output_type": "stream",
     "text": [
      "Employee 0 is now supervising\n"
     ]
    }
   ],
   "source": [
    "# Multilevel inheritance\n",
    "class employee(): # Parent Class\n",
    "    emp_id = 0\n",
    "\n",
    "    def __init__(self, name, age, salary):\n",
    "        self.name = name\n",
    "        self.age = age\n",
    "        self.salary = salary\n",
    "        self.id = setEmpID()\n",
    "\n",
    "    def printDetails(self):\n",
    "        print(self.name, self.id)\n",
    "\n",
    "    def setEmpID(self):\n",
    "        temp_id = employee.emp_id\n",
    "        employee.emp_id += 1\n",
    "        return temp_id\n",
    "\n",
    "class middle(employee): # First Derived Class\n",
    "\n",
    "    def __init__(self, name, age, salary):\n",
    "        self.name = name\n",
    "        self.age = age\n",
    "        self.salary = salary\n",
    "        self.id = self.setEmpID()\n",
    "        self.deptID = self.setDept()\n",
    "\n",
    "    def setDept(self, newID=None):\n",
    "        if newID == None:\n",
    "            print(\"No Valid Dept ID Set.\")\n",
    "            self.deptID = int(input(\"Input new ID: \"))\n",
    "        else:\n",
    "            self.deptID = newID\n",
    "\n",
    "    def status(self):\n",
    "        print(\"{} had ID No. {}\".format(self.name, self.id))\n",
    "\n",
    "class supervisor(middle):\n",
    "\n",
    "    def supervise(self):\n",
    "        print(\"Employee {} is now supervising\".format(self.id))\n",
    "\n",
    "\n",
    "supervisor1 = supervisor('Roman', 23, 1234.00)\n",
    "supervisor1.supervise()"
   ]
  },
  {
   "cell_type": "markdown",
   "id": "7fd51571-86f9-47a3-9034-8ab31b075f55",
   "metadata": {},
   "source": [
    "supervisor inherits from middle which in turn inherits from employee.\n",
    "The middle class has a deptID attribute and a setDept method which allows optional user input or assigning a provided department ID."
   ]
  },
  {
   "cell_type": "code",
   "execution_count": 9,
   "id": "9dd3572c-57e0-4512-8e5b-f041f3f7ac00",
   "metadata": {},
   "outputs": [
    {
     "name": "stdout",
     "output_type": "stream",
     "text": [
      "No Valid Dept ID Set.\n"
     ]
    },
    {
     "name": "stdin",
     "output_type": "stream",
     "text": [
      "Input new ID:  2\n"
     ]
    },
    {
     "name": "stdout",
     "output_type": "stream",
     "text": [
      "Department ID Set. \n",
      "\n",
      "No Valid Dept ID Set.\n"
     ]
    },
    {
     "name": "stdin",
     "output_type": "stream",
     "text": [
      "Input new ID:  2\n"
     ]
    },
    {
     "name": "stdout",
     "output_type": "stream",
     "text": [
      "Department ID Set. \n",
      "\n",
      "Middle: Roman has ID no. 0\n",
      "Top: Richard has ID no. 1\n"
     ]
    }
   ],
   "source": [
    "# Hierarchical Inheritance\n",
    "class employee(): # Parent Class\n",
    "    emp_id = 0\n",
    "\n",
    "    def __init__(self, name, age, salary):\n",
    "        self.name = name\n",
    "        self.age = age\n",
    "        self.salary = salary\n",
    "        self.id = setEmpID()\n",
    "\n",
    "    def printDetails(self):\n",
    "        print(self.name, self.id)\n",
    "\n",
    "    def setEmpID(self):\n",
    "        temp_id = employee.emp_id\n",
    "        employee.emp_id += 1\n",
    "        return temp_id\n",
    "\n",
    "\n",
    "class middle(employee): # First Child Class\n",
    "\n",
    "    def __init__(self, name, age, salary):\n",
    "        self.name = name\n",
    "        self.age = age\n",
    "        self.salary = salary\n",
    "        self.id = self.setEmpID()\n",
    "        self.deptID = self.setDept()\n",
    "\n",
    "    def setDept(self, newID=None):\n",
    "        if newID == None:\n",
    "            print(\"No Valid Dept ID Set.\")\n",
    "            self.deptID = int(input(\"Input new ID: \"))\n",
    "        else:\n",
    "            self.deptID = newID\n",
    "        print(\"Department ID Set. \\n\")\n",
    "\n",
    "    def status(self):\n",
    "        print(\"Middle: {} has ID no. {}\".format(self.name, self.id))\n",
    "\n",
    "\n",
    "class top(employee): # Second Child Class\n",
    "\n",
    "    def __init__(self, name, age, salary):\n",
    "        self.name = name\n",
    "        self.age = age\n",
    "        self.salary = salary\n",
    "        self.id = self.setEmpID()\n",
    "        self.deptID = self.setDept()  \n",
    "\n",
    "    def setDept(self, newID=None):\n",
    "        if newID == None:\n",
    "            print(\"No Valid Dept ID Set.\")\n",
    "            self.deptID = int(input(\"Input new ID: \"))\n",
    "        else:\n",
    "            self.deptID = newID\n",
    "        print(\"Department ID Set. \\n\")\n",
    "        \n",
    "    def status(self):\n",
    "        print(\"Top: {} has ID no. {}\".format(self.name, self.id))\n",
    "\n",
    "\n",
    "emp1 = middle('Roman', 29, 1234.00)\n",
    "emp2 = top('Richard', 29, 2345.00)\n",
    "\n",
    "emp1.status()\n",
    "emp2.status()"
   ]
  },
  {
   "cell_type": "markdown",
   "id": "06b11764-a95c-4d7c-aae6-c69c36dc0a79",
   "metadata": {},
   "source": [
    "The parent class (employee) has two child classes: middle and top.\n",
    "The setDept method in both middle and top classes asks for user input since there's no department ID assigned to emp1 and emp2."
   ]
  },
  {
   "cell_type": "code",
   "execution_count": 10,
   "id": "0a18b6c6-3348-44b9-87af-e93a3ad7ce7b",
   "metadata": {},
   "outputs": [
    {
     "name": "stdout",
     "output_type": "stream",
     "text": [
      "No Valid Dept ID Set.\n"
     ]
    },
    {
     "name": "stdin",
     "output_type": "stream",
     "text": [
      "Input new ID:  2\n"
     ]
    },
    {
     "name": "stdout",
     "output_type": "stream",
     "text": [
      "Department ID Set. \n",
      "\n"
     ]
    },
    {
     "ename": "AttributeError",
     "evalue": "'top' object has no attribute '_top__salary'",
     "output_type": "error",
     "traceback": [
      "\u001b[0;31m---------------------------------------------------------------------------\u001b[0m",
      "\u001b[0;31mAttributeError\u001b[0m                            Traceback (most recent call last)",
      "Cell \u001b[0;32mIn[10], line 73\u001b[0m\n\u001b[1;32m     70\u001b[0m         \u001b[38;5;28mprint\u001b[39m(\u001b[38;5;28mself\u001b[39m\u001b[38;5;241m.\u001b[39m__salary)\n\u001b[1;32m     72\u001b[0m emp1 \u001b[38;5;241m=\u001b[39m top(\u001b[38;5;124m'\u001b[39m\u001b[38;5;124mRoman\u001b[39m\u001b[38;5;124m'\u001b[39m, \u001b[38;5;241m29\u001b[39m, \u001b[38;5;241m1234.00\u001b[39m)\n\u001b[0;32m---> 73\u001b[0m \u001b[43memp1\u001b[49m\u001b[38;5;241;43m.\u001b[39;49m\u001b[43mprintSalary\u001b[49m\u001b[43m(\u001b[49m\u001b[43m)\u001b[49m\n\u001b[1;32m     74\u001b[0m emp1\u001b[38;5;241m.\u001b[39msalary\n",
      "Cell \u001b[0;32mIn[10], line 70\u001b[0m, in \u001b[0;36mtop.printSalary\u001b[0;34m(self)\u001b[0m\n\u001b[1;32m     69\u001b[0m \u001b[38;5;28;01mdef\u001b[39;00m \u001b[38;5;21mprintSalary\u001b[39m(\u001b[38;5;28mself\u001b[39m):\n\u001b[0;32m---> 70\u001b[0m     \u001b[38;5;28mprint\u001b[39m(\u001b[38;5;28;43mself\u001b[39;49m\u001b[38;5;241;43m.\u001b[39;49m\u001b[43m__salary\u001b[49m)\n",
      "\u001b[0;31mAttributeError\u001b[0m: 'top' object has no attribute '_top__salary'"
     ]
    }
   ],
   "source": [
    "# Polymorphism\n",
    "class employee(): # Parent Class\n",
    "    emp_id = 0\n",
    "\n",
    "    def __init__(self, name, age, salary):\n",
    "        self.name = name\n",
    "        self.age = age\n",
    "        self.salary = salary\n",
    "        self.id = setEmpID()\n",
    "\n",
    "    def printDetails(self):\n",
    "        print(self.name, self.id)\n",
    "\n",
    "    def setEmpID(self):\n",
    "        temp_id = employee.emp_id\n",
    "        employee.emp_id += 1\n",
    "        return temp_id\n",
    "\n",
    "\n",
    "class middle(employee): # First Child Class\n",
    "\n",
    "    def __init__(self, name, age, salary):\n",
    "        self.name = name\n",
    "        self.age = age\n",
    "        self.salary = salary\n",
    "        self.id = self.setEmpID()\n",
    "        self.deptID = self.setDept()\n",
    "\n",
    "    def printDetails(self):\n",
    "        print(\"MIDDLE:\")\n",
    "        print(self.name, self.id)\n",
    "    \n",
    "    def setDept(self, newID=None):\n",
    "        if newID == None:\n",
    "            print(\"No Valid Dept ID Set.\")\n",
    "            self.deptID = int(input(\"Input new ID: \"))\n",
    "        else:\n",
    "            self.deptID = newID\n",
    "        print(\"Department ID Set. \\n\")\n",
    "\n",
    "    def status(self):\n",
    "        print(\"Middle: {} has ID no. {}\".format(self.name, self.id))\n",
    "\n",
    "\n",
    "class top(employee): # Second Child Class\n",
    "\n",
    "    def __init__(self, name, age, salary):\n",
    "        self.name = name\n",
    "        self.age = age\n",
    "        self.salary = salary\n",
    "        self.id = self.setEmpID()\n",
    "        self.deptID = self.setDept()  \n",
    "   \n",
    "    def printDetails(self):\n",
    "        print(\"TOP:\")\n",
    "        print(self.name, self.id)\n",
    "    \n",
    "    def setDept(self, newID=None):\n",
    "        if newID == None:\n",
    "            print(\"No Valid Dept ID Set.\")\n",
    "            self.deptID = int(input(\"Input new ID: \"))\n",
    "        else:\n",
    "            self.deptID = newID\n",
    "        print(\"Department ID Set. \\n\")\n",
    "        \n",
    "    def status(self):\n",
    "        print(\"Top: {} has ID no. {}\".format(self.name, self.id))\n",
    "\n",
    "    def printSalary(self):\n",
    "        print(self.__salary)\n",
    "\n",
    "emp1 = top('Roman', 29, 1234.00)\n",
    "emp1.printSalary()\n",
    "emp1.salary\n",
    "\n"
   ]
  },
  {
   "cell_type": "markdown",
   "id": "4ec30926-4ef5-4144-80c0-0bad325e2450",
   "metadata": {},
   "source": [
    "Both middle and top classes inherit the printDetails method from the employee class, but they override it to provide their own specific output format (\"MIDDLE:\" or \"TOP:\").\n",
    "\n",
    "The attempt to access emp1.printSalary() will result in an AttributeError because the top class doesn't define a public attribute or method named printSalary. \n",
    "\n",
    "To address the AttributeError, a printSalary method can be defined in the top class that accesses the salary attribute or a public getter method can be provided to retrieve the salary value in the employee class."
   ]
  },
  {
   "cell_type": "markdown",
   "id": "3d7555a0-87e0-4aa8-909d-49d075648f4e",
   "metadata": {},
   "source": [
    "### Exercises:"
   ]
  },
  {
   "cell_type": "markdown",
   "id": "d7f63578-36d1-4f17-8c73-1438f899b182",
   "metadata": {},
   "source": [
    "**Question 1**: Methods can be two types, getters and setters. Getters take values by parameter passing and setters set values in the given class.\n",
    "\n",
    "- Create a class student with appropriate attributes.\n",
    "- Create getter and setter methods for it.\n",
    "\n",
    "Note: Take into account that the student's ID number, name and other important details must not be puclicly available. It must only be accessed by appropriate class meethods."
   ]
  },
  {
   "cell_type": "code",
   "execution_count": 7,
   "id": "97b5c97f-2ec3-4056-b000-1e8c651bec03",
   "metadata": {},
   "outputs": [
    {
     "name": "stdout",
     "output_type": "stream",
     "text": [
      "12345\n",
      "Harry Potter\n",
      "16\n",
      "86\n",
      "Hermione Granger\n",
      "15\n",
      "99\n"
     ]
    }
   ],
   "source": [
    "class Student:\n",
    "    def __init__(self, student_id, name, age, grade):\n",
    "        self.__student_id = student_id\n",
    "        self.__name = name\n",
    "        self.__age = age\n",
    "        self.__grade = grade\n",
    "\n",
    "    # Getter methods\n",
    "    def student_id(self):\n",
    "        return self.__student_id\n",
    "\n",
    "    def name(self):\n",
    "        return self.__name\n",
    "\n",
    "    def age(self):\n",
    "        return self.__age\n",
    "\n",
    "    def grade(self):\n",
    "        return self.__grade\n",
    "\n",
    "    # Setter methods\n",
    "    def set_name(self, new_name):\n",
    "        self.__name = new_name\n",
    "\n",
    "    def set_age(self, new_age):\n",
    "        self.__age = new_age\n",
    "\n",
    "    def set_grade(self, new_grade):\n",
    "        self.__grade = new_grade\n",
    "\n",
    "# Create a student object\n",
    "student1 = Student(\"12345\", \"Harry Potter\", 16, 86)\n",
    "student2 = Student(\"67890\", \"Harry Potter\", 16, 86)\n",
    "\n",
    "# Print student1 information\n",
    "print(student1.student_id())  \n",
    "print(student1.name())      \n",
    "print(student1.age())  \n",
    "print(student1.grade())       \n",
    "\n",
    "# Modify student2 information\n",
    "student2.set_name(\"Hermione Granger\")\n",
    "student2.set_age(15)\n",
    "student2.set_grade(99)\n",
    "\n",
    "# Access updated student2 information\n",
    "print(student2.name())    \n",
    "print(student2.age())        \n",
    "print(student2.grade())      "
   ]
  },
  {
   "cell_type": "markdown",
   "id": "8b98a837-0990-4343-8af8-f787f04236ee",
   "metadata": {},
   "source": [
    "**Question 2**: A graduate student is different in the undergraduate program.\n",
    "\n",
    "- Create a class undergrad that derives from the class student.\n",
    "- Create a class graduate that derives from the class student.\n",
    "- Create appropriate attributes and methods for each derived class.\n",
    "\n",
    "What type of inheritance is shown here?"
   ]
  },
  {
   "cell_type": "code",
   "execution_count": 8,
   "id": "a18f37d1-37c7-42e9-8f70-c4cf58ac0b84",
   "metadata": {},
   "outputs": [
    {
     "name": "stdout",
     "output_type": "stream",
     "text": [
      "Defense Against the Dark Arts\n",
      "Muggle Studies\n"
     ]
    }
   ],
   "source": [
    "class Student:\n",
    "    def __init__(self, student_id, name, age, grade):\n",
    "        self.__student_id = student_id\n",
    "        self.__name = name\n",
    "        self.__age = age\n",
    "        self.__grade = grade\n",
    "\n",
    "    # Getter methods\n",
    "    def student_id(self):\n",
    "        return self.__student_id\n",
    "\n",
    "    def name(self):\n",
    "        return self.__name\n",
    "\n",
    "    def age(self):\n",
    "        return self.__age\n",
    "\n",
    "    def grade(self):\n",
    "        return self.__grade\n",
    "\n",
    "    # Setter methods\n",
    "    def set_name(self, new_name):\n",
    "        self.__name = new_name\n",
    "\n",
    "    def set_age(self, new_age):\n",
    "        self.__age = new_age\n",
    "\n",
    "    def set_grade(self, new_grade):\n",
    "        self.__grade = new_grade\n",
    "\n",
    "\n",
    "class Undergrad(Student):\n",
    "    def __init__(self, student_id, name, age, grade, major):\n",
    "        super().__init__(student_id, name, age, grade)\n",
    "        self.__major = major\n",
    "\n",
    "    def major(self):\n",
    "        return self.__major\n",
    "\n",
    "    def set_major(self, new_major):\n",
    "        self.__major = new_major\n",
    "\n",
    "\n",
    "class Graduate(Student):\n",
    "    def __init__(self, student_id, name, age, grade, program):\n",
    "        super().__init__(student_id, name, age, grade)\n",
    "        self.__program = program\n",
    "\n",
    "    def program(self):\n",
    "        return self.__program\n",
    "\n",
    "    def set_program(self, new_program):\n",
    "        self.__program = new_program\n",
    "\n",
    "\n",
    "# Create a student object\n",
    "undergrad1 = Undergrad(\"12345\", \"Harry Potter\", 16, 86, \"Defense Against the Dark Arts\")\n",
    "graduate1 = Graduate(\"67890\", \"Hermione Granger\", 15, 99, \"Muggle Studies\")\n",
    "\n",
    "# Access student information\n",
    "print(undergrad1.major())    \n",
    "print(graduate1.program())   "
   ]
  },
  {
   "cell_type": "markdown",
   "id": "3c9e67a6-a066-4a72-989c-159ef1500056",
   "metadata": {},
   "source": [
    "This shows a single inheritance. The Undergrad and Graduate classes inherit from the Student class."
   ]
  },
  {
   "cell_type": "markdown",
   "id": "18b724a1-5487-473b-9e3f-68fd8038ab63",
   "metadata": {},
   "source": [
    "**Question 3**: A graduate student may be in the master's program or the doctorate program. Create the appropriate class for the doctorate program that sets it apart from the rest of the graduate program.\n",
    "\n",
    "- Justify the type of inheritance you used to answer this question.\n",
    "- How did you demonstrate polymorphism here?"
   ]
  },
  {
   "cell_type": "code",
   "execution_count": 2,
   "id": "9d0a9aab-5784-4f2c-b767-790db94153a2",
   "metadata": {},
   "outputs": [],
   "source": [
    "# Base class: Student\n",
    "class Student:\n",
    "    def __init__(self, student_id, name, age, grade):\n",
    "        self.__student_id = student_id\n",
    "        self.__name = name\n",
    "        self.__age = age\n",
    "        self.__grade = grade\n",
    "\n",
    "    # Getter methods\n",
    "    def student_id(self):\n",
    "        return self.__student_id\n",
    "\n",
    "    def name(self):\n",
    "        return self.__name\n",
    "\n",
    "    def age(self):\n",
    "        return self.__age\n",
    "\n",
    "    def grade(self):\n",
    "        return self.__grade\n",
    "\n",
    "    # Setter methods\n",
    "    def set_name(self, new_name):\n",
    "        self.__name = new_name\n",
    "\n",
    "    def set_age(self, new_age):\n",
    "        self.__age = new_age\n",
    "\n",
    "    def set_grade(self, new_grade):\n",
    "        self.__grade = new_grade\n",
    "\n",
    "class Graduate(Student):\n",
    "    def __init__(self, student_id, name, age, grade, program, degree_level):\n",
    "        super().__init__(student_id, name, age, grade)\n",
    "        self.__program = program\n",
    "        self.__degree_level = degree_level\n",
    "\n",
    "    def program(self):\n",
    "        return self.__program\n",
    "\n",
    "    def set_program(self, new_program):\n",
    "        self.__program = new_program\n",
    "\n",
    "    def degree_level(self):\n",
    "        return self.__degree_level\n",
    "\n",
    "    def set_degree_level(self, new_degree_level):\n",
    "        self.__degree_level = new_degree_level\n",
    "\n",
    "class Master(Graduate):\n",
    "    def __init__(self, student_id, name, age, grade, program):\n",
    "        super().__init__(student_id, name, age, grade, program, \"Master's\")\n",
    "    \n",
    "    def __str__(self):\n",
    "        return f\"{self.name()} is taking Master's in {self.program()}\"\n",
    "\n",
    "class Doctorate(Graduate):\n",
    "    def __init__(self, student_id, name, age, grade, program, research_area):\n",
    "        super().__init__(student_id, name, age, grade, program, \"Doctorate\")\n",
    "        self.__research_area = research_area\n",
    "\n",
    "    def research_area(self):\n",
    "        return self.__research_area\n",
    "\n",
    "    def set_research_area(self, new_research_area):\n",
    "        self.__research_area = new_research_area\n",
    "\n",
    "    def __str__(self):\n",
    "        return f\"{self.name()} is taking Doctorate in {self.program()}\""
   ]
  },
  {
   "cell_type": "code",
   "execution_count": 3,
   "id": "f2ba27b1-ba39-4e97-84b3-3f2f5328b85d",
   "metadata": {},
   "outputs": [
    {
     "name": "stdout",
     "output_type": "stream",
     "text": [
      "Harry Potter is taking Master's in Defense Against the Dark Arts\n",
      "Hermione Granger is taking Doctorate in Muggle Studies\n"
     ]
    }
   ],
   "source": [
    "master1 = Master(\"12345\", \"Harry Potter\", 16, 86, \"Defense Against the Dark Arts\")\n",
    "doctorate1 = Doctorate(\"67890\", \"Hermione Granger\", 15, 99, \"Muggle Studies\", \"Artificial Intelligence\")\n",
    "print(master1)\n",
    "print(doctorate1)"
   ]
  },
  {
   "cell_type": "markdown",
   "id": "7abaecde-a294-4702-8a8e-aaa0ce5afb07",
   "metadata": {},
   "source": [
    "The Graduate, Master, and Doctorate classes all inherit from the Student class. This means they automatically have the student_id, name, age, and grade attributes and methods inherited from the Student class.\n",
    "\n",
    "Polymorphism is displayed through method overriding. The same method (__str__) behaves differently depending on whether it's called from an instance of Master or Doctorate."
   ]
  },
  {
   "cell_type": "markdown",
   "id": "286aa727-4a59-4677-9e2b-65a2f6de79c3",
   "metadata": {},
   "source": [
    "**Question 4**: Create 3 instances of the master's class.\n",
    "\n",
    "- Test all the methods of the class\n",
    "- Use the **del** command to delete the object after the declaration and testing all the methods.\n",
    "- Call the same object and test the same methods. Does it work?"
   ]
  },
  {
   "cell_type": "code",
   "execution_count": 4,
   "id": "67b53953-f6eb-4b2e-88ad-8a05a295b7ee",
   "metadata": {},
   "outputs": [
    {
     "name": "stdout",
     "output_type": "stream",
     "text": [
      "Severus Snape\n",
      "30\n",
      "100\n",
      "Potions\n",
      "Neville Longbottom\n",
      "16\n",
      "90\n",
      "Defense Against the Dark Arts\n"
     ]
    }
   ],
   "source": [
    "# Create 3 instances of the Master's class\n",
    "master1 = Master(\"12345\", \"Harry Potter\", 16, 86, \"Defense Against the Dark Arts\")\n",
    "master2 = Master(\"67890\", \"Hermione Granger\", 15, 99, \"Muggle Studies\")\n",
    "master3 = Master(\"99999\", \"Severus Snape\", 30, 100, \"Potions\")\n",
    "\n",
    "# Test all methods \n",
    "print(master3.name())       \n",
    "print(master3.age())        \n",
    "print(master3.grade())      \n",
    "print(master3.program())    \n",
    "\n",
    "master3.set_name(\"Neville Longbottom\")\n",
    "master3.set_age(16)\n",
    "master3.set_grade(90)\n",
    "master3.set_program(\"Defense Against the Dark Arts\")\n",
    "\n",
    "# After changes\n",
    "print(master3.name())      \n",
    "print(master3.age())        \n",
    "print(master3.grade())      \n",
    "print(master3.program())    \n"
   ]
  },
  {
   "cell_type": "code",
   "execution_count": 5,
   "id": "3d818982-a9c1-45a0-aa85-031daef3bccd",
   "metadata": {},
   "outputs": [],
   "source": [
    "# Delete master 3\n",
    "del master3"
   ]
  },
  {
   "cell_type": "code",
   "execution_count": 6,
   "id": "47de04a3-db49-4edc-8dd0-cce00cc5d0d4",
   "metadata": {},
   "outputs": [
    {
     "ename": "NameError",
     "evalue": "name 'master3' is not defined",
     "output_type": "error",
     "traceback": [
      "\u001b[0;31m---------------------------------------------------------------------------\u001b[0m",
      "\u001b[0;31mNameError\u001b[0m                                 Traceback (most recent call last)",
      "Cell \u001b[0;32mIn[6], line 2\u001b[0m\n\u001b[1;32m      1\u001b[0m \u001b[38;5;66;03m# After deletion\u001b[39;00m\n\u001b[0;32m----> 2\u001b[0m \u001b[38;5;28mprint\u001b[39m(\u001b[43mmaster3\u001b[49m\u001b[38;5;241m.\u001b[39mname())       \n\u001b[1;32m      3\u001b[0m \u001b[38;5;28mprint\u001b[39m(master3\u001b[38;5;241m.\u001b[39mage())        \n\u001b[1;32m      4\u001b[0m \u001b[38;5;28mprint\u001b[39m(master3\u001b[38;5;241m.\u001b[39mgrade())      \n",
      "\u001b[0;31mNameError\u001b[0m: name 'master3' is not defined"
     ]
    }
   ],
   "source": [
    "# After deletion\n",
    "print(master3.name())       \n",
    "print(master3.age())        \n",
    "print(master3.grade())      \n",
    "print(master3.program())    "
   ]
  },
  {
   "cell_type": "markdown",
   "id": "cd394b06-1923-4893-8757-fcac583d55e3",
   "metadata": {},
   "source": [
    "Once the object was deleted using the del command, attempting to call its methods resulted to an error."
   ]
  }
 ],
 "metadata": {
  "kernelspec": {
   "display_name": "Python 3 (ipykernel)",
   "language": "python",
   "name": "python3"
  },
  "language_info": {
   "codemirror_mode": {
    "name": "ipython",
    "version": 3
   },
   "file_extension": ".py",
   "mimetype": "text/x-python",
   "name": "python",
   "nbconvert_exporter": "python",
   "pygments_lexer": "ipython3",
   "version": "3.12.1"
  }
 },
 "nbformat": 4,
 "nbformat_minor": 5
}
