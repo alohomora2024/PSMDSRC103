{
 "cells": [
  {
   "cell_type": "markdown",
   "id": "c3df86f0-de3f-452f-b8bd-0d9a89ae72f1",
   "metadata": {},
   "source": [
    "## OOP Methodologies"
   ]
  },
  {
   "cell_type": "markdown",
   "id": "b5a8d838-78df-4c45-84b4-8344b6b8640d",
   "metadata": {},
   "source": [
    "1. Run the procedures below, note your observations.\n",
    "2. Answer the given exercises/questions after the procedures."
   ]
  },
  {
   "cell_type": "markdown",
   "id": "7c5ee4e6-2b38-4651-9ea5-8a0476e5b7b7",
   "metadata": {},
   "source": [
    "### Procedures:"
   ]
  },
  {
   "cell_type": "code",
   "execution_count": null,
   "id": "363442da-77d5-4574-a34b-52c0caa33d25",
   "metadata": {},
   "outputs": [],
   "source": [
    "class class1():\n",
    "    #This is just a sample for the class\n",
    "    pass"
   ]
  },
  {
   "cell_type": "code",
   "execution_count": null,
   "id": "46581880-3f9f-4399-a1b9-0075689c3118",
   "metadata": {},
   "outputs": [],
   "source": [
    "class employee():\n",
    "    def __init__(self, name, age, emp_id, salary):\n",
    "        self.name = name\n",
    "        self.age = age\n",
    "        self.salary = salary\n",
    "        self.id = emp_id"
   ]
  },
  {
   "cell_type": "code",
   "execution_count": null,
   "id": "e2cefde3-a8fe-4a4b-a18d-c3813a0e8696",
   "metadata": {},
   "outputs": [],
   "source": [
    "emp1 = employee('Roman', 22, '0001', 1234)\n",
    "emp2 = employee('Richard', 23, '0002', 2345"
   ]
  }
 ],
 "metadata": {
  "kernelspec": {
   "display_name": "Python 3 (ipykernel)",
   "language": "python",
   "name": "python3"
  },
  "language_info": {
   "codemirror_mode": {
    "name": "ipython",
    "version": 3
   },
   "file_extension": ".py",
   "mimetype": "text/x-python",
   "name": "python",
   "nbconvert_exporter": "python",
   "pygments_lexer": "ipython3",
   "version": "3.12.1"
  }
 },
 "nbformat": 4,
 "nbformat_minor": 5
}
