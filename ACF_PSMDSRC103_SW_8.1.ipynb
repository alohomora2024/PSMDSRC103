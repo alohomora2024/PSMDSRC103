{
  "cells": [
    {
      "cell_type": "markdown",
      "metadata": {
        "id": "7Mz3tS1KN8HX"
      },
      "source": [
        "# CRUD Operations in Python\n",
        "\n",
        "**CRUD** is an acronym that stands for Create, Read, Update, and Delete. It refers to the four basic operations that can be performed on persistent data in a software system.\n",
        "\n",
        "Here is a brief explanation of each operation:\n",
        "\n",
        "* **Create**: This operation is used to add a new record to  the database. For example, when you create a new user account on a website, you are performing a create operation.\n",
        "\n",
        "* **Read**: This operation is used to retrieve data from the database. For example, when you view your profile information on a website, you are performing a read operation.\n",
        "\n",
        "* **Update**: This operation is used to modify existing data in the database. For example, when you update your email address or password on a website, you are performing an update operation.\n",
        "\n",
        "* **Delete**: This operation is used to remove data from the database. For example, when you delete a post or comment on a social media platform, you are performing a delete operation.\n",
        "\n",
        "These four operations are the basic building blocks of any database-driven application.\n",
        "\n"
      ]
    },
    {
      "cell_type": "code",
      "execution_count": 1,
      "metadata": {
        "colab": {
          "base_uri": "https://localhost:8080/",
          "height": 0
        },
        "id": "-wW1Ai4-PYcT",
        "outputId": "00e9b55f-0089-45e7-b6f5-d5c89aa023b7"
      },
      "outputs": [
        {
          "output_type": "stream",
          "name": "stdout",
          "text": [
            "{'id': 1, 'name': 'Alice', 'age': 25, 'email': 'alice@example.com'}\n",
            "{'id': 2, 'name': 'Bob', 'age': 30, 'email': 'bob@example.com'}\n",
            "{'id': 1, 'name': 'Alice', 'age': 25, 'email': 'alice@example.com'}\n",
            "{'id': 2, 'name': 'Bob Smith', 'age': 31, 'email': 'bob.smith@example.com'}\n",
            "None\n"
          ]
        }
      ],
      "source": [
        "class User:\n",
        "    def __init__(self, id, name, age, email):\n",
        "        self.id = id\n",
        "        self.name = name\n",
        "        self.age = age\n",
        "        self.email = email\n",
        "\n",
        "users = {}  # simulate a database using a dictionary\n",
        "\n",
        "# CREATE - Add a new user record to the database\n",
        "def create_user(name, age, email):\n",
        "    # generate a new id\n",
        "    id = len(users) + 1\n",
        "    user = User(id, name, age, email)\n",
        "    users[id] = user\n",
        "    return user\n",
        "\n",
        "# READ - Retrieve a user record from the database by id\n",
        "def get_user(id):\n",
        "    return users.get(id)\n",
        "\n",
        "# UPDATE - Update an existing user record in the database\n",
        "def update_user(id, name, age, email):\n",
        "    user = users.get(id)\n",
        "    if user:\n",
        "        user.name = name\n",
        "        user.age = age\n",
        "        user.email = email\n",
        "        return user\n",
        "\n",
        "# DELETE - Remove a user record from the database by id\n",
        "def delete_user(id):\n",
        "    return users.pop(id, None)\n",
        "\n",
        "# Example usage\n",
        "user1 = create_user('Alice', 25, 'alice@example.com')\n",
        "print(user1.__dict__)  # Output: {'id': 1, 'name': 'Alice', 'age': 25, 'email': 'alice@example.com'}\n",
        "\n",
        "user2 = create_user('Bob', 30, 'bob@example.com')\n",
        "print(user2.__dict__)  # Output: {'id': 2, 'name': 'Bob', 'age': 30, 'email': 'bob@example.com'}\n",
        "\n",
        "user3 = get_user(1)\n",
        "print(user3.__dict__)  # Output: {'id': 1, 'name': 'Alice', 'age': 25, 'email': 'alice@example.com'}\n",
        "\n",
        "update_user(2, 'Bob Smith', 31, 'bob.smith@example.com')\n",
        "user4 = get_user(2)\n",
        "print(user4.__dict__)  # Output: {'id': 2, 'name': 'Bob Smith', 'age': 31, 'email': 'bob.smith@example.com'}\n",
        "\n",
        "delete_user(1)\n",
        "user5 = get_user(1)\n",
        "print(user5)  # Output: None\n"
      ]
    },
    {
      "cell_type": "markdown",
      "metadata": {
        "id": "3dnAnVD4QSUc"
      },
      "source": [
        "Note that this is just a simple example and not suitable for production use, as it doesn't handle potential errors or concurrency issues that may arise in a real-world database. In practice, you would typically use a dedicated database system such as SQLite, MySQL, or PostgreSQL to store and manage data."
      ]
    },
    {
      "cell_type": "markdown",
      "metadata": {
        "id": "GW0EqXHrQInS"
      },
      "source": [
        "<span style=\"color: magenta;\"><strong>Python dictionary is used to simulate a simple in-memory database. The users dictionary stores user objects and the id acts as the key. </span>\n",
        "\n",
        "Pros: Easy to implement and understand and does not require an actual database setup. <br>\n",
        "Cons: Data is lost when the script ends (not persistent) and lacks error handling (e.g., invalid data)."
      ]
    },
    {
      "cell_type": "code",
      "execution_count": 2,
      "metadata": {
        "id": "VPOqDNo1TktC"
      },
      "outputs": [],
      "source": [
        "import sqlite3\n",
        "\n",
        "# Create a new database or connect to an existing one\n",
        "conn = sqlite3.connect('example.db')"
      ]
    },
    {
      "cell_type": "code",
      "execution_count": 3,
      "metadata": {
        "colab": {
          "base_uri": "https://localhost:8080/",
          "height": 0
        },
        "id": "zvJjwyxDVWDJ",
        "outputId": "4f493c59-19bc-4c4b-e6ce-f56e7fb982fb"
      },
      "outputs": [
        {
          "output_type": "execute_result",
          "data": {
            "text/plain": [
              "<sqlite3.Cursor at 0x79d4dd7b24c0>"
            ]
          },
          "metadata": {},
          "execution_count": 3
        }
      ],
      "source": [
        "# Create a new table with columns: id, name, age, and email\n",
        "conn.execute('''CREATE TABLE IF NOT EXISTS users\n",
        "             (id INTEGER PRIMARY KEY,\n",
        "              name TEXT NOT NULL,\n",
        "              age INTEGER NOT NULL,\n",
        "              email TEXT NOT NULL)''')"
      ]
    },
    {
      "cell_type": "code",
      "execution_count": 4,
      "metadata": {
        "id": "Di3T36pFWTsp"
      },
      "outputs": [],
      "source": [
        "# CREATE - Insert a new user record\n",
        "def create_user(name, age, email):\n",
        "    conn.execute(f\"INSERT INTO users (name, age, email) VALUES ('{name}', {age}, '{email}')\")\n",
        "    conn.commit()"
      ]
    },
    {
      "cell_type": "code",
      "execution_count": 5,
      "metadata": {
        "id": "fKeTHJiIWnua"
      },
      "outputs": [],
      "source": [
        "create_user('Urbano', 25, 'urbano@gmail.com')\n",
        "create_user('Vallejos', 19, 'vallejos@gmail.com')\n",
        "create_user('Santos', 20, 'santos@gmail.com')"
      ]
    },
    {
      "cell_type": "code",
      "execution_count": 6,
      "metadata": {
        "id": "8DCfRS9nXuoK"
      },
      "outputs": [],
      "source": [
        "# READ - Retrieve a user record by id\n",
        "def get_user(id):\n",
        "    cursor = conn.execute(f\"SELECT id, name, age, email FROM users WHERE id={id}\")\n",
        "    user = cursor.fetchone()\n",
        "    return user"
      ]
    },
    {
      "cell_type": "code",
      "execution_count": 7,
      "metadata": {
        "colab": {
          "base_uri": "https://localhost:8080/",
          "height": 0
        },
        "id": "AVdNQ5o4YG4T",
        "outputId": "f94a6e02-0ee6-4b94-d99d-f3d6ca0c0776"
      },
      "outputs": [
        {
          "output_type": "execute_result",
          "data": {
            "text/plain": [
              "(1, 'Urbano', 25, 'urbano@gmail.com')"
            ]
          },
          "metadata": {},
          "execution_count": 7
        }
      ],
      "source": [
        "get_user(1)"
      ]
    },
    {
      "cell_type": "code",
      "execution_count": 8,
      "metadata": {
        "id": "Bzqc0KJYYYFz"
      },
      "outputs": [],
      "source": [
        "# UPDATE - Update an existing user record\n",
        "def update_user(id, name, age, email):\n",
        "    conn.execute(f\"UPDATE users SET name='{name}', age={age}, email='{email}' WHERE id={id}\")\n",
        "    conn.commit()"
      ]
    },
    {
      "cell_type": "code",
      "execution_count": 9,
      "metadata": {
        "colab": {
          "base_uri": "https://localhost:8080/",
          "height": 0
        },
        "id": "Mk_P9mUeZDFy",
        "outputId": "846c7fde-e680-4964-c6d9-d03067f15027"
      },
      "outputs": [
        {
          "output_type": "execute_result",
          "data": {
            "text/plain": [
              "(1, 'Urvan', 20, 'pogi@yahoo.com')"
            ]
          },
          "metadata": {},
          "execution_count": 9
        }
      ],
      "source": [
        "update_user(1, 'Urvan', 20, 'pogi@yahoo.com')\n",
        "get_user(1)"
      ]
    },
    {
      "cell_type": "code",
      "execution_count": 10,
      "metadata": {
        "id": "pREwiPSlZhYa"
      },
      "outputs": [],
      "source": [
        "# DELETE - Remove a user record by id\n",
        "def delete_user(id):\n",
        "    conn.execute(f\"DELETE FROM users WHERE id={id}\")\n",
        "    conn.commit()"
      ]
    },
    {
      "cell_type": "code",
      "execution_count": 11,
      "metadata": {
        "id": "TeT8BvtEZ8zb"
      },
      "outputs": [],
      "source": [
        "delete_user(2)"
      ]
    },
    {
      "cell_type": "code",
      "execution_count": 12,
      "metadata": {
        "colab": {
          "base_uri": "https://localhost:8080/",
          "height": 0
        },
        "id": "sdQ-OxAPaAGL",
        "outputId": "ee74cc70-68a6-4ee3-d7dd-26c50967e961"
      },
      "outputs": [
        {
          "output_type": "execute_result",
          "data": {
            "text/plain": [
              "(3, 'Santos', 20, 'santos@gmail.com')"
            ]
          },
          "metadata": {},
          "execution_count": 12
        }
      ],
      "source": [
        "get_user(1)\n",
        "get_user(3)"
      ]
    },
    {
      "cell_type": "code",
      "execution_count": 13,
      "metadata": {
        "colab": {
          "base_uri": "https://localhost:8080/",
          "height": 0
        },
        "id": "CB3I46QnOlEJ",
        "outputId": "7c2a4430-f6b4-45e8-be0f-501c1ad8b1ea"
      },
      "outputs": [
        {
          "output_type": "stream",
          "name": "stdout",
          "text": [
            "(1, 'Alice', 25, 'alice@example.com')\n",
            "(1, 'Alice Smith', 26, 'alice.smith@example.com')\n",
            "(1, 'Alice Smith', 26, 'alice.smith@example.com')\n"
          ]
        }
      ],
      "source": [
        "import sqlite3\n",
        "\n",
        "# Create a new database or connect to an existing one\n",
        "conn = sqlite3.connect('sample.db')\n",
        "\n",
        "# Create a new table with columns: id, name, age, and email\n",
        "conn.execute('''CREATE TABLE IF NOT EXISTS users\n",
        "             (id INTEGER PRIMARY KEY,\n",
        "              name TEXT NOT NULL,\n",
        "              age INTEGER NOT NULL,\n",
        "              email TEXT NOT NULL)''')\n",
        "\n",
        "# CREATE - Insert a new user record\n",
        "def create_user(name, age, email):\n",
        "    conn.execute(f\"INSERT INTO users (name, age, email) VALUES ('{name}', {age}, '{email}')\")\n",
        "    conn.commit()\n",
        "\n",
        "# READ - Retrieve a user record by id\n",
        "def get_user(id):\n",
        "    cursor = conn.execute(f\"SELECT id, name, age, email FROM users WHERE id={id}\")\n",
        "    user = cursor.fetchone()\n",
        "    return user\n",
        "\n",
        "# UPDATE - Update an existing user record\n",
        "def update_user(id, name, age, email):\n",
        "    conn.execute(f\"UPDATE users SET name='{name}', age={age}, email='{email}' WHERE id={id}\")\n",
        "    conn.commit()\n",
        "\n",
        "# DELETE - Remove a user record by id\n",
        "def delete_user(id):\n",
        "    conn.execute(f\"DELETE FROM users WHERE id={id}\")\n",
        "    conn.commit()\n",
        "\n",
        "# Example usage\n",
        "create_user('Alice', 25, 'alice@example.com')\n",
        "user = get_user(1)\n",
        "print(user)  # Output: (1, 'Alice', 25, 'alice@example.com')\n",
        "update_user(1, 'Alice Smith', 26, 'alice.smith@example.com')\n",
        "user = get_user(1)\n",
        "print(user)  # Output: (1, 'Alice Smith', 26, 'alice.smith@example.com')\n",
        "# delete_user(1)\n",
        "user = get_user(1)\n",
        "print(user)  # Output: None\n",
        "\n",
        "# Close the database connection when done\n",
        "conn.close()\n"
      ]
    },
    {
      "cell_type": "markdown",
      "metadata": {
        "id": "e481zD3dO_0i"
      },
      "source": [
        "Note that this is just a simple example and not suitable for production use, as it doesn't handle potential errors or security concerns (such as SQL injection attacks). It's important to always use proper security practices and handle errors appropriately in real-world applications."
      ]
    },
    {
      "cell_type": "code",
      "execution_count": 14,
      "metadata": {
        "colab": {
          "base_uri": "https://localhost:8080/",
          "height": 0
        },
        "id": "9gMxIF9nQr8B",
        "outputId": "4e88f26c-7df7-44d2-c32a-58569af5c998"
      },
      "outputs": [
        {
          "output_type": "stream",
          "name": "stdout",
          "text": [
            "(1, 'Alice', 25, 'alice@example.com')\n",
            "(2, 'Bob Smith', 31, 'bob.smith@example.com')\n",
            "None\n"
          ]
        }
      ],
      "source": [
        "import sqlite3\n",
        "\n",
        "# Connect to the database\n",
        "conn = sqlite3.connect('users.db')\n",
        "\n",
        "# Create a new table with columns: id, name, age, and email\n",
        "conn.execute('''CREATE TABLE IF NOT EXISTS users\n",
        "             (id INTEGER PRIMARY KEY,\n",
        "              name TEXT NOT NULL,\n",
        "              age INTEGER NOT NULL,\n",
        "              email TEXT NOT NULL)''')\n",
        "\n",
        "\n",
        "# CREATE - Add a new user record to the database\n",
        "def create_user(name, age, email):\n",
        "    cursor = conn.cursor()\n",
        "    cursor.execute(\"INSERT INTO users (name, age, email) VALUES (?, ?, ?)\", (name, age, email))\n",
        "    conn.commit()\n",
        "    return cursor.lastrowid\n",
        "\n",
        "# READ - Retrieve a user record from the database by id\n",
        "def get_user(id):\n",
        "    cursor = conn.cursor()\n",
        "    cursor.execute(\"SELECT id, name, age, email FROM users WHERE id=?\", (id,))\n",
        "    return cursor.fetchone()\n",
        "\n",
        "# UPDATE - Update an existing user record in the database\n",
        "def update_user(id, name, age, email):\n",
        "    cursor = conn.cursor()\n",
        "    cursor.execute(\"UPDATE users SET name=?, age=?, email=? WHERE id=?\", (name, age, email, id))\n",
        "    conn.commit()\n",
        "\n",
        "# DELETE - Remove a user record from the database by id\n",
        "def delete_user(id):\n",
        "    cursor = conn.cursor()\n",
        "    cursor.execute(\"DELETE FROM users WHERE id=?\", (id,))\n",
        "    conn.commit()\n",
        "\n",
        "# Example usage\n",
        "create_user('Alice', 25, 'alice@example.com')\n",
        "create_user('Bob', 30, 'bob@example.com')\n",
        "user1 = get_user(1)\n",
        "print(user1)  # Output: (1, 'Alice', 25, 'alice@example.com')\n",
        "update_user(2, 'Bob Smith', 31, 'bob.smith@example.com')\n",
        "user2 = get_user(2)\n",
        "print(user2)  # Output: (2, 'Bob Smith', 31, 'bob.smith@example.com')\n",
        "delete_user(1)\n",
        "user3 = get_user(1)\n",
        "print(user3)  # Output: None\n",
        "\n",
        "# Close the database connection when done\n",
        "conn.close()\n"
      ]
    },
    {
      "cell_type": "markdown",
      "metadata": {
        "id": "uQViRenEQInV"
      },
      "source": [
        "<span style=\"color: magenta;\"><strong>SQLite Database with CRUD Operations. </span> <br>\n",
        "Pros: Data is stored in an SQLite database and ability to perform complex queries (e.g., joins) <br>\n",
        "Cons: Lacks error handling"
      ]
    },
    {
      "cell_type": "markdown",
      "metadata": {
        "id": "mOdOMUpTQpMO"
      },
      "source": [
        "Here's an example of a Python CRUD code that uses a MySQL database and follows best practices for production use:"
      ]
    },
    {
      "cell_type": "code",
      "execution_count": 15,
      "metadata": {
        "id": "q8IW5MoORVF2"
      },
      "outputs": [],
      "source": [
        "import sqlite3\n",
        "\n",
        "# Create the database and the users table\n",
        "conn = sqlite3.connect('sample.db')\n",
        "cursor = conn.cursor()\n",
        "cursor.execute('''CREATE TABLE IF NOT EXISTS users\n",
        "                  (id INTEGER PRIMARY KEY,\n",
        "                   name TEXT NOT NULL,\n",
        "                   age INTEGER NOT NULL,\n",
        "                   email TEXT NOT NULL UNIQUE)''')\n",
        "conn.commit()\n",
        "\n",
        "def create_user(name, age, email):\n",
        "    # Insert a new user into the database\n",
        "    try:\n",
        "        cursor.execute('''INSERT INTO users(name, age, email)\n",
        "                          VALUES(?, ?, ?)''', (name, age, email))\n",
        "        conn.commit()\n",
        "        user_id = cursor.lastrowid\n",
        "        return {'id': user_id, 'name': name, 'age': age, 'email': email}\n",
        "    except sqlite3.IntegrityError:\n",
        "        return {'error': 'Email address already in use'}\n",
        "\n",
        "def get_users():\n",
        "    # Retrieve all users from the database\n",
        "    cursor.execute('SELECT * FROM users')\n",
        "    users = cursor.fetchall()\n",
        "    return [{'id': user[0], 'name': user[1], 'age': user[2], 'email': user[3]} for user in users]\n",
        "\n",
        "def get_user(user_id):\n",
        "    # Retrieve a specific user from the database\n",
        "    cursor.execute('SELECT * FROM users WHERE id = ?', (user_id,))\n",
        "    user = cursor.fetchone()\n",
        "    if not user:\n",
        "        return {'error': 'User not found'}\n",
        "    return {'id': user[0], 'name': user[1], 'age': user[2], 'email': user[3]}\n",
        "\n",
        "def update_user(user_id, name, age, email):\n",
        "    # Update an existing user in the database\n",
        "    cursor.execute('SELECT * FROM users WHERE id = ?', (user_id,))\n",
        "    user = cursor.fetchone()\n",
        "    if not user:\n",
        "        return {'error': 'User not found'}\n",
        "    try:\n",
        "        cursor.execute('''UPDATE users\n",
        "                          SET name = ?, age = ?, email = ?\n",
        "                          WHERE id = ?''', (name, age, email, user_id))\n",
        "        conn.commit()\n",
        "        return {'id': user_id, 'name': name, 'age': age, 'email': email}\n",
        "    except sqlite3.IntegrityError:\n",
        "        return {'error': 'Email address already in use'}\n",
        "\n",
        "def delete_user(user_id):\n",
        "    # Delete a user from the database\n",
        "    cursor.execute('SELECT * FROM users WHERE id = ?', (user_id,))\n",
        "    user = cursor.fetchone()\n",
        "    if not user:\n",
        "        return {'error': 'User not found'}\n",
        "    cursor.execute('DELETE FROM users WHERE id = ?', (user_id,))\n",
        "    conn.commit()\n",
        "    return {'message': 'User deleted successfully'}\n",
        "\n"
      ]
    },
    {
      "cell_type": "markdown",
      "metadata": {
        "id": "57t0Sv2vc4-x"
      },
      "source": [
        "<span style=\"color: magenta;\"><strong>Error Handling: </span>  The script incorporates error handling for scenarios like duplicate email addresses using sqlite3.IntegrityError <br>"
      ]
    },
    {
      "cell_type": "code",
      "execution_count": 16,
      "metadata": {
        "colab": {
          "base_uri": "https://localhost:8080/",
          "height": 0
        },
        "id": "cidRtfvJhHJw",
        "outputId": "73db709d-8086-422e-e2b8-b2b95a779532"
      },
      "outputs": [
        {
          "output_type": "execute_result",
          "data": {
            "text/plain": [
              "{'id': 2, 'name': 'Jonathan', 'age': 49, 'email': 'jvtaylar@gmail.com'}"
            ]
          },
          "metadata": {},
          "execution_count": 16
        }
      ],
      "source": [
        "create_user('Jonathan', 49, 'jvtaylar@gmail.com')"
      ]
    },
    {
      "cell_type": "code",
      "execution_count": 17,
      "metadata": {
        "colab": {
          "base_uri": "https://localhost:8080/",
          "height": 0
        },
        "id": "zD2wwG1TdE2Z",
        "outputId": "2de91814-bfe1-4c0c-fed3-77d2cc0ef76c"
      },
      "outputs": [
        {
          "output_type": "execute_result",
          "data": {
            "text/plain": [
              "{'id': 3, 'name': 'Mantaring', 'age': 30, 'email': 'mantaring@gmail.com'}"
            ]
          },
          "metadata": {},
          "execution_count": 17
        }
      ],
      "source": [
        "create_user('Mantaring', 30, 'mantaring@gmail.com')"
      ]
    },
    {
      "cell_type": "code",
      "execution_count": 18,
      "metadata": {
        "colab": {
          "base_uri": "https://localhost:8080/",
          "height": 0
        },
        "id": "vBw7wJZAJxse",
        "outputId": "acc6b563-2605-4507-f925-9d8f83dea72d"
      },
      "outputs": [
        {
          "output_type": "execute_result",
          "data": {
            "text/plain": [
              "{'id': 4, 'name': 'John', 'age': 30, 'email': 'john@gmail.com'}"
            ]
          },
          "metadata": {},
          "execution_count": 18
        }
      ],
      "source": [
        "create_user('John', 30, 'john@gmail.com')"
      ]
    },
    {
      "cell_type": "code",
      "execution_count": 19,
      "metadata": {
        "colab": {
          "base_uri": "https://localhost:8080/",
          "height": 0
        },
        "id": "gd-giWZTjZLG",
        "outputId": "4872e91e-2f5e-4de3-b51c-fea1a9ebcdda"
      },
      "outputs": [
        {
          "output_type": "execute_result",
          "data": {
            "text/plain": [
              "[{'id': 1,\n",
              "  'name': 'Alice Smith',\n",
              "  'age': 26,\n",
              "  'email': 'alice.smith@example.com'},\n",
              " {'id': 2, 'name': 'Jonathan', 'age': 49, 'email': 'jvtaylar@gmail.com'},\n",
              " {'id': 3, 'name': 'Mantaring', 'age': 30, 'email': 'mantaring@gmail.com'},\n",
              " {'id': 4, 'name': 'John', 'age': 30, 'email': 'john@gmail.com'}]"
            ]
          },
          "metadata": {},
          "execution_count": 19
        }
      ],
      "source": [
        "get_users()"
      ]
    },
    {
      "cell_type": "code",
      "execution_count": 20,
      "metadata": {
        "colab": {
          "base_uri": "https://localhost:8080/",
          "height": 0
        },
        "id": "KadWZ1SBjgGF",
        "outputId": "1087ab02-368b-446f-e91c-d0dd117ecc21"
      },
      "outputs": [
        {
          "output_type": "execute_result",
          "data": {
            "text/plain": [
              "{'error': 'User not found'}"
            ]
          },
          "metadata": {},
          "execution_count": 20
        }
      ],
      "source": [
        "update_user(5, 'Joan', 50, 'email@.email.com')"
      ]
    },
    {
      "cell_type": "code",
      "execution_count": 21,
      "metadata": {
        "colab": {
          "base_uri": "https://localhost:8080/",
          "height": 0
        },
        "id": "ciyCPRJDjoap",
        "outputId": "5ee840b6-49a2-49a5-cdc0-3ba7a63859a4"
      },
      "outputs": [
        {
          "output_type": "execute_result",
          "data": {
            "text/plain": [
              "[{'id': 1,\n",
              "  'name': 'Alice Smith',\n",
              "  'age': 26,\n",
              "  'email': 'alice.smith@example.com'},\n",
              " {'id': 2, 'name': 'Jonathan', 'age': 49, 'email': 'jvtaylar@gmail.com'},\n",
              " {'id': 3, 'name': 'Mantaring', 'age': 30, 'email': 'mantaring@gmail.com'},\n",
              " {'id': 4, 'name': 'John', 'age': 30, 'email': 'john@gmail.com'}]"
            ]
          },
          "metadata": {},
          "execution_count": 21
        }
      ],
      "source": [
        "get_users()"
      ]
    },
    {
      "cell_type": "code",
      "execution_count": 22,
      "metadata": {
        "colab": {
          "base_uri": "https://localhost:8080/",
          "height": 0
        },
        "id": "HKKAe_jBdWPx",
        "outputId": "d6dce763-95e6-461e-a326-bbeebcc02d6a"
      },
      "outputs": [
        {
          "output_type": "execute_result",
          "data": {
            "text/plain": [
              "{'message': 'User deleted successfully'}"
            ]
          },
          "metadata": {},
          "execution_count": 22
        }
      ],
      "source": [
        "delete_user(1)"
      ]
    },
    {
      "cell_type": "markdown",
      "metadata": {
        "id": "Qk8Se3DZkE90"
      },
      "source": [
        "Here is an example of CRUD using OOP approach"
      ]
    },
    {
      "cell_type": "code",
      "execution_count": 23,
      "metadata": {
        "id": "aIvdkRdYkI_V"
      },
      "outputs": [],
      "source": [
        "import sqlite3\n",
        "\n",
        "class User:\n",
        "    def __init__(self, name, age, email, user_id=None):\n",
        "        self.name = name\n",
        "        self.age = age\n",
        "        self.email = email\n",
        "        self.user_id = user_id\n",
        "\n",
        "class UserDB:\n",
        "    def __init__(self, db_name):\n",
        "        self.conn = sqlite3.connect(db_name)\n",
        "        self.cursor = self.conn.cursor()\n",
        "        self.cursor.execute('''CREATE TABLE IF NOT EXISTS users\n",
        "                               (id INTEGER PRIMARY KEY,\n",
        "                                name TEXT NOT NULL,\n",
        "                                age INTEGER NOT NULL,\n",
        "                                email TEXT NOT NULL UNIQUE)''')\n",
        "        self.conn.commit()\n",
        "\n",
        "    def create_user(self, user):\n",
        "        try:\n",
        "            self.cursor.execute('''INSERT INTO users(name, age, email)\n",
        "                                   VALUES(?, ?, ?)''', (user.name, user.age, user.email))\n",
        "            self.conn.commit()\n",
        "            user_id = self.cursor.lastrowid\n",
        "            user.user_id = user_id\n",
        "            return user\n",
        "        except sqlite3.IntegrityError:\n",
        "            return {'error': 'Email address already in use'}\n",
        "\n",
        "    def get_users(self):\n",
        "        self.cursor.execute('SELECT * FROM users')\n",
        "        users = self.cursor.fetchall()\n",
        "        return [User(user[1], user[2], user[3], user[0]) for user in users]\n",
        "\n",
        "    def get_user(self, user_id):\n",
        "        self.cursor.execute('SELECT * FROM users WHERE id = ?', (user_id,))\n",
        "        user = self.cursor.fetchone()\n",
        "        if not user:\n",
        "            return {'error': 'User not found'}\n",
        "        return User(user[1], user[2], user[3], user[0])\n",
        "\n",
        "    def update_user(self, user):\n",
        "        self.cursor.execute('SELECT * FROM users WHERE id = ?', (user.user_id,))\n",
        "        old_user = self.cursor.fetchone()\n",
        "        if not old_user:\n",
        "            return {'error': 'User not found'}\n",
        "        try:\n",
        "            self.cursor.execute('''UPDATE users\n",
        "                                   SET name = ?, age = ?, email = ?\n",
        "                                   WHERE id = ?''', (user.name, user.age, user.email, user.user_id))\n",
        "            self.conn.commit()\n",
        "            return user\n",
        "        except sqlite3.IntegrityError:\n",
        "            return {'error': 'Email address already in use'}\n",
        "\n",
        "    def delete_user(self, user_id):\n",
        "        self.cursor.execute('SELECT * FROM users WHERE id = ?', (user_id,))\n",
        "        user = self.cursor.fetchone()\n",
        "        if not user:\n",
        "            return {'error': 'User not found'}\n",
        "        self.cursor.execute('DELETE FROM users WHERE id = ?', (user_id,))\n",
        "        self.conn.commit()\n",
        "        return {'message': 'User deleted successfully'}\n"
      ]
    },
    {
      "cell_type": "code",
      "execution_count": 24,
      "metadata": {
        "id": "8m6zV9JGd9gS"
      },
      "outputs": [],
      "source": [
        "f = UserDB('db.db')"
      ]
    },
    {
      "cell_type": "code",
      "execution_count": 25,
      "metadata": {
        "id": "p9giNauzK6rq"
      },
      "outputs": [],
      "source": [
        "u = User('Maria', 18, 'maria@email.com')"
      ]
    },
    {
      "cell_type": "code",
      "execution_count": 26,
      "metadata": {
        "colab": {
          "base_uri": "https://localhost:8080/",
          "height": 0
        },
        "id": "WFThykjEMVjV",
        "outputId": "22c81911-3c2f-4256-ddbd-3e03c0b3e565"
      },
      "outputs": [
        {
          "output_type": "execute_result",
          "data": {
            "text/plain": [
              "<__main__.User at 0x79d4dded4610>"
            ]
          },
          "metadata": {},
          "execution_count": 26
        }
      ],
      "source": [
        "f.create_user(u)"
      ]
    },
    {
      "cell_type": "markdown",
      "metadata": {
        "id": "2zK3sJkrkNQh"
      },
      "source": [
        "In this example, we have two classes - `User` and `UserDB`. The `User class` is a simple data class that represents a user with properties like `name`, `age`, `email`, and `user ID`.\n",
        "\n",
        "The `UserDB` class is responsible for interacting with the database and providing functions for `creating`, `reading`, `updating`, and `deleting users` from the database.\n",
        "\n",
        "To use this class, you would need to create an instance of the `UserDB class` and call the methods as needed. For example:"
      ]
    },
    {
      "cell_type": "markdown",
      "metadata": {
        "id": "kgSfbvSKQInX"
      },
      "source": [
        "<span style=\"color: magenta;\"><strong>OOP Principles. </span> The object-oriented design is more complex but it promotes better error handling and scalability."
      ]
    },
    {
      "cell_type": "code",
      "execution_count": 27,
      "metadata": {
        "colab": {
          "base_uri": "https://localhost:8080/",
          "height": 0
        },
        "id": "9uXdqaegka9E",
        "outputId": "7c8d3cf7-de57-4b4c-8e51-117f3ce2c7e9"
      },
      "outputs": [
        {
          "output_type": "stream",
          "name": "stdout",
          "text": [
            "2\n"
          ]
        }
      ],
      "source": [
        "db = UserDB('db.db')\n",
        "new_user = User('John Doe', 30, 'johndoe@example.com')\n",
        "created_user = db.create_user(new_user)\n",
        "print(created_user.user_id) # prints the ID of the newly created user\n"
      ]
    },
    {
      "cell_type": "code",
      "execution_count": 28,
      "metadata": {
        "id": "YutYepndeGV5"
      },
      "outputs": [],
      "source": [
        "new_user = User('Girl Doe', 25, 'girl@example.com')"
      ]
    },
    {
      "cell_type": "code",
      "execution_count": 29,
      "metadata": {
        "colab": {
          "base_uri": "https://localhost:8080/",
          "height": 0
        },
        "id": "xnXvVuO1eNhA",
        "outputId": "acf4271c-2d5f-4682-c59d-37f399c3400f"
      },
      "outputs": [
        {
          "output_type": "stream",
          "name": "stdout",
          "text": [
            "3\n"
          ]
        }
      ],
      "source": [
        "created_user = db.create_user(new_user)\n",
        "print(created_user.user_id) # prints the ID of the newly created user"
      ]
    },
    {
      "cell_type": "code",
      "execution_count": 30,
      "metadata": {
        "colab": {
          "base_uri": "https://localhost:8080/",
          "height": 0
        },
        "id": "1M38By4Zkfny",
        "outputId": "7bec9183-d189-4849-b962-52619bcd7b69"
      },
      "outputs": [
        {
          "output_type": "stream",
          "name": "stdout",
          "text": [
            "Girl Doe 25 girl@example.com 3\n"
          ]
        }
      ],
      "source": [
        "print(created_user.name, created_user.age, created_user.email, created_user.user_id)"
      ]
    }
  ],
  "metadata": {
    "colab": {
      "provenance": []
    },
    "kernelspec": {
      "display_name": "Python 3 (ipykernel)",
      "language": "python",
      "name": "python3"
    },
    "language_info": {
      "codemirror_mode": {
        "name": "ipython",
        "version": 3
      },
      "file_extension": ".py",
      "mimetype": "text/x-python",
      "name": "python",
      "nbconvert_exporter": "python",
      "pygments_lexer": "ipython3",
      "version": "3.12.1"
    }
  },
  "nbformat": 4,
  "nbformat_minor": 0
}