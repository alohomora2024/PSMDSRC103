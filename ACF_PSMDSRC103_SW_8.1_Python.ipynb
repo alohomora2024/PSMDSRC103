{
 "cells": [
  {
   "cell_type": "markdown",
   "id": "8ca067e4-8d99-4a10-a34f-96bdbc7fe2d6",
   "metadata": {},
   "source": [
    "### Seatwork 8.1 Introduction to CRUD Operations in Python"
   ]
  },
  {
   "cell_type": "markdown",
   "id": "19951d32-2981-41a1-bd54-8bf72cd120dd",
   "metadata": {},
   "source": [
    "Create a dictionary that contains a pairing of ID and lists (for details such as name, age, program enrolled).\n",
    "\n",
    "Create a function to CREATE, READ, UPDATE, and DELETE records from the dictionary.\n",
    "\n",
    "Define the \"edge cases\" for each function and add appropriate error handling."
   ]
  },
  {
   "cell_type": "code",
   "execution_count": 1,
   "id": "3f9f11cf-1076-4ad6-81a3-97be86ed309c",
   "metadata": {},
   "outputs": [],
   "source": [
    "class User:\n",
    "    def __init__(self, user_id, name, age, email, program):\n",
    "        self.id = user_id\n",
    "        self.name = name\n",
    "        self.age = age\n",
    "        self.email = email\n",
    "        self.program = program\n",
    "\n",
    "\n",
    "class UserDict:\n",
    "    def __init__(self):\n",
    "        self.users = {}  # Dictionary to store users\n",
    "\n",
    "    # CREATE\n",
    "    def add_user(self, name, age, email, program):\n",
    "        # Generate user ID\n",
    "        user_id = len(self.users) + 1\n",
    "        user = User(user_id, name, age, email, program)\n",
    "        self.users[user_id] = user\n",
    "        return user\n",
    "\n",
    "    # READ\n",
    "    def get_user(self, user_id):\n",
    "        user = self.users.get(user_id, None)\n",
    "        if user:\n",
    "            # Return a formatted string with user details\n",
    "            return f\"User Found: ID: {user.id}, Name: {user.name}, Age: {user.age}, Email: {user.email}, Program: {user.program}\"\n",
    "        else:\n",
    "            return f\"User with ID {user_id} not found.\"\n",
    "\n",
    "    # UPDATE\n",
    "    def update_user(self, user_id, name, age, email, program):\n",
    "        user = self.users.get(user_id)\n",
    "        if user:\n",
    "            # Show the old values before updating\n",
    "            old_values = (user.name, user.age, user.email, user.program)\n",
    "            \n",
    "            # Update the user details\n",
    "            user.name = name\n",
    "            user.age = age\n",
    "            user.email = email\n",
    "            user.program = program\n",
    "            \n",
    "            # Show success message with old and new values\n",
    "            return (f\"User with ID {user_id} updated successfully.\\n\"\n",
    "                    f\"Old Values -> Name: {old_values[0]}, Age: {old_values[1]}, Email: {old_values[2]}, Program: {old_values[3]}\\n\"\n",
    "                    f\"New Values -> Name: {name}, Age: {age}, Email: {email}, Program: {program}\")\n",
    "        else:\n",
    "            return f\"Error: User with ID {user_id} does not exist.\"\n",
    "\n",
    "    # DELETE\n",
    "    def delete_user(self, user_id):\n",
    "        user = self.users.pop(user_id, None)\n",
    "        if user:\n",
    "            return f\"User {user.name} with ID {user_id} has been deleted successfully.\"\n",
    "        else:\n",
    "            return f\"Error: User with ID {user_id} does not exist.\"\n",
    "\n",
    "    # User count\n",
    "    def user_count(self):\n",
    "        return len(self.users)  # Return the number of users in the dictionary\n"
   ]
  },
  {
   "cell_type": "code",
   "execution_count": 2,
   "id": "8b0dca5a-485c-41f3-922a-e34a6dd971fb",
   "metadata": {},
   "outputs": [],
   "source": [
    "# Example Usage\n",
    "user_dict = UserDict()\n",
    "\n",
    "# Add users\n",
    "user1 = user_dict.add_user('Harry', 30, 'harry@gmail.com', 'Potions')\n",
    "user2 = user_dict.add_user('Ron', 25, 'ron@yahoo.com', 'Quidditch')"
   ]
  },
  {
   "cell_type": "code",
   "execution_count": 3,
   "id": "d5ca196a-1e3e-47c2-aa79-564d044ac32e",
   "metadata": {},
   "outputs": [
    {
     "data": {
      "text/plain": [
       "'User Found: ID: 1, Name: Harry, Age: 30, Email: harry@gmail.com, Program: Potions'"
      ]
     },
     "execution_count": 3,
     "metadata": {},
     "output_type": "execute_result"
    }
   ],
   "source": [
    "# Get existing user\n",
    "user_dict.get_user(1)"
   ]
  },
  {
   "cell_type": "code",
   "execution_count": 4,
   "id": "1492e608-ac6e-40ea-a829-6060be79cbc5",
   "metadata": {},
   "outputs": [
    {
     "data": {
      "text/plain": [
       "'User with ID 3 not found.'"
      ]
     },
     "execution_count": 4,
     "metadata": {},
     "output_type": "execute_result"
    }
   ],
   "source": [
    "# Get non-existing user\n",
    "user_dict.get_user(3)"
   ]
  },
  {
   "cell_type": "code",
   "execution_count": 5,
   "id": "4ebbd8f0-39f8-4ec3-bd14-ca2e651ca766",
   "metadata": {},
   "outputs": [
    {
     "name": "stdout",
     "output_type": "stream",
     "text": [
      "User with ID 1 updated successfully.\n",
      "Old Values -> Name: Harry, Age: 30, Email: harry@gmail.com, Program: Potions\n",
      "New Values -> Name: Hermione, Age: 31, Email: hermione@gmail.com, Program: Transfiguration\n"
     ]
    }
   ],
   "source": [
    "# Update user\n",
    "updated_user = user_dict.update_user(user1.id, 'Hermione', 31, 'hermione@gmail.com', 'Transfiguration')\n",
    "print(updated_user)"
   ]
  },
  {
   "cell_type": "code",
   "execution_count": 6,
   "id": "35ae3cbc-bf34-4c56-b996-9ed8de68cb96",
   "metadata": {},
   "outputs": [
    {
     "name": "stdout",
     "output_type": "stream",
     "text": [
      "User Ron with ID 2 has been deleted successfully.\n"
     ]
    }
   ],
   "source": [
    "# Delete existing user\n",
    "deleted_user = user_dict.delete_user(user2.id)\n",
    "print(deleted_user)"
   ]
  },
  {
   "cell_type": "code",
   "execution_count": 7,
   "id": "d73331a0-9184-438e-8a1c-c107b58b24e6",
   "metadata": {},
   "outputs": [
    {
     "name": "stdout",
     "output_type": "stream",
     "text": [
      "Error: User with ID 2 does not exist.\n"
     ]
    }
   ],
   "source": [
    "# Delete non-existing user\n",
    "deleted_user = user_dict.delete_user(user2.id)\n",
    "print(deleted_user)"
   ]
  },
  {
   "cell_type": "code",
   "execution_count": 8,
   "id": "6d5954e2-7fcd-48f6-9989-717da44382bd",
   "metadata": {},
   "outputs": [
    {
     "name": "stdout",
     "output_type": "stream",
     "text": [
      "Total users: 1\n"
     ]
    }
   ],
   "source": [
    "# Get user count\n",
    "print(f\"Total users: {user_dict.user_count()}\")"
   ]
  },
  {
   "cell_type": "markdown",
   "id": "70327e53-8b99-4a54-a749-618ba5b93052",
   "metadata": {},
   "source": [
    "Modify the CREATE function to include multiple names and details in one function call."
   ]
  },
  {
   "cell_type": "code",
   "execution_count": 9,
   "id": "d38e64f4-43ae-4044-9bf1-66bde0e84fd5",
   "metadata": {},
   "outputs": [],
   "source": [
    "class User:\n",
    "    def __init__(self, user_id, name, age, email, program):\n",
    "        self.id = user_id\n",
    "        self.name = name\n",
    "        self.age = age\n",
    "        self.email = email\n",
    "        self.program = program\n",
    "\n",
    "\n",
    "class UserDict:\n",
    "    def __init__(self):\n",
    "        self.users = {}  # Dictionary to store users\n",
    "\n",
    "    # CREATE - Add multiple users at once\n",
    "    def add_users(self, users_details):\n",
    "        added_users = []  # List to store added users\n",
    "        for details in users_details:\n",
    "            name, age, email, program = details\n",
    "            if not name or not email or not program or age <= 0:\n",
    "                raise ValueError(\"Invalid input: Name, age, email, and program are required. Age must be positive.\")\n",
    "            \n",
    "            # Generate user ID\n",
    "            user_id = len(self.users) + 1\n",
    "            user = User(user_id, name, age, email, program)\n",
    "            self.users[user_id] = user\n",
    "            added_users.append(user)\n",
    "        return added_users\n",
    "\n",
    "    # READ\n",
    "    def get_user(self, user_id):\n",
    "        user = self.users.get(user_id, None)\n",
    "        if user:\n",
    "            # Return a formatted string with user details\n",
    "            return f\"User Found: ID: {user.id}, Name: {user.name}, Age: {user.age}, Email: {user.email}, Program: {user.program}\"\n",
    "        else:\n",
    "            return f\"User with ID {user_id} not found.\"\n",
    "\n",
    "    # UPDATE\n",
    "    def update_user(self, user_id, name, age, email, program):\n",
    "        user = self.users.get(user_id)\n",
    "        if user:\n",
    "            # Show the old values before updating\n",
    "            old_values = (user.name, user.age, user.email, user.program)\n",
    "            \n",
    "            # Update the user details\n",
    "            user.name = name\n",
    "            user.age = age\n",
    "            user.email = email\n",
    "            user.program = program\n",
    "            \n",
    "            # Show success message with old and new values\n",
    "            return (f\"User with ID {user_id} updated successfully.\\n\"\n",
    "                    f\"Old Values -> Name: {old_values[0]}, Age: {old_values[1]}, Email: {old_values[2]}, Program: {old_values[3]}\\n\"\n",
    "                    f\"New Values -> Name: {name}, Age: {age}, Email: {email}, Program: {program}\")\n",
    "        else:\n",
    "            return f\"Error: User with ID {user_id} does not exist.\"\n",
    "\n",
    "    # DELETE\n",
    "    def delete_user(self, user_id):\n",
    "        user = self.users.pop(user_id, None)\n",
    "        if user:\n",
    "            return f\"User {user.name} with ID {user_id} has been deleted successfully.\"\n",
    "        else:\n",
    "            return f\"Error: User with ID {user_id} does not exist.\"\n",
    "\n",
    "    # User count\n",
    "    def user_count(self):\n",
    "        return len(self.users)  # Return the number of users in the dictionary\n"
   ]
  },
  {
   "cell_type": "code",
   "execution_count": 10,
   "id": "d8b97f7f-5dac-453c-b856-5e8535259969",
   "metadata": {},
   "outputs": [
    {
     "name": "stdout",
     "output_type": "stream",
     "text": [
      "Added User: 1, Draco, 25, draco@gmail.com, Defense Against Dark Arts\n",
      "Added User: 2, Neville, 22, neville@gmail.com, Defense Against Dark Arts\n",
      "Added User: 3, Luna, 28, luna@gmail.com, Defense Against Dark Arts\n"
     ]
    }
   ],
   "source": [
    "# Example usage\n",
    "user_dict = UserDict()\n",
    "\n",
    "# Add multiple users at once\n",
    "users_details = [\n",
    "        (\"Draco\", 25, \"draco@gmail.com\", \"Defense Against Dark Arts\"),\n",
    "        (\"Neville\", 22, \"neville@gmail.com\", \"Defense Against Dark Arts\"),\n",
    "        (\"Luna\", 28, \"luna@gmail.com\", \"Defense Against Dark Arts\")\n",
    "    ]\n",
    "added_users = user_dict.add_users(users_details)\n",
    "\n",
    "# Print the details of added users\n",
    "for user in added_users:\n",
    "    print(f\"Added User: {user.id}, {user.name}, {user.age}, {user.email}, {user.program}\")"
   ]
  },
  {
   "cell_type": "code",
   "execution_count": 11,
   "id": "db11445b-4d7b-4bda-89b6-3cbb8868db32",
   "metadata": {},
   "outputs": [
    {
     "name": "stdout",
     "output_type": "stream",
     "text": [
      "User Found: ID: 1, Name: Draco, Age: 25, Email: draco@gmail.com, Program: Defense Against Dark Arts\n"
     ]
    }
   ],
   "source": [
    "# Retrieve an existing user ID\n",
    "print(user_dict.get_user(1))  # Should print user details for Draco"
   ]
  },
  {
   "cell_type": "code",
   "execution_count": 12,
   "id": "5a91507f-43ad-4ba4-a085-e020193ea329",
   "metadata": {},
   "outputs": [
    {
     "name": "stdout",
     "output_type": "stream",
     "text": [
      "User with ID 5 not found.\n"
     ]
    }
   ],
   "source": [
    "# Retrieve a non-existing user ID\n",
    "print(user_dict.get_user(5)) "
   ]
  },
  {
   "cell_type": "code",
   "execution_count": 13,
   "id": "e0b02dc9-c5d4-40e3-964d-99d076a411fd",
   "metadata": {},
   "outputs": [
    {
     "name": "stdout",
     "output_type": "stream",
     "text": [
      "User Neville with ID 2 has been deleted successfully.\n"
     ]
    }
   ],
   "source": [
    "# Delete a user\n",
    "print(user_dict.delete_user(2))  # Should delete Neville"
   ]
  },
  {
   "cell_type": "code",
   "execution_count": 14,
   "id": "181aedd2-95a9-4dd1-ae1a-1e3e4b942dac",
   "metadata": {},
   "outputs": [
    {
     "name": "stdout",
     "output_type": "stream",
     "text": [
      "User with ID 2 not found.\n"
     ]
    }
   ],
   "source": [
    "# Try to retrieve deleted user\n",
    "print(user_dict.get_user(2))  # Should print that the user is not found"
   ]
  },
  {
   "cell_type": "code",
   "execution_count": 15,
   "id": "95172443-1d99-448d-b0f1-b164f496b6e3",
   "metadata": {},
   "outputs": [
    {
     "name": "stdout",
     "output_type": "stream",
     "text": [
      "Total users: 2\n"
     ]
    }
   ],
   "source": [
    "# Get the count of users\n",
    "print(f\"Total users: {user_dict.user_count()}\")  # Should print the total count of users"
   ]
  }
 ],
 "metadata": {
  "kernelspec": {
   "display_name": "Python 3 (ipykernel)",
   "language": "python",
   "name": "python3"
  },
  "language_info": {
   "codemirror_mode": {
    "name": "ipython",
    "version": 3
   },
   "file_extension": ".py",
   "mimetype": "text/x-python",
   "name": "python",
   "nbconvert_exporter": "python",
   "pygments_lexer": "ipython3",
   "version": "3.12.1"
  }
 },
 "nbformat": 4,
 "nbformat_minor": 5
}
