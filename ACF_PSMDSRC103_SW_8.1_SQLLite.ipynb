{
  "cells": [
    {
      "cell_type": "markdown",
      "source": [
        "# CRUD Operations in Python\n",
        "\n",
        "**CRUD** is an acronym that stands for Create, Read, Update, and Delete. It refers to the four basic operations that can be performed on persistent data in a software system.\n",
        "\n",
        "Here is a brief explanation of each operation:\n",
        "\n",
        "* **Create**: This operation is used to add a new record to  the database. For example, when you create a new user account on a website, you are performing a create operation.\n",
        "\n",
        "* **Read**: This operation is used to retrieve data from the database. For example, when you view your profile information on a website, you are performing a read operation.\n",
        "\n",
        "* **Update**: This operation is used to modify existing data in the database. For example, when you update your email address or password on a website, you are performing an update operation.\n",
        "\n",
        "* **Delete**: This operation is used to remove data from the database. For example, when you delete a post or comment on a social media platform, you are performing a delete operation.\n",
        "\n",
        "These four operations are the basic building blocks of any database-driven application.\n",
        "\n"
      ],
      "metadata": {
        "id": "7Mz3tS1KN8HX"
      }
    },
    {
      "cell_type": "code",
      "source": [
        "class User:\n",
        "    def __init__(self, id, name, age, email):\n",
        "        self.id = id\n",
        "        self.name = name\n",
        "        self.age = age\n",
        "        self.email = email\n",
        "\n",
        "users = {}  # simulate a database using a dictionary\n",
        "\n",
        "# CREATE - Add a new user record to the database\n",
        "def create_user(name, age, email):\n",
        "    # generate a new id\n",
        "    id = len(users) + 1\n",
        "    user = User(id, name, age, email)\n",
        "    users[id] = user\n",
        "    return user\n",
        "\n",
        "# READ - Retrieve a user record from the database by id\n",
        "def get_user(id):\n",
        "    return users.get(id)\n",
        "\n",
        "# UPDATE - Update an existing user record in the database\n",
        "def update_user(id, name, age, email):\n",
        "    user = users.get(id)\n",
        "    if user:\n",
        "        user.name = name\n",
        "        user.age = age\n",
        "        user.email = email\n",
        "        return user\n",
        "\n",
        "# DELETE - Remove a user record from the database by id\n",
        "def delete_user(id):\n",
        "    return users.pop(id, None)\n",
        "\n",
        "# Example usage\n",
        "user1 = create_user('Alice', 25, 'alice@example.com')\n",
        "print(user1.__dict__)  # Output: {'id': 1, 'name': 'Alice', 'age': 25, 'email': 'alice@example.com'}\n",
        "\n",
        "user2 = create_user('Bob', 30, 'bob@example.com')\n",
        "print(user2.__dict__)  # Output: {'id': 2, 'name': 'Bob', 'age': 30, 'email': 'bob@example.com'}\n",
        "\n",
        "user3 = get_user(1)\n",
        "print(user3.__dict__)  # Output: {'id': 1, 'name': 'Alice', 'age': 25, 'email': 'alice@example.com'}\n",
        "\n",
        "update_user(2, 'Bob Smith', 31, 'bob.smith@example.com')\n",
        "user4 = get_user(2)\n",
        "print(user4.__dict__)  # Output: {'id': 2, 'name': 'Bob Smith', 'age': 31, 'email': 'bob.smith@example.com'}\n",
        "\n",
        "delete_user(1)\n",
        "user5 = get_user(1)\n",
        "print(user5)  # Output: None\n"
      ],
      "metadata": {
        "colab": {
          "base_uri": "https://localhost:8080/"
        },
        "id": "-wW1Ai4-PYcT",
        "outputId": "b0b457d9-aa0c-4ac4-bee0-63942f017079"
      },
      "execution_count": null,
      "outputs": [
        {
          "output_type": "stream",
          "name": "stdout",
          "text": [
            "{'id': 1, 'name': 'Alice', 'age': 25, 'email': 'alice@example.com'}\n",
            "{'id': 2, 'name': 'Bob', 'age': 30, 'email': 'bob@example.com'}\n",
            "{'id': 1, 'name': 'Alice', 'age': 25, 'email': 'alice@example.com'}\n",
            "{'id': 2, 'name': 'Bob Smith', 'age': 31, 'email': 'bob.smith@example.com'}\n",
            "None\n"
          ]
        }
      ]
    },
    {
      "cell_type": "markdown",
      "source": [
        "Note that this is just a simple example and not suitable for production use, as it doesn't handle potential errors or concurrency issues that may arise in a real-world database. In practice, you would typically use a dedicated database system such as SQLite, MySQL, or PostgreSQL to store and manage data."
      ],
      "metadata": {
        "id": "3dnAnVD4QSUc"
      }
    },
    {
      "cell_type": "code",
      "source": [
        "import sqlite3\n",
        "\n",
        "# Create a new database or connect to an existing one\n",
        "conn = sqlite3.connect('example.db')"
      ],
      "metadata": {
        "id": "VPOqDNo1TktC"
      },
      "execution_count": null,
      "outputs": []
    },
    {
      "cell_type": "code",
      "source": [
        "# Create a new table with columns: id, name, age, and email\n",
        "conn.execute('''CREATE TABLE IF NOT EXISTS users\n",
        "             (id INTEGER PRIMARY KEY,\n",
        "              name TEXT NOT NULL,\n",
        "              age INTEGER NOT NULL,\n",
        "              email TEXT NOT NULL)''')"
      ],
      "metadata": {
        "colab": {
          "base_uri": "https://localhost:8080/"
        },
        "id": "zvJjwyxDVWDJ",
        "outputId": "74aa1299-ecab-46de-cbf1-fb24e24ca0d1"
      },
      "execution_count": null,
      "outputs": [
        {
          "output_type": "execute_result",
          "data": {
            "text/plain": [
              "<sqlite3.Cursor at 0x7f60e4491dc0>"
            ]
          },
          "metadata": {},
          "execution_count": 16
        }
      ]
    },
    {
      "cell_type": "code",
      "source": [
        "# CREATE - Insert a new user record\n",
        "def create_user(name, age, email):\n",
        "    conn.execute(f\"INSERT INTO users (name, age, email) VALUES ('{name}', {age}, '{email}')\")\n",
        "    conn.commit()"
      ],
      "metadata": {
        "id": "Di3T36pFWTsp"
      },
      "execution_count": null,
      "outputs": []
    },
    {
      "cell_type": "code",
      "source": [
        "create_user('Urbano', 25, 'urbano@gmail.com')\n",
        "create_user('Vallejos', 19, 'vallejos@gmail.com')\n",
        "create_user('Santos', 20, 'santos@gmail.com')"
      ],
      "metadata": {
        "id": "fKeTHJiIWnua"
      },
      "execution_count": null,
      "outputs": []
    },
    {
      "cell_type": "code",
      "source": [
        "# READ - Retrieve a user record by id\n",
        "def get_user(id):\n",
        "    cursor = conn.execute(f\"SELECT id, name, age, email FROM users WHERE id={id}\")\n",
        "    user = cursor.fetchone()\n",
        "    return user"
      ],
      "metadata": {
        "id": "8DCfRS9nXuoK"
      },
      "execution_count": null,
      "outputs": []
    },
    {
      "cell_type": "code",
      "source": [
        "get_user(1)"
      ],
      "metadata": {
        "colab": {
          "base_uri": "https://localhost:8080/"
        },
        "id": "AVdNQ5o4YG4T",
        "outputId": "a1c30ebd-3c51-4ce5-dfc1-a3bd2774b029"
      },
      "execution_count": null,
      "outputs": [
        {
          "output_type": "execute_result",
          "data": {
            "text/plain": [
              "(1, 'Urbano', 25, 'urbano@gmail.com')"
            ]
          },
          "metadata": {},
          "execution_count": 25
        }
      ]
    },
    {
      "cell_type": "code",
      "source": [
        "# UPDATE - Update an existing user record\n",
        "def update_user(id, name, age, email):\n",
        "    conn.execute(f\"UPDATE users SET name='{name}', age={age}, email='{email}' WHERE id={id}\")\n",
        "    conn.commit()"
      ],
      "metadata": {
        "id": "Bzqc0KJYYYFz"
      },
      "execution_count": null,
      "outputs": []
    },
    {
      "cell_type": "code",
      "source": [
        "update_user(1, 'Urvan', 20, 'pogi@yahoo.com')\n",
        "get_user(1)"
      ],
      "metadata": {
        "colab": {
          "base_uri": "https://localhost:8080/"
        },
        "id": "Mk_P9mUeZDFy",
        "outputId": "e2e11bcb-78c5-4bd2-b00b-b572dd693c7e"
      },
      "execution_count": null,
      "outputs": [
        {
          "output_type": "execute_result",
          "data": {
            "text/plain": [
              "(1, 'Urvan', 20, 'pogi@yahoo.com')"
            ]
          },
          "metadata": {},
          "execution_count": 27
        }
      ]
    },
    {
      "cell_type": "code",
      "source": [
        "# DELETE - Remove a user record by id\n",
        "def delete_user(id):\n",
        "    conn.execute(f\"DELETE FROM users WHERE id={id}\")\n",
        "    conn.commit()"
      ],
      "metadata": {
        "id": "pREwiPSlZhYa"
      },
      "execution_count": null,
      "outputs": []
    },
    {
      "cell_type": "code",
      "source": [
        "delete_user(2)"
      ],
      "metadata": {
        "id": "TeT8BvtEZ8zb"
      },
      "execution_count": null,
      "outputs": []
    },
    {
      "cell_type": "code",
      "source": [
        "get_user(1)\n",
        "get_user(3)"
      ],
      "metadata": {
        "colab": {
          "base_uri": "https://localhost:8080/"
        },
        "id": "sdQ-OxAPaAGL",
        "outputId": "d327a9ff-3f6b-42b3-d7b3-cd76a75a2eb8"
      },
      "execution_count": null,
      "outputs": [
        {
          "output_type": "execute_result",
          "data": {
            "text/plain": [
              "(3, 'Santos', 20, 'santos@gmail.com')"
            ]
          },
          "metadata": {},
          "execution_count": 32
        }
      ]
    },
    {
      "cell_type": "code",
      "source": [
        "import sqlite3\n",
        "\n",
        "# Create a new database or connect to an existing one\n",
        "conn = sqlite3.connect('sample.db')\n",
        "\n",
        "# Create a new table with columns: id, name, age, and email\n",
        "conn.execute('''CREATE TABLE IF NOT EXISTS users\n",
        "             (id INTEGER PRIMARY KEY,\n",
        "              name TEXT NOT NULL,\n",
        "              age INTEGER NOT NULL,\n",
        "              email TEXT NOT NULL)''')\n",
        "\n",
        "# CREATE - Insert a new user record\n",
        "def create_user(name, age, email):\n",
        "    conn.execute(f\"INSERT INTO users (name, age, email) VALUES ('{name}', {age}, '{email}')\")\n",
        "    conn.commit()\n",
        "\n",
        "# READ - Retrieve a user record by id\n",
        "def get_user(id):\n",
        "    cursor = conn.execute(f\"SELECT id, name, age, email FROM users WHERE id={id}\")\n",
        "    user = cursor.fetchone()\n",
        "    return user\n",
        "\n",
        "# UPDATE - Update an existing user record\n",
        "def update_user(id, name, age, email):\n",
        "    conn.execute(f\"UPDATE users SET name='{name}', age={age}, email='{email}' WHERE id={id}\")\n",
        "    conn.commit()\n",
        "\n",
        "# DELETE - Remove a user record by id\n",
        "def delete_user(id):\n",
        "    conn.execute(f\"DELETE FROM users WHERE id={id}\")\n",
        "    conn.commit()\n",
        "\n",
        "# Example usage\n",
        "create_user('Alice', 25, 'alice@example.com')\n",
        "user = get_user(1)\n",
        "print(user)  # Output: (1, 'Alice', 25, 'alice@example.com')\n",
        "update_user(1, 'Alice Smith', 26, 'alice.smith@example.com')\n",
        "user = get_user(1)\n",
        "print(user)  # Output: (1, 'Alice Smith', 26, 'alice.smith@example.com')\n",
        "# delete_user(1)\n",
        "user = get_user(1)\n",
        "print(user)  # Output: None\n",
        "\n",
        "# Close the database connection when done\n",
        "conn.close()\n"
      ],
      "metadata": {
        "colab": {
          "base_uri": "https://localhost:8080/"
        },
        "id": "CB3I46QnOlEJ",
        "outputId": "a936b0fa-b243-4b2c-9819-c5d19d81aec2"
      },
      "execution_count": null,
      "outputs": [
        {
          "output_type": "stream",
          "name": "stdout",
          "text": [
            "(1, 'Alice', 25, 'alice@example.com')\n",
            "(1, 'Alice Smith', 26, 'alice.smith@example.com')\n",
            "(1, 'Alice Smith', 26, 'alice.smith@example.com')\n"
          ]
        }
      ]
    },
    {
      "cell_type": "code",
      "source": [
        "import sqlite3\n",
        "\n",
        "# Create a new database or connect to an existing one\n",
        "conn = sqlite3.connect('example.db')\n",
        "\n",
        "# Create a new table with columns: id, name, age, and email\n",
        "conn.execute('''CREATE TABLE IF NOT EXISTS users\n",
        "             (id INTEGER PRIMARY KEY,\n",
        "              name TEXT NOT NULL,\n",
        "              age INTEGER NOT NULL,\n",
        "              email TEXT NOT NULL)''')\n",
        "\n",
        "# CREATE - Insert a new user record\n",
        "def create_user(name, age, email):\n",
        "    conn.execute(f\"INSERT INTO users (name, age, email) VALUES ('{name}', {age}, '{email}')\")\n",
        "    conn.commit()\n",
        "# Example usage\n",
        "create_user('Alice', 25, 'alice@example.com')\n",
        "user = get_user(1)\n",
        "print(user)  # Output: (1, 'Alice', 25, 'alice@example.com')"
      ],
      "metadata": {
        "colab": {
          "base_uri": "https://localhost:8080/"
        },
        "id": "7sAR4Zw8bZzY",
        "outputId": "e7643ffd-fa5e-4a61-f393-5e13c3063b46"
      },
      "execution_count": null,
      "outputs": [
        {
          "output_type": "stream",
          "name": "stdout",
          "text": [
            "(1, 'Alice', 25, 'alice@example.com')\n"
          ]
        }
      ]
    },
    {
      "cell_type": "code",
      "source": [
        "update_user(1, 'Alice Smith', 26, 'alice.smith@example.com')\n",
        "user = get_user(1)\n",
        "print(user)  # Output: (1, 'Alice Smith', 26, 'alice.smith@example.com')\n"
      ],
      "metadata": {
        "colab": {
          "base_uri": "https://localhost:8080/"
        },
        "id": "59V06o0fbwzn",
        "outputId": "beba108d-6573-44d1-ba70-7fab470a5ef6"
      },
      "execution_count": null,
      "outputs": [
        {
          "output_type": "stream",
          "name": "stdout",
          "text": [
            "(1, 'Alice Smith', 26, 'alice.smith@example.com')\n"
          ]
        }
      ]
    },
    {
      "cell_type": "code",
      "source": [
        "delete_user(1)\n",
        "user = get_user(1)\n",
        "print(user)  # Output: None\n",
        "\n",
        "# Close the database connection when done\n",
        "conn.close()"
      ],
      "metadata": {
        "colab": {
          "base_uri": "https://localhost:8080/"
        },
        "id": "KUdU3-m0cLCw",
        "outputId": "ca39e2a5-aef0-420e-d8f3-52dd9af069e9"
      },
      "execution_count": null,
      "outputs": [
        {
          "output_type": "stream",
          "name": "stdout",
          "text": [
            "None\n"
          ]
        }
      ]
    },
    {
      "cell_type": "markdown",
      "source": [
        "Note that this is just a simple example and not suitable for production use, as it doesn't handle potential errors or security concerns (such as SQL injection attacks). It's important to always use proper security practices and handle errors appropriately in real-world applications."
      ],
      "metadata": {
        "id": "e481zD3dO_0i"
      }
    },
    {
      "cell_type": "code",
      "source": [
        "import sqlite3\n",
        "\n",
        "# Connect to the database\n",
        "conn = sqlite3.connect('users.db')\n",
        "\n",
        "# Create a new table with columns: id, name, age, and email\n",
        "conn.execute('''CREATE TABLE IF NOT EXISTS users\n",
        "             (id INTEGER PRIMARY KEY,\n",
        "              name TEXT NOT NULL,\n",
        "              age INTEGER NOT NULL,\n",
        "              email TEXT NOT NULL)''')\n",
        "\n",
        "\n",
        "# CREATE - Add a new user record to the database\n",
        "def create_user(name, age, email):\n",
        "    cursor = conn.cursor()\n",
        "    cursor.execute(\"INSERT INTO users (name, age, email) VALUES (?, ?, ?)\", (name, age, email))\n",
        "    conn.commit()\n",
        "    return cursor.lastrowid\n",
        "\n",
        "# READ - Retrieve a user record from the database by id\n",
        "def get_user(id):\n",
        "    cursor = conn.cursor()\n",
        "    cursor.execute(\"SELECT id, name, age, email FROM users WHERE id=?\", (id,))\n",
        "    return cursor.fetchone()\n",
        "\n",
        "# UPDATE - Update an existing user record in the database\n",
        "def update_user(id, name, age, email):\n",
        "    cursor = conn.cursor()\n",
        "    cursor.execute(\"UPDATE users SET name=?, age=?, email=? WHERE id=?\", (name, age, email, id))\n",
        "    conn.commit()\n",
        "\n",
        "# DELETE - Remove a user record from the database by id\n",
        "def delete_user(id):\n",
        "    cursor = conn.cursor()\n",
        "    cursor.execute(\"DELETE FROM users WHERE id=?\", (id,))\n",
        "    conn.commit()\n",
        "\n",
        "# Example usage\n",
        "create_user('Alice', 25, 'alice@example.com')\n",
        "create_user('Bob', 30, 'bob@example.com')\n",
        "user1 = get_user(1)\n",
        "print(user1)  # Output: (1, 'Alice', 25, 'alice@example.com')\n",
        "update_user(2, 'Bob Smith', 31, 'bob.smith@example.com')\n",
        "user2 = get_user(2)\n",
        "print(user2)  # Output: (2, 'Bob Smith', 31, 'bob.smith@example.com')\n",
        "delete_user(1)\n",
        "user3 = get_user(1)\n",
        "print(user3)  # Output: None\n",
        "\n",
        "# Close the database connection when done\n",
        "conn.close()\n"
      ],
      "metadata": {
        "colab": {
          "base_uri": "https://localhost:8080/"
        },
        "id": "9gMxIF9nQr8B",
        "outputId": "45178e67-9f19-4be7-c84b-aed7b59847eb"
      },
      "execution_count": null,
      "outputs": [
        {
          "output_type": "stream",
          "name": "stdout",
          "text": [
            "(1, 'Alice', 25, 'alice@example.com')\n",
            "(2, 'Bob Smith', 31, 'bob.smith@example.com')\n",
            "None\n"
          ]
        }
      ]
    },
    {
      "cell_type": "markdown",
      "source": [
        "Here's an example of a Python CRUD code that uses a MySQL database and follows best practices for production use:"
      ],
      "metadata": {
        "id": "mOdOMUpTQpMO"
      }
    },
    {
      "cell_type": "code",
      "source": [
        "import sqlite3\n",
        "\n",
        "# Create the database and the users table\n",
        "conn = sqlite3.connect('sample.db')\n",
        "cursor = conn.cursor()\n",
        "cursor.execute('''CREATE TABLE IF NOT EXISTS users\n",
        "                  (id INTEGER PRIMARY KEY,\n",
        "                   name TEXT NOT NULL,\n",
        "                   age INTEGER NOT NULL,\n",
        "                   email TEXT NOT NULL UNIQUE)''')\n",
        "conn.commit()\n",
        "\n",
        "def create_user(name, age, email):\n",
        "    # Insert a new user into the database\n",
        "    try:\n",
        "        cursor.execute('''INSERT INTO users(name, age, email)\n",
        "                          VALUES(?, ?, ?)''', (name, age, email))\n",
        "        conn.commit()\n",
        "        user_id = cursor.lastrowid\n",
        "        return {'id': user_id, 'name': name, 'age': age, 'email': email}\n",
        "    except sqlite3.IntegrityError:\n",
        "        return {'error': 'Email address already in use'}\n",
        "\n",
        "def get_users():\n",
        "    # Retrieve all users from the database\n",
        "    cursor.execute('SELECT * FROM users')\n",
        "    users = cursor.fetchall()\n",
        "    return [{'id': user[0], 'name': user[1], 'age': user[2], 'email': user[3]} for user in users]\n",
        "\n",
        "def get_user(user_id):\n",
        "    # Retrieve a specific user from the database\n",
        "    cursor.execute('SELECT * FROM users WHERE id = ?', (user_id,))\n",
        "    user = cursor.fetchone()\n",
        "    if not user:\n",
        "        return {'error': 'User not found'}\n",
        "    return {'id': user[0], 'name': user[1], 'age': user[2], 'email': user[3]}\n",
        "\n",
        "def update_user(user_id, name, age, email):\n",
        "    # Update an existing user in the database\n",
        "    cursor.execute('SELECT * FROM users WHERE id = ?', (user_id,))\n",
        "    user = cursor.fetchone()\n",
        "    if not user:\n",
        "        return {'error': 'User not found'}\n",
        "    try:\n",
        "        cursor.execute('''UPDATE users\n",
        "                          SET name = ?, age = ?, email = ?\n",
        "                          WHERE id = ?''', (name, age, email, user_id))\n",
        "        conn.commit()\n",
        "        return {'id': user_id, 'name': name, 'age': age, 'email': email}\n",
        "    except sqlite3.IntegrityError:\n",
        "        return {'error': 'Email address already in use'}\n",
        "\n",
        "def delete_user(user_id):\n",
        "    # Delete a user from the database\n",
        "    cursor.execute('SELECT * FROM users WHERE id = ?', (user_id,))\n",
        "    user = cursor.fetchone()\n",
        "    if not user:\n",
        "        return {'error': 'User not found'}\n",
        "    cursor.execute('DELETE FROM users WHERE id = ?', (user_id,))\n",
        "    conn.commit()\n",
        "    return {'message': 'User deleted successfully'}\n",
        "\n"
      ],
      "metadata": {
        "id": "q8IW5MoORVF2"
      },
      "execution_count": null,
      "outputs": []
    },
    {
      "cell_type": "code",
      "source": [],
      "metadata": {
        "id": "57t0Sv2vc4-x"
      },
      "execution_count": null,
      "outputs": []
    },
    {
      "cell_type": "code",
      "source": [
        "create_user('Jonathan', 49, 'jvtaylar@gmail.com')"
      ],
      "metadata": {
        "colab": {
          "base_uri": "https://localhost:8080/"
        },
        "id": "cidRtfvJhHJw",
        "outputId": "e525a613-c2cf-4ef8-dae0-2a0122052d03"
      },
      "execution_count": null,
      "outputs": [
        {
          "output_type": "execute_result",
          "data": {
            "text/plain": [
              "{'id': 2, 'name': 'Jonathan', 'age': 49, 'email': 'jvtaylar@gmail.com'}"
            ]
          },
          "metadata": {},
          "execution_count": 37
        }
      ]
    },
    {
      "cell_type": "code",
      "source": [
        "create_user('Mantaring', 30, 'mantaring@gmail.com')"
      ],
      "metadata": {
        "colab": {
          "base_uri": "https://localhost:8080/"
        },
        "id": "zD2wwG1TdE2Z",
        "outputId": "42c5b342-095b-4f2c-e6ec-ba3d4a6efd7d"
      },
      "execution_count": null,
      "outputs": [
        {
          "output_type": "execute_result",
          "data": {
            "text/plain": [
              "{'id': 3, 'name': 'Mantaring', 'age': 30, 'email': 'mantaring@gmail.com'}"
            ]
          },
          "metadata": {},
          "execution_count": 38
        }
      ]
    },
    {
      "cell_type": "code",
      "source": [
        "create_user('John', 30, 'john@gmail.com')"
      ],
      "metadata": {
        "colab": {
          "base_uri": "https://localhost:8080/"
        },
        "id": "vBw7wJZAJxse",
        "outputId": "d9750c9c-3b15-42b6-acad-230268b2fc64"
      },
      "execution_count": null,
      "outputs": [
        {
          "output_type": "execute_result",
          "data": {
            "text/plain": [
              "{'id': 4, 'name': 'John', 'age': 30, 'email': 'john@gmail.com'}"
            ]
          },
          "metadata": {},
          "execution_count": 39
        }
      ]
    },
    {
      "cell_type": "code",
      "source": [
        "get_users()"
      ],
      "metadata": {
        "colab": {
          "base_uri": "https://localhost:8080/"
        },
        "id": "gd-giWZTjZLG",
        "outputId": "6869b28d-3e00-4341-cb94-59b06a58faa3"
      },
      "execution_count": null,
      "outputs": [
        {
          "output_type": "execute_result",
          "data": {
            "text/plain": [
              "[{'id': 1,\n",
              "  'name': 'Alice Smith',\n",
              "  'age': 26,\n",
              "  'email': 'alice.smith@example.com'},\n",
              " {'id': 2, 'name': 'Jonathan', 'age': 49, 'email': 'jvtaylar@gmail.com'},\n",
              " {'id': 3, 'name': 'Mantaring', 'age': 30, 'email': 'mantaring@gmail.com'},\n",
              " {'id': 4, 'name': 'John', 'age': 30, 'email': 'john@gmail.com'}]"
            ]
          },
          "metadata": {},
          "execution_count": 40
        }
      ]
    },
    {
      "cell_type": "code",
      "source": [
        "update_user(5, 'Joan', 50, 'email@.email.com')"
      ],
      "metadata": {
        "colab": {
          "base_uri": "https://localhost:8080/"
        },
        "id": "KadWZ1SBjgGF",
        "outputId": "587d3a8c-9698-41fd-e835-d54241160b36"
      },
      "execution_count": null,
      "outputs": [
        {
          "output_type": "execute_result",
          "data": {
            "text/plain": [
              "{'error': 'User not found'}"
            ]
          },
          "metadata": {},
          "execution_count": 42
        }
      ]
    },
    {
      "cell_type": "code",
      "source": [
        "get_users()"
      ],
      "metadata": {
        "colab": {
          "base_uri": "https://localhost:8080/"
        },
        "id": "ciyCPRJDjoap",
        "outputId": "2e7c6c1f-1bd6-42d3-fef4-3a40828c6d9d"
      },
      "execution_count": null,
      "outputs": [
        {
          "output_type": "execute_result",
          "data": {
            "text/plain": [
              "[{'id': 1, 'name': 'Joan', 'age': 50, 'email': 'email@.email.com'},\n",
              " {'id': 2, 'name': 'Jonathan', 'age': 49, 'email': 'jvtaylar@gmail.com'},\n",
              " {'id': 3, 'name': 'Mantaring', 'age': 30, 'email': 'mantaring@gmail.com'},\n",
              " {'id': 4, 'name': 'John', 'age': 30, 'email': 'john@gmail.com'}]"
            ]
          },
          "metadata": {},
          "execution_count": 43
        }
      ]
    },
    {
      "cell_type": "code",
      "source": [
        "delete_user(1)"
      ],
      "metadata": {
        "colab": {
          "base_uri": "https://localhost:8080/"
        },
        "id": "HKKAe_jBdWPx",
        "outputId": "da54085d-45fb-413b-ac61-899133387a65"
      },
      "execution_count": null,
      "outputs": [
        {
          "output_type": "execute_result",
          "data": {
            "text/plain": [
              "{'message': 'User deleted successfully'}"
            ]
          },
          "metadata": {},
          "execution_count": 45
        }
      ]
    },
    {
      "cell_type": "markdown",
      "source": [
        "Here is an example of CRUD using OOP approach"
      ],
      "metadata": {
        "id": "Qk8Se3DZkE90"
      }
    },
    {
      "cell_type": "code",
      "source": [
        "import sqlite3\n",
        "\n",
        "class User:\n",
        "    def __init__(self, name, age, email, user_id=None):\n",
        "        self.name = name\n",
        "        self.age = age\n",
        "        self.email = email\n",
        "        self.user_id = user_id\n",
        "\n",
        "class UserDB:\n",
        "    def __init__(self, db_name):\n",
        "        self.conn = sqlite3.connect(db_name)\n",
        "        self.cursor = self.conn.cursor()\n",
        "        self.cursor.execute('''CREATE TABLE IF NOT EXISTS users\n",
        "                               (id INTEGER PRIMARY KEY,\n",
        "                                name TEXT NOT NULL,\n",
        "                                age INTEGER NOT NULL,\n",
        "                                email TEXT NOT NULL UNIQUE)''')\n",
        "        self.conn.commit()\n",
        "\n",
        "    def create_user(self, user):\n",
        "        try:\n",
        "            self.cursor.execute('''INSERT INTO users(name, age, email)\n",
        "                                   VALUES(?, ?, ?)''', (user.name, user.age, user.email))\n",
        "            self.conn.commit()\n",
        "            user_id = self.cursor.lastrowid\n",
        "            user.user_id = user_id\n",
        "            return user\n",
        "        except sqlite3.IntegrityError:\n",
        "            return {'error': 'Email address already in use'}\n",
        "\n",
        "    def get_users(self):\n",
        "        self.cursor.execute('SELECT * FROM users')\n",
        "        users = self.cursor.fetchall()\n",
        "        return [User(user[1], user[2], user[3], user[0]) for user in users]\n",
        "\n",
        "    def get_user(self, user_id):\n",
        "        self.cursor.execute('SELECT * FROM users WHERE id = ?', (user_id,))\n",
        "        user = self.cursor.fetchone()\n",
        "        if not user:\n",
        "            return {'error': 'User not found'}\n",
        "        return User(user[1], user[2], user[3], user[0])\n",
        "\n",
        "    def update_user(self, user):\n",
        "        self.cursor.execute('SELECT * FROM users WHERE id = ?', (user.user_id,))\n",
        "        old_user = self.cursor.fetchone()\n",
        "        if not old_user:\n",
        "            return {'error': 'User not found'}\n",
        "        try:\n",
        "            self.cursor.execute('''UPDATE users\n",
        "                                   SET name = ?, age = ?, email = ?\n",
        "                                   WHERE id = ?''', (user.name, user.age, user.email, user.user_id))\n",
        "            self.conn.commit()\n",
        "            return user\n",
        "        except sqlite3.IntegrityError:\n",
        "            return {'error': 'Email address already in use'}\n",
        "\n",
        "    def delete_user(self, user_id):\n",
        "        self.cursor.execute('SELECT * FROM users WHERE id = ?', (user_id,))\n",
        "        user = self.cursor.fetchone()\n",
        "        if not user:\n",
        "            return {'error': 'User not found'}\n",
        "        self.cursor.execute('DELETE FROM users WHERE id = ?', (user_id,))\n",
        "        self.conn.commit()\n",
        "        return {'message': 'User deleted successfully'}\n"
      ],
      "metadata": {
        "id": "aIvdkRdYkI_V"
      },
      "execution_count": null,
      "outputs": []
    },
    {
      "cell_type": "code",
      "source": [
        "f = UserDB('db.db')"
      ],
      "metadata": {
        "id": "8m6zV9JGd9gS",
        "colab": {
          "base_uri": "https://localhost:8080/",
          "height": 165
        },
        "outputId": "da230b1c-62bb-420d-a107-bb5f4f81f383"
      },
      "execution_count": null,
      "outputs": [
        {
          "output_type": "error",
          "ename": "NameError",
          "evalue": "ignored",
          "traceback": [
            "\u001b[0;31m---------------------------------------------------------------------------\u001b[0m",
            "\u001b[0;31mNameError\u001b[0m                                 Traceback (most recent call last)",
            "\u001b[0;32m<ipython-input-46-839b9045c815>\u001b[0m in \u001b[0;36m<cell line: 1>\u001b[0;34m()\u001b[0m\n\u001b[0;32m----> 1\u001b[0;31m \u001b[0mf\u001b[0m \u001b[0;34m=\u001b[0m \u001b[0mUserDB\u001b[0m\u001b[0;34m(\u001b[0m\u001b[0;34m'db.db'\u001b[0m\u001b[0;34m)\u001b[0m\u001b[0;34m\u001b[0m\u001b[0;34m\u001b[0m\u001b[0m\n\u001b[0m",
            "\u001b[0;31mNameError\u001b[0m: name 'UserDB' is not defined"
          ]
        }
      ]
    },
    {
      "cell_type": "code",
      "source": [
        "u = User('Maria', 18, 'maria@email.com')"
      ],
      "metadata": {
        "id": "p9giNauzK6rq"
      },
      "execution_count": null,
      "outputs": []
    },
    {
      "cell_type": "code",
      "source": [
        "f.create_user(u)"
      ],
      "metadata": {
        "colab": {
          "base_uri": "https://localhost:8080/"
        },
        "id": "WFThykjEMVjV",
        "outputId": "f6a48912-1300-4c88-934c-07ff70c84167"
      },
      "execution_count": null,
      "outputs": [
        {
          "output_type": "execute_result",
          "data": {
            "text/plain": [
              "<__main__.User at 0x7f85b0257f40>"
            ]
          },
          "metadata": {},
          "execution_count": 11
        }
      ]
    },
    {
      "cell_type": "markdown",
      "source": [
        "In this example, we have two classes - `User` and `UserDB`. The `User class` is a simple data class that represents a user with properties like `name`, `age`, `email`, and `user ID`.\n",
        "\n",
        "The `UserDB` class is responsible for interacting with the database and providing functions for `creating`, `reading`, `updating`, and `deleting users` from the database.\n",
        "\n",
        "To use this class, you would need to create an instance of the `UserDB class` and call the methods as needed. For example:"
      ],
      "metadata": {
        "id": "2zK3sJkrkNQh"
      }
    },
    {
      "cell_type": "code",
      "source": [
        "db = UserDB('db.db')\n",
        "new_user = User('John Doe', 30, 'johndoe@example.com')\n",
        "created_user = db.create_user(new_user)\n",
        "print(created_user.user_id) # prints the ID of the newly created user\n"
      ],
      "metadata": {
        "colab": {
          "base_uri": "https://localhost:8080/"
        },
        "id": "9uXdqaegka9E",
        "outputId": "73e2f962-c280-426f-9aa7-78f4264cec32"
      },
      "execution_count": null,
      "outputs": [
        {
          "output_type": "stream",
          "name": "stdout",
          "text": [
            "1\n"
          ]
        }
      ]
    },
    {
      "cell_type": "code",
      "source": [
        "new_user = User('Girl Doe', 25, 'girl@example.com')"
      ],
      "metadata": {
        "id": "YutYepndeGV5"
      },
      "execution_count": null,
      "outputs": []
    },
    {
      "cell_type": "code",
      "source": [
        "created_user = db.create_user(new_user)\n",
        "print(created_user.user_id) # prints the ID of the newly created user"
      ],
      "metadata": {
        "id": "xnXvVuO1eNhA",
        "outputId": "b86b8c7b-8f19-48eb-8e68-4fa677325f41",
        "colab": {
          "base_uri": "https://localhost:8080/"
        }
      },
      "execution_count": null,
      "outputs": [
        {
          "output_type": "stream",
          "name": "stdout",
          "text": [
            "2\n"
          ]
        }
      ]
    },
    {
      "cell_type": "code",
      "source": [
        "print(created_user.name, created_user.age, created_user.email, created_user.user_id)"
      ],
      "metadata": {
        "colab": {
          "base_uri": "https://localhost:8080/"
        },
        "id": "1M38By4Zkfny",
        "outputId": "e2259cdc-b56a-4ed0-feda-250596bd1ef8"
      },
      "execution_count": null,
      "outputs": [
        {
          "output_type": "stream",
          "name": "stdout",
          "text": [
            "Girl Doe 25 girl@example.com 2\n"
          ]
        }
      ]
    }
  ],
  "metadata": {
    "kernelspec": {
      "display_name": "Python 3",
      "language": "python",
      "name": "python3"
    },
    "language_info": {
      "codemirror_mode": {
        "name": "ipython",
        "version": 3
      },
      "file_extension": ".py",
      "mimetype": "text/x-python",
      "name": "python",
      "nbconvert_exporter": "python",
      "pygments_lexer": "ipython3",
      "version": "3.7.7"
    },
    "colab": {
      "provenance": []
    }
  },
  "nbformat": 4,
  "nbformat_minor": 0
}