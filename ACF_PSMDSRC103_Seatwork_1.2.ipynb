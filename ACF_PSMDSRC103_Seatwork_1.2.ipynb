{
 "cells": [
  {
   "cell_type": "markdown",
   "metadata": {
    "application/vnd.databricks.v1+cell": {
     "cellMetadata": {
      "byteLimit": 2048000,
      "rowLimit": 10000
     },
     "inputWidgets": {},
     "nuid": "7dd4f8ce-ba82-4be3-8ae1-f26e85506a82",
     "showTitle": false,
     "title": ""
    }
   },
   "source": [
    "Seatwork 1.2 | Python Fundamentals Practice Set 1\n",
    "\n",
    "Exercise 1: Weather Monitoring System\n",
    "You are developing a weather monitoring system for a small town. The system needs to process temperature data in different units.\n"
   ]
  },
  {
   "cell_type": "code",
   "execution_count": 0,
   "metadata": {
    "application/vnd.databricks.v1+cell": {
     "cellMetadata": {
      "byteLimit": 2048000,
      "rowLimit": 10000
     },
     "inputWidgets": {},
     "nuid": "f62218ae-9de9-493b-a220-cb32e38be2a8",
     "showTitle": false,
     "title": ""
    }
   },
   "outputs": [],
   "source": [
    "#Task 1: Write a function celsius_to_fahrenheit(celsius) that converts a temperature reading from Celsius to Fahrenheit for the weather reports.\n",
    "\n",
    "def celsius_to_fahrenheit(celsius):\n",
    "    return (celsius * 9/5) + 32"
   ]
  },
  {
   "cell_type": "code",
   "execution_count": 0,
   "metadata": {
    "application/vnd.databricks.v1+cell": {
     "cellMetadata": {
      "byteLimit": 2048000,
      "rowLimit": 10000
     },
     "inputWidgets": {},
     "nuid": "044b9580-564b-46e0-9e81-35a6fc1da796",
     "showTitle": false,
     "title": ""
    }
   },
   "outputs": [],
   "source": [
    "# Task 2: Write a function fahrenheit_to_celsius(fahrenheit) that converts temperature data from the old system (which used Fahrenheit) to Celsius for consistency.\n",
    "def fahrenheit_to_celsius(fahrenheit):\n",
    "    return (fahrenheit - 32) * 5/9"
   ]
  },
  {
   "cell_type": "code",
   "execution_count": 0,
   "metadata": {
    "application/vnd.databricks.v1+cell": {
     "cellMetadata": {
      "byteLimit": 2048000,
      "rowLimit": 10000
     },
     "inputWidgets": {},
     "nuid": "623c48f3-cee2-4783-ac86-0f2ac9aac407",
     "showTitle": false,
     "title": ""
    }
   },
   "outputs": [],
   "source": [
    "# Task 3: Write a function celsius_to_kelvin(celsius) that converts the temperature to Kelvin for scientific analysis.\n",
    "\n",
    "def celsius_to_kelvin(celsius):\n",
    "    return celsius + 273.15"
   ]
  },
  {
   "cell_type": "code",
   "execution_count": 0,
   "metadata": {
    "application/vnd.databricks.v1+cell": {
     "cellMetadata": {
      "byteLimit": 2048000,
      "rowLimit": 10000
     },
     "inputWidgets": {},
     "nuid": "9d3512dd-7421-4eed-90e5-43e6f205c181",
     "showTitle": false,
     "title": ""
    }
   },
   "outputs": [
    {
     "output_type": "display_data",
     "data": {
      "text/plain": [
       "Enter the temperature to convert:  32"
      ]
     },
     "metadata": {},
     "output_type": "display_data"
    },
    {
     "output_type": "display_data",
     "data": {
      "text/plain": [
       "Enter the current unit (C for Celsius, F for Fahrenheit, K for Kelvin):  k"
      ]
     },
     "metadata": {},
     "output_type": "display_data"
    },
    {
     "output_type": "display_data",
     "data": {
      "text/plain": [
       "Convert to (C for Celsius, F for Fahrenheit):  f"
      ]
     },
     "metadata": {},
     "output_type": "display_data"
    },
    {
     "output_type": "stream",
     "name": "stdout",
     "output_type": "stream",
     "text": [
      "32.0K is -402.07°F\n"
     ]
    }
   ],
   "source": [
    "\n",
    "def kelvin_to_celsius(kelvin):\n",
    "    return kelvin - 273.15\n",
    "\n",
    "def kelvin_to_fahrenheit(kelvin):\n",
    "    return (kelvin - 273.15) * 9/5 + 32\n",
    "\n",
    "'''Task 4: Write a main program that simulates the input of temperature data from different sensors and converts it to the required units. \n",
    "The system should allow users (weather analysts) to input a temperature and select the conversion they need, \n",
    "displaying the converted temperature.'''\n",
    "    \n",
    "\n",
    "def temp_conversion():\n",
    "\n",
    "    # Get temperature input\n",
    "    temperature_str = input(\"Enter the temperature to convert: \")\n",
    "    try:\n",
    "        temperature = float(temperature_str)\n",
    "    except ValueError:\n",
    "        print(\"Invalid input. Please enter a numeric temperature value.\")\n",
    "        return\n",
    "\n",
    "    # Get unit input\n",
    "    unit = input(\"Enter the current unit (C for Celsius, F for Fahrenheit, K for Kelvin): \").upper()\n",
    "    if unit not in ['C', 'F', 'K']:\n",
    "        print(\"Invalid choice. Please enter C, F, or K.\")\n",
    "        return\n",
    "    \n",
    "    # Determine conversion based on the current unit\n",
    "    if unit == 'C':\n",
    "        target_unit = input(\"Convert to (F for Fahrenheit, K for Kelvin): \").upper()\n",
    "        if target_unit == 'F':\n",
    "            result = celsius_to_fahrenheit(temperature)\n",
    "            print(f\"{temperature}°C is {result:.2f}°F\")\n",
    "        elif target_unit == 'K':\n",
    "            result = celsius_to_kelvin(temperature)\n",
    "            print(f\"{temperature}°C is {result:.2f}K\")\n",
    "        else:\n",
    "            print(\"Invalid conversion choice. Please enter F or K.\")\n",
    "\n",
    "    elif unit == 'F':\n",
    "        target_unit = input(\"Convert to (C for Celsius, K for Kelvin): \").upper()\n",
    "        if target_unit == 'C':\n",
    "            result = fahrenheit_to_celsius(temperature)\n",
    "            print(f\"{temperature}°F is {result:.2f}°C\")\n",
    "        elif target_unit == 'K':\n",
    "            result = celsius_to_kelvin(fahrenheit_to_celsius(temperature))\n",
    "            print(f\"{temperature}°F is {result:.2f}K\")\n",
    "        else:\n",
    "            print(\"Invalid conversion choice. Please enter C or K.\")\n",
    "\n",
    "    elif unit == 'K':\n",
    "        target_unit = input(\"Convert to (C for Celsius, F for Fahrenheit): \").upper()\n",
    "        if target_unit == 'C':\n",
    "            result = kelvin_to_celsius(temperature)\n",
    "            print(f\"{temperature}K is {result:.2f}°C\")\n",
    "        elif target_unit == 'F':\n",
    "            result = kelvin_to_fahrenheit(temperature)\n",
    "            print(f\"{temperature}K is {result:.2f}°F\")\n",
    "        else:\n",
    "            print(\"Invalid conversion choice. Please enter C or F.\")\n",
    "\n",
    "# Run the temperature conversion function\n",
    "temp_conversion()\n"
   ]
  },
  {
   "cell_type": "code",
   "execution_count": 0,
   "metadata": {
    "application/vnd.databricks.v1+cell": {
     "cellMetadata": {
      "byteLimit": 2048000,
      "rowLimit": 10000
     },
     "inputWidgets": {},
     "nuid": "b63ae4b0-b805-44c8-847e-93137a01d95f",
     "showTitle": false,
     "title": ""
    }
   },
   "outputs": [
    {
     "output_type": "display_data",
     "data": {
      "text/plain": [
       "Enter the temperature to convert:  32"
      ]
     },
     "metadata": {},
     "output_type": "display_data"
    },
    {
     "output_type": "display_data",
     "data": {
      "text/plain": [
       "Enter the current unit (C for Celsius, F for Fahrenheit, K for Kelvin):  k"
      ]
     },
     "metadata": {},
     "output_type": "display_data"
    },
    {
     "output_type": "stream",
     "name": "stdout",
     "output_type": "stream",
     "text": [
      "32.0K is -241.15°C and -402.07°F\n"
     ]
    }
   ],
   "source": [
    "# Task 4 variation. Program asks user for temperature input and automatically converts it to other temperature scales.\n",
    "\n",
    "def auto_temp_conversion():\n",
    "    # Get temperature input\n",
    "    temperature_str = input(\"Enter the temperature to convert: \")\n",
    "    try:\n",
    "        temperature = float(temperature_str)\n",
    "    except ValueError:\n",
    "        print(\"Invalid input. Please enter a numeric temperature value.\")\n",
    "        return\n",
    "\n",
    "    # Get unit input\n",
    "    unit = input(\"Enter the current unit (C for Celsius, F for Fahrenheit, K for Kelvin): \").upper()\n",
    "    if unit not in ['C', 'F', 'K']:\n",
    "        print(\"Invalid choice. Please enter C, F, or K.\")\n",
    "        return\n",
    "\n",
    "    # Determine conversion based on the current unit\n",
    "    if unit == 'C':\n",
    "        fahrenheit = celsius_to_fahrenheit(temperature)\n",
    "        kelvin = celsius_to_kelvin(temperature)\n",
    "        print(f\"{temperature}°C is {fahrenheit:.2f}°F and {kelvin:.2f}K\")\n",
    "\n",
    "    elif unit == 'F':\n",
    "        celsius = fahrenheit_to_celsius(temperature)\n",
    "        kelvin = celsius_to_kelvin(celsius)\n",
    "        print(f\"{temperature}°F is {celsius:.2f}°C and {kelvin:.2f}K\")\n",
    "\n",
    "    elif unit == 'K':\n",
    "        celsius = kelvin_to_celsius(temperature)\n",
    "        fahrenheit = celsius_to_fahrenheit(celsius)\n",
    "        print(f\"{temperature}K is {celsius:.2f}°C and {fahrenheit:.2f}°F\")\n",
    "\n",
    "# Run the temperature conversion function\n",
    "auto_temp_conversion()\n",
    "\n"
   ]
  }
 ],
 "metadata": {
  "application/vnd.databricks.v1+notebook": {
   "dashboards": [],
   "environmentMetadata": null,
   "language": "python",
   "notebookMetadata": {
    "pythonIndentUnit": 4
   },
   "notebookName": "ACF_PSMDSRC103_Seatwork_1.2",
   "widgets": {}
  }
 },
 "nbformat": 4,
 "nbformat_minor": 0
}
