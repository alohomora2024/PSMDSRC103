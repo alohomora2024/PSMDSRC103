{
 "cells": [
  {
   "attachments": {},
   "cell_type": "markdown",
   "id": "608e9b02-bf80-40ed-95e4-f4b347e3c47c",
   "metadata": {},
   "source": [
    "## Exploring Built-in Functions\n",
    "1.\tCreate a folder named builtinfunctions </br>\n",
    "2.\tInside the folder, create a folder and inside it create a Python file named evaluator.py."
   ]
  },
  {
   "cell_type": "code",
   "execution_count": 1,
   "id": "29be819d-2f70-4c1f-9596-06a4a0ef9fb3",
   "metadata": {},
   "outputs": [
    {
     "name": "stdout",
     "output_type": "stream",
     "text": [
      "Propositional Logic Evaluator for Discrete Math\n"
     ]
    },
    {
     "name": "stdin",
     "output_type": "stream",
     "text": [
      "How many variables?  2\n",
      "Enter the propositional logic expression:  not(A and B) or (A and B)\n"
     ]
    },
    {
     "name": "stdout",
     "output_type": "stream",
     "text": [
      "A B f\n",
      "0 0 True\n",
      "0 1 True\n",
      "1 0 True\n",
      "1 1 1\n"
     ]
    }
   ],
   "source": [
    "# Propositional Logic Evaluator for Discrete Math for 2-3 variables\n",
    "print(\"Propositional Logic Evaluator for Discrete Math\")\n",
    "\n",
    "# Get the number of variables from the user\n",
    "variables = int(input(\"How many variables? \"))\n",
    "total_combinations = 2 ** variables\n",
    "\n",
    "combinations_list = []\n",
    "\n",
    "# Generate the combinations\n",
    "for i in range(total_combinations):\n",
    "    bin_equivalent = bin(i)[2:]  # Convert the number to binary string\n",
    "    while len(bin_equivalent) < variables:  # Pad the binary string with leading zeros\n",
    "        bin_equivalent = \"0\" + bin_equivalent\n",
    "    combinations_list.append(tuple(int(val) for val in bin_equivalent))  \n",
    "    # This will generate a list with values [(0,0),(0,1),(1,0),(1,1)]\n",
    "    # For two variables\n",
    "\n",
    "# Main program - Get the propositional logic expression from the user\n",
    "expression = input(\"Enter the propositional logic expression: \")\n",
    "\"\"\"\n",
    "Note: Only the letters A, B, and C are allowed to be used.\n",
    "Sample input: not(A and B) or (A and C)\n",
    "All input must be small cases\n",
    "\"\"\"\n",
    "if variables == 2:\n",
    "    print(\"A B f\") \n",
    "    for A, B in combinations_list:\n",
    "        evaluated_expression = eval(expression)\n",
    "        print(A, B, evaluated_expression)\n",
    "elif variables == 3:\n",
    "    print(\"A B C f\") \n",
    "    for A, B, C in combinations_list:\n",
    "        evaluated_expression = eval(expression)\n",
    "        print(A, B, C, evaluated_expression)\n"
   ]
  },
  {
   "attachments": {},
   "cell_type": "markdown",
   "id": "765e8a65-943b-460f-93a9-950605e821de",
   "metadata": {},
   "source": [
    "## Using the open() function for File Handling\n",
    "1.\tCreate a folder named filehandling outside of builtinfunctions folder. </br>\n",
    "2.\tCreate a Python file inside the filehandling folder named filewriter.py. </br>\n",
    "3.\tOpen the filewriter.py using Spyder IDE and put in similar code to what’s shown below:"
   ]
  },
  {
   "cell_type": "code",
   "execution_count": null,
   "id": "b8e1bbf4-9cb9-42f5-baca-01b4ee8b5d00",
   "metadata": {},
   "outputs": [],
   "source": [
    "name = \"ACF\"\n",
    "file = open(\"newfile1.text\", 'w')\n",
    "file.write(f\"Hello, {name}!\\n\")\n",
    "file.write(\"Isn’t this amazing?\\n\")\n",
    "file.write(\"that we can create and write on text files\\n\")\n",
    "file.write(\"using Python.\")\n",
    "file.close()"
   ]
  },
  {
   "attachments": {},
   "cell_type": "markdown",
   "id": "27787efd-5154-4256-88ba-cb64e795dfc6",
   "metadata": {},
   "source": [
    "4.\tRun the program and observe the output."
   ]
  },
  {
   "cell_type": "code",
   "execution_count": 3,
   "id": "823b809d-d2f8-4ce3-9250-285334ec8dcf",
   "metadata": {},
   "outputs": [],
   "source": [
    "%run filehandling/filewriter.py"
   ]
  },
  {
   "cell_type": "markdown",
   "id": "81635524-1f66-4eb6-b2f6-08b9bb0e8159",
   "metadata": {},
   "source": [
    "5.\tModify the program to create a file called newfile2.txt and print the message: </br>\n",
    "“This message was created using Python.”"
   ]
  },
  {
   "cell_type": "code",
   "execution_count": 6,
   "id": "74349bee-285e-447f-ac42-30d7c193b045",
   "metadata": {},
   "outputs": [],
   "source": [
    "#Run the program again\n",
    "%run filehandling/filewriter.py"
   ]
  },
  {
   "cell_type": "markdown",
   "id": "effaaafa-6f3f-41ec-a869-f946b4d2366d",
   "metadata": {},
   "source": [
    " 6. Create another file inside the filehandling folder named filereader.py and type the code as shown below: <br>\n",
    "    file = open(\"new text\", 'r') <br>\n",
    "data= file.read() <br>\n",
    "print(data) <br>\n",
    "file.close() <br>"
   ]
  },
  {
   "cell_type": "code",
   "execution_count": 10,
   "id": "616e23fb-7390-4944-84d1-ad3599c6f222",
   "metadata": {},
   "outputs": [
    {
     "ename": "FileNotFoundError",
     "evalue": "[Errno 2] No such file or directory: 'new.txt'",
     "output_type": "error",
     "traceback": [
      "\u001b[0;31m---------------------------------------------------------------------------\u001b[0m",
      "\u001b[0;31mFileNotFoundError\u001b[0m                         Traceback (most recent call last)",
      "File \u001b[0;32m/workspaces/PSMDSRC103/filehandling/filereader.py:2\u001b[0m\n\u001b[0;32m----> 2\u001b[0m file \u001b[38;5;241m=\u001b[39m \u001b[38;5;28;43mopen\u001b[39;49m\u001b[43m(\u001b[49m\u001b[38;5;124;43m'\u001b[39;49m\u001b[38;5;124;43mnew.txt\u001b[39;49m\u001b[38;5;124;43m'\u001b[39;49m\u001b[43m,\u001b[49m\u001b[43m \u001b[49m\u001b[38;5;124;43m'\u001b[39;49m\u001b[38;5;124;43mr\u001b[39;49m\u001b[38;5;124;43m'\u001b[39;49m\u001b[43m)\u001b[49m\n\u001b[1;32m      3\u001b[0m data\u001b[38;5;241m=\u001b[39m file\u001b[38;5;241m.\u001b[39mread()\n\u001b[1;32m      4\u001b[0m \u001b[38;5;28mprint\u001b[39m(data)\n",
      "\u001b[0;31mFileNotFoundError\u001b[0m: [Errno 2] No such file or directory: 'new.txt'"
     ]
    }
   ],
   "source": [
    "%run filehandling/filereader.py"
   ]
  },
  {
   "attachments": {},
   "cell_type": "markdown",
   "id": "51e1c565-cbd7-447a-989c-6df4a0e3b99e",
   "metadata": {},
   "source": [
    "7.\tIt should display an error. Identify and resolve the cause of the error based on the message given by Python. The file that should be read is newfile1.\n",
    "8.\tAfter fixing the error, run the program again and observe the output."
   ]
  },
  {
   "cell_type": "code",
   "execution_count": 11,
   "id": "b50457eb-c47c-4f4e-b23d-bd7a10dc72e5",
   "metadata": {},
   "outputs": [
    {
     "name": "stdout",
     "output_type": "stream",
     "text": [
      "Hello, ACF!\n",
      "Isn't this amazing?\n",
      "That we can create and write on text files\n",
      "using Python.\n"
     ]
    }
   ],
   "source": [
    "%run filehandling/filereader_updated.py"
   ]
  },
  {
   "attachments": {},
   "cell_type": "markdown",
   "id": "29df0995-22c2-4c2e-a6a6-3c2f4b32d313",
   "metadata": {},
   "source": [
    "9.\tModify the filereader.py so that the message of newfile2.txt is displayed.\n",
    "\n",
    "10.\tModify again the program with the following code below: <br>\n",
    "file = open(“newfile2.txt”, ‘r’) <br>\n",
    "data = file.read(12) <br>\n",
    "print(data)<br>\n",
    "file.close()<br>\n"
   ]
  },
  {
   "cell_type": "code",
   "execution_count": 12,
   "id": "1a61bbd6-77f0-4800-aa05-5ef76f6b78bd",
   "metadata": {},
   "outputs": [
    {
     "name": "stdout",
     "output_type": "stream",
     "text": [
      "This message\n"
     ]
    }
   ],
   "source": [
    "%run filehandling/filereader_updated_2.py"
   ]
  },
  {
   "attachments": {},
   "cell_type": "markdown",
   "id": "bb72d6a5-43bb-4821-b95e-d5bb4509b2d8",
   "metadata": {},
   "source": [
    "11.\t Create a new python file still inside the folder fileappender.py and copy the code shown below:\n",
    "file = open(“newfile2.txt”, ‘a’) <br>\n",
    "file.write(“and also by the programmer, of course.”) <br>\n",
    "file.close()"
   ]
  },
  {
   "attachments": {},
   "cell_type": "markdown",
   "id": "9d358672-aa6a-49b7-924e-04faee4e39c5",
   "metadata": {},
   "source": [
    "12.\tRun the program and observe the output."
   ]
  },
  {
   "cell_type": "code",
   "execution_count": 13,
   "id": "9532dd78-e2ec-4a8c-bffd-9afd54374756",
   "metadata": {},
   "outputs": [],
   "source": [
    "%run filehandling/fileappender.py"
   ]
  },
  {
   "cell_type": "code",
   "execution_count": 14,
   "id": "6faa372c-4a0b-4957-8573-55dcd4767f57",
   "metadata": {},
   "outputs": [
    {
     "name": "stdout",
     "output_type": "stream",
     "text": [
      "Hello, ACF!\n",
      "Isn't this amazing?\n",
      "That we can create and write on text files\n",
      "using Python.and also by the programmer, of course.\n"
     ]
    }
   ],
   "source": [
    "%run filehandling/filereader_updated.py"
   ]
  },
  {
   "cell_type": "markdown",
   "id": "16158ab9-b3a7-4beb-8767-faa956cda53b",
   "metadata": {},
   "source": [
    "## User-defined functions"
   ]
  },
  {
   "attachments": {},
   "cell_type": "markdown",
   "id": "e3d4f186-3439-475e-87ad-d43dea593976",
   "metadata": {},
   "source": [
    "1.\tCreate a folder named userfunctions outside of the filehandling folder.\n",
    "2.\tInside the userfunctions folder, create a program called truthtablegenerator.py and copy the code below:"
   ]
  },
  {
   "cell_type": "code",
   "execution_count": 3,
   "id": "2615247c-53ba-4c34-8a1f-12432b70f313",
   "metadata": {},
   "outputs": [],
   "source": [
    "def generate_truthtable(number_of_variables):\n",
    "    total_combinations = 2 ** number_of_variables\n",
    "    combinations_list = []\n",
    "\n",
    "    for i in range(total_combinations):\n",
    "        bin_equivalent = bin(i)[2:]\n",
    "        while len(bin_equivalent) < number_of_variables:\n",
    "            bin_equivalent = \"0\" + bin_equivalent\n",
    "        combinations_list.append(tuple(int(val) for val in bin_equivalent))\n",
    "\n",
    "    return combinations_list"
   ]
  },
  {
   "attachments": {},
   "cell_type": "markdown",
   "id": "08ec66aa-82df-449b-a5c9-e67d439e1ce0",
   "metadata": {},
   "source": [
    "3.\tRun the program and observe the output."
   ]
  },
  {
   "cell_type": "code",
   "execution_count": 6,
   "id": "26984c5a-eb02-4553-86b3-5e7214226425",
   "metadata": {},
   "outputs": [],
   "source": [
    "%run userfunctions/truthtablegenerator.py"
   ]
  },
  {
   "cell_type": "code",
   "execution_count": 7,
   "id": "c60f721b-2597-4bf2-b0a7-a89724f26209",
   "metadata": {},
   "outputs": [
    {
     "name": "stdout",
     "output_type": "stream",
     "text": [
      "[(0, 0, 0), (0, 0, 1), (0, 1, 0), (0, 1, 1), (1, 0, 0), (1, 0, 1), (1, 1, 0), (1, 1, 1)]\n"
     ]
    }
   ],
   "source": [
    "print(generate_truthtable(3))"
   ]
  },
  {
   "attachments": {},
   "cell_type": "markdown",
   "id": "dd3dee71-05ca-47e8-b34a-e96e38fb4b63",
   "metadata": {},
   "source": [
    "4.\tModify the program by changing print(generate_truthtable(3)) to print(generate_truthtable()) and then run the program."
   ]
  },
  {
   "cell_type": "code",
   "execution_count": 8,
   "id": "5d1b7a3c-7b80-4c2c-8d0c-11466654d214",
   "metadata": {},
   "outputs": [
    {
     "ename": "TypeError",
     "evalue": "generate_truthtable() missing 1 required positional argument: 'number_of_variables'",
     "output_type": "error",
     "traceback": [
      "\u001b[0;31m---------------------------------------------------------------------------\u001b[0m",
      "\u001b[0;31mTypeError\u001b[0m                                 Traceback (most recent call last)",
      "Cell \u001b[0;32mIn[8], line 1\u001b[0m\n\u001b[0;32m----> 1\u001b[0m \u001b[38;5;28mprint\u001b[39m(\u001b[43mgenerate_truthtable\u001b[49m\u001b[43m(\u001b[49m\u001b[43m)\u001b[49m)\n",
      "\u001b[0;31mTypeError\u001b[0m: generate_truthtable() missing 1 required positional argument: 'number_of_variables'"
     ]
    }
   ],
   "source": [
    "print(generate_truthtable())"
   ]
  },
  {
   "attachments": {},
   "cell_type": "markdown",
   "id": "7285e677-47a2-4387-a6fb-edad6d24d921",
   "metadata": {},
   "source": [
    "5.\tAn error should occur, modify the program according to the code shown below."
   ]
  },
  {
   "cell_type": "code",
   "execution_count": null,
   "id": "fbaa7c5c-af1a-43d6-9c44-a628e8f1dea6",
   "metadata": {},
   "outputs": [],
   "source": [
    "def generate_truthtable(number_of_variables=0):\n",
    "    if number_of_variables == 0:\n",
    "        return \"You need to enter an integer\"\n",
    "    else:\n",
    "        total_combinations = 2 ** number_of_variables\n",
    "        combinations_list = []\n",
    "\n",
    "        for i in range(total_combinations):\n",
    "            bin_equivalent = bin(i)[2:]\n",
    "            while len(bin_equivalent) < number_of_variables:\n",
    "                bin_equivalent = \"0\" + bin_equivalent\n",
    "            combinations_list.append(tuple(int(val) for val in bin_equivalent))\n",
    "\n",
    "        return combinations_list\n"
   ]
  },
  {
   "cell_type": "code",
   "execution_count": 7,
   "id": "96aabf3f-28ed-4d22-bd96-346d07d86710",
   "metadata": {},
   "outputs": [],
   "source": [
    "%run userfunctions/truthtablegenerator_updated.py"
   ]
  },
  {
   "cell_type": "code",
   "execution_count": 8,
   "id": "c218c786-a076-420c-b484-ef85c47a2813",
   "metadata": {},
   "outputs": [
    {
     "name": "stdout",
     "output_type": "stream",
     "text": [
      "You need to enter an integer\n"
     ]
    }
   ],
   "source": [
    "print(generate_truthtable())"
   ]
  },
  {
   "attachments": {},
   "cell_type": "markdown",
   "id": "b232a142-1d3f-4a6c-a295-591a38a8468f",
   "metadata": {},
   "source": [
    "6.\tIn the same file/program, create a new function with the name evaluate_propositional_logic(). The parameter is c_list (combinations list) and the code can be found under the # main program comment in the first program made earlier."
   ]
  },
  {
   "cell_type": "code",
   "execution_count": 3,
   "id": "d441d697-9bf1-43b2-b4c5-3581c2f20b1d",
   "metadata": {},
   "outputs": [],
   "source": [
    "# Function to generate truth table combinations for the given number of variables\n",
    "def generate_truthtable(number_of_variables=0):\n",
    "    if number_of_variables == 0:\n",
    "        return \"You need to enter an integer\"\n",
    "    else:\n",
    "        total_combinations = 2 ** number_of_variables\n",
    "        combinations_list = []\n",
    "\n",
    "        for i in range(total_combinations):\n",
    "            bin_equivalent = bin(i)[2:]\n",
    "            while len(bin_equivalent) < number_of_variables:\n",
    "                bin_equivalent = \"0\" + bin_equivalent\n",
    "            combinations_list.append(tuple(int(val) for val in bin_equivalent))\n",
    "\n",
    "        return combinations_list\n",
    "\n",
    "\n",
    "# Function to evaluate the propositional logic based on a combinations list\n",
    "def evaluate_propositional_logic(c_list):\n",
    "    variables = len(c_list[0])  # Number of variables based on the combinations list length\n",
    "    expression = input(\"Enter the propositional logic expression: \")\n",
    "    \n",
    "    if variables == 2:\n",
    "        print(\"A B f\") \n",
    "        for A, B in c_list:\n",
    "            evaluated_expression = eval(expression)\n",
    "            print(A, B, evaluated_expression)\n",
    "    elif variables == 3:\n",
    "        print(\"A B C f\") \n",
    "        for A, B, C in c_list:\n",
    "            evaluated_expression = eval(expression)\n",
    "            print(A, B, C, evaluated_expression)\n",
    "\n"
   ]
  },
  {
   "cell_type": "markdown",
   "id": "10f08eba-e755-47d8-9963-bf9b9665fe10",
   "metadata": {},
   "source": [
    "7.\tAfter successfully placing the code in the function, call the function using this code\n",
    "evaluate_propositional_logic(generate_truthtable(3))"
   ]
  },
  {
   "cell_type": "code",
   "execution_count": 5,
   "id": "ac5bb6cd-70dc-49f2-a1e9-6b5326544a1f",
   "metadata": {},
   "outputs": [
    {
     "name": "stdin",
     "output_type": "stream",
     "text": [
      "Enter the propositional logic expression:  not (A and B) or (A and B)\n"
     ]
    },
    {
     "name": "stdout",
     "output_type": "stream",
     "text": [
      "A B C f\n",
      "0 0 0 True\n",
      "0 0 1 True\n",
      "0 1 0 True\n",
      "0 1 1 True\n",
      "1 0 0 True\n",
      "1 0 1 True\n",
      "1 1 0 1\n",
      "1 1 1 1\n"
     ]
    }
   ],
   "source": [
    "# Call the function with a generated truth table for 3 variables\n",
    "evaluate_propositional_logic(generate_truthtable(3))"
   ]
  },
  {
   "cell_type": "markdown",
   "id": "ed056340-9068-4865-ac7d-bbf1fd212091",
   "metadata": {},
   "source": [
    "## Modules: Built-in Modules"
   ]
  },
  {
   "cell_type": "markdown",
   "id": "7fa014e8-5325-4197-9a3d-e352561de818",
   "metadata": {},
   "source": [
    "## Math Module\n",
    "1.\tCreate a new folder called module1 outside of the userfunctions.\n",
    "2.\tCreate a python file called mathmodule.py and copy the following codes as shown below:\n"
   ]
  },
  {
   "cell_type": "code",
   "execution_count": 11,
   "id": "08e85334-bbec-420c-8cfa-b021d3198dad",
   "metadata": {},
   "outputs": [],
   "source": [
    "import math\n",
    "\n",
    "def quadratic_formula(a, b, c):\n",
    "    if b**2 - (4*a*c) < 0:\n",
    "        x1 = (complex(-b, math.floor(math.sqrt(abs(b**2-(4*a*c))))))/2*a\n",
    "        x2 = (complex(-b, -1*math.floor(math.sqrt(abs(b**2-(4*a*c))))))/2*a\n",
    "        return x1, x2\n",
    "    else:\n",
    "        x1 = (-b+math.sqrt(b**2 - (4*a*c)))/(2*a)\n",
    "        x1 = (-b-math.sqrt(b**2 - (4*a*c)))/(2*a)\n",
    "        return x1, x2"
   ]
  },
  {
   "cell_type": "code",
   "execution_count": 12,
   "id": "17bce9bb-9b25-408d-811c-dff9ed0339a6",
   "metadata": {},
   "outputs": [
    {
     "name": "stdout",
     "output_type": "stream",
     "text": [
      "((-1+1j), (-1-1j))\n"
     ]
    }
   ],
   "source": [
    "print(quadratic_formula(1,2,3))"
   ]
  },
  {
   "cell_type": "code",
   "execution_count": 13,
   "id": "e98f10df-a268-47f0-8935-4c13077c3191",
   "metadata": {},
   "outputs": [
    {
     "name": "stdout",
     "output_type": "stream",
     "text": [
      "((-0.5+0.5j), (-0.5-0.5j))\n"
     ]
    }
   ],
   "source": [
    "print(quadratic_formula(1,1,1))"
   ]
  },
  {
   "attachments": {},
   "cell_type": "markdown",
   "id": "aa9ed964-7a28-41a6-b90e-96a0a9d2b5c8",
   "metadata": {},
   "source": [
    "4.\tCreate a new python file called mathmodule2.py and copy the following codes as shown below:"
   ]
  },
  {
   "cell_type": "code",
   "execution_count": 4,
   "id": "81f79f08-452f-4aed-9ca3-77611bd98bbb",
   "metadata": {},
   "outputs": [],
   "source": [
    "import math\n",
    "\n",
    "def angle_demo():\n",
    "    angle = math.sin(math.pi/2)\n",
    "    # the default input is in radius\n",
    "    # angle sin(90)=1 in degrees == sin(pi/2)=2 in radians\n",
    "    print(angle)\n",
    "    #to make it convenient, convert it to radians\n",
    "    angle = math.sin(math.radians(90))\n",
    "    print(angle)\n",
    "    #this is also similar for cosine and other trigonometric and hyperbolic functions"
   ]
  },
  {
   "cell_type": "code",
   "execution_count": 5,
   "id": "5f37f321-4051-4415-8e09-49f2bba041cb",
   "metadata": {},
   "outputs": [
    {
     "name": "stdout",
     "output_type": "stream",
     "text": [
      "1.0\n",
      "1.0\n"
     ]
    }
   ],
   "source": [
    "angle_demo()"
   ]
  },
  {
   "cell_type": "markdown",
   "id": "6b7bd90c-ae45-4410-9a5f-98078764f9a9",
   "metadata": {},
   "source": [
    "5.\tTo view the additional functions in the module, type and run help(math) while it is imported."
   ]
  },
  {
   "cell_type": "markdown",
   "id": "dd5d46d2-d581-4ea9-9292-b9b261344756",
   "metadata": {},
   "source": [
    "## Time and DateTime Module"
   ]
  },
  {
   "attachments": {},
   "cell_type": "markdown",
   "id": "faeada65-82de-4769-87eb-e509c4cd4b83",
   "metadata": {},
   "source": [
    "1.\tCreate a new file in the folder named dateandtime.py.\n",
    "2.\tCopy and run the code as shown below:"
   ]
  },
  {
   "cell_type": "code",
   "execution_count": 13,
   "id": "8103ab39-314f-4399-956b-bfbf6002612a",
   "metadata": {},
   "outputs": [],
   "source": [
    "import time\n",
    "\n",
    "def pause():\n",
    "    for i in range(10, 0, -1):\n",
    "        print(f\"The program will end in {i}…\")\n",
    "        time.sleep(1)"
   ]
  },
  {
   "cell_type": "code",
   "execution_count": 14,
   "id": "2a6e34f8-5054-473d-8c4e-c9d859dd5258",
   "metadata": {},
   "outputs": [
    {
     "name": "stdout",
     "output_type": "stream",
     "text": [
      "The program will end in 10…\n",
      "The program will end in 9…\n",
      "The program will end in 8…\n",
      "The program will end in 7…\n",
      "The program will end in 6…\n",
      "The program will end in 5…\n",
      "The program will end in 4…\n",
      "The program will end in 3…\n",
      "The program will end in 2…\n",
      "The program will end in 1…\n"
     ]
    }
   ],
   "source": [
    "pause()"
   ]
  },
  {
   "attachments": {},
   "cell_type": "markdown",
   "id": "c23d112b-7d96-4134-9c0a-1bb9c558face",
   "metadata": {},
   "source": [
    "3.\tObserve the output.\n",
    "4.\tIn the same file, copy and add the code to the file as shown below:\n"
   ]
  },
  {
   "cell_type": "code",
   "execution_count": 15,
   "id": "1214f723-5386-4aa7-9538-85d1f5bd0728",
   "metadata": {},
   "outputs": [],
   "source": [
    "def current_time():\n",
    "    t = time.strftime(\"%I:%M %p\")\n",
    "    return t"
   ]
  },
  {
   "cell_type": "code",
   "execution_count": 16,
   "id": "8d8710b8-0aa6-4f7a-a24a-b38ab1c307c2",
   "metadata": {},
   "outputs": [
    {
     "name": "stdout",
     "output_type": "stream",
     "text": [
      "11:31 AM\n"
     ]
    }
   ],
   "source": [
    "print(current_time())"
   ]
  },
  {
   "cell_type": "code",
   "execution_count": null,
   "id": "970855e5-7d64-4d0e-b275-0a548d4dcd56",
   "metadata": {},
   "outputs": [],
   "source": []
  }
 ],
 "metadata": {
  "kernelspec": {
   "display_name": "Python 3 (ipykernel)",
   "language": "python",
   "name": "python3"
  },
  "language_info": {
   "codemirror_mode": {
    "name": "ipython",
    "version": 3
   },
   "file_extension": ".py",
   "mimetype": "text/x-python",
   "name": "python",
   "nbconvert_exporter": "python",
   "pygments_lexer": "ipython3",
   "version": "3.12.1"
  }
 },
 "nbformat": 4,
 "nbformat_minor": 5
}
